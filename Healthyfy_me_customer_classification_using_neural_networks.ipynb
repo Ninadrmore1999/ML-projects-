{
  "nbformat": 4,
  "nbformat_minor": 0,
  "metadata": {
    "colab": {
      "provenance": [],
      "authorship_tag": "ABX9TyPYK1a584e/2qwPtLSuM2sV",
      "include_colab_link": true
    },
    "kernelspec": {
      "name": "python3",
      "display_name": "Python 3"
    },
    "language_info": {
      "name": "python"
    }
  },
  "cells": [
    {
      "cell_type": "markdown",
      "metadata": {
        "id": "view-in-github",
        "colab_type": "text"
      },
      "source": [
        "<a href=\"https://colab.research.google.com/github/Ninadrmore1999/ML-projects-/blob/main/Healthyfy_me_customer_classification_using_neural_networks.ipynb\" target=\"_parent\"><img src=\"https://colab.research.google.com/assets/colab-badge.svg\" alt=\"Open In Colab\"/></a>"
      ]
    },
    {
      "cell_type": "code",
      "execution_count": null,
      "metadata": {
        "id": "ueRkmSKA_79M"
      },
      "outputs": [],
      "source": []
    },
    {
      "cell_type": "markdown",
      "metadata": {
        "id": "Fz5_CzwK7cHS"
      },
      "source": [
        "\n",
        "#### You are a Data Scientist working for Healthyfi.me\n",
        "\n",
        "Healthyfi.me has labelled it's customers based on the highest intensity of work they could perform - A, B, C and D\n",
        "\n",
        "#### Task: Given a new customer, help Healthyfi.me in recommending  customised workout plans by predicting customer's class\n",
        "\n",
        "\n"
      ]
    },
    {
      "cell_type": "markdown",
      "metadata": {
        "id": "ktg37f6t0USV"
      },
      "source": [
        "## Data Acquisition"
      ]
    },
    {
      "cell_type": "code",
      "execution_count": null,
      "metadata": {
        "id": "jl6MWHBU6f8T"
      },
      "outputs": [],
      "source": [
        "import pandas as pd\n",
        "import numpy as np\n",
        "import matplotlib.pyplot as plt\n",
        "import seaborn as sns\n",
        "import sklearn"
      ]
    },
    {
      "cell_type": "markdown",
      "metadata": {
        "id": "J4DJtTjsdsJR"
      },
      "source": [
        "- Lets first download the HealthyfiMe dataset."
      ]
    },
    {
      "cell_type": "code",
      "execution_count": null,
      "metadata": {
        "colab": {
          "background_save": true,
          "base_uri": "https://localhost:8080/"
        },
        "id": "ZwnFG6dv65q6",
        "outputId": "dfda775a-30c0-4863-c10c-bc3ce7f73aa0"
      },
      "outputs": [
        {
          "name": "stdout",
          "output_type": "stream",
          "text": [
            "--2023-10-18 07:45:36--  https://drive.google.com/uc?export=download&id=1GVhrh2rH6hUunV4Tf7lQoSFsqov9aPjU\n",
            "Resolving drive.google.com (drive.google.com)... 142.251.172.102, 142.251.172.139, 142.251.172.101, ...\n",
            "Connecting to drive.google.com (drive.google.com)|142.251.172.102|:443... connected.\n",
            "HTTP request sent, awaiting response... 303 See Other\n",
            "Location: https://doc-0s-50-docs.googleusercontent.com/docs/securesc/ha0ro937gcuc7l7deffksulhg5h7mbp1/sbnq5p2bu6hiq44n5cckfaibddmoe5sl/1697615100000/01388099838663554274/*/1GVhrh2rH6hUunV4Tf7lQoSFsqov9aPjU?e=download&uuid=450fb57c-4305-4cbc-b49d-610c4fc64b6c [following]\n",
            "Warning: wildcards not supported in HTTP.\n",
            "--2023-10-18 07:45:37--  https://doc-0s-50-docs.googleusercontent.com/docs/securesc/ha0ro937gcuc7l7deffksulhg5h7mbp1/sbnq5p2bu6hiq44n5cckfaibddmoe5sl/1697615100000/01388099838663554274/*/1GVhrh2rH6hUunV4Tf7lQoSFsqov9aPjU?e=download&uuid=450fb57c-4305-4cbc-b49d-610c4fc64b6c\n",
            "Resolving doc-0s-50-docs.googleusercontent.com (doc-0s-50-docs.googleusercontent.com)... 74.125.124.132, 2607:f8b0:4001:c14::84\n",
            "Connecting to doc-0s-50-docs.googleusercontent.com (doc-0s-50-docs.googleusercontent.com)|74.125.124.132|:443... connected.\n",
            "HTTP request sent, awaiting response... 200 OK\n",
            "Length: 761835 (744K) [text/csv]\n",
            "Saving to: ‘healthyfime.csv’\n",
            "\n",
            "healthyfime.csv     100%[===================>] 743.98K  --.-KB/s    in 0.005s  \n",
            "\n",
            "2023-10-18 07:45:37 (146 MB/s) - ‘healthyfime.csv’ saved [761835/761835]\n",
            "\n"
          ]
        }
      ],
      "source": [
        "!wget \"https://drive.google.com/uc?export=download&id=1GVhrh2rH6hUunV4Tf7lQoSFsqov9aPjU\" -O healthyfime.csv"
      ]
    },
    {
      "cell_type": "code",
      "execution_count": null,
      "metadata": {
        "colab": {
          "background_save": true
        },
        "id": "8hw_Qcgq6gGH",
        "outputId": "d17bb0b6-bddd-4391-b24e-004c692dde5b"
      },
      "outputs": [
        {
          "data": {
            "text/html": [
              "\n",
              "  <div id=\"df-7096a378-0c2c-4a96-80b7-d1223e759838\" class=\"colab-df-container\">\n",
              "    <div>\n",
              "<style scoped>\n",
              "    .dataframe tbody tr th:only-of-type {\n",
              "        vertical-align: middle;\n",
              "    }\n",
              "\n",
              "    .dataframe tbody tr th {\n",
              "        vertical-align: top;\n",
              "    }\n",
              "\n",
              "    .dataframe thead th {\n",
              "        text-align: right;\n",
              "    }\n",
              "</style>\n",
              "<table border=\"1\" class=\"dataframe\">\n",
              "  <thead>\n",
              "    <tr style=\"text-align: right;\">\n",
              "      <th></th>\n",
              "      <th>age</th>\n",
              "      <th>gender</th>\n",
              "      <th>height_cm</th>\n",
              "      <th>weight_kg</th>\n",
              "      <th>body fat_%</th>\n",
              "      <th>diastolic</th>\n",
              "      <th>systolic</th>\n",
              "      <th>gripForce</th>\n",
              "      <th>sit and bend forward_cm</th>\n",
              "      <th>sit-ups counts</th>\n",
              "      <th>broad jump_cm</th>\n",
              "      <th>class</th>\n",
              "    </tr>\n",
              "  </thead>\n",
              "  <tbody>\n",
              "    <tr>\n",
              "      <th>0</th>\n",
              "      <td>27.0</td>\n",
              "      <td>M</td>\n",
              "      <td>172.3</td>\n",
              "      <td>75.24</td>\n",
              "      <td>21.3</td>\n",
              "      <td>80.0</td>\n",
              "      <td>130.0</td>\n",
              "      <td>54.9</td>\n",
              "      <td>18.4</td>\n",
              "      <td>60.0</td>\n",
              "      <td>217.0</td>\n",
              "      <td>C</td>\n",
              "    </tr>\n",
              "    <tr>\n",
              "      <th>1</th>\n",
              "      <td>25.0</td>\n",
              "      <td>M</td>\n",
              "      <td>165.0</td>\n",
              "      <td>55.80</td>\n",
              "      <td>15.7</td>\n",
              "      <td>77.0</td>\n",
              "      <td>126.0</td>\n",
              "      <td>36.4</td>\n",
              "      <td>16.3</td>\n",
              "      <td>53.0</td>\n",
              "      <td>229.0</td>\n",
              "      <td>A</td>\n",
              "    </tr>\n",
              "    <tr>\n",
              "      <th>2</th>\n",
              "      <td>31.0</td>\n",
              "      <td>M</td>\n",
              "      <td>179.6</td>\n",
              "      <td>78.00</td>\n",
              "      <td>20.1</td>\n",
              "      <td>92.0</td>\n",
              "      <td>152.0</td>\n",
              "      <td>44.8</td>\n",
              "      <td>12.0</td>\n",
              "      <td>49.0</td>\n",
              "      <td>181.0</td>\n",
              "      <td>C</td>\n",
              "    </tr>\n",
              "    <tr>\n",
              "      <th>3</th>\n",
              "      <td>32.0</td>\n",
              "      <td>M</td>\n",
              "      <td>174.5</td>\n",
              "      <td>71.10</td>\n",
              "      <td>18.4</td>\n",
              "      <td>76.0</td>\n",
              "      <td>147.0</td>\n",
              "      <td>41.4</td>\n",
              "      <td>15.2</td>\n",
              "      <td>53.0</td>\n",
              "      <td>219.0</td>\n",
              "      <td>B</td>\n",
              "    </tr>\n",
              "    <tr>\n",
              "      <th>4</th>\n",
              "      <td>28.0</td>\n",
              "      <td>M</td>\n",
              "      <td>173.8</td>\n",
              "      <td>67.70</td>\n",
              "      <td>17.1</td>\n",
              "      <td>70.0</td>\n",
              "      <td>127.0</td>\n",
              "      <td>43.5</td>\n",
              "      <td>27.1</td>\n",
              "      <td>45.0</td>\n",
              "      <td>217.0</td>\n",
              "      <td>B</td>\n",
              "    </tr>\n",
              "  </tbody>\n",
              "</table>\n",
              "</div>\n",
              "    <div class=\"colab-df-buttons\">\n",
              "\n",
              "  <div class=\"colab-df-container\">\n",
              "    <button class=\"colab-df-convert\" onclick=\"convertToInteractive('df-7096a378-0c2c-4a96-80b7-d1223e759838')\"\n",
              "            title=\"Convert this dataframe to an interactive table.\"\n",
              "            style=\"display:none;\">\n",
              "\n",
              "  <svg xmlns=\"http://www.w3.org/2000/svg\" height=\"24px\" viewBox=\"0 -960 960 960\">\n",
              "    <path d=\"M120-120v-720h720v720H120Zm60-500h600v-160H180v160Zm220 220h160v-160H400v160Zm0 220h160v-160H400v160ZM180-400h160v-160H180v160Zm440 0h160v-160H620v160ZM180-180h160v-160H180v160Zm440 0h160v-160H620v160Z\"/>\n",
              "  </svg>\n",
              "    </button>\n",
              "\n",
              "  <style>\n",
              "    .colab-df-container {\n",
              "      display:flex;\n",
              "      gap: 12px;\n",
              "    }\n",
              "\n",
              "    .colab-df-convert {\n",
              "      background-color: #E8F0FE;\n",
              "      border: none;\n",
              "      border-radius: 50%;\n",
              "      cursor: pointer;\n",
              "      display: none;\n",
              "      fill: #1967D2;\n",
              "      height: 32px;\n",
              "      padding: 0 0 0 0;\n",
              "      width: 32px;\n",
              "    }\n",
              "\n",
              "    .colab-df-convert:hover {\n",
              "      background-color: #E2EBFA;\n",
              "      box-shadow: 0px 1px 2px rgba(60, 64, 67, 0.3), 0px 1px 3px 1px rgba(60, 64, 67, 0.15);\n",
              "      fill: #174EA6;\n",
              "    }\n",
              "\n",
              "    .colab-df-buttons div {\n",
              "      margin-bottom: 4px;\n",
              "    }\n",
              "\n",
              "    [theme=dark] .colab-df-convert {\n",
              "      background-color: #3B4455;\n",
              "      fill: #D2E3FC;\n",
              "    }\n",
              "\n",
              "    [theme=dark] .colab-df-convert:hover {\n",
              "      background-color: #434B5C;\n",
              "      box-shadow: 0px 1px 3px 1px rgba(0, 0, 0, 0.15);\n",
              "      filter: drop-shadow(0px 1px 2px rgba(0, 0, 0, 0.3));\n",
              "      fill: #FFFFFF;\n",
              "    }\n",
              "  </style>\n",
              "\n",
              "    <script>\n",
              "      const buttonEl =\n",
              "        document.querySelector('#df-7096a378-0c2c-4a96-80b7-d1223e759838 button.colab-df-convert');\n",
              "      buttonEl.style.display =\n",
              "        google.colab.kernel.accessAllowed ? 'block' : 'none';\n",
              "\n",
              "      async function convertToInteractive(key) {\n",
              "        const element = document.querySelector('#df-7096a378-0c2c-4a96-80b7-d1223e759838');\n",
              "        const dataTable =\n",
              "          await google.colab.kernel.invokeFunction('convertToInteractive',\n",
              "                                                    [key], {});\n",
              "        if (!dataTable) return;\n",
              "\n",
              "        const docLinkHtml = 'Like what you see? Visit the ' +\n",
              "          '<a target=\"_blank\" href=https://colab.research.google.com/notebooks/data_table.ipynb>data table notebook</a>'\n",
              "          + ' to learn more about interactive tables.';\n",
              "        element.innerHTML = '';\n",
              "        dataTable['output_type'] = 'display_data';\n",
              "        await google.colab.output.renderOutput(dataTable, element);\n",
              "        const docLink = document.createElement('div');\n",
              "        docLink.innerHTML = docLinkHtml;\n",
              "        element.appendChild(docLink);\n",
              "      }\n",
              "    </script>\n",
              "  </div>\n",
              "\n",
              "\n",
              "<div id=\"df-61cb94d3-5cf0-4528-a7be-34309cea3fe6\">\n",
              "  <button class=\"colab-df-quickchart\" onclick=\"quickchart('df-61cb94d3-5cf0-4528-a7be-34309cea3fe6')\"\n",
              "            title=\"Suggest charts.\"\n",
              "            style=\"display:none;\">\n",
              "\n",
              "<svg xmlns=\"http://www.w3.org/2000/svg\" height=\"24px\"viewBox=\"0 0 24 24\"\n",
              "     width=\"24px\">\n",
              "    <g>\n",
              "        <path d=\"M19 3H5c-1.1 0-2 .9-2 2v14c0 1.1.9 2 2 2h14c1.1 0 2-.9 2-2V5c0-1.1-.9-2-2-2zM9 17H7v-7h2v7zm4 0h-2V7h2v10zm4 0h-2v-4h2v4z\"/>\n",
              "    </g>\n",
              "</svg>\n",
              "  </button>\n",
              "\n",
              "<style>\n",
              "  .colab-df-quickchart {\n",
              "      --bg-color: #E8F0FE;\n",
              "      --fill-color: #1967D2;\n",
              "      --hover-bg-color: #E2EBFA;\n",
              "      --hover-fill-color: #174EA6;\n",
              "      --disabled-fill-color: #AAA;\n",
              "      --disabled-bg-color: #DDD;\n",
              "  }\n",
              "\n",
              "  [theme=dark] .colab-df-quickchart {\n",
              "      --bg-color: #3B4455;\n",
              "      --fill-color: #D2E3FC;\n",
              "      --hover-bg-color: #434B5C;\n",
              "      --hover-fill-color: #FFFFFF;\n",
              "      --disabled-bg-color: #3B4455;\n",
              "      --disabled-fill-color: #666;\n",
              "  }\n",
              "\n",
              "  .colab-df-quickchart {\n",
              "    background-color: var(--bg-color);\n",
              "    border: none;\n",
              "    border-radius: 50%;\n",
              "    cursor: pointer;\n",
              "    display: none;\n",
              "    fill: var(--fill-color);\n",
              "    height: 32px;\n",
              "    padding: 0;\n",
              "    width: 32px;\n",
              "  }\n",
              "\n",
              "  .colab-df-quickchart:hover {\n",
              "    background-color: var(--hover-bg-color);\n",
              "    box-shadow: 0 1px 2px rgba(60, 64, 67, 0.3), 0 1px 3px 1px rgba(60, 64, 67, 0.15);\n",
              "    fill: var(--button-hover-fill-color);\n",
              "  }\n",
              "\n",
              "  .colab-df-quickchart-complete:disabled,\n",
              "  .colab-df-quickchart-complete:disabled:hover {\n",
              "    background-color: var(--disabled-bg-color);\n",
              "    fill: var(--disabled-fill-color);\n",
              "    box-shadow: none;\n",
              "  }\n",
              "\n",
              "  .colab-df-spinner {\n",
              "    border: 2px solid var(--fill-color);\n",
              "    border-color: transparent;\n",
              "    border-bottom-color: var(--fill-color);\n",
              "    animation:\n",
              "      spin 1s steps(1) infinite;\n",
              "  }\n",
              "\n",
              "  @keyframes spin {\n",
              "    0% {\n",
              "      border-color: transparent;\n",
              "      border-bottom-color: var(--fill-color);\n",
              "      border-left-color: var(--fill-color);\n",
              "    }\n",
              "    20% {\n",
              "      border-color: transparent;\n",
              "      border-left-color: var(--fill-color);\n",
              "      border-top-color: var(--fill-color);\n",
              "    }\n",
              "    30% {\n",
              "      border-color: transparent;\n",
              "      border-left-color: var(--fill-color);\n",
              "      border-top-color: var(--fill-color);\n",
              "      border-right-color: var(--fill-color);\n",
              "    }\n",
              "    40% {\n",
              "      border-color: transparent;\n",
              "      border-right-color: var(--fill-color);\n",
              "      border-top-color: var(--fill-color);\n",
              "    }\n",
              "    60% {\n",
              "      border-color: transparent;\n",
              "      border-right-color: var(--fill-color);\n",
              "    }\n",
              "    80% {\n",
              "      border-color: transparent;\n",
              "      border-right-color: var(--fill-color);\n",
              "      border-bottom-color: var(--fill-color);\n",
              "    }\n",
              "    90% {\n",
              "      border-color: transparent;\n",
              "      border-bottom-color: var(--fill-color);\n",
              "    }\n",
              "  }\n",
              "</style>\n",
              "\n",
              "  <script>\n",
              "    async function quickchart(key) {\n",
              "      const quickchartButtonEl =\n",
              "        document.querySelector('#' + key + ' button');\n",
              "      quickchartButtonEl.disabled = true;  // To prevent multiple clicks.\n",
              "      quickchartButtonEl.classList.add('colab-df-spinner');\n",
              "      try {\n",
              "        const charts = await google.colab.kernel.invokeFunction(\n",
              "            'suggestCharts', [key], {});\n",
              "      } catch (error) {\n",
              "        console.error('Error during call to suggestCharts:', error);\n",
              "      }\n",
              "      quickchartButtonEl.classList.remove('colab-df-spinner');\n",
              "      quickchartButtonEl.classList.add('colab-df-quickchart-complete');\n",
              "    }\n",
              "    (() => {\n",
              "      let quickchartButtonEl =\n",
              "        document.querySelector('#df-61cb94d3-5cf0-4528-a7be-34309cea3fe6 button');\n",
              "      quickchartButtonEl.style.display =\n",
              "        google.colab.kernel.accessAllowed ? 'block' : 'none';\n",
              "    })();\n",
              "  </script>\n",
              "</div>\n",
              "    </div>\n",
              "  </div>\n"
            ],
            "text/plain": [
              "    age gender  height_cm  weight_kg  body fat_%  diastolic  systolic  \\\n",
              "0  27.0      M      172.3      75.24        21.3       80.0     130.0   \n",
              "1  25.0      M      165.0      55.80        15.7       77.0     126.0   \n",
              "2  31.0      M      179.6      78.00        20.1       92.0     152.0   \n",
              "3  32.0      M      174.5      71.10        18.4       76.0     147.0   \n",
              "4  28.0      M      173.8      67.70        17.1       70.0     127.0   \n",
              "\n",
              "   gripForce  sit and bend forward_cm  sit-ups counts  broad jump_cm class  \n",
              "0       54.9                     18.4            60.0          217.0     C  \n",
              "1       36.4                     16.3            53.0          229.0     A  \n",
              "2       44.8                     12.0            49.0          181.0     C  \n",
              "3       41.4                     15.2            53.0          219.0     B  \n",
              "4       43.5                     27.1            45.0          217.0     B  "
            ]
          },
          "execution_count": 3,
          "metadata": {},
          "output_type": "execute_result"
        }
      ],
      "source": [
        "df = pd.read_csv(\"healthyfime.csv\")\n",
        "df.head()"
      ]
    },
    {
      "cell_type": "markdown",
      "metadata": {
        "id": "zGKh7tjdk6zM"
      },
      "source": [
        "**From the above snippet of data, we can have the following observations:**\n",
        "- Data has an age column which is definitely required because we need to know what the person's age is in order to predict the class of highest intensity of workout.\n",
        "- Data has features like 'gender', 'height', 'weight', 'diastolic', etc which we need to know before predicting the workout intensity because think about it we can not predict high intensity workout for a candidate with high blood pressure.\n",
        "- And in the end there is a class variable where the intensity of workout is encoded to A, B, C and D"
      ]
    },
    {
      "cell_type": "code",
      "execution_count": null,
      "metadata": {
        "colab": {
          "background_save": true
        },
        "id": "JO1EFNet80P5",
        "outputId": "d1516b3e-c93c-4bcd-f11d-7991527366ee"
      },
      "outputs": [
        {
          "name": "stdout",
          "output_type": "stream",
          "text": [
            "<class 'pandas.core.frame.DataFrame'>\n",
            "RangeIndex: 13393 entries, 0 to 13392\n",
            "Data columns (total 12 columns):\n",
            " #   Column                   Non-Null Count  Dtype  \n",
            "---  ------                   --------------  -----  \n",
            " 0   age                      13393 non-null  float64\n",
            " 1   gender                   13393 non-null  object \n",
            " 2   height_cm                13393 non-null  float64\n",
            " 3   weight_kg                13393 non-null  float64\n",
            " 4   body fat_%               13393 non-null  float64\n",
            " 5   diastolic                13393 non-null  float64\n",
            " 6   systolic                 13393 non-null  float64\n",
            " 7   gripForce                13393 non-null  float64\n",
            " 8   sit and bend forward_cm  13393 non-null  float64\n",
            " 9   sit-ups counts           13393 non-null  float64\n",
            " 10  broad jump_cm            13393 non-null  float64\n",
            " 11  class                    13393 non-null  object \n",
            "dtypes: float64(10), object(2)\n",
            "memory usage: 1.2+ MB\n"
          ]
        }
      ],
      "source": [
        "df.info()"
      ]
    },
    {
      "cell_type": "markdown",
      "metadata": {
        "id": "MK1l4xiwBG6Z"
      },
      "source": [
        "## EDA\n",
        "\n"
      ]
    },
    {
      "cell_type": "markdown",
      "metadata": {
        "id": "S3g8y-3ABRl3"
      },
      "source": [
        "- Gender has two levels, and class have 4 levels.\n",
        "- We can easily convert `Gender` to 0/1 labels.\n",
        "- Since `class` variable is ordinal, we can also replace it with 0, 1, 2, 3. - Can easily use NN."
      ]
    },
    {
      "cell_type": "code",
      "execution_count": null,
      "metadata": {
        "colab": {
          "background_save": true
        },
        "id": "xpHoXbHM80Ym",
        "outputId": "16856b96-cc8d-4f03-8be9-89b28df0fb45"
      },
      "outputs": [
        {
          "data": {
            "text/html": [
              "\n",
              "  <div id=\"df-301db63c-f58e-4a48-a1cf-79de318f5d9f\" class=\"colab-df-container\">\n",
              "    <div>\n",
              "<style scoped>\n",
              "    .dataframe tbody tr th:only-of-type {\n",
              "        vertical-align: middle;\n",
              "    }\n",
              "\n",
              "    .dataframe tbody tr th {\n",
              "        vertical-align: top;\n",
              "    }\n",
              "\n",
              "    .dataframe thead th {\n",
              "        text-align: right;\n",
              "    }\n",
              "</style>\n",
              "<table border=\"1\" class=\"dataframe\">\n",
              "  <thead>\n",
              "    <tr style=\"text-align: right;\">\n",
              "      <th></th>\n",
              "      <th>age</th>\n",
              "      <th>gender</th>\n",
              "      <th>height_cm</th>\n",
              "      <th>weight_kg</th>\n",
              "      <th>body fat_%</th>\n",
              "      <th>diastolic</th>\n",
              "      <th>systolic</th>\n",
              "      <th>gripForce</th>\n",
              "      <th>sit and bend forward_cm</th>\n",
              "      <th>sit-ups counts</th>\n",
              "      <th>broad jump_cm</th>\n",
              "      <th>class</th>\n",
              "    </tr>\n",
              "  </thead>\n",
              "  <tbody>\n",
              "    <tr>\n",
              "      <th>0</th>\n",
              "      <td>27.0</td>\n",
              "      <td>0</td>\n",
              "      <td>172.3</td>\n",
              "      <td>75.24</td>\n",
              "      <td>21.3</td>\n",
              "      <td>80.0</td>\n",
              "      <td>130.0</td>\n",
              "      <td>54.9</td>\n",
              "      <td>18.4</td>\n",
              "      <td>60.0</td>\n",
              "      <td>217.0</td>\n",
              "      <td>C</td>\n",
              "    </tr>\n",
              "    <tr>\n",
              "      <th>1</th>\n",
              "      <td>25.0</td>\n",
              "      <td>0</td>\n",
              "      <td>165.0</td>\n",
              "      <td>55.80</td>\n",
              "      <td>15.7</td>\n",
              "      <td>77.0</td>\n",
              "      <td>126.0</td>\n",
              "      <td>36.4</td>\n",
              "      <td>16.3</td>\n",
              "      <td>53.0</td>\n",
              "      <td>229.0</td>\n",
              "      <td>A</td>\n",
              "    </tr>\n",
              "    <tr>\n",
              "      <th>2</th>\n",
              "      <td>31.0</td>\n",
              "      <td>0</td>\n",
              "      <td>179.6</td>\n",
              "      <td>78.00</td>\n",
              "      <td>20.1</td>\n",
              "      <td>92.0</td>\n",
              "      <td>152.0</td>\n",
              "      <td>44.8</td>\n",
              "      <td>12.0</td>\n",
              "      <td>49.0</td>\n",
              "      <td>181.0</td>\n",
              "      <td>C</td>\n",
              "    </tr>\n",
              "    <tr>\n",
              "      <th>3</th>\n",
              "      <td>32.0</td>\n",
              "      <td>0</td>\n",
              "      <td>174.5</td>\n",
              "      <td>71.10</td>\n",
              "      <td>18.4</td>\n",
              "      <td>76.0</td>\n",
              "      <td>147.0</td>\n",
              "      <td>41.4</td>\n",
              "      <td>15.2</td>\n",
              "      <td>53.0</td>\n",
              "      <td>219.0</td>\n",
              "      <td>B</td>\n",
              "    </tr>\n",
              "    <tr>\n",
              "      <th>4</th>\n",
              "      <td>28.0</td>\n",
              "      <td>0</td>\n",
              "      <td>173.8</td>\n",
              "      <td>67.70</td>\n",
              "      <td>17.1</td>\n",
              "      <td>70.0</td>\n",
              "      <td>127.0</td>\n",
              "      <td>43.5</td>\n",
              "      <td>27.1</td>\n",
              "      <td>45.0</td>\n",
              "      <td>217.0</td>\n",
              "      <td>B</td>\n",
              "    </tr>\n",
              "  </tbody>\n",
              "</table>\n",
              "</div>\n",
              "    <div class=\"colab-df-buttons\">\n",
              "\n",
              "  <div class=\"colab-df-container\">\n",
              "    <button class=\"colab-df-convert\" onclick=\"convertToInteractive('df-301db63c-f58e-4a48-a1cf-79de318f5d9f')\"\n",
              "            title=\"Convert this dataframe to an interactive table.\"\n",
              "            style=\"display:none;\">\n",
              "\n",
              "  <svg xmlns=\"http://www.w3.org/2000/svg\" height=\"24px\" viewBox=\"0 -960 960 960\">\n",
              "    <path d=\"M120-120v-720h720v720H120Zm60-500h600v-160H180v160Zm220 220h160v-160H400v160Zm0 220h160v-160H400v160ZM180-400h160v-160H180v160Zm440 0h160v-160H620v160ZM180-180h160v-160H180v160Zm440 0h160v-160H620v160Z\"/>\n",
              "  </svg>\n",
              "    </button>\n",
              "\n",
              "  <style>\n",
              "    .colab-df-container {\n",
              "      display:flex;\n",
              "      gap: 12px;\n",
              "    }\n",
              "\n",
              "    .colab-df-convert {\n",
              "      background-color: #E8F0FE;\n",
              "      border: none;\n",
              "      border-radius: 50%;\n",
              "      cursor: pointer;\n",
              "      display: none;\n",
              "      fill: #1967D2;\n",
              "      height: 32px;\n",
              "      padding: 0 0 0 0;\n",
              "      width: 32px;\n",
              "    }\n",
              "\n",
              "    .colab-df-convert:hover {\n",
              "      background-color: #E2EBFA;\n",
              "      box-shadow: 0px 1px 2px rgba(60, 64, 67, 0.3), 0px 1px 3px 1px rgba(60, 64, 67, 0.15);\n",
              "      fill: #174EA6;\n",
              "    }\n",
              "\n",
              "    .colab-df-buttons div {\n",
              "      margin-bottom: 4px;\n",
              "    }\n",
              "\n",
              "    [theme=dark] .colab-df-convert {\n",
              "      background-color: #3B4455;\n",
              "      fill: #D2E3FC;\n",
              "    }\n",
              "\n",
              "    [theme=dark] .colab-df-convert:hover {\n",
              "      background-color: #434B5C;\n",
              "      box-shadow: 0px 1px 3px 1px rgba(0, 0, 0, 0.15);\n",
              "      filter: drop-shadow(0px 1px 2px rgba(0, 0, 0, 0.3));\n",
              "      fill: #FFFFFF;\n",
              "    }\n",
              "  </style>\n",
              "\n",
              "    <script>\n",
              "      const buttonEl =\n",
              "        document.querySelector('#df-301db63c-f58e-4a48-a1cf-79de318f5d9f button.colab-df-convert');\n",
              "      buttonEl.style.display =\n",
              "        google.colab.kernel.accessAllowed ? 'block' : 'none';\n",
              "\n",
              "      async function convertToInteractive(key) {\n",
              "        const element = document.querySelector('#df-301db63c-f58e-4a48-a1cf-79de318f5d9f');\n",
              "        const dataTable =\n",
              "          await google.colab.kernel.invokeFunction('convertToInteractive',\n",
              "                                                    [key], {});\n",
              "        if (!dataTable) return;\n",
              "\n",
              "        const docLinkHtml = 'Like what you see? Visit the ' +\n",
              "          '<a target=\"_blank\" href=https://colab.research.google.com/notebooks/data_table.ipynb>data table notebook</a>'\n",
              "          + ' to learn more about interactive tables.';\n",
              "        element.innerHTML = '';\n",
              "        dataTable['output_type'] = 'display_data';\n",
              "        await google.colab.output.renderOutput(dataTable, element);\n",
              "        const docLink = document.createElement('div');\n",
              "        docLink.innerHTML = docLinkHtml;\n",
              "        element.appendChild(docLink);\n",
              "      }\n",
              "    </script>\n",
              "  </div>\n",
              "\n",
              "\n",
              "<div id=\"df-ca9ec271-c1e1-4325-8016-34dc82f407c4\">\n",
              "  <button class=\"colab-df-quickchart\" onclick=\"quickchart('df-ca9ec271-c1e1-4325-8016-34dc82f407c4')\"\n",
              "            title=\"Suggest charts.\"\n",
              "            style=\"display:none;\">\n",
              "\n",
              "<svg xmlns=\"http://www.w3.org/2000/svg\" height=\"24px\"viewBox=\"0 0 24 24\"\n",
              "     width=\"24px\">\n",
              "    <g>\n",
              "        <path d=\"M19 3H5c-1.1 0-2 .9-2 2v14c0 1.1.9 2 2 2h14c1.1 0 2-.9 2-2V5c0-1.1-.9-2-2-2zM9 17H7v-7h2v7zm4 0h-2V7h2v10zm4 0h-2v-4h2v4z\"/>\n",
              "    </g>\n",
              "</svg>\n",
              "  </button>\n",
              "\n",
              "<style>\n",
              "  .colab-df-quickchart {\n",
              "      --bg-color: #E8F0FE;\n",
              "      --fill-color: #1967D2;\n",
              "      --hover-bg-color: #E2EBFA;\n",
              "      --hover-fill-color: #174EA6;\n",
              "      --disabled-fill-color: #AAA;\n",
              "      --disabled-bg-color: #DDD;\n",
              "  }\n",
              "\n",
              "  [theme=dark] .colab-df-quickchart {\n",
              "      --bg-color: #3B4455;\n",
              "      --fill-color: #D2E3FC;\n",
              "      --hover-bg-color: #434B5C;\n",
              "      --hover-fill-color: #FFFFFF;\n",
              "      --disabled-bg-color: #3B4455;\n",
              "      --disabled-fill-color: #666;\n",
              "  }\n",
              "\n",
              "  .colab-df-quickchart {\n",
              "    background-color: var(--bg-color);\n",
              "    border: none;\n",
              "    border-radius: 50%;\n",
              "    cursor: pointer;\n",
              "    display: none;\n",
              "    fill: var(--fill-color);\n",
              "    height: 32px;\n",
              "    padding: 0;\n",
              "    width: 32px;\n",
              "  }\n",
              "\n",
              "  .colab-df-quickchart:hover {\n",
              "    background-color: var(--hover-bg-color);\n",
              "    box-shadow: 0 1px 2px rgba(60, 64, 67, 0.3), 0 1px 3px 1px rgba(60, 64, 67, 0.15);\n",
              "    fill: var(--button-hover-fill-color);\n",
              "  }\n",
              "\n",
              "  .colab-df-quickchart-complete:disabled,\n",
              "  .colab-df-quickchart-complete:disabled:hover {\n",
              "    background-color: var(--disabled-bg-color);\n",
              "    fill: var(--disabled-fill-color);\n",
              "    box-shadow: none;\n",
              "  }\n",
              "\n",
              "  .colab-df-spinner {\n",
              "    border: 2px solid var(--fill-color);\n",
              "    border-color: transparent;\n",
              "    border-bottom-color: var(--fill-color);\n",
              "    animation:\n",
              "      spin 1s steps(1) infinite;\n",
              "  }\n",
              "\n",
              "  @keyframes spin {\n",
              "    0% {\n",
              "      border-color: transparent;\n",
              "      border-bottom-color: var(--fill-color);\n",
              "      border-left-color: var(--fill-color);\n",
              "    }\n",
              "    20% {\n",
              "      border-color: transparent;\n",
              "      border-left-color: var(--fill-color);\n",
              "      border-top-color: var(--fill-color);\n",
              "    }\n",
              "    30% {\n",
              "      border-color: transparent;\n",
              "      border-left-color: var(--fill-color);\n",
              "      border-top-color: var(--fill-color);\n",
              "      border-right-color: var(--fill-color);\n",
              "    }\n",
              "    40% {\n",
              "      border-color: transparent;\n",
              "      border-right-color: var(--fill-color);\n",
              "      border-top-color: var(--fill-color);\n",
              "    }\n",
              "    60% {\n",
              "      border-color: transparent;\n",
              "      border-right-color: var(--fill-color);\n",
              "    }\n",
              "    80% {\n",
              "      border-color: transparent;\n",
              "      border-right-color: var(--fill-color);\n",
              "      border-bottom-color: var(--fill-color);\n",
              "    }\n",
              "    90% {\n",
              "      border-color: transparent;\n",
              "      border-bottom-color: var(--fill-color);\n",
              "    }\n",
              "  }\n",
              "</style>\n",
              "\n",
              "  <script>\n",
              "    async function quickchart(key) {\n",
              "      const quickchartButtonEl =\n",
              "        document.querySelector('#' + key + ' button');\n",
              "      quickchartButtonEl.disabled = true;  // To prevent multiple clicks.\n",
              "      quickchartButtonEl.classList.add('colab-df-spinner');\n",
              "      try {\n",
              "        const charts = await google.colab.kernel.invokeFunction(\n",
              "            'suggestCharts', [key], {});\n",
              "      } catch (error) {\n",
              "        console.error('Error during call to suggestCharts:', error);\n",
              "      }\n",
              "      quickchartButtonEl.classList.remove('colab-df-spinner');\n",
              "      quickchartButtonEl.classList.add('colab-df-quickchart-complete');\n",
              "    }\n",
              "    (() => {\n",
              "      let quickchartButtonEl =\n",
              "        document.querySelector('#df-ca9ec271-c1e1-4325-8016-34dc82f407c4 button');\n",
              "      quickchartButtonEl.style.display =\n",
              "        google.colab.kernel.accessAllowed ? 'block' : 'none';\n",
              "    })();\n",
              "  </script>\n",
              "</div>\n",
              "    </div>\n",
              "  </div>\n"
            ],
            "text/plain": [
              "    age  gender  height_cm  weight_kg  body fat_%  diastolic  systolic  \\\n",
              "0  27.0       0      172.3      75.24        21.3       80.0     130.0   \n",
              "1  25.0       0      165.0      55.80        15.7       77.0     126.0   \n",
              "2  31.0       0      179.6      78.00        20.1       92.0     152.0   \n",
              "3  32.0       0      174.5      71.10        18.4       76.0     147.0   \n",
              "4  28.0       0      173.8      67.70        17.1       70.0     127.0   \n",
              "\n",
              "   gripForce  sit and bend forward_cm  sit-ups counts  broad jump_cm class  \n",
              "0       54.9                     18.4            60.0          217.0     C  \n",
              "1       36.4                     16.3            53.0          229.0     A  \n",
              "2       44.8                     12.0            49.0          181.0     C  \n",
              "3       41.4                     15.2            53.0          219.0     B  \n",
              "4       43.5                     27.1            45.0          217.0     B  "
            ]
          },
          "execution_count": 5,
          "metadata": {},
          "output_type": "execute_result"
        }
      ],
      "source": [
        "df.replace({\"M\":0, \"F\":1} , inplace = True)\n",
        "df.head()"
      ]
    },
    {
      "cell_type": "markdown",
      "metadata": {
        "id": "SE9m7w4QBr4i"
      },
      "source": [
        "We can also change the name of the classes to numbers, will be easier for us to look at correlations"
      ]
    },
    {
      "cell_type": "code",
      "execution_count": null,
      "metadata": {
        "colab": {
          "background_save": true
        },
        "id": "IPQhwG8WCoqW",
        "outputId": "e2ffb8c2-2e04-47b5-930b-d59e0b3dc09d"
      },
      "outputs": [
        {
          "name": "stdout",
          "output_type": "stream",
          "text": [
            "{'D': 0, 'C': 1, 'B': 2, 'A': 3}\n"
          ]
        },
        {
          "data": {
            "text/html": [
              "\n",
              "  <div id=\"df-9e0a85e7-faec-4278-a531-dd9c248d6122\" class=\"colab-df-container\">\n",
              "    <div>\n",
              "<style scoped>\n",
              "    .dataframe tbody tr th:only-of-type {\n",
              "        vertical-align: middle;\n",
              "    }\n",
              "\n",
              "    .dataframe tbody tr th {\n",
              "        vertical-align: top;\n",
              "    }\n",
              "\n",
              "    .dataframe thead th {\n",
              "        text-align: right;\n",
              "    }\n",
              "</style>\n",
              "<table border=\"1\" class=\"dataframe\">\n",
              "  <thead>\n",
              "    <tr style=\"text-align: right;\">\n",
              "      <th></th>\n",
              "      <th>age</th>\n",
              "      <th>gender</th>\n",
              "      <th>height_cm</th>\n",
              "      <th>weight_kg</th>\n",
              "      <th>body fat_%</th>\n",
              "      <th>diastolic</th>\n",
              "      <th>systolic</th>\n",
              "      <th>gripForce</th>\n",
              "      <th>sit and bend forward_cm</th>\n",
              "      <th>sit-ups counts</th>\n",
              "      <th>broad jump_cm</th>\n",
              "      <th>class</th>\n",
              "    </tr>\n",
              "  </thead>\n",
              "  <tbody>\n",
              "    <tr>\n",
              "      <th>0</th>\n",
              "      <td>27.0</td>\n",
              "      <td>0</td>\n",
              "      <td>172.3</td>\n",
              "      <td>75.24</td>\n",
              "      <td>21.3</td>\n",
              "      <td>80.0</td>\n",
              "      <td>130.0</td>\n",
              "      <td>54.9</td>\n",
              "      <td>18.4</td>\n",
              "      <td>60.0</td>\n",
              "      <td>217.0</td>\n",
              "      <td>1</td>\n",
              "    </tr>\n",
              "    <tr>\n",
              "      <th>1</th>\n",
              "      <td>25.0</td>\n",
              "      <td>0</td>\n",
              "      <td>165.0</td>\n",
              "      <td>55.80</td>\n",
              "      <td>15.7</td>\n",
              "      <td>77.0</td>\n",
              "      <td>126.0</td>\n",
              "      <td>36.4</td>\n",
              "      <td>16.3</td>\n",
              "      <td>53.0</td>\n",
              "      <td>229.0</td>\n",
              "      <td>3</td>\n",
              "    </tr>\n",
              "    <tr>\n",
              "      <th>2</th>\n",
              "      <td>31.0</td>\n",
              "      <td>0</td>\n",
              "      <td>179.6</td>\n",
              "      <td>78.00</td>\n",
              "      <td>20.1</td>\n",
              "      <td>92.0</td>\n",
              "      <td>152.0</td>\n",
              "      <td>44.8</td>\n",
              "      <td>12.0</td>\n",
              "      <td>49.0</td>\n",
              "      <td>181.0</td>\n",
              "      <td>1</td>\n",
              "    </tr>\n",
              "    <tr>\n",
              "      <th>3</th>\n",
              "      <td>32.0</td>\n",
              "      <td>0</td>\n",
              "      <td>174.5</td>\n",
              "      <td>71.10</td>\n",
              "      <td>18.4</td>\n",
              "      <td>76.0</td>\n",
              "      <td>147.0</td>\n",
              "      <td>41.4</td>\n",
              "      <td>15.2</td>\n",
              "      <td>53.0</td>\n",
              "      <td>219.0</td>\n",
              "      <td>2</td>\n",
              "    </tr>\n",
              "    <tr>\n",
              "      <th>4</th>\n",
              "      <td>28.0</td>\n",
              "      <td>0</td>\n",
              "      <td>173.8</td>\n",
              "      <td>67.70</td>\n",
              "      <td>17.1</td>\n",
              "      <td>70.0</td>\n",
              "      <td>127.0</td>\n",
              "      <td>43.5</td>\n",
              "      <td>27.1</td>\n",
              "      <td>45.0</td>\n",
              "      <td>217.0</td>\n",
              "      <td>2</td>\n",
              "    </tr>\n",
              "  </tbody>\n",
              "</table>\n",
              "</div>\n",
              "    <div class=\"colab-df-buttons\">\n",
              "\n",
              "  <div class=\"colab-df-container\">\n",
              "    <button class=\"colab-df-convert\" onclick=\"convertToInteractive('df-9e0a85e7-faec-4278-a531-dd9c248d6122')\"\n",
              "            title=\"Convert this dataframe to an interactive table.\"\n",
              "            style=\"display:none;\">\n",
              "\n",
              "  <svg xmlns=\"http://www.w3.org/2000/svg\" height=\"24px\" viewBox=\"0 -960 960 960\">\n",
              "    <path d=\"M120-120v-720h720v720H120Zm60-500h600v-160H180v160Zm220 220h160v-160H400v160Zm0 220h160v-160H400v160ZM180-400h160v-160H180v160Zm440 0h160v-160H620v160ZM180-180h160v-160H180v160Zm440 0h160v-160H620v160Z\"/>\n",
              "  </svg>\n",
              "    </button>\n",
              "\n",
              "  <style>\n",
              "    .colab-df-container {\n",
              "      display:flex;\n",
              "      gap: 12px;\n",
              "    }\n",
              "\n",
              "    .colab-df-convert {\n",
              "      background-color: #E8F0FE;\n",
              "      border: none;\n",
              "      border-radius: 50%;\n",
              "      cursor: pointer;\n",
              "      display: none;\n",
              "      fill: #1967D2;\n",
              "      height: 32px;\n",
              "      padding: 0 0 0 0;\n",
              "      width: 32px;\n",
              "    }\n",
              "\n",
              "    .colab-df-convert:hover {\n",
              "      background-color: #E2EBFA;\n",
              "      box-shadow: 0px 1px 2px rgba(60, 64, 67, 0.3), 0px 1px 3px 1px rgba(60, 64, 67, 0.15);\n",
              "      fill: #174EA6;\n",
              "    }\n",
              "\n",
              "    .colab-df-buttons div {\n",
              "      margin-bottom: 4px;\n",
              "    }\n",
              "\n",
              "    [theme=dark] .colab-df-convert {\n",
              "      background-color: #3B4455;\n",
              "      fill: #D2E3FC;\n",
              "    }\n",
              "\n",
              "    [theme=dark] .colab-df-convert:hover {\n",
              "      background-color: #434B5C;\n",
              "      box-shadow: 0px 1px 3px 1px rgba(0, 0, 0, 0.15);\n",
              "      filter: drop-shadow(0px 1px 2px rgba(0, 0, 0, 0.3));\n",
              "      fill: #FFFFFF;\n",
              "    }\n",
              "  </style>\n",
              "\n",
              "    <script>\n",
              "      const buttonEl =\n",
              "        document.querySelector('#df-9e0a85e7-faec-4278-a531-dd9c248d6122 button.colab-df-convert');\n",
              "      buttonEl.style.display =\n",
              "        google.colab.kernel.accessAllowed ? 'block' : 'none';\n",
              "\n",
              "      async function convertToInteractive(key) {\n",
              "        const element = document.querySelector('#df-9e0a85e7-faec-4278-a531-dd9c248d6122');\n",
              "        const dataTable =\n",
              "          await google.colab.kernel.invokeFunction('convertToInteractive',\n",
              "                                                    [key], {});\n",
              "        if (!dataTable) return;\n",
              "\n",
              "        const docLinkHtml = 'Like what you see? Visit the ' +\n",
              "          '<a target=\"_blank\" href=https://colab.research.google.com/notebooks/data_table.ipynb>data table notebook</a>'\n",
              "          + ' to learn more about interactive tables.';\n",
              "        element.innerHTML = '';\n",
              "        dataTable['output_type'] = 'display_data';\n",
              "        await google.colab.output.renderOutput(dataTable, element);\n",
              "        const docLink = document.createElement('div');\n",
              "        docLink.innerHTML = docLinkHtml;\n",
              "        element.appendChild(docLink);\n",
              "      }\n",
              "    </script>\n",
              "  </div>\n",
              "\n",
              "\n",
              "<div id=\"df-050f6564-68c6-4166-a4d5-eae1fba200cc\">\n",
              "  <button class=\"colab-df-quickchart\" onclick=\"quickchart('df-050f6564-68c6-4166-a4d5-eae1fba200cc')\"\n",
              "            title=\"Suggest charts.\"\n",
              "            style=\"display:none;\">\n",
              "\n",
              "<svg xmlns=\"http://www.w3.org/2000/svg\" height=\"24px\"viewBox=\"0 0 24 24\"\n",
              "     width=\"24px\">\n",
              "    <g>\n",
              "        <path d=\"M19 3H5c-1.1 0-2 .9-2 2v14c0 1.1.9 2 2 2h14c1.1 0 2-.9 2-2V5c0-1.1-.9-2-2-2zM9 17H7v-7h2v7zm4 0h-2V7h2v10zm4 0h-2v-4h2v4z\"/>\n",
              "    </g>\n",
              "</svg>\n",
              "  </button>\n",
              "\n",
              "<style>\n",
              "  .colab-df-quickchart {\n",
              "      --bg-color: #E8F0FE;\n",
              "      --fill-color: #1967D2;\n",
              "      --hover-bg-color: #E2EBFA;\n",
              "      --hover-fill-color: #174EA6;\n",
              "      --disabled-fill-color: #AAA;\n",
              "      --disabled-bg-color: #DDD;\n",
              "  }\n",
              "\n",
              "  [theme=dark] .colab-df-quickchart {\n",
              "      --bg-color: #3B4455;\n",
              "      --fill-color: #D2E3FC;\n",
              "      --hover-bg-color: #434B5C;\n",
              "      --hover-fill-color: #FFFFFF;\n",
              "      --disabled-bg-color: #3B4455;\n",
              "      --disabled-fill-color: #666;\n",
              "  }\n",
              "\n",
              "  .colab-df-quickchart {\n",
              "    background-color: var(--bg-color);\n",
              "    border: none;\n",
              "    border-radius: 50%;\n",
              "    cursor: pointer;\n",
              "    display: none;\n",
              "    fill: var(--fill-color);\n",
              "    height: 32px;\n",
              "    padding: 0;\n",
              "    width: 32px;\n",
              "  }\n",
              "\n",
              "  .colab-df-quickchart:hover {\n",
              "    background-color: var(--hover-bg-color);\n",
              "    box-shadow: 0 1px 2px rgba(60, 64, 67, 0.3), 0 1px 3px 1px rgba(60, 64, 67, 0.15);\n",
              "    fill: var(--button-hover-fill-color);\n",
              "  }\n",
              "\n",
              "  .colab-df-quickchart-complete:disabled,\n",
              "  .colab-df-quickchart-complete:disabled:hover {\n",
              "    background-color: var(--disabled-bg-color);\n",
              "    fill: var(--disabled-fill-color);\n",
              "    box-shadow: none;\n",
              "  }\n",
              "\n",
              "  .colab-df-spinner {\n",
              "    border: 2px solid var(--fill-color);\n",
              "    border-color: transparent;\n",
              "    border-bottom-color: var(--fill-color);\n",
              "    animation:\n",
              "      spin 1s steps(1) infinite;\n",
              "  }\n",
              "\n",
              "  @keyframes spin {\n",
              "    0% {\n",
              "      border-color: transparent;\n",
              "      border-bottom-color: var(--fill-color);\n",
              "      border-left-color: var(--fill-color);\n",
              "    }\n",
              "    20% {\n",
              "      border-color: transparent;\n",
              "      border-left-color: var(--fill-color);\n",
              "      border-top-color: var(--fill-color);\n",
              "    }\n",
              "    30% {\n",
              "      border-color: transparent;\n",
              "      border-left-color: var(--fill-color);\n",
              "      border-top-color: var(--fill-color);\n",
              "      border-right-color: var(--fill-color);\n",
              "    }\n",
              "    40% {\n",
              "      border-color: transparent;\n",
              "      border-right-color: var(--fill-color);\n",
              "      border-top-color: var(--fill-color);\n",
              "    }\n",
              "    60% {\n",
              "      border-color: transparent;\n",
              "      border-right-color: var(--fill-color);\n",
              "    }\n",
              "    80% {\n",
              "      border-color: transparent;\n",
              "      border-right-color: var(--fill-color);\n",
              "      border-bottom-color: var(--fill-color);\n",
              "    }\n",
              "    90% {\n",
              "      border-color: transparent;\n",
              "      border-bottom-color: var(--fill-color);\n",
              "    }\n",
              "  }\n",
              "</style>\n",
              "\n",
              "  <script>\n",
              "    async function quickchart(key) {\n",
              "      const quickchartButtonEl =\n",
              "        document.querySelector('#' + key + ' button');\n",
              "      quickchartButtonEl.disabled = true;  // To prevent multiple clicks.\n",
              "      quickchartButtonEl.classList.add('colab-df-spinner');\n",
              "      try {\n",
              "        const charts = await google.colab.kernel.invokeFunction(\n",
              "            'suggestCharts', [key], {});\n",
              "      } catch (error) {\n",
              "        console.error('Error during call to suggestCharts:', error);\n",
              "      }\n",
              "      quickchartButtonEl.classList.remove('colab-df-spinner');\n",
              "      quickchartButtonEl.classList.add('colab-df-quickchart-complete');\n",
              "    }\n",
              "    (() => {\n",
              "      let quickchartButtonEl =\n",
              "        document.querySelector('#df-050f6564-68c6-4166-a4d5-eae1fba200cc button');\n",
              "      quickchartButtonEl.style.display =\n",
              "        google.colab.kernel.accessAllowed ? 'block' : 'none';\n",
              "    })();\n",
              "  </script>\n",
              "</div>\n",
              "    </div>\n",
              "  </div>\n"
            ],
            "text/plain": [
              "    age  gender  height_cm  weight_kg  body fat_%  diastolic  systolic  \\\n",
              "0  27.0       0      172.3      75.24        21.3       80.0     130.0   \n",
              "1  25.0       0      165.0      55.80        15.7       77.0     126.0   \n",
              "2  31.0       0      179.6      78.00        20.1       92.0     152.0   \n",
              "3  32.0       0      174.5      71.10        18.4       76.0     147.0   \n",
              "4  28.0       0      173.8      67.70        17.1       70.0     127.0   \n",
              "\n",
              "   gripForce  sit and bend forward_cm  sit-ups counts  broad jump_cm  class  \n",
              "0       54.9                     18.4            60.0          217.0      1  \n",
              "1       36.4                     16.3            53.0          229.0      3  \n",
              "2       44.8                     12.0            49.0          181.0      1  \n",
              "3       41.4                     15.2            53.0          219.0      2  \n",
              "4       43.5                     27.1            45.0          217.0      2  "
            ]
          },
          "execution_count": 6,
          "metadata": {},
          "output_type": "execute_result"
        }
      ],
      "source": [
        "classes = list(df['class'].unique())\n",
        "mapping_dict = { ch : i for i, ch in enumerate(sorted(classes, reverse=True)) }\n",
        "print (mapping_dict)\n",
        "df['class'].replace(mapping_dict , inplace = True)\n",
        "df.head()"
      ]
    },
    {
      "cell_type": "markdown",
      "metadata": {
        "id": "zuWjeQxnG_vr"
      },
      "source": [
        "- We are firstly mapping all the strings to integers in a reversed manner i.e. D is mapped to 0 and A is mapped to 3.\n",
        "- Then we are replacing all the values in the `class` feature using replace() function and the dictionary we got from the mapping step."
      ]
    },
    {
      "cell_type": "markdown",
      "metadata": {
        "id": "3lbVsbtgEhUN"
      },
      "source": [
        "Lets check if there are linear relations across the data"
      ]
    },
    {
      "cell_type": "code",
      "execution_count": null,
      "metadata": {
        "colab": {
          "background_save": true
        },
        "id": "JM9ofMRLCzSP",
        "outputId": "d2b332f0-9aad-4b8f-fdcb-671f379ee8c5"
      },
      "outputs": [
        {
          "data": {
            "text/plain": [
              "<Axes: >"
            ]
          },
          "execution_count": 7,
          "metadata": {},
          "output_type": "execute_result"
        },
        {
          "data": {
            "image/png": "[encoded data removed]",
            "text/plain": [
              "<Figure size 1200x800 with 2 Axes>"
            ]
          },
          "metadata": {},
          "output_type": "display_data"
        }
      ],
      "source": [
        "plt.figure(figsize=(12,8))\n",
        "sns.heatmap(df.corr(), annot = True)"
      ]
    },
    {
      "cell_type": "markdown",
      "metadata": {
        "id": "HLSOusuQDbSr"
      },
      "source": [
        "There are no strong linear relationships with `class` variables, which means, there is non-linear relation between `class` and the other variables."
      ]
    },
    {
      "cell_type": "markdown",
      "metadata": {
        "id": "3wAfNpwcUJyU"
      },
      "source": [
        "We need to have an understanding of the range and distributions of all the variables. Which plot do you think will be hepful here?\n",
        "\n",
        "\n",
        "Boxplot"
      ]
    },
    {
      "cell_type": "code",
      "execution_count": null,
      "metadata": {
        "colab": {
          "background_save": true
        },
        "id": "z2V1Bee-L-WI",
        "outputId": "c58dcd6c-6911-4f67-bd9b-b3a28f4db6fc"
      },
      "outputs": [
        {
          "data": {
            "text/plain": [
              "<Axes: >"
            ]
          },
          "execution_count": 8,
          "metadata": {},
          "output_type": "execute_result"
        },
        {
          "data": {
            "image/png": "[encoded data removed]",
            "text/plain": [
              "<Figure size 640x480 with 1 Axes>"
            ]
          },
          "metadata": {},
          "output_type": "display_data"
        }
      ],
      "source": [
        "df.boxplot(rot = 0, vert=False)"
      ]
    },
    {
      "cell_type": "markdown",
      "metadata": {
        "id": "JKx1vINbSQ0z"
      },
      "source": [
        "The distribution and range of all the features is quite different."
      ]
    },
    {
      "cell_type": "markdown",
      "metadata": {
        "id": "BeZbcshJUMIF"
      },
      "source": [
        "Let's have the independent and dependent variables separated into X and y."
      ]
    },
    {
      "cell_type": "code",
      "execution_count": null,
      "metadata": {
        "colab": {
          "background_save": true
        },
        "id": "s0u1ZekUIch4",
        "outputId": "838274d1-d047-4325-8210-44b86bbb0d65"
      },
      "outputs": [
        {
          "name": "stdout",
          "output_type": "stream",
          "text": [
            "(13393, 11) (13393,)\n"
          ]
        }
      ],
      "source": [
        "X, y = df.iloc[:, :-1], df.iloc[:, -1]\n",
        "print(X.shape, y.shape)"
      ]
    },
    {
      "cell_type": "markdown",
      "metadata": {
        "id": "i-JwsRPtVg9_"
      },
      "source": [
        "Now we need to split the data for training and validation"
      ]
    },
    {
      "cell_type": "code",
      "execution_count": null,
      "metadata": {
        "colab": {
          "background_save": true
        },
        "id": "zijp9a4-Vg9_",
        "outputId": "8850f79a-d7e8-4c64-aea0-c430598febb1"
      },
      "outputs": [
        {
          "name": "stdout",
          "output_type": "stream",
          "text": [
            "Train :  (10847, 11) (10847,)\n",
            "Valid :  (1206, 11) (1206,)\n",
            "Test  :  (1340, 11) (1340,)\n"
          ]
        }
      ],
      "source": [
        "from sklearn.model_selection import train_test_split\n",
        "\n",
        "X_dev, X_test, y_dev, y_test = train_test_split(X, y, test_size=0.1, random_state=42)\n",
        "X_train, X_val, y_train, y_val = train_test_split(X_dev, y_dev, test_size=0.1, random_state=42)\n",
        "\n",
        "print('Train : ', X_train.shape, y_train.shape)\n",
        "print('Valid : ', X_val.shape, y_val.shape)\n",
        "print('Test  : ', X_test.shape, y_test.shape)"
      ]
    },
    {
      "cell_type": "markdown",
      "metadata": {
        "id": "-cQBDs7qVg-A"
      },
      "source": [
        "We have firstly splitted the dataset into dev and test data and then the dev data is further splitted into train and validation data."
      ]
    },
    {
      "cell_type": "markdown",
      "metadata": {
        "id": "hqtru-aBVg-A"
      },
      "source": [
        "Now that our data is prepared to be used for training, lets build the model using Tensorflow"
      ]
    },
    {
      "cell_type": "markdown",
      "metadata": {
        "id": "4TQNFJ-eVg-A"
      },
      "source": [
        "Generally when features are normalized, neural network training is often more efficient\n"
      ]
    },
    {
      "cell_type": "code",
      "execution_count": null,
      "metadata": {
        "colab": {
          "background_save": true
        },
        "id": "djYgUefpSK-I"
      },
      "outputs": [],
      "source": [
        "from sklearn.preprocessing import StandardScaler\n",
        "scaler = StandardScaler()\n",
        "\n",
        "X_train = scaler.fit_transform(X_train,y_train)\n",
        "X_val = scaler.transform(X_val)\n",
        "X_test = scaler.transform(X_test)"
      ]
    },
    {
      "cell_type": "code",
      "execution_count": null,
      "metadata": {
        "colab": {
          "background_save": true
        },
        "id": "kEao2IPSVg-A",
        "outputId": "0c5b5c3a-6474-48de-ea4a-7623dd8ec136"
      },
      "outputs": [
        {
          "data": {
            "text/plain": [
              "<Axes: >"
            ]
          },
          "execution_count": 12,
          "metadata": {},
          "output_type": "execute_result"
        },
        {
          "data": {
            "image/png": "[encoded data removed]",
            "text/plain": [
              "<Figure size 640x480 with 1 Axes>"
            ]
          },
          "metadata": {},
          "output_type": "display_data"
        }
      ],
      "source": [
        "pd.DataFrame(X_train,columns=df.columns[:-1]).boxplot(rot = 0, vert=False)"
      ]
    },
    {
      "cell_type": "markdown",
      "metadata": {
        "id": "-lZ7a_bUe5Ss"
      },
      "source": [
        "Now that our data is prepared to be used for training, lets build the model using Tensorflow"
      ]
    },
    {
      "cell_type": "markdown",
      "metadata": {
        "id": "50mQzvyLe8w7"
      },
      "source": [
        "Before, we get started, let's explore Tensorflow website a bit\n",
        "-- --"
      ]
    },
    {
      "cell_type": "markdown",
      "metadata": {
        "id": "Rliq4VOX1UBY"
      },
      "source": [
        "\n",
        "\n",
        "## Tensorflow"
      ]
    },
    {
      "cell_type": "markdown",
      "metadata": {
        "id": "TO-TEVTU1bb2"
      },
      "source": [
        "\n",
        "- We will start-off directly with importing and checking it version."
      ]
    },
    {
      "cell_type": "code",
      "execution_count": null,
      "metadata": {
        "colab": {
          "background_save": true
        },
        "id": "dB7GXYsn105j",
        "outputId": "66debcac-d501-4b09-b96e-680c6d7a7d9b"
      },
      "outputs": [
        {
          "data": {
            "application/vnd.google.colaboratory.intrinsic+json": {
              "type": "string"
            },
            "text/plain": [
              "'2.13.0'"
            ]
          },
          "execution_count": 13,
          "metadata": {},
          "output_type": "execute_result"
        }
      ],
      "source": [
        "import tensorflow as tf\n",
        "tf.__version__"
      ]
    },
    {
      "cell_type": "markdown",
      "metadata": {
        "id": "JxyTzWzn2ct3"
      },
      "source": [
        "- In TensorFlow 2, Keras has become the default high-level API for - TensorFlow.\n",
        "- Because of Keras'es ability to write very simple code\n",
        "- The complete keras API is now wrapped up as part of the TensorFlow installation and has become seamlessly integrated with TensorFlow.\n",
        "- **You don't need to seperately install Keras now**.\n",
        "- Even though it's the high-level API for TensorFlow, we'll be able to do most, if not all, of your model development using keras.\n",
        "- If you want to do more complex stuff like designing your own activation function or any research work, you can do it using Tensorflow-2"
      ]
    },
    {
      "cell_type": "markdown",
      "metadata": {
        "id": "yHAEUGtfradJ"
      },
      "source": [
        "\n",
        "There are two modules which we will start using right away.\n",
        "\n",
        "### tf.keras Module\n",
        "\n",
        "The first one is `tf.keras`, click on the module to see whats inside, or you can use the `dir()` function to get the list of contents as well."
      ]
    },
    {
      "cell_type": "code",
      "execution_count": null,
      "metadata": {
        "colab": {
          "background_save": true
        },
        "id": "N45cWsTN3ZCt",
        "outputId": "5328375a-293a-4a8b-a24c-699034674a92"
      },
      "outputs": [
        {
          "data": {
            "text/plain": [
              "['Input',\n",
              " 'Model',\n",
              " 'Sequential',\n",
              " '__builtins__',\n",
              " '__cached__',\n",
              " '__doc__',\n",
              " '__file__',\n",
              " '__internal__',\n",
              " '__loader__',\n",
              " '__name__',\n",
              " '__package__',\n",
              " '__path__',\n",
              " '__spec__',\n",
              " 'activations',\n",
              " 'applications',\n",
              " 'backend',\n",
              " 'callbacks',\n",
              " 'constraints',\n",
              " 'datasets',\n",
              " 'dtensor',\n",
              " 'estimator',\n",
              " 'experimental',\n",
              " 'export',\n",
              " 'initializers',\n",
              " 'layers',\n",
              " 'losses',\n",
              " 'metrics',\n",
              " 'mixed_precision',\n",
              " 'models',\n",
              " 'optimizers',\n",
              " 'preprocessing',\n",
              " 'regularizers',\n",
              " 'saving',\n",
              " 'utils']"
            ]
          },
          "execution_count": 14,
          "metadata": {},
          "output_type": "execute_result"
        }
      ],
      "source": [
        "dir(tf.keras)"
      ]
    },
    {
      "cell_type": "markdown",
      "metadata": {
        "id": "9fyXnT7Lu2l1"
      },
      "source": [
        "Let's look at the various activation functions available inside keras"
      ]
    },
    {
      "cell_type": "code",
      "execution_count": null,
      "metadata": {
        "colab": {
          "background_save": true
        },
        "id": "uOTRQYqa6rsk",
        "outputId": "977a9f3d-2c8d-48bf-e312-9324d1786cb6"
      },
      "outputs": [
        {
          "data": {
            "text/plain": [
              "['__builtins__',\n",
              " '__cached__',\n",
              " '__doc__',\n",
              " '__file__',\n",
              " '__loader__',\n",
              " '__name__',\n",
              " '__package__',\n",
              " '__path__',\n",
              " '__spec__',\n",
              " 'deserialize',\n",
              " 'elu',\n",
              " 'exponential',\n",
              " 'gelu',\n",
              " 'get',\n",
              " 'hard_sigmoid',\n",
              " 'linear',\n",
              " 'mish',\n",
              " 'relu',\n",
              " 'selu',\n",
              " 'serialize',\n",
              " 'sigmoid',\n",
              " 'softmax',\n",
              " 'softplus',\n",
              " 'softsign',\n",
              " 'swish',\n",
              " 'tanh']"
            ]
          },
          "execution_count": 15,
          "metadata": {},
          "output_type": "execute_result"
        }
      ],
      "source": [
        "dir(tf.keras.activations)"
      ]
    },
    {
      "cell_type": "markdown",
      "metadata": {
        "id": "T1I-UkIv7dSd"
      },
      "source": [
        "### tf.data\n",
        "\n",
        "- Other interesting module that we will use in further classes is `tf.data`\n",
        "- We'll be looking at this further on in the course when we get to talking about **data pipelines**\n",
        "- There, we will define our custom classes to load and pass different types of dataset like rows, images, text to NN as mini-batches"
      ]
    },
    {
      "cell_type": "code",
      "execution_count": null,
      "metadata": {
        "colab": {
          "background_save": true
        },
        "id": "dHUXpvD070La",
        "outputId": "a4dbab6d-3088-4bcd-bab3-f54d42b9242d"
      },
      "outputs": [
        {
          "data": {
            "text/plain": [
              "['AUTOTUNE',\n",
              " 'Dataset',\n",
              " 'DatasetSpec',\n",
              " 'FixedLengthRecordDataset',\n",
              " 'INFINITE_CARDINALITY',\n",
              " 'Iterator',\n",
              " 'IteratorSpec',\n",
              " 'Options',\n",
              " 'TFRecordDataset',\n",
              " 'TextLineDataset',\n",
              " 'ThreadingOptions',\n",
              " 'UNKNOWN_CARDINALITY',\n",
              " '__builtins__',\n",
              " '__cached__',\n",
              " '__doc__',\n",
              " '__file__',\n",
              " '__loader__',\n",
              " '__name__',\n",
              " '__package__',\n",
              " '__path__',\n",
              " '__spec__',\n",
              " '_sys',\n",
              " 'experimental']"
            ]
          },
          "execution_count": 16,
          "metadata": {},
          "output_type": "execute_result"
        }
      ],
      "source": [
        "dir(tf.data)"
      ]
    },
    {
      "cell_type": "markdown",
      "metadata": {
        "id": "sEs02YqefDtE"
      },
      "source": [
        "We can write code in keras using two ways:\n",
        "- Sequential API\n",
        "- Functional API\n",
        "\n",
        "But for this lecture, we will talk about the most used keras Sequential API which will help us in most of the Deep NN that we will study in this course."
      ]
    },
    {
      "cell_type": "markdown",
      "metadata": {
        "id": "1zQJbFjk8bDx"
      },
      "source": [
        "-- --\n",
        "\n",
        "## Keras Sequential API\n"
      ]
    },
    {
      "cell_type": "code",
      "execution_count": null,
      "metadata": {
        "colab": {
          "background_save": true
        },
        "id": "yHREsyyk8mSd"
      },
      "outputs": [],
      "source": [
        "import tensorflow\n",
        "from tensorflow.keras.models import Sequential\n",
        "from tensorflow.keras.layers import Dense"
      ]
    },
    {
      "cell_type": "code",
      "execution_count": null,
      "metadata": {
        "colab": {
          "background_save": true
        },
        "id": "wL-8l14qlj5n"
      },
      "outputs": [],
      "source": []
    },
    {
      "cell_type": "markdown",
      "metadata": {
        "id": "WRI-zibWBnYA"
      },
      "source": [
        "- We will now create an instance (or object) of the Sequential class and call it `model`.\n",
        "- Its same as creating an instance as we did using some sklearn's model class, just that, now we will now define the model as well.\n",
        "- Sequential model will take a list of layers as an argument.\n",
        "\n",
        "Lets define a feed forward network with a single hidden layer."
      ]
    },
    {
      "cell_type": "code",
      "execution_count": null,
      "metadata": {
        "colab": {
          "background_save": true
        },
        "id": "q7Ksi_hQHnOO"
      },
      "outputs": [],
      "source": [
        "model = Sequential([\n",
        "                    Dense(64, activation=\"relu\"), #hidden dense layer with 64 neuron units\n",
        "                    Dense(4, activation=\"softmax\") #output layer with 4 units and softmax activation\n",
        "])"
      ]
    },
    {
      "cell_type": "markdown",
      "metadata": {
        "id": "kjqsBr7UIatR"
      },
      "source": [
        "- The activation argument is optional, and if you don't pass it, it will be a linear (or no) activation\n",
        "\n",
        "#### Question: Why do we need activation function?\n",
        "- It provides non linearity to problems.\n",
        "\n",
        "#### Question: Give an example of a case when we wouldn't like to pass an activation?\n",
        "\n",
        "- Output layer of regression model\n",
        "\n",
        "#### Question: If we want to find out if there is a method to check the weights of model, how will you find that method?\n",
        "\n",
        "Use dir(model)\n",
        "\n",
        "- From dir(model) we can find out about the weights() method for sequential models."
      ]
    },
    {
      "cell_type": "markdown",
      "metadata": {
        "id": "1Z94oE3y0ONS"
      },
      "source": [
        "#### Lets check the model weights"
      ]
    },
    {
      "cell_type": "code",
      "execution_count": null,
      "metadata": {
        "colab": {
          "background_save": true
        },
        "id": "H2v148kiU9fH"
      },
      "outputs": [],
      "source": [
        "#model.weights # should give some error"
      ]
    },
    {
      "cell_type": "markdown",
      "metadata": {
        "id": "OuZHBh2EU-dS"
      },
      "source": [
        "Looks like the model hasn't created the weights yet.\n",
        "\n",
        "#### Passing input shape\n",
        "\n",
        "- Notice that we haven't told the model about the input size yet, and thus, tensorflow doesn't have any information to create W and b yet.\n",
        "- Optionally, we can pass the input size right away as well in the first layer."
      ]
    },
    {
      "cell_type": "code",
      "execution_count": null,
      "metadata": {
        "colab": {
          "background_save": true
        },
        "id": "pE7FXesPIien"
      },
      "outputs": [],
      "source": [
        "model = Sequential([\n",
        "                    Dense(64, activation=\"relu\", input_shape=(11,)),\n",
        "                    Dense(4, activation=\"softmax\")\n",
        "])"
      ]
    },
    {
      "cell_type": "code",
      "execution_count": null,
      "metadata": {
        "colab": {
          "background_save": true
        },
        "id": "EnE-YpjIVSf-",
        "outputId": "b4ef62ba-c1f0-4fa2-d679-d15452eb4932"
      },
      "outputs": [
        {
          "data": {
            "text/plain": [
              "list"
            ]
          },
          "execution_count": 21,
          "metadata": {},
          "output_type": "execute_result"
        }
      ],
      "source": [
        "type(model.weights)"
      ]
    },
    {
      "cell_type": "code",
      "execution_count": null,
      "metadata": {
        "colab": {
          "background_save": true
        },
        "id": "bx9Mq-xOVivj",
        "outputId": "03a4d55f-8a53-4854-dcec-e79217627460"
      },
      "outputs": [
        {
          "name": "stdout",
          "output_type": "stream",
          "text": [
            "(11, 64)\n",
            "(64,)\n",
            "(64, 4)\n",
            "(4,)\n"
          ]
        }
      ],
      "source": [
        "for param in model.weights:\n",
        "  print(param.shape)"
      ]
    },
    {
      "cell_type": "markdown",
      "metadata": {
        "id": "DV6WSsI9VTP3"
      },
      "source": [
        "Lets look at another way to define the same model\n",
        "\n",
        "#### model.add()\n",
        "\n",
        "- Instead of passing the list of layers as an argument while creating a model instance, we can use the `add` method."
      ]
    },
    {
      "cell_type": "code",
      "execution_count": null,
      "metadata": {
        "colab": {
          "background_save": true
        },
        "id": "NRnWCBdaKaNY"
      },
      "outputs": [],
      "source": [
        "model = Sequential()\n",
        "model.add(Dense(64, activation=\"relu\", input_shape=(11,)))\n",
        "model.add(Dense(4, activation=\"softmax\"))"
      ]
    },
    {
      "cell_type": "markdown",
      "metadata": {
        "id": "yZBg2JSmLfqS"
      },
      "source": [
        "### Optional Exercise: What if the input had been a multi-dimensional data?"
      ]
    },
    {
      "cell_type": "code",
      "execution_count": null,
      "metadata": {
        "colab": {
          "background_save": true
        },
        "id": "sVECQZJ-LFRp"
      },
      "outputs": [],
      "source": [
        "from tensorflow.keras.models import Sequential\n",
        "from tensorflow.keras.layers import Dense, Flatten\n",
        "\n",
        "model_2D = Sequential([\n",
        "                    Flatten(input_shape=(28, 28)), # flatten the data to make it (784,) to be based further\n",
        "                    Dense(64, activation=\"relu\"),\n",
        "                    Dense(4, activation=\"softmax\")\n",
        "])"
      ]
    },
    {
      "cell_type": "markdown",
      "metadata": {
        "id": "2U6y7YedsR4e"
      },
      "source": [
        "Note: We can also directly pass multi-dimensional input directly for which we will study different types of networks like convolution neural network in later modules."
      ]
    },
    {
      "cell_type": "markdown",
      "metadata": {
        "id": "JHkTnXy6XvTd"
      },
      "source": [
        "### Model summary\n",
        "\n",
        "- There is another short way to check dimensions and parameters of each layer\n",
        "- we can do it using the printing model summary"
      ]
    },
    {
      "cell_type": "code",
      "execution_count": null,
      "metadata": {
        "colab": {
          "background_save": true
        },
        "id": "tam82iFFXw_t",
        "outputId": "f0e405df-f725-41ec-e06d-97f74fc02b90"
      },
      "outputs": [
        {
          "name": "stdout",
          "output_type": "stream",
          "text": [
            "Model: \"sequential_2\"\n",
            "_________________________________________________________________\n",
            " Layer (type)                Output Shape              Param #   \n",
            "=================================================================\n",
            " dense_4 (Dense)             (None, 64)                768       \n",
            "                                                                 \n",
            " dense_5 (Dense)             (None, 4)                 260       \n",
            "                                                                 \n",
            "=================================================================\n",
            "Total params: 1028 (4.02 KB)\n",
            "Trainable params: 1028 (4.02 KB)\n",
            "Non-trainable params: 0 (0.00 Byte)\n",
            "_________________________________________________________________\n"
          ]
        }
      ],
      "source": [
        "model.summary()"
      ]
    },
    {
      "cell_type": "markdown",
      "metadata": {
        "id": "gx_ogSA1YBkJ"
      },
      "source": [
        "### Giving custom names to the layers\n",
        "\n",
        "- As you can see in the model summary, keras has provided the names by itself.\n",
        "- At times, we might want to give custom names to the layer as well"
      ]
    },
    {
      "cell_type": "code",
      "execution_count": null,
      "metadata": {
        "colab": {
          "background_save": true
        },
        "id": "bpf0z-YwYGXO"
      },
      "outputs": [],
      "source": [
        "model = Sequential([\n",
        "                    Dense(64, activation=\"relu\", input_shape=(11,), name=\"hidden_1\"),\n",
        "                    Dense(4, activation=\"softmax\", name=\"output\")\n",
        "])"
      ]
    },
    {
      "cell_type": "code",
      "execution_count": null,
      "metadata": {
        "colab": {
          "background_save": true
        },
        "id": "Mg6IthflYaDr",
        "outputId": "7d119299-2254-44bf-e0d2-2f7ddd5eef8c"
      },
      "outputs": [
        {
          "name": "stdout",
          "output_type": "stream",
          "text": [
            "Model: \"sequential_4\"\n",
            "_________________________________________________________________\n",
            " Layer (type)                Output Shape              Param #   \n",
            "=================================================================\n",
            " hidden_1 (Dense)            (None, 64)                768       \n",
            "                                                                 \n",
            " output (Dense)              (None, 4)                 260       \n",
            "                                                                 \n",
            "=================================================================\n",
            "Total params: 1028 (4.02 KB)\n",
            "Trainable params: 1028 (4.02 KB)\n",
            "Non-trainable params: 0 (0.00 Byte)\n",
            "_________________________________________________________________\n"
          ]
        }
      ],
      "source": [
        "model.summary()"
      ]
    },
    {
      "cell_type": "markdown",
      "metadata": {
        "id": "LYsLvQhZJB0I"
      },
      "source": [
        "- We can also plot the model as a graph\n",
        "- And save it as a png file"
      ]
    },
    {
      "cell_type": "code",
      "execution_count": null,
      "metadata": {
        "colab": {
          "background_save": true
        },
        "id": "cm5Hzao5JAJp",
        "outputId": "31a5152d-1790-46ca-ae29-a1ffab147769"
      },
      "outputs": [
        {
          "data": {
            "image/png": "[encoded data removed]",
            "text/plain": [
              "<IPython.core.display.Image object>"
            ]
          },
          "execution_count": 28,
          "metadata": {},
          "output_type": "execute_result"
        }
      ],
      "source": [
        "from tensorflow.keras.utils import plot_model\n",
        "\n",
        "plot_model(model,\n",
        "    to_file='model.png',\n",
        "    show_shapes=True, show_layer_names=True)"
      ]
    },
    {
      "cell_type": "markdown",
      "metadata": {
        "id": "KxJTHZEf_d5J"
      },
      "source": [
        "From the plot we can see that the first layer is the input layer and then the input and output shapes of each of layers `hidden_1` and `output` are given."
      ]
    },
    {
      "cell_type": "markdown",
      "metadata": {
        "id": "hFO39MOaaF9p"
      },
      "source": [
        "### Weights and Bias Initializer\n",
        "\n",
        "- When we worked on NN from scratch, we intialised W with `np.random.rand` and b with `np.zeros`.\n",
        "- We also learnt about various weight  initialization techniques\n",
        "  - Glorot Normal\n",
        "  \n",
        "   $w^k_{ij} \\sim N(0,\\sigma_{ij})$, where $\\sigma_{ij} = \\frac{2}{fanin+fanout}$\n",
        "\n",
        "  - Glorot Uniform\n",
        "  \n",
        "    $w^k_{ij} \\sim Uniform\\bigg[ \\frac{-\\sqrt{6}}{\\sqrt{fanin+fanout}}, \\frac{\\sqrt{6}}{\\sqrt{fanin+fanout}}\\bigg]$\n",
        "  - He Normal\n",
        "    \n",
        "    $N(0,\\sigma)$, where $\\sigma = \\frac{2}{fanin}$\n",
        "\n",
        "  - He uniform\n",
        "  \n",
        "   $Uniform\\bigg[ \\frac{-\\sqrt{6}}{\\sqrt{fanin}}, \\frac{\\sqrt{6}}{\\sqrt{fanin}}\\bigg]$\n",
        "\n",
        "- Now let see how keras implements them.\n",
        "- The end results of the classification and regression gets affected by the initialization of the weights and biases.\n",
        "- For now, we will just look at some methods of weights and bias initialization.\n",
        "\n",
        "\n"
      ]
    },
    {
      "cell_type": "markdown",
      "metadata": {
        "id": "b0sWfPZnc1b5"
      },
      "source": [
        "In Keras, in `Dense` layer,\n",
        "1. the biases are set to zero (`zeros`) by default\n",
        "2. the weights are set according to `glorot_uniform`, the Glorot uniform initialiser.\n",
        "\n",
        "\n",
        "For example:\n",
        "-  $$c = \\frac{\\sqrt{6}}{\\sqrt{11+64}} = 0.28$$\n",
        "\n",
        "for the first hidden layer of model as $fanin$ (input) is 11 and $fanout$(output) is 64\n",
        "\n",
        "\n",
        "Note:\n",
        "\n",
        "- There are several researches proposing different ways of randomly initialising the weights of the layers.\n",
        "- But **`glorot_uniform` has been the most widely used** one in most of the Deep Learning frameworks today.\n"
      ]
    },
    {
      "cell_type": "markdown",
      "metadata": {
        "id": "lih5J2dmeU-r"
      },
      "source": [
        "#### What if I want to initialise my own weights and bias? May be for my own research?\n",
        "\n",
        "- Each layer has optional arguments `kernel_initialiser` and `bias_initialiser` to set the weights and biases respectively."
      ]
    },
    {
      "cell_type": "code",
      "execution_count": null,
      "metadata": {
        "colab": {
          "background_save": true
        },
        "id": "P3oQ5iEmeYLx"
      },
      "outputs": [],
      "source": [
        "model_X = Sequential([\n",
        "                    Dense(64, activation=\"relu\", input_shape=(11,), name=\"hidden_1\", kernel_initializer='random_uniform', bias_initializer=\"zeros\"),\n",
        "                    Dense(4, activation=\"softmax\", name=\"output\", kernel_initializer='he_uniform', bias_initializer='ones')\n",
        "])"
      ]
    },
    {
      "cell_type": "markdown",
      "metadata": {
        "id": "3NxGu9bve6xO"
      },
      "source": [
        "We can totally go from scratch as well (only if we need to) using keras.initialiser submodule"
      ]
    },
    {
      "cell_type": "code",
      "execution_count": null,
      "metadata": {
        "colab": {
          "background_save": true
        },
        "id": "T2P5q3bUe_yW",
        "outputId": "be2de693-16fe-41df-c703-df182dcecf52"
      },
      "outputs": [
        {
          "data": {
            "text/plain": [
              "<keras.src.layers.core.dense.Dense at 0x79078c61a020>"
            ]
          },
          "execution_count": 30,
          "metadata": {},
          "output_type": "execute_result"
        }
      ],
      "source": [
        "Dense(64, kernel_initializer=tf.keras.initializers.RandomNormal(mean=0.0, stddev=0.05),\n",
        "          bias_initializer=tf.keras.initializers.Constant(value=0.4),\n",
        "          activation='relu')"
      ]
    },
    {
      "cell_type": "markdown",
      "metadata": {
        "id": "Upjv_UHXHOdl"
      },
      "source": [
        "- Let's try to retrieve the layers of the model."
      ]
    },
    {
      "cell_type": "code",
      "execution_count": null,
      "metadata": {
        "colab": {
          "background_save": true
        },
        "id": "H-M2XRt3HNvP",
        "outputId": "4c9fe4a9-603c-4325-c6fb-8dbef47b5165"
      },
      "outputs": [
        {
          "data": {
            "text/plain": [
              "[<keras.src.layers.core.dense.Dense at 0x7907e48b4f40>,\n",
              " <keras.src.layers.core.dense.Dense at 0x7907e48b7d00>]"
            ]
          },
          "execution_count": 31,
          "metadata": {},
          "output_type": "execute_result"
        }
      ],
      "source": [
        "model.layers"
      ]
    },
    {
      "cell_type": "markdown",
      "metadata": {
        "id": "zVYRHUaSgkOE"
      },
      "source": [
        "- Lets look at how are they initialised, we can check how the weights distribution (optional)."
      ]
    },
    {
      "cell_type": "code",
      "execution_count": null,
      "metadata": {
        "colab": {
          "background_save": true
        },
        "id": "4KeUsdpUfUOJ",
        "outputId": "c09191d3-720d-4567-9b75-61427ff7967d"
      },
      "outputs": [
        {
          "data": {
            "image/png": "[encoded data removed]",
            "text/plain": [
              "<Figure size 500x500 with 4 Axes>"
            ]
          },
          "metadata": {},
          "output_type": "display_data"
        }
      ],
      "source": [
        "# Plot histograms of weight and bias values\n",
        "import matplotlib.pyplot as plt\n",
        "fig, axes = plt.subplots(2, 2, figsize=(5,5))\n",
        "fig.subplots_adjust(hspace=0.5, wspace=0.5)\n",
        "\n",
        "# get the weights from the layers\n",
        "weight_layers = [layer for layer in model.layers]\n",
        "\n",
        "for i, layer in enumerate(weight_layers):\n",
        "    for j in [0, 1]:\n",
        "        axes[i, j].hist(layer.weights[j].numpy().flatten(), align='left')\n",
        "        axes[i, j].set_title(layer.weights[j].name)"
      ]
    },
    {
      "cell_type": "markdown",
      "metadata": {
        "id": "mGmenn51IA7E"
      },
      "source": [
        "- layers() method consist of a list of layers.\n",
        "- In the code, we are firstly getting all the weights and biases of the layers using `layer.weights[0/1]`, then converting them to a numpy array and then flattening all the arrays to just get an array of initialized weights and biases.\n",
        "- From the above plots it can be observed that all the biases are intialized to zero by default.\n",
        "-- --"
      ]
    },
    {
      "cell_type": "markdown",
      "metadata": {
        "id": "BHpO0tE2hfpj"
      },
      "source": [
        "## Compile - loss and optimizer\n",
        "\n"
      ]
    },
    {
      "cell_type": "markdown",
      "metadata": {
        "id": "NRFiQb5ESMxv"
      },
      "source": [
        "Until now, we have defined the model architecture.\n",
        "\n",
        "After defining the model, we have to compile the model.\n",
        "\n",
        "#### Question: What do you think, which specific information we should pass to model while compiling ?\n",
        "1. Loss function - To measures the model performance as it trains\n",
        "2. Optimizer (like Gradient Descent) - To performs the gradient update\n",
        "\n",
        "We do this by using two arguments of the compile method `optimizer` and `loss`.\n",
        "\n",
        "Lets take an example of a binary classification task here"
      ]
    },
    {
      "cell_type": "code",
      "execution_count": null,
      "metadata": {
        "colab": {
          "background_save": true
        },
        "id": "QxjCLmPRhhKr"
      },
      "outputs": [],
      "source": [
        "model_2C = Sequential([\n",
        "          Dense(64, activation=\"relu\", input_shape=(11,)),\n",
        "          Dense(1, activation=\"sigmoid\")])\n",
        "\n",
        "# new piece of code\n",
        "model_2C.compile(\n",
        "    optimizer = \"adam\", # stochastic gradient descent, adam, rmsprop, adadelts\n",
        "    loss = \"binary_crossentropy\", # sigmoid loss, # mean_squared_error, categorical_crossentropy, sparse_categorical_crossentropy, binary_crossentropy\n",
        "    metrics = [\"accuracy\"]\n",
        ")"
      ]
    },
    {
      "cell_type": "markdown",
      "metadata": {
        "id": "UB6T27xrkjbk"
      },
      "source": [
        "- There are multiple options for optimisers, loss and metrics which we will discuss in detail later\n",
        "\n",
        "- All these strings which we have passed as argument i.e. `sgd`, `binary_crossentropy` and `accuracy` are reference to some default objects defined in keras. They are called to string identifiers.\n",
        "- We can also directly instantiate these custom objects here with the classes defined in keras submodules for example `opt = keras.optimizers.Adam(learning_rate=0.01)`\n",
        "- We can even pass customized loss and optimizer functions in keras models.\n"
      ]
    },
    {
      "cell_type": "markdown",
      "metadata": {
        "id": "Ww3cErPeOxHr"
      },
      "source": [
        "#### Lets change the learning rate by initialising  a custom object"
      ]
    },
    {
      "cell_type": "code",
      "execution_count": null,
      "metadata": {
        "colab": {
          "background_save": true
        },
        "id": "mv5xHwttOupA"
      },
      "outputs": [],
      "source": [
        "model.compile(\n",
        "    optimizer = tf.keras.optimizers.Adam(learning_rate=0.01),\n",
        "    loss = tf.keras.losses.SparseCategoricalCrossentropy(),\n",
        ")"
      ]
    },
    {
      "cell_type": "markdown",
      "metadata": {
        "id": "Xo4b5E8uNgnr"
      },
      "source": [
        "Optionally, we can define a list of metrics which we might want to track during the training, like accuracy"
      ]
    },
    {
      "cell_type": "code",
      "execution_count": null,
      "metadata": {
        "colab": {
          "background_save": true
        },
        "id": "zEe74sfmkVLm"
      },
      "outputs": [],
      "source": [
        "model = Sequential([\n",
        "                    Dense(16, activation=\"relu\", input_shape=(11,), name=\"hidden_1\"),\n",
        "                    Dense(8, activation=\"relu\", name=\"hidden_2\"),\n",
        "                    Dense(4, activation=\"softmax\", name=\"output\")\n",
        "])\n",
        "\n",
        "model.compile(\n",
        "    optimizer = tf.keras.optimizers.Adam(learning_rate=0.001),\n",
        "    loss = tf.keras.losses.SparseCategoricalCrossentropy(),\n",
        "    metrics=[\"accuracy\"]\n",
        ")"
      ]
    },
    {
      "cell_type": "markdown",
      "metadata": {
        "id": "3f6lkxGCSJSF"
      },
      "source": [
        "Other available string identifiers to pass in `loss` parameter."
      ]
    },
    {
      "cell_type": "markdown",
      "metadata": {
        "id": "h6xvprsIMyci"
      },
      "source": [
        "#### How sparse categorical crossentropy different from categorical cross-entropy?\n",
        "\n",
        "1. Use `categorical_crossentropy` if target vector is one hot-encoded - [1,0,0,0], [0, 1, 0, 0], [0, 0, 1, 0], [0, 0, 0, 1]\n",
        "2. Use `sparse_categorical_crossentropy` if target vector is ordinal integer values - 0, 1, 2, 3"
      ]
    },
    {
      "cell_type": "markdown",
      "metadata": {
        "id": "bKQKRXbeD-IX"
      },
      "source": [
        "- We can use these objects when we need to change their arguments like a using different learning rate.\n",
        "- We can change the cut-off from 0.5-0.7 or anything using this.\n",
        "- These metrics will be calculated and saved after each epoch (one pass of whole data to update the model).\n",
        "\n",
        "#### But what exactly is an epoch?\n",
        "- When data is too big, data is passed in small batches instead of one big batch due to memory constraints. Each pass of mini-batch is called an iteration.\n",
        "- Each pass of whole datasets is called an Epoch.\n",
        "\n",
        "- One epoch means that each sample in the training dataset has had an opportunity to update the internal model parameters.\n",
        "\n",
        "\n",
        "Lets finally check if the loss and optimisers for the model are set. We can use the model attributes for getting these."
      ]
    },
    {
      "cell_type": "code",
      "execution_count": null,
      "metadata": {
        "colab": {
          "background_save": true
        },
        "id": "DwHgLvV7ILWI",
        "outputId": "60f177e0-32fe-48bc-d50d-e6d6a6ec60f9"
      },
      "outputs": [
        {
          "data": {
            "text/plain": [
              "<keras.src.losses.SparseCategoricalCrossentropy at 0x79078c440760>"
            ]
          },
          "execution_count": 36,
          "metadata": {},
          "output_type": "execute_result"
        }
      ],
      "source": [
        "model.loss"
      ]
    },
    {
      "cell_type": "code",
      "execution_count": null,
      "metadata": {
        "colab": {
          "background_save": true
        },
        "id": "516KwbKrIPQG",
        "outputId": "c1125f57-ddbe-4f84-fcf4-f972c19d1942"
      },
      "outputs": [
        {
          "data": {
            "text/plain": [
              "<keras.src.optimizers.adam.Adam at 0x79078c3b8cd0>"
            ]
          },
          "execution_count": 37,
          "metadata": {},
          "output_type": "execute_result"
        }
      ],
      "source": [
        "model.optimizer"
      ]
    },
    {
      "cell_type": "markdown",
      "metadata": {
        "id": "kyUDCOaAIFZa"
      },
      "source": [
        "-- --\n",
        "## Training the model using `fit` method"
      ]
    },
    {
      "cell_type": "markdown",
      "metadata": {
        "id": "hOoDOdutUzgS"
      },
      "source": [
        "Training the model would mean updating the weights using the optimizer and loss functions on the dataset."
      ]
    },
    {
      "cell_type": "markdown",
      "metadata": {
        "id": "X5IyWQ2ldgNr"
      },
      "source": [
        "\n",
        "\n",
        "`model.fit(X_train, y_train)`\n",
        "\n",
        "X_train = (num_samples, num_features)\n",
        "\n",
        "y_train = (num_samples, num_classes) or y_train = (num_samples, )\n",
        "\n",
        "Lets look at some other arguments of model.fit method\n",
        "\n",
        "### Set the epochs\n",
        "\n",
        "You might want to train the model for more than 1 epochs.\n",
        "\n",
        "`model.fit(X_train, y_train, epochs=500)`\n",
        "\n",
        "### Set the batch size\n",
        "\n",
        "- Another option is to set the batch size, the default is 16.\n",
        "- Usually, the batch size used are of the form $2^x$ - 4, 8, 16, 32, 64\n",
        "- And we try to take as big of a bach size as GPU memory can manage.\n",
        "- Setting up batch_size=16 means that 16 training samples are passed in single iteration.\n",
        "- Num_iterations in an epoch = num_samples/batch_size\n",
        "\n",
        "There are some other sophisticated arguments of `model.fit `which we will dicuss later as we progress.\n",
        "\n",
        "\n"
      ]
    },
    {
      "cell_type": "markdown",
      "metadata": {
        "id": "Q6WgrmipMlhh"
      },
      "source": [
        "Lets train our model! <br>\n",
        "\n",
        "Here we have mentioned `validation_split = 0.1`, <br>\n",
        "which means 10% of our training data will be used for validation  "
      ]
    },
    {
      "cell_type": "markdown",
      "metadata": {
        "id": "vrtOdGbVropC"
      },
      "source": [
        "- Seed in ML means intilization state of a pseudo random number generator.\n",
        "- After setting the same seed whenever random() function is called we will get a specific way of generating numbers.\n",
        "- If you use the same seed you will get exactly the same pattern of numbers during weights initializations, which will be helpful for us as if all of us run the code we will get the same output."
      ]
    },
    {
      "cell_type": "code",
      "execution_count": null,
      "metadata": {
        "colab": {
          "background_save": true
        },
        "id": "Q3ItFOhirnU7"
      },
      "outputs": [],
      "source": [
        "def seed_everything(seed = 42):\n",
        "    np.random.seed(seed)\n",
        "    tf.random.set_seed(seed)\n",
        "\n",
        "\n",
        "seed_everything()"
      ]
    },
    {
      "cell_type": "markdown",
      "metadata": {
        "id": "JUtq1sgdpa1K"
      },
      "source": [
        "Let's train for few epochs first and see what happens"
      ]
    },
    {
      "cell_type": "code",
      "execution_count": null,
      "metadata": {
        "colab": {
          "background_save": true
        },
        "id": "Zz7GDb06MEVn",
        "outputId": "92354436-7718-422a-9cfe-8e1d89a72e69"
      },
      "outputs": [
        {
          "name": "stdout",
          "output_type": "stream",
          "text": [
            "Epoch 1/10\n",
            "43/43 [==============================] - 1s 7ms/step - loss: 1.4167 - accuracy: 0.2478 - val_loss: 1.3760 - val_accuracy: 0.3076\n",
            "Epoch 2/10\n",
            "43/43 [==============================] - 0s 3ms/step - loss: 1.3473 - accuracy: 0.3408 - val_loss: 1.3173 - val_accuracy: 0.4104\n",
            "Epoch 3/10\n",
            "43/43 [==============================] - 0s 3ms/step - loss: 1.2821 - accuracy: 0.4255 - val_loss: 1.2364 - val_accuracy: 0.4536\n",
            "Epoch 4/10\n",
            "43/43 [==============================] - 0s 3ms/step - loss: 1.2012 - accuracy: 0.4622 - val_loss: 1.1440 - val_accuracy: 0.4925\n",
            "Epoch 5/10\n",
            "43/43 [==============================] - 0s 3ms/step - loss: 1.1185 - accuracy: 0.4934 - val_loss: 1.0566 - val_accuracy: 0.5133\n",
            "Epoch 6/10\n",
            "43/43 [==============================] - 0s 3ms/step - loss: 1.0448 - accuracy: 0.5331 - val_loss: 0.9800 - val_accuracy: 0.5531\n",
            "Epoch 7/10\n",
            "43/43 [==============================] - 0s 3ms/step - loss: 0.9853 - accuracy: 0.5651 - val_loss: 0.9227 - val_accuracy: 0.5904\n",
            "Epoch 8/10\n",
            "43/43 [==============================] - 0s 3ms/step - loss: 0.9428 - accuracy: 0.5910 - val_loss: 0.8825 - val_accuracy: 0.6045\n",
            "Epoch 9/10\n",
            "43/43 [==============================] - 0s 3ms/step - loss: 0.9156 - accuracy: 0.6000 - val_loss: 0.8590 - val_accuracy: 0.6153\n",
            "Epoch 10/10\n",
            "43/43 [==============================] - 0s 2ms/step - loss: 0.8969 - accuracy: 0.6074 - val_loss: 0.8414 - val_accuracy: 0.6244\n",
            "CPU times: user 2.11 s, sys: 86.7 ms, total: 2.2 s\n",
            "Wall time: 2.37 s\n"
          ]
        },
        {
          "data": {
            "text/plain": [
              "<keras.src.callbacks.History at 0x79078c40bca0>"
            ]
          },
          "execution_count": 39,
          "metadata": {},
          "output_type": "execute_result"
        }
      ],
      "source": [
        "%%time\n",
        "model.fit(X_train, y_train, epochs=10, batch_size=256, validation_data=(X_val,y_val), verbose=1)\n",
        "\n",
        "## no of iterations: ( 10847 (training size) - 1084.7 (validation split) )/(256) == 39"
      ]
    },
    {
      "cell_type": "markdown",
      "metadata": {
        "id": "YKST3Fu1oirc"
      },
      "source": [
        "**Observe**\n",
        "- Here we trained our model for 10 epochs\n",
        "- `model.fit` is printing all the metrics like accuracy, loss, validation loss, validation accuracy etc.\n",
        "\n",
        "#### Question: How can we use all this information and use it for analyising training process ?\n",
        "- For this let's check what this `model.fit` is returning"
      ]
    },
    {
      "cell_type": "markdown",
      "metadata": {
        "id": "_uNOjeAlnjU7"
      },
      "source": [
        "### History\n",
        "\n",
        "- `model.fit` returns a history object which contains the record of progress NN training.\n",
        "- History object contains records of loss and metrics values for each epoch.\n",
        "- History object is an example of something called \"callback\" (will study it later).\n",
        "\n",
        "### Compiling and training the model\n",
        "- Until now, we  have seen how to build a NN model, compile it with relevant loss function, optimizer and metrics to track while training.\n",
        "- We also saw how we can train the model using the fit method for certain number of epochs and with certain batch_size."
      ]
    },
    {
      "cell_type": "markdown",
      "metadata": {
        "id": "2fGRC8sQquu3"
      },
      "source": [
        "Let's train model for 500 epochs and store training process inside a variable called **history**"
      ]
    },
    {
      "cell_type": "code",
      "execution_count": null,
      "metadata": {
        "colab": {
          "background_save": true
        },
        "id": "a6YUv_x6p4_Z",
        "outputId": "736846e5-dc0b-43e7-d2fd-f99f105f39e9"
      },
      "outputs": [
        {
          "name": "stdout",
          "output_type": "stream",
          "text": [
            "Epoch 1/500\n",
            "39/39 [==============================] - 0s 4ms/step - loss: 0.8827 - accuracy: 0.6119 - val_loss: 0.8846 - val_accuracy: 0.6120\n",
            "Epoch 2/500\n",
            "39/39 [==============================] - 0s 3ms/step - loss: 0.8733 - accuracy: 0.6166 - val_loss: 0.8769 - val_accuracy: 0.6092\n",
            "Epoch 3/500\n",
            "39/39 [==============================] - 0s 3ms/step - loss: 0.8658 - accuracy: 0.6198 - val_loss: 0.8727 - val_accuracy: 0.6120\n",
            "Epoch 4/500\n",
            "39/39 [==============================] - 0s 3ms/step - loss: 0.8604 - accuracy: 0.6207 - val_loss: 0.8651 - val_accuracy: 0.6175\n",
            "Epoch 5/500\n",
            "39/39 [==============================] - 0s 3ms/step - loss: 0.8549 - accuracy: 0.6230 - val_loss: 0.8617 - val_accuracy: 0.6276\n",
            "Epoch 6/500\n",
            "39/39 [==============================] - 0s 3ms/step - loss: 0.8503 - accuracy: 0.6273 - val_loss: 0.8562 - val_accuracy: 0.6249\n",
            "Epoch 7/500\n",
            "39/39 [==============================] - 0s 3ms/step - loss: 0.8456 - accuracy: 0.6298 - val_loss: 0.8554 - val_accuracy: 0.6240\n",
            "Epoch 8/500\n",
            "39/39 [==============================] - 0s 3ms/step - loss: 0.8418 - accuracy: 0.6321 - val_loss: 0.8487 - val_accuracy: 0.6323\n",
            "Epoch 9/500\n",
            "39/39 [==============================] - 0s 3ms/step - loss: 0.8377 - accuracy: 0.6339 - val_loss: 0.8449 - val_accuracy: 0.6350\n",
            "Epoch 10/500\n",
            "39/39 [==============================] - 0s 3ms/step - loss: 0.8340 - accuracy: 0.6360 - val_loss: 0.8425 - val_accuracy: 0.6359\n",
            "Epoch 11/500\n",
            "39/39 [==============================] - 0s 3ms/step - loss: 0.8299 - accuracy: 0.6383 - val_loss: 0.8369 - val_accuracy: 0.6396\n",
            "Epoch 12/500\n",
            "39/39 [==============================] - 0s 3ms/step - loss: 0.8272 - accuracy: 0.6410 - val_loss: 0.8327 - val_accuracy: 0.6415\n",
            "Epoch 13/500\n",
            "39/39 [==============================] - 0s 3ms/step - loss: 0.8232 - accuracy: 0.6418 - val_loss: 0.8295 - val_accuracy: 0.6424\n",
            "Epoch 14/500\n",
            "39/39 [==============================] - 0s 3ms/step - loss: 0.8196 - accuracy: 0.6438 - val_loss: 0.8247 - val_accuracy: 0.6488\n",
            "Epoch 15/500\n",
            "39/39 [==============================] - 0s 3ms/step - loss: 0.8157 - accuracy: 0.6453 - val_loss: 0.8222 - val_accuracy: 0.6507\n",
            "Epoch 16/500\n",
            "39/39 [==============================] - 0s 3ms/step - loss: 0.8125 - accuracy: 0.6442 - val_loss: 0.8189 - val_accuracy: 0.6516\n",
            "Epoch 17/500\n",
            "39/39 [==============================] - 0s 2ms/step - loss: 0.8094 - accuracy: 0.6483 - val_loss: 0.8138 - val_accuracy: 0.6562\n",
            "Epoch 18/500\n",
            "39/39 [==============================] - 0s 3ms/step - loss: 0.8063 - accuracy: 0.6478 - val_loss: 0.8113 - val_accuracy: 0.6544\n",
            "Epoch 19/500\n",
            "39/39 [==============================] - 0s 3ms/step - loss: 0.8026 - accuracy: 0.6501 - val_loss: 0.8105 - val_accuracy: 0.6553\n",
            "Epoch 20/500\n",
            "39/39 [==============================] - 0s 3ms/step - loss: 0.7993 - accuracy: 0.6527 - val_loss: 0.8046 - val_accuracy: 0.6627\n",
            "Epoch 21/500\n",
            "39/39 [==============================] - 0s 3ms/step - loss: 0.7964 - accuracy: 0.6520 - val_loss: 0.8043 - val_accuracy: 0.6608\n",
            "Epoch 22/500\n",
            "39/39 [==============================] - 0s 3ms/step - loss: 0.7937 - accuracy: 0.6556 - val_loss: 0.8001 - val_accuracy: 0.6608\n",
            "Epoch 23/500\n",
            "39/39 [==============================] - 0s 3ms/step - loss: 0.7904 - accuracy: 0.6591 - val_loss: 0.7968 - val_accuracy: 0.6664\n",
            "Epoch 24/500\n",
            "39/39 [==============================] - 0s 3ms/step - loss: 0.7880 - accuracy: 0.6586 - val_loss: 0.7966 - val_accuracy: 0.6627\n",
            "Epoch 25/500\n",
            "39/39 [==============================] - 0s 3ms/step - loss: 0.7850 - accuracy: 0.6616 - val_loss: 0.7907 - val_accuracy: 0.6654\n",
            "Epoch 26/500\n",
            "39/39 [==============================] - 0s 2ms/step - loss: 0.7822 - accuracy: 0.6640 - val_loss: 0.7877 - val_accuracy: 0.6673\n",
            "Epoch 27/500\n",
            "39/39 [==============================] - 0s 3ms/step - loss: 0.7795 - accuracy: 0.6665 - val_loss: 0.7862 - val_accuracy: 0.6664\n",
            "Epoch 28/500\n",
            "39/39 [==============================] - 0s 3ms/step - loss: 0.7771 - accuracy: 0.6679 - val_loss: 0.7831 - val_accuracy: 0.6700\n",
            "Epoch 29/500\n",
            "39/39 [==============================] - 0s 3ms/step - loss: 0.7747 - accuracy: 0.6678 - val_loss: 0.7840 - val_accuracy: 0.6747\n",
            "Epoch 30/500\n",
            "39/39 [==============================] - 0s 3ms/step - loss: 0.7725 - accuracy: 0.6706 - val_loss: 0.7781 - val_accuracy: 0.6728\n",
            "Epoch 31/500\n",
            "39/39 [==============================] - 0s 3ms/step - loss: 0.7701 - accuracy: 0.6696 - val_loss: 0.7783 - val_accuracy: 0.6719\n",
            "Epoch 32/500\n",
            "39/39 [==============================] - 0s 3ms/step - loss: 0.7678 - accuracy: 0.6709 - val_loss: 0.7761 - val_accuracy: 0.6728\n",
            "Epoch 33/500\n",
            "39/39 [==============================] - 0s 3ms/step - loss: 0.7653 - accuracy: 0.6724 - val_loss: 0.7713 - val_accuracy: 0.6839\n",
            "Epoch 34/500\n",
            "39/39 [==============================] - 0s 3ms/step - loss: 0.7636 - accuracy: 0.6747 - val_loss: 0.7708 - val_accuracy: 0.6848\n",
            "Epoch 35/500\n",
            "39/39 [==============================] - 0s 3ms/step - loss: 0.7607 - accuracy: 0.6768 - val_loss: 0.7705 - val_accuracy: 0.6839\n",
            "Epoch 36/500\n",
            "39/39 [==============================] - 0s 3ms/step - loss: 0.7594 - accuracy: 0.6794 - val_loss: 0.7684 - val_accuracy: 0.6894\n",
            "Epoch 37/500\n",
            "39/39 [==============================] - 0s 3ms/step - loss: 0.7572 - accuracy: 0.6781 - val_loss: 0.7659 - val_accuracy: 0.6866\n",
            "Epoch 38/500\n",
            "39/39 [==============================] - 0s 3ms/step - loss: 0.7553 - accuracy: 0.6778 - val_loss: 0.7635 - val_accuracy: 0.6903\n",
            "Epoch 39/500\n",
            "39/39 [==============================] - 0s 2ms/step - loss: 0.7531 - accuracy: 0.6788 - val_loss: 0.7624 - val_accuracy: 0.6866\n",
            "Epoch 40/500\n",
            "39/39 [==============================] - 0s 3ms/step - loss: 0.7515 - accuracy: 0.6801 - val_loss: 0.7604 - val_accuracy: 0.6940\n",
            "Epoch 41/500\n",
            "39/39 [==============================] - 0s 3ms/step - loss: 0.7493 - accuracy: 0.6813 - val_loss: 0.7592 - val_accuracy: 0.6949\n",
            "Epoch 42/500\n",
            "39/39 [==============================] - 0s 3ms/step - loss: 0.7471 - accuracy: 0.6826 - val_loss: 0.7588 - val_accuracy: 0.6912\n",
            "Epoch 43/500\n",
            "39/39 [==============================] - 0s 3ms/step - loss: 0.7451 - accuracy: 0.6829 - val_loss: 0.7573 - val_accuracy: 0.6959\n",
            "Epoch 44/500\n",
            "39/39 [==============================] - 0s 3ms/step - loss: 0.7433 - accuracy: 0.6835 - val_loss: 0.7542 - val_accuracy: 0.6968\n",
            "Epoch 45/500\n",
            "39/39 [==============================] - 0s 3ms/step - loss: 0.7414 - accuracy: 0.6865 - val_loss: 0.7537 - val_accuracy: 0.6968\n",
            "Epoch 46/500\n",
            "39/39 [==============================] - 0s 3ms/step - loss: 0.7393 - accuracy: 0.6885 - val_loss: 0.7501 - val_accuracy: 0.7014\n",
            "Epoch 47/500\n",
            "39/39 [==============================] - 0s 3ms/step - loss: 0.7379 - accuracy: 0.6877 - val_loss: 0.7480 - val_accuracy: 0.7032\n",
            "Epoch 48/500\n",
            "39/39 [==============================] - 0s 2ms/step - loss: 0.7354 - accuracy: 0.6890 - val_loss: 0.7475 - val_accuracy: 0.7023\n",
            "Epoch 49/500\n",
            "39/39 [==============================] - 0s 3ms/step - loss: 0.7329 - accuracy: 0.6898 - val_loss: 0.7442 - val_accuracy: 0.7069\n",
            "Epoch 50/500\n",
            "39/39 [==============================] - 0s 3ms/step - loss: 0.7308 - accuracy: 0.6924 - val_loss: 0.7407 - val_accuracy: 0.7097\n",
            "Epoch 51/500\n",
            "39/39 [==============================] - 0s 3ms/step - loss: 0.7292 - accuracy: 0.6930 - val_loss: 0.7418 - val_accuracy: 0.7060\n",
            "Epoch 52/500\n",
            "39/39 [==============================] - 0s 3ms/step - loss: 0.7262 - accuracy: 0.6928 - val_loss: 0.7403 - val_accuracy: 0.7023\n",
            "Epoch 53/500\n",
            "39/39 [==============================] - 0s 4ms/step - loss: 0.7243 - accuracy: 0.6920 - val_loss: 0.7355 - val_accuracy: 0.7124\n",
            "Epoch 54/500\n",
            "39/39 [==============================] - 0s 4ms/step - loss: 0.7216 - accuracy: 0.6940 - val_loss: 0.7340 - val_accuracy: 0.7069\n",
            "Epoch 55/500\n",
            "39/39 [==============================] - 0s 4ms/step - loss: 0.7189 - accuracy: 0.6976 - val_loss: 0.7308 - val_accuracy: 0.7106\n",
            "Epoch 56/500\n",
            "39/39 [==============================] - 0s 4ms/step - loss: 0.7169 - accuracy: 0.6985 - val_loss: 0.7307 - val_accuracy: 0.7032\n",
            "Epoch 57/500\n",
            "39/39 [==============================] - 0s 4ms/step - loss: 0.7150 - accuracy: 0.6991 - val_loss: 0.7268 - val_accuracy: 0.7171\n",
            "Epoch 58/500\n",
            "39/39 [==============================] - 0s 4ms/step - loss: 0.7131 - accuracy: 0.6988 - val_loss: 0.7260 - val_accuracy: 0.7115\n",
            "Epoch 59/500\n",
            "39/39 [==============================] - 0s 4ms/step - loss: 0.7104 - accuracy: 0.7020 - val_loss: 0.7220 - val_accuracy: 0.7106\n",
            "Epoch 60/500\n",
            "39/39 [==============================] - 0s 4ms/step - loss: 0.7076 - accuracy: 0.7050 - val_loss: 0.7200 - val_accuracy: 0.7134\n",
            "Epoch 61/500\n",
            "39/39 [==============================] - 0s 4ms/step - loss: 0.7046 - accuracy: 0.7052 - val_loss: 0.7170 - val_accuracy: 0.7134\n",
            "Epoch 62/500\n",
            "39/39 [==============================] - 0s 4ms/step - loss: 0.7026 - accuracy: 0.7052 - val_loss: 0.7152 - val_accuracy: 0.7207\n",
            "Epoch 63/500\n",
            "39/39 [==============================] - 0s 3ms/step - loss: 0.7013 - accuracy: 0.7078 - val_loss: 0.7142 - val_accuracy: 0.7207\n",
            "Epoch 64/500\n",
            "39/39 [==============================] - 0s 3ms/step - loss: 0.6983 - accuracy: 0.7075 - val_loss: 0.7108 - val_accuracy: 0.7171\n",
            "Epoch 65/500\n",
            "39/39 [==============================] - 0s 3ms/step - loss: 0.6953 - accuracy: 0.7069 - val_loss: 0.7083 - val_accuracy: 0.7180\n",
            "Epoch 66/500\n",
            "39/39 [==============================] - 0s 3ms/step - loss: 0.6933 - accuracy: 0.7105 - val_loss: 0.7058 - val_accuracy: 0.7226\n",
            "Epoch 67/500\n",
            "39/39 [==============================] - 0s 4ms/step - loss: 0.6908 - accuracy: 0.7099 - val_loss: 0.7069 - val_accuracy: 0.7171\n",
            "Epoch 68/500\n",
            "39/39 [==============================] - 0s 4ms/step - loss: 0.6891 - accuracy: 0.7119 - val_loss: 0.7031 - val_accuracy: 0.7217\n",
            "Epoch 69/500\n",
            "39/39 [==============================] - 0s 4ms/step - loss: 0.6885 - accuracy: 0.7127 - val_loss: 0.7014 - val_accuracy: 0.7217\n",
            "Epoch 70/500\n",
            "39/39 [==============================] - 0s 4ms/step - loss: 0.6854 - accuracy: 0.7132 - val_loss: 0.7008 - val_accuracy: 0.7207\n",
            "Epoch 71/500\n",
            "39/39 [==============================] - 0s 4ms/step - loss: 0.6837 - accuracy: 0.7132 - val_loss: 0.7020 - val_accuracy: 0.7207\n",
            "Epoch 72/500\n",
            "39/39 [==============================] - 0s 3ms/step - loss: 0.6820 - accuracy: 0.7144 - val_loss: 0.6979 - val_accuracy: 0.7217\n",
            "Epoch 73/500\n",
            "39/39 [==============================] - 0s 3ms/step - loss: 0.6803 - accuracy: 0.7150 - val_loss: 0.6968 - val_accuracy: 0.7217\n",
            "Epoch 74/500\n",
            "39/39 [==============================] - 0s 3ms/step - loss: 0.6793 - accuracy: 0.7127 - val_loss: 0.6948 - val_accuracy: 0.7207\n",
            "Epoch 75/500\n",
            "39/39 [==============================] - 0s 2ms/step - loss: 0.6771 - accuracy: 0.7167 - val_loss: 0.6910 - val_accuracy: 0.7226\n",
            "Epoch 76/500\n",
            "39/39 [==============================] - 0s 3ms/step - loss: 0.6755 - accuracy: 0.7188 - val_loss: 0.6923 - val_accuracy: 0.7207\n",
            "Epoch 77/500\n",
            "39/39 [==============================] - 0s 3ms/step - loss: 0.6747 - accuracy: 0.7156 - val_loss: 0.6918 - val_accuracy: 0.7226\n",
            "Epoch 78/500\n",
            "39/39 [==============================] - 0s 3ms/step - loss: 0.6733 - accuracy: 0.7181 - val_loss: 0.6894 - val_accuracy: 0.7235\n",
            "Epoch 79/500\n",
            "39/39 [==============================] - 0s 3ms/step - loss: 0.6721 - accuracy: 0.7168 - val_loss: 0.6877 - val_accuracy: 0.7253\n",
            "Epoch 80/500\n",
            "39/39 [==============================] - 0s 3ms/step - loss: 0.6711 - accuracy: 0.7185 - val_loss: 0.6859 - val_accuracy: 0.7198\n",
            "Epoch 81/500\n",
            "39/39 [==============================] - 0s 3ms/step - loss: 0.6703 - accuracy: 0.7189 - val_loss: 0.6851 - val_accuracy: 0.7244\n",
            "Epoch 82/500\n",
            "39/39 [==============================] - 0s 3ms/step - loss: 0.6690 - accuracy: 0.7191 - val_loss: 0.6857 - val_accuracy: 0.7253\n",
            "Epoch 83/500\n",
            "39/39 [==============================] - 0s 3ms/step - loss: 0.6681 - accuracy: 0.7180 - val_loss: 0.6837 - val_accuracy: 0.7272\n",
            "Epoch 84/500\n",
            "39/39 [==============================] - 0s 3ms/step - loss: 0.6672 - accuracy: 0.7220 - val_loss: 0.6808 - val_accuracy: 0.7263\n",
            "Epoch 85/500\n",
            "39/39 [==============================] - 0s 3ms/step - loss: 0.6661 - accuracy: 0.7221 - val_loss: 0.6815 - val_accuracy: 0.7281\n",
            "Epoch 86/500\n",
            "39/39 [==============================] - 0s 3ms/step - loss: 0.6649 - accuracy: 0.7209 - val_loss: 0.6818 - val_accuracy: 0.7290\n",
            "Epoch 87/500\n",
            "39/39 [==============================] - 0s 3ms/step - loss: 0.6641 - accuracy: 0.7205 - val_loss: 0.6808 - val_accuracy: 0.7309\n",
            "Epoch 88/500\n",
            "39/39 [==============================] - 0s 3ms/step - loss: 0.6630 - accuracy: 0.7210 - val_loss: 0.6840 - val_accuracy: 0.7272\n",
            "Epoch 89/500\n",
            "39/39 [==============================] - 0s 3ms/step - loss: 0.6637 - accuracy: 0.7233 - val_loss: 0.6813 - val_accuracy: 0.7263\n",
            "Epoch 90/500\n",
            "39/39 [==============================] - 0s 3ms/step - loss: 0.6620 - accuracy: 0.7251 - val_loss: 0.6771 - val_accuracy: 0.7318\n",
            "Epoch 91/500\n",
            "39/39 [==============================] - 0s 3ms/step - loss: 0.6607 - accuracy: 0.7232 - val_loss: 0.6799 - val_accuracy: 0.7309\n",
            "Epoch 92/500\n",
            "39/39 [==============================] - 0s 3ms/step - loss: 0.6600 - accuracy: 0.7262 - val_loss: 0.6780 - val_accuracy: 0.7290\n",
            "Epoch 93/500\n",
            "39/39 [==============================] - 0s 3ms/step - loss: 0.6594 - accuracy: 0.7250 - val_loss: 0.6771 - val_accuracy: 0.7318\n",
            "Epoch 94/500\n",
            "39/39 [==============================] - 0s 3ms/step - loss: 0.6588 - accuracy: 0.7249 - val_loss: 0.6733 - val_accuracy: 0.7300\n",
            "Epoch 95/500\n",
            "39/39 [==============================] - 0s 3ms/step - loss: 0.6582 - accuracy: 0.7237 - val_loss: 0.6734 - val_accuracy: 0.7346\n",
            "Epoch 96/500\n",
            "39/39 [==============================] - 0s 3ms/step - loss: 0.6569 - accuracy: 0.7257 - val_loss: 0.6732 - val_accuracy: 0.7318\n",
            "Epoch 97/500\n",
            "39/39 [==============================] - 0s 3ms/step - loss: 0.6567 - accuracy: 0.7258 - val_loss: 0.6720 - val_accuracy: 0.7336\n",
            "Epoch 98/500\n",
            "39/39 [==============================] - 0s 3ms/step - loss: 0.6558 - accuracy: 0.7264 - val_loss: 0.6741 - val_accuracy: 0.7253\n",
            "Epoch 99/500\n",
            "39/39 [==============================] - 0s 3ms/step - loss: 0.6554 - accuracy: 0.7263 - val_loss: 0.6715 - val_accuracy: 0.7355\n",
            "Epoch 100/500\n",
            "39/39 [==============================] - 0s 3ms/step - loss: 0.6546 - accuracy: 0.7271 - val_loss: 0.6712 - val_accuracy: 0.7336\n",
            "Epoch 101/500\n",
            "39/39 [==============================] - 0s 3ms/step - loss: 0.6549 - accuracy: 0.7274 - val_loss: 0.6720 - val_accuracy: 0.7327\n",
            "Epoch 102/500\n",
            "39/39 [==============================] - 0s 3ms/step - loss: 0.6539 - accuracy: 0.7276 - val_loss: 0.6706 - val_accuracy: 0.7290\n",
            "Epoch 103/500\n",
            "39/39 [==============================] - 0s 3ms/step - loss: 0.6538 - accuracy: 0.7272 - val_loss: 0.6682 - val_accuracy: 0.7382\n",
            "Epoch 104/500\n",
            "39/39 [==============================] - 0s 2ms/step - loss: 0.6526 - accuracy: 0.7272 - val_loss: 0.6672 - val_accuracy: 0.7355\n",
            "Epoch 105/500\n",
            "39/39 [==============================] - 0s 3ms/step - loss: 0.6525 - accuracy: 0.7275 - val_loss: 0.6714 - val_accuracy: 0.7309\n",
            "Epoch 106/500\n",
            "39/39 [==============================] - 0s 3ms/step - loss: 0.6518 - accuracy: 0.7273 - val_loss: 0.6665 - val_accuracy: 0.7410\n",
            "Epoch 107/500\n",
            "39/39 [==============================] - 0s 3ms/step - loss: 0.6513 - accuracy: 0.7272 - val_loss: 0.6686 - val_accuracy: 0.7419\n",
            "Epoch 108/500\n",
            "39/39 [==============================] - 0s 3ms/step - loss: 0.6519 - accuracy: 0.7272 - val_loss: 0.6676 - val_accuracy: 0.7272\n",
            "Epoch 109/500\n",
            "39/39 [==============================] - 0s 3ms/step - loss: 0.6503 - accuracy: 0.7286 - val_loss: 0.6641 - val_accuracy: 0.7438\n",
            "Epoch 110/500\n",
            "39/39 [==============================] - 0s 3ms/step - loss: 0.6493 - accuracy: 0.7292 - val_loss: 0.6671 - val_accuracy: 0.7327\n",
            "Epoch 111/500\n",
            "39/39 [==============================] - 0s 3ms/step - loss: 0.6493 - accuracy: 0.7265 - val_loss: 0.6651 - val_accuracy: 0.7327\n",
            "Epoch 112/500\n",
            "39/39 [==============================] - 0s 3ms/step - loss: 0.6487 - accuracy: 0.7254 - val_loss: 0.6637 - val_accuracy: 0.7401\n",
            "Epoch 113/500\n",
            "39/39 [==============================] - 0s 3ms/step - loss: 0.6481 - accuracy: 0.7294 - val_loss: 0.6676 - val_accuracy: 0.7364\n",
            "Epoch 114/500\n",
            "39/39 [==============================] - 0s 3ms/step - loss: 0.6479 - accuracy: 0.7285 - val_loss: 0.6647 - val_accuracy: 0.7300\n",
            "Epoch 115/500\n",
            "39/39 [==============================] - 0s 3ms/step - loss: 0.6471 - accuracy: 0.7300 - val_loss: 0.6622 - val_accuracy: 0.7392\n",
            "Epoch 116/500\n",
            "39/39 [==============================] - 0s 3ms/step - loss: 0.6469 - accuracy: 0.7289 - val_loss: 0.6641 - val_accuracy: 0.7272\n",
            "Epoch 117/500\n",
            "39/39 [==============================] - 0s 3ms/step - loss: 0.6466 - accuracy: 0.7285 - val_loss: 0.6638 - val_accuracy: 0.7373\n",
            "Epoch 118/500\n",
            "39/39 [==============================] - 0s 2ms/step - loss: 0.6463 - accuracy: 0.7312 - val_loss: 0.6629 - val_accuracy: 0.7355\n",
            "Epoch 119/500\n",
            "39/39 [==============================] - 0s 3ms/step - loss: 0.6450 - accuracy: 0.7296 - val_loss: 0.6616 - val_accuracy: 0.7373\n",
            "Epoch 120/500\n",
            "39/39 [==============================] - 0s 3ms/step - loss: 0.6449 - accuracy: 0.7319 - val_loss: 0.6624 - val_accuracy: 0.7309\n",
            "Epoch 121/500\n",
            "39/39 [==============================] - 0s 4ms/step - loss: 0.6441 - accuracy: 0.7315 - val_loss: 0.6587 - val_accuracy: 0.7373\n",
            "Epoch 122/500\n",
            "39/39 [==============================] - 0s 4ms/step - loss: 0.6450 - accuracy: 0.7302 - val_loss: 0.6588 - val_accuracy: 0.7373\n",
            "Epoch 123/500\n",
            "39/39 [==============================] - 0s 4ms/step - loss: 0.6441 - accuracy: 0.7323 - val_loss: 0.6604 - val_accuracy: 0.7327\n",
            "Epoch 124/500\n",
            "39/39 [==============================] - 0s 3ms/step - loss: 0.6437 - accuracy: 0.7298 - val_loss: 0.6609 - val_accuracy: 0.7364\n",
            "Epoch 125/500\n",
            "39/39 [==============================] - 0s 4ms/step - loss: 0.6425 - accuracy: 0.7296 - val_loss: 0.6617 - val_accuracy: 0.7401\n",
            "Epoch 126/500\n",
            "39/39 [==============================] - 0s 4ms/step - loss: 0.6420 - accuracy: 0.7299 - val_loss: 0.6574 - val_accuracy: 0.7392\n",
            "Epoch 127/500\n",
            "39/39 [==============================] - 0s 4ms/step - loss: 0.6421 - accuracy: 0.7323 - val_loss: 0.6597 - val_accuracy: 0.7382\n",
            "Epoch 128/500\n",
            "39/39 [==============================] - 0s 4ms/step - loss: 0.6412 - accuracy: 0.7315 - val_loss: 0.6581 - val_accuracy: 0.7336\n",
            "Epoch 129/500\n",
            "39/39 [==============================] - 0s 4ms/step - loss: 0.6422 - accuracy: 0.7303 - val_loss: 0.6584 - val_accuracy: 0.7355\n",
            "Epoch 130/500\n",
            "39/39 [==============================] - 0s 3ms/step - loss: 0.6411 - accuracy: 0.7312 - val_loss: 0.6591 - val_accuracy: 0.7355\n",
            "Epoch 131/500\n",
            "39/39 [==============================] - 0s 4ms/step - loss: 0.6403 - accuracy: 0.7321 - val_loss: 0.6592 - val_accuracy: 0.7382\n",
            "Epoch 132/500\n",
            "39/39 [==============================] - 0s 4ms/step - loss: 0.6402 - accuracy: 0.7307 - val_loss: 0.6572 - val_accuracy: 0.7419\n",
            "Epoch 133/500\n",
            "39/39 [==============================] - 0s 4ms/step - loss: 0.6395 - accuracy: 0.7323 - val_loss: 0.6577 - val_accuracy: 0.7382\n",
            "Epoch 134/500\n",
            "39/39 [==============================] - 0s 5ms/step - loss: 0.6392 - accuracy: 0.7317 - val_loss: 0.6562 - val_accuracy: 0.7392\n",
            "Epoch 135/500\n",
            "39/39 [==============================] - 0s 4ms/step - loss: 0.6386 - accuracy: 0.7310 - val_loss: 0.6552 - val_accuracy: 0.7373\n",
            "Epoch 136/500\n",
            "39/39 [==============================] - 0s 4ms/step - loss: 0.6386 - accuracy: 0.7321 - val_loss: 0.6573 - val_accuracy: 0.7401\n",
            "Epoch 137/500\n",
            "39/39 [==============================] - 0s 4ms/step - loss: 0.6389 - accuracy: 0.7313 - val_loss: 0.6609 - val_accuracy: 0.7327\n",
            "Epoch 138/500\n",
            "39/39 [==============================] - 0s 4ms/step - loss: 0.6379 - accuracy: 0.7333 - val_loss: 0.6567 - val_accuracy: 0.7373\n",
            "Epoch 139/500\n",
            "39/39 [==============================] - 0s 3ms/step - loss: 0.6369 - accuracy: 0.7314 - val_loss: 0.6537 - val_accuracy: 0.7382\n",
            "Epoch 140/500\n",
            "39/39 [==============================] - 0s 3ms/step - loss: 0.6369 - accuracy: 0.7313 - val_loss: 0.6542 - val_accuracy: 0.7429\n",
            "Epoch 141/500\n",
            "39/39 [==============================] - 0s 3ms/step - loss: 0.6378 - accuracy: 0.7325 - val_loss: 0.6544 - val_accuracy: 0.7410\n",
            "Epoch 142/500\n",
            "39/39 [==============================] - 0s 3ms/step - loss: 0.6363 - accuracy: 0.7328 - val_loss: 0.6519 - val_accuracy: 0.7419\n",
            "Epoch 143/500\n",
            "39/39 [==============================] - 0s 3ms/step - loss: 0.6373 - accuracy: 0.7316 - val_loss: 0.6533 - val_accuracy: 0.7373\n",
            "Epoch 144/500\n",
            "39/39 [==============================] - 0s 3ms/step - loss: 0.6355 - accuracy: 0.7337 - val_loss: 0.6528 - val_accuracy: 0.7419\n",
            "Epoch 145/500\n",
            "39/39 [==============================] - 0s 3ms/step - loss: 0.6366 - accuracy: 0.7321 - val_loss: 0.6529 - val_accuracy: 0.7364\n",
            "Epoch 146/500\n",
            "39/39 [==============================] - 0s 3ms/step - loss: 0.6356 - accuracy: 0.7328 - val_loss: 0.6514 - val_accuracy: 0.7447\n",
            "Epoch 147/500\n",
            "39/39 [==============================] - 0s 3ms/step - loss: 0.6347 - accuracy: 0.7335 - val_loss: 0.6490 - val_accuracy: 0.7401\n",
            "Epoch 148/500\n",
            "39/39 [==============================] - 0s 3ms/step - loss: 0.6338 - accuracy: 0.7335 - val_loss: 0.6566 - val_accuracy: 0.7401\n",
            "Epoch 149/500\n",
            "39/39 [==============================] - 0s 3ms/step - loss: 0.6351 - accuracy: 0.7342 - val_loss: 0.6533 - val_accuracy: 0.7438\n",
            "Epoch 150/500\n",
            "39/39 [==============================] - 0s 3ms/step - loss: 0.6337 - accuracy: 0.7324 - val_loss: 0.6508 - val_accuracy: 0.7373\n",
            "Epoch 151/500\n",
            "39/39 [==============================] - 0s 3ms/step - loss: 0.6332 - accuracy: 0.7348 - val_loss: 0.6497 - val_accuracy: 0.7429\n",
            "Epoch 152/500\n",
            "39/39 [==============================] - 0s 4ms/step - loss: 0.6330 - accuracy: 0.7333 - val_loss: 0.6488 - val_accuracy: 0.7419\n",
            "Epoch 153/500\n",
            "39/39 [==============================] - 0s 4ms/step - loss: 0.6327 - accuracy: 0.7353 - val_loss: 0.6488 - val_accuracy: 0.7401\n",
            "Epoch 154/500\n",
            "39/39 [==============================] - 0s 4ms/step - loss: 0.6324 - accuracy: 0.7330 - val_loss: 0.6527 - val_accuracy: 0.7382\n",
            "Epoch 155/500\n",
            "39/39 [==============================] - 0s 4ms/step - loss: 0.6320 - accuracy: 0.7351 - val_loss: 0.6533 - val_accuracy: 0.7346\n",
            "Epoch 156/500\n",
            "39/39 [==============================] - 0s 4ms/step - loss: 0.6313 - accuracy: 0.7350 - val_loss: 0.6522 - val_accuracy: 0.7364\n",
            "Epoch 157/500\n",
            "39/39 [==============================] - 0s 4ms/step - loss: 0.6312 - accuracy: 0.7342 - val_loss: 0.6493 - val_accuracy: 0.7429\n",
            "Epoch 158/500\n",
            "39/39 [==============================] - 0s 3ms/step - loss: 0.6311 - accuracy: 0.7364 - val_loss: 0.6538 - val_accuracy: 0.7327\n",
            "Epoch 159/500\n",
            "39/39 [==============================] - 0s 4ms/step - loss: 0.6304 - accuracy: 0.7341 - val_loss: 0.6469 - val_accuracy: 0.7456\n",
            "Epoch 160/500\n",
            "39/39 [==============================] - 0s 4ms/step - loss: 0.6301 - accuracy: 0.7346 - val_loss: 0.6460 - val_accuracy: 0.7419\n",
            "Epoch 161/500\n",
            "39/39 [==============================] - 0s 4ms/step - loss: 0.6299 - accuracy: 0.7353 - val_loss: 0.6471 - val_accuracy: 0.7429\n",
            "Epoch 162/500\n",
            "39/39 [==============================] - 0s 4ms/step - loss: 0.6298 - accuracy: 0.7350 - val_loss: 0.6494 - val_accuracy: 0.7401\n",
            "Epoch 163/500\n",
            "39/39 [==============================] - 0s 4ms/step - loss: 0.6289 - accuracy: 0.7347 - val_loss: 0.6519 - val_accuracy: 0.7373\n",
            "Epoch 164/500\n",
            "39/39 [==============================] - 0s 4ms/step - loss: 0.6299 - accuracy: 0.7357 - val_loss: 0.6530 - val_accuracy: 0.7373\n",
            "Epoch 165/500\n",
            "39/39 [==============================] - 0s 3ms/step - loss: 0.6282 - accuracy: 0.7320 - val_loss: 0.6465 - val_accuracy: 0.7419\n",
            "Epoch 166/500\n",
            "39/39 [==============================] - 0s 4ms/step - loss: 0.6278 - accuracy: 0.7343 - val_loss: 0.6457 - val_accuracy: 0.7447\n",
            "Epoch 167/500\n",
            "39/39 [==============================] - 0s 4ms/step - loss: 0.6277 - accuracy: 0.7366 - val_loss: 0.6452 - val_accuracy: 0.7401\n",
            "Epoch 168/500\n",
            "39/39 [==============================] - 0s 4ms/step - loss: 0.6281 - accuracy: 0.7343 - val_loss: 0.6446 - val_accuracy: 0.7429\n",
            "Epoch 169/500\n",
            "39/39 [==============================] - 0s 4ms/step - loss: 0.6272 - accuracy: 0.7366 - val_loss: 0.6444 - val_accuracy: 0.7438\n",
            "Epoch 170/500\n",
            "39/39 [==============================] - 0s 4ms/step - loss: 0.6276 - accuracy: 0.7356 - val_loss: 0.6444 - val_accuracy: 0.7410\n",
            "Epoch 171/500\n",
            "39/39 [==============================] - 0s 3ms/step - loss: 0.6269 - accuracy: 0.7342 - val_loss: 0.6449 - val_accuracy: 0.7392\n",
            "Epoch 172/500\n",
            "39/39 [==============================] - 0s 3ms/step - loss: 0.6263 - accuracy: 0.7367 - val_loss: 0.6430 - val_accuracy: 0.7438\n",
            "Epoch 173/500\n",
            "39/39 [==============================] - 0s 3ms/step - loss: 0.6262 - accuracy: 0.7366 - val_loss: 0.6464 - val_accuracy: 0.7419\n",
            "Epoch 174/500\n",
            "39/39 [==============================] - 0s 2ms/step - loss: 0.6261 - accuracy: 0.7373 - val_loss: 0.6430 - val_accuracy: 0.7438\n",
            "Epoch 175/500\n",
            "39/39 [==============================] - 0s 3ms/step - loss: 0.6251 - accuracy: 0.7356 - val_loss: 0.6463 - val_accuracy: 0.7419\n",
            "Epoch 176/500\n",
            "39/39 [==============================] - 0s 3ms/step - loss: 0.6262 - accuracy: 0.7368 - val_loss: 0.6433 - val_accuracy: 0.7447\n",
            "Epoch 177/500\n",
            "39/39 [==============================] - 0s 3ms/step - loss: 0.6253 - accuracy: 0.7359 - val_loss: 0.6445 - val_accuracy: 0.7401\n",
            "Epoch 178/500\n",
            "39/39 [==============================] - 0s 3ms/step - loss: 0.6246 - accuracy: 0.7382 - val_loss: 0.6452 - val_accuracy: 0.7438\n",
            "Epoch 179/500\n",
            "39/39 [==============================] - 0s 3ms/step - loss: 0.6250 - accuracy: 0.7354 - val_loss: 0.6427 - val_accuracy: 0.7419\n",
            "Epoch 180/500\n",
            "39/39 [==============================] - 0s 3ms/step - loss: 0.6243 - accuracy: 0.7373 - val_loss: 0.6409 - val_accuracy: 0.7429\n",
            "Epoch 181/500\n",
            "39/39 [==============================] - 0s 3ms/step - loss: 0.6241 - accuracy: 0.7353 - val_loss: 0.6427 - val_accuracy: 0.7456\n",
            "Epoch 182/500\n",
            "39/39 [==============================] - 0s 3ms/step - loss: 0.6244 - accuracy: 0.7367 - val_loss: 0.6447 - val_accuracy: 0.7438\n",
            "Epoch 183/500\n",
            "39/39 [==============================] - 0s 3ms/step - loss: 0.6233 - accuracy: 0.7369 - val_loss: 0.6403 - val_accuracy: 0.7475\n",
            "Epoch 184/500\n",
            "39/39 [==============================] - 0s 3ms/step - loss: 0.6237 - accuracy: 0.7384 - val_loss: 0.6451 - val_accuracy: 0.7419\n",
            "Epoch 185/500\n",
            "39/39 [==============================] - 0s 3ms/step - loss: 0.6230 - accuracy: 0.7391 - val_loss: 0.6421 - val_accuracy: 0.7438\n",
            "Epoch 186/500\n",
            "39/39 [==============================] - 0s 3ms/step - loss: 0.6223 - accuracy: 0.7370 - val_loss: 0.6408 - val_accuracy: 0.7456\n",
            "Epoch 187/500\n",
            "39/39 [==============================] - 0s 3ms/step - loss: 0.6231 - accuracy: 0.7379 - val_loss: 0.6424 - val_accuracy: 0.7419\n",
            "Epoch 188/500\n",
            "39/39 [==============================] - 0s 3ms/step - loss: 0.6235 - accuracy: 0.7396 - val_loss: 0.6473 - val_accuracy: 0.7410\n",
            "Epoch 189/500\n",
            "39/39 [==============================] - 0s 3ms/step - loss: 0.6235 - accuracy: 0.7405 - val_loss: 0.6411 - val_accuracy: 0.7484\n",
            "Epoch 190/500\n",
            "39/39 [==============================] - 0s 5ms/step - loss: 0.6212 - accuracy: 0.7404 - val_loss: 0.6446 - val_accuracy: 0.7447\n",
            "Epoch 191/500\n",
            "39/39 [==============================] - 0s 5ms/step - loss: 0.6208 - accuracy: 0.7399 - val_loss: 0.6423 - val_accuracy: 0.7475\n",
            "Epoch 192/500\n",
            "39/39 [==============================] - 0s 5ms/step - loss: 0.6211 - accuracy: 0.7387 - val_loss: 0.6434 - val_accuracy: 0.7493\n",
            "Epoch 193/500\n",
            "39/39 [==============================] - 0s 4ms/step - loss: 0.6213 - accuracy: 0.7404 - val_loss: 0.6426 - val_accuracy: 0.7475\n",
            "Epoch 194/500\n",
            "39/39 [==============================] - 0s 5ms/step - loss: 0.6206 - accuracy: 0.7389 - val_loss: 0.6383 - val_accuracy: 0.7475\n",
            "Epoch 195/500\n",
            "39/39 [==============================] - 0s 4ms/step - loss: 0.6201 - accuracy: 0.7421 - val_loss: 0.6418 - val_accuracy: 0.7447\n",
            "Epoch 196/500\n",
            "39/39 [==============================] - 0s 4ms/step - loss: 0.6197 - accuracy: 0.7412 - val_loss: 0.6411 - val_accuracy: 0.7465\n",
            "Epoch 197/500\n",
            "39/39 [==============================] - 0s 4ms/step - loss: 0.6198 - accuracy: 0.7408 - val_loss: 0.6426 - val_accuracy: 0.7419\n",
            "Epoch 198/500\n",
            "39/39 [==============================] - 0s 5ms/step - loss: 0.6190 - accuracy: 0.7415 - val_loss: 0.6401 - val_accuracy: 0.7475\n",
            "Epoch 199/500\n",
            "39/39 [==============================] - 0s 4ms/step - loss: 0.6194 - accuracy: 0.7417 - val_loss: 0.6401 - val_accuracy: 0.7456\n",
            "Epoch 200/500\n",
            "39/39 [==============================] - 0s 4ms/step - loss: 0.6188 - accuracy: 0.7408 - val_loss: 0.6401 - val_accuracy: 0.7475\n",
            "Epoch 201/500\n",
            "39/39 [==============================] - 0s 4ms/step - loss: 0.6182 - accuracy: 0.7398 - val_loss: 0.6381 - val_accuracy: 0.7502\n",
            "Epoch 202/500\n",
            "39/39 [==============================] - 0s 6ms/step - loss: 0.6180 - accuracy: 0.7400 - val_loss: 0.6448 - val_accuracy: 0.7447\n",
            "Epoch 203/500\n",
            "39/39 [==============================] - 0s 5ms/step - loss: 0.6183 - accuracy: 0.7433 - val_loss: 0.6415 - val_accuracy: 0.7475\n",
            "Epoch 204/500\n",
            "39/39 [==============================] - 0s 6ms/step - loss: 0.6182 - accuracy: 0.7412 - val_loss: 0.6407 - val_accuracy: 0.7456\n",
            "Epoch 205/500\n",
            "39/39 [==============================] - 0s 5ms/step - loss: 0.6183 - accuracy: 0.7400 - val_loss: 0.6405 - val_accuracy: 0.7502\n",
            "Epoch 206/500\n",
            "39/39 [==============================] - 0s 4ms/step - loss: 0.6177 - accuracy: 0.7433 - val_loss: 0.6416 - val_accuracy: 0.7438\n",
            "Epoch 207/500\n",
            "39/39 [==============================] - 0s 4ms/step - loss: 0.6179 - accuracy: 0.7429 - val_loss: 0.6431 - val_accuracy: 0.7438\n",
            "Epoch 208/500\n",
            "39/39 [==============================] - 0s 8ms/step - loss: 0.6172 - accuracy: 0.7419 - val_loss: 0.6417 - val_accuracy: 0.7456\n",
            "Epoch 209/500\n",
            "39/39 [==============================] - 0s 4ms/step - loss: 0.6169 - accuracy: 0.7421 - val_loss: 0.6388 - val_accuracy: 0.7456\n",
            "Epoch 210/500\n",
            "39/39 [==============================] - 0s 5ms/step - loss: 0.6167 - accuracy: 0.7427 - val_loss: 0.6388 - val_accuracy: 0.7493\n",
            "Epoch 211/500\n",
            "39/39 [==============================] - 0s 4ms/step - loss: 0.6164 - accuracy: 0.7423 - val_loss: 0.6416 - val_accuracy: 0.7447\n",
            "Epoch 212/500\n",
            "39/39 [==============================] - 0s 4ms/step - loss: 0.6164 - accuracy: 0.7452 - val_loss: 0.6426 - val_accuracy: 0.7456\n",
            "Epoch 213/500\n",
            "39/39 [==============================] - 0s 4ms/step - loss: 0.6161 - accuracy: 0.7441 - val_loss: 0.6409 - val_accuracy: 0.7438\n",
            "Epoch 214/500\n",
            "39/39 [==============================] - 0s 4ms/step - loss: 0.6158 - accuracy: 0.7449 - val_loss: 0.6420 - val_accuracy: 0.7512\n",
            "Epoch 215/500\n",
            "39/39 [==============================] - 0s 4ms/step - loss: 0.6159 - accuracy: 0.7453 - val_loss: 0.6388 - val_accuracy: 0.7456\n",
            "Epoch 216/500\n",
            "39/39 [==============================] - 0s 7ms/step - loss: 0.6157 - accuracy: 0.7437 - val_loss: 0.6413 - val_accuracy: 0.7484\n",
            "Epoch 217/500\n",
            "39/39 [==============================] - 0s 4ms/step - loss: 0.6157 - accuracy: 0.7435 - val_loss: 0.6397 - val_accuracy: 0.7438\n",
            "Epoch 218/500\n",
            "39/39 [==============================] - 0s 5ms/step - loss: 0.6147 - accuracy: 0.7464 - val_loss: 0.6407 - val_accuracy: 0.7382\n",
            "Epoch 219/500\n",
            "39/39 [==============================] - 0s 6ms/step - loss: 0.6146 - accuracy: 0.7454 - val_loss: 0.6424 - val_accuracy: 0.7456\n",
            "Epoch 220/500\n",
            "39/39 [==============================] - 0s 4ms/step - loss: 0.6152 - accuracy: 0.7448 - val_loss: 0.6416 - val_accuracy: 0.7447\n",
            "Epoch 221/500\n",
            "39/39 [==============================] - 0s 8ms/step - loss: 0.6144 - accuracy: 0.7449 - val_loss: 0.6411 - val_accuracy: 0.7410\n",
            "Epoch 222/500\n",
            "39/39 [==============================] - 0s 4ms/step - loss: 0.6143 - accuracy: 0.7467 - val_loss: 0.6423 - val_accuracy: 0.7438\n",
            "Epoch 223/500\n",
            "39/39 [==============================] - 0s 8ms/step - loss: 0.6136 - accuracy: 0.7479 - val_loss: 0.6364 - val_accuracy: 0.7419\n",
            "Epoch 224/500\n",
            "39/39 [==============================] - 0s 4ms/step - loss: 0.6142 - accuracy: 0.7467 - val_loss: 0.6363 - val_accuracy: 0.7438\n",
            "Epoch 225/500\n",
            "39/39 [==============================] - 0s 4ms/step - loss: 0.6135 - accuracy: 0.7466 - val_loss: 0.6384 - val_accuracy: 0.7419\n",
            "Epoch 226/500\n",
            "39/39 [==============================] - 0s 4ms/step - loss: 0.6133 - accuracy: 0.7454 - val_loss: 0.6354 - val_accuracy: 0.7438\n",
            "Epoch 227/500\n",
            "39/39 [==============================] - 0s 4ms/step - loss: 0.6133 - accuracy: 0.7436 - val_loss: 0.6395 - val_accuracy: 0.7429\n",
            "Epoch 228/500\n",
            "39/39 [==============================] - 0s 7ms/step - loss: 0.6134 - accuracy: 0.7454 - val_loss: 0.6371 - val_accuracy: 0.7392\n",
            "Epoch 229/500\n",
            "39/39 [==============================] - 0s 6ms/step - loss: 0.6135 - accuracy: 0.7454 - val_loss: 0.6352 - val_accuracy: 0.7392\n",
            "Epoch 230/500\n",
            "39/39 [==============================] - 0s 8ms/step - loss: 0.6140 - accuracy: 0.7447 - val_loss: 0.6374 - val_accuracy: 0.7392\n",
            "Epoch 231/500\n",
            "39/39 [==============================] - 0s 7ms/step - loss: 0.6128 - accuracy: 0.7473 - val_loss: 0.6373 - val_accuracy: 0.7392\n",
            "Epoch 232/500\n",
            "39/39 [==============================] - 0s 8ms/step - loss: 0.6125 - accuracy: 0.7465 - val_loss: 0.6364 - val_accuracy: 0.7392\n",
            "Epoch 233/500\n",
            "39/39 [==============================] - 0s 10ms/step - loss: 0.6125 - accuracy: 0.7477 - val_loss: 0.6357 - val_accuracy: 0.7456\n",
            "Epoch 234/500\n",
            "39/39 [==============================] - 0s 8ms/step - loss: 0.6127 - accuracy: 0.7446 - val_loss: 0.6424 - val_accuracy: 0.7465\n",
            "Epoch 235/500\n",
            "39/39 [==============================] - 0s 12ms/step - loss: 0.6124 - accuracy: 0.7464 - val_loss: 0.6372 - val_accuracy: 0.7465\n",
            "Epoch 236/500\n",
            "39/39 [==============================] - 0s 8ms/step - loss: 0.6124 - accuracy: 0.7459 - val_loss: 0.6368 - val_accuracy: 0.7401\n",
            "Epoch 237/500\n",
            "39/39 [==============================] - 0s 5ms/step - loss: 0.6113 - accuracy: 0.7467 - val_loss: 0.6354 - val_accuracy: 0.7410\n",
            "Epoch 238/500\n",
            "39/39 [==============================] - 0s 7ms/step - loss: 0.6116 - accuracy: 0.7478 - val_loss: 0.6378 - val_accuracy: 0.7465\n",
            "Epoch 239/500\n",
            "39/39 [==============================] - 0s 4ms/step - loss: 0.6119 - accuracy: 0.7455 - val_loss: 0.6372 - val_accuracy: 0.7419\n",
            "Epoch 240/500\n",
            "39/39 [==============================] - 0s 6ms/step - loss: 0.6114 - accuracy: 0.7467 - val_loss: 0.6380 - val_accuracy: 0.7438\n",
            "Epoch 241/500\n",
            "39/39 [==============================] - 0s 6ms/step - loss: 0.6116 - accuracy: 0.7481 - val_loss: 0.6392 - val_accuracy: 0.7429\n",
            "Epoch 242/500\n",
            "39/39 [==============================] - 0s 4ms/step - loss: 0.6112 - accuracy: 0.7477 - val_loss: 0.6354 - val_accuracy: 0.7438\n",
            "Epoch 243/500\n",
            "39/39 [==============================] - 0s 5ms/step - loss: 0.6117 - accuracy: 0.7472 - val_loss: 0.6363 - val_accuracy: 0.7373\n",
            "Epoch 244/500\n",
            "39/39 [==============================] - 0s 5ms/step - loss: 0.6112 - accuracy: 0.7454 - val_loss: 0.6372 - val_accuracy: 0.7429\n",
            "Epoch 245/500\n",
            "39/39 [==============================] - 0s 7ms/step - loss: 0.6107 - accuracy: 0.7473 - val_loss: 0.6366 - val_accuracy: 0.7401\n",
            "Epoch 246/500\n",
            "39/39 [==============================] - 0s 6ms/step - loss: 0.6109 - accuracy: 0.7480 - val_loss: 0.6371 - val_accuracy: 0.7401\n",
            "Epoch 247/500\n",
            "39/39 [==============================] - 0s 4ms/step - loss: 0.6107 - accuracy: 0.7468 - val_loss: 0.6358 - val_accuracy: 0.7484\n",
            "Epoch 248/500\n",
            "39/39 [==============================] - 0s 5ms/step - loss: 0.6100 - accuracy: 0.7485 - val_loss: 0.6367 - val_accuracy: 0.7429\n",
            "Epoch 249/500\n",
            "39/39 [==============================] - 0s 5ms/step - loss: 0.6108 - accuracy: 0.7476 - val_loss: 0.6367 - val_accuracy: 0.7447\n",
            "Epoch 250/500\n",
            "39/39 [==============================] - 0s 4ms/step - loss: 0.6100 - accuracy: 0.7479 - val_loss: 0.6418 - val_accuracy: 0.7410\n",
            "Epoch 251/500\n",
            "39/39 [==============================] - 0s 6ms/step - loss: 0.6104 - accuracy: 0.7456 - val_loss: 0.6344 - val_accuracy: 0.7456\n",
            "Epoch 252/500\n",
            "39/39 [==============================] - 0s 5ms/step - loss: 0.6104 - accuracy: 0.7475 - val_loss: 0.6377 - val_accuracy: 0.7429\n",
            "Epoch 253/500\n",
            "39/39 [==============================] - 0s 6ms/step - loss: 0.6101 - accuracy: 0.7477 - val_loss: 0.6365 - val_accuracy: 0.7419\n",
            "Epoch 254/500\n",
            "39/39 [==============================] - 0s 4ms/step - loss: 0.6096 - accuracy: 0.7473 - val_loss: 0.6377 - val_accuracy: 0.7438\n",
            "Epoch 255/500\n",
            "39/39 [==============================] - 0s 6ms/step - loss: 0.6096 - accuracy: 0.7460 - val_loss: 0.6369 - val_accuracy: 0.7429\n",
            "Epoch 256/500\n",
            "39/39 [==============================] - 0s 7ms/step - loss: 0.6095 - accuracy: 0.7498 - val_loss: 0.6372 - val_accuracy: 0.7447\n",
            "Epoch 257/500\n",
            "39/39 [==============================] - 0s 7ms/step - loss: 0.6095 - accuracy: 0.7456 - val_loss: 0.6368 - val_accuracy: 0.7429\n",
            "Epoch 258/500\n",
            "39/39 [==============================] - 0s 4ms/step - loss: 0.6094 - accuracy: 0.7491 - val_loss: 0.6400 - val_accuracy: 0.7447\n",
            "Epoch 259/500\n",
            "39/39 [==============================] - 0s 7ms/step - loss: 0.6093 - accuracy: 0.7456 - val_loss: 0.6351 - val_accuracy: 0.7429\n",
            "Epoch 260/500\n",
            "39/39 [==============================] - 0s 8ms/step - loss: 0.6090 - accuracy: 0.7460 - val_loss: 0.6328 - val_accuracy: 0.7456\n",
            "Epoch 261/500\n",
            "39/39 [==============================] - 0s 9ms/step - loss: 0.6087 - accuracy: 0.7468 - val_loss: 0.6372 - val_accuracy: 0.7447\n",
            "Epoch 262/500\n",
            "39/39 [==============================] - 0s 4ms/step - loss: 0.6082 - accuracy: 0.7471 - val_loss: 0.6366 - val_accuracy: 0.7484\n",
            "Epoch 263/500\n",
            "39/39 [==============================] - 0s 5ms/step - loss: 0.6084 - accuracy: 0.7486 - val_loss: 0.6377 - val_accuracy: 0.7438\n",
            "Epoch 264/500\n",
            "39/39 [==============================] - 0s 5ms/step - loss: 0.6086 - accuracy: 0.7472 - val_loss: 0.6336 - val_accuracy: 0.7419\n",
            "Epoch 265/500\n",
            "39/39 [==============================] - 0s 6ms/step - loss: 0.6093 - accuracy: 0.7481 - val_loss: 0.6343 - val_accuracy: 0.7419\n",
            "Epoch 266/500\n",
            "39/39 [==============================] - 0s 7ms/step - loss: 0.6083 - accuracy: 0.7486 - val_loss: 0.6353 - val_accuracy: 0.7475\n",
            "Epoch 267/500\n",
            "39/39 [==============================] - 0s 4ms/step - loss: 0.6085 - accuracy: 0.7482 - val_loss: 0.6342 - val_accuracy: 0.7447\n",
            "Epoch 268/500\n",
            "39/39 [==============================] - 0s 5ms/step - loss: 0.6076 - accuracy: 0.7487 - val_loss: 0.6377 - val_accuracy: 0.7456\n",
            "Epoch 269/500\n",
            "39/39 [==============================] - 0s 7ms/step - loss: 0.6083 - accuracy: 0.7469 - val_loss: 0.6363 - val_accuracy: 0.7465\n",
            "Epoch 270/500\n",
            "39/39 [==============================] - 0s 6ms/step - loss: 0.6078 - accuracy: 0.7480 - val_loss: 0.6330 - val_accuracy: 0.7429\n",
            "Epoch 271/500\n",
            "39/39 [==============================] - 0s 4ms/step - loss: 0.6080 - accuracy: 0.7506 - val_loss: 0.6345 - val_accuracy: 0.7447\n",
            "Epoch 272/500\n",
            "39/39 [==============================] - 0s 4ms/step - loss: 0.6086 - accuracy: 0.7470 - val_loss: 0.6336 - val_accuracy: 0.7447\n",
            "Epoch 273/500\n",
            "39/39 [==============================] - 0s 5ms/step - loss: 0.6078 - accuracy: 0.7480 - val_loss: 0.6384 - val_accuracy: 0.7475\n",
            "Epoch 274/500\n",
            "39/39 [==============================] - 0s 6ms/step - loss: 0.6075 - accuracy: 0.7482 - val_loss: 0.6366 - val_accuracy: 0.7493\n",
            "Epoch 275/500\n",
            "39/39 [==============================] - 0s 7ms/step - loss: 0.6074 - accuracy: 0.7482 - val_loss: 0.6365 - val_accuracy: 0.7475\n",
            "Epoch 276/500\n",
            "39/39 [==============================] - 0s 8ms/step - loss: 0.6076 - accuracy: 0.7477 - val_loss: 0.6348 - val_accuracy: 0.7456\n",
            "Epoch 277/500\n",
            "39/39 [==============================] - 0s 8ms/step - loss: 0.6071 - accuracy: 0.7465 - val_loss: 0.6351 - val_accuracy: 0.7438\n",
            "Epoch 278/500\n",
            "39/39 [==============================] - 0s 6ms/step - loss: 0.6065 - accuracy: 0.7471 - val_loss: 0.6396 - val_accuracy: 0.7447\n",
            "Epoch 279/500\n",
            "39/39 [==============================] - 0s 5ms/step - loss: 0.6072 - accuracy: 0.7466 - val_loss: 0.6351 - val_accuracy: 0.7447\n",
            "Epoch 280/500\n",
            "39/39 [==============================] - 0s 8ms/step - loss: 0.6060 - accuracy: 0.7482 - val_loss: 0.6367 - val_accuracy: 0.7475\n",
            "Epoch 281/500\n",
            "39/39 [==============================] - 0s 6ms/step - loss: 0.6074 - accuracy: 0.7469 - val_loss: 0.6372 - val_accuracy: 0.7465\n",
            "Epoch 282/500\n",
            "39/39 [==============================] - 0s 9ms/step - loss: 0.6076 - accuracy: 0.7473 - val_loss: 0.6342 - val_accuracy: 0.7521\n",
            "Epoch 283/500\n",
            "39/39 [==============================] - 0s 9ms/step - loss: 0.6064 - accuracy: 0.7490 - val_loss: 0.6357 - val_accuracy: 0.7419\n",
            "Epoch 284/500\n",
            "39/39 [==============================] - 0s 9ms/step - loss: 0.6072 - accuracy: 0.7492 - val_loss: 0.6341 - val_accuracy: 0.7456\n",
            "Epoch 285/500\n",
            "39/39 [==============================] - 0s 9ms/step - loss: 0.6068 - accuracy: 0.7478 - val_loss: 0.6340 - val_accuracy: 0.7447\n",
            "Epoch 286/500\n",
            "39/39 [==============================] - 0s 10ms/step - loss: 0.6065 - accuracy: 0.7491 - val_loss: 0.6336 - val_accuracy: 0.7447\n",
            "Epoch 287/500\n",
            "39/39 [==============================] - 0s 9ms/step - loss: 0.6066 - accuracy: 0.7480 - val_loss: 0.6329 - val_accuracy: 0.7447\n",
            "Epoch 288/500\n",
            "39/39 [==============================] - 0s 12ms/step - loss: 0.6069 - accuracy: 0.7485 - val_loss: 0.6329 - val_accuracy: 0.7548\n",
            "Epoch 289/500\n",
            "39/39 [==============================] - 0s 9ms/step - loss: 0.6072 - accuracy: 0.7443 - val_loss: 0.6329 - val_accuracy: 0.7493\n",
            "Epoch 290/500\n",
            "39/39 [==============================] - 0s 7ms/step - loss: 0.6062 - accuracy: 0.7476 - val_loss: 0.6345 - val_accuracy: 0.7484\n",
            "Epoch 291/500\n",
            "39/39 [==============================] - 0s 8ms/step - loss: 0.6056 - accuracy: 0.7475 - val_loss: 0.6347 - val_accuracy: 0.7456\n",
            "Epoch 292/500\n",
            "39/39 [==============================] - 0s 4ms/step - loss: 0.6058 - accuracy: 0.7489 - val_loss: 0.6342 - val_accuracy: 0.7475\n",
            "Epoch 293/500\n",
            "39/39 [==============================] - 0s 5ms/step - loss: 0.6066 - accuracy: 0.7489 - val_loss: 0.6354 - val_accuracy: 0.7484\n",
            "Epoch 294/500\n",
            "39/39 [==============================] - 0s 4ms/step - loss: 0.6057 - accuracy: 0.7483 - val_loss: 0.6366 - val_accuracy: 0.7512\n",
            "Epoch 295/500\n",
            "39/39 [==============================] - 0s 4ms/step - loss: 0.6048 - accuracy: 0.7478 - val_loss: 0.6350 - val_accuracy: 0.7493\n",
            "Epoch 296/500\n",
            "39/39 [==============================] - 0s 7ms/step - loss: 0.6053 - accuracy: 0.7495 - val_loss: 0.6361 - val_accuracy: 0.7475\n",
            "Epoch 297/500\n",
            "39/39 [==============================] - 0s 6ms/step - loss: 0.6056 - accuracy: 0.7480 - val_loss: 0.6334 - val_accuracy: 0.7475\n",
            "Epoch 298/500\n",
            "39/39 [==============================] - 0s 5ms/step - loss: 0.6055 - accuracy: 0.7472 - val_loss: 0.6347 - val_accuracy: 0.7438\n",
            "Epoch 299/500\n",
            "39/39 [==============================] - 0s 4ms/step - loss: 0.6052 - accuracy: 0.7479 - val_loss: 0.6351 - val_accuracy: 0.7475\n",
            "Epoch 300/500\n",
            "39/39 [==============================] - 0s 5ms/step - loss: 0.6048 - accuracy: 0.7472 - val_loss: 0.6347 - val_accuracy: 0.7493\n",
            "Epoch 301/500\n",
            "39/39 [==============================] - 0s 6ms/step - loss: 0.6051 - accuracy: 0.7471 - val_loss: 0.6342 - val_accuracy: 0.7438\n",
            "Epoch 302/500\n",
            "39/39 [==============================] - 0s 4ms/step - loss: 0.6048 - accuracy: 0.7479 - val_loss: 0.6362 - val_accuracy: 0.7484\n",
            "Epoch 303/500\n",
            "39/39 [==============================] - 0s 4ms/step - loss: 0.6048 - accuracy: 0.7507 - val_loss: 0.6330 - val_accuracy: 0.7539\n",
            "Epoch 304/500\n",
            "39/39 [==============================] - 0s 8ms/step - loss: 0.6057 - accuracy: 0.7488 - val_loss: 0.6348 - val_accuracy: 0.7438\n",
            "Epoch 305/500\n",
            "39/39 [==============================] - 0s 9ms/step - loss: 0.6044 - accuracy: 0.7492 - val_loss: 0.6360 - val_accuracy: 0.7475\n",
            "Epoch 306/500\n",
            "39/39 [==============================] - 0s 10ms/step - loss: 0.6049 - accuracy: 0.7481 - val_loss: 0.6394 - val_accuracy: 0.7447\n",
            "Epoch 307/500\n",
            "39/39 [==============================] - 0s 5ms/step - loss: 0.6051 - accuracy: 0.7473 - val_loss: 0.6369 - val_accuracy: 0.7475\n",
            "Epoch 308/500\n",
            "39/39 [==============================] - 0s 9ms/step - loss: 0.6057 - accuracy: 0.7469 - val_loss: 0.6393 - val_accuracy: 0.7456\n",
            "Epoch 309/500\n",
            "39/39 [==============================] - 0s 7ms/step - loss: 0.6045 - accuracy: 0.7480 - val_loss: 0.6332 - val_accuracy: 0.7438\n",
            "Epoch 310/500\n",
            "39/39 [==============================] - 0s 6ms/step - loss: 0.6044 - accuracy: 0.7495 - val_loss: 0.6363 - val_accuracy: 0.7475\n",
            "Epoch 311/500\n",
            "39/39 [==============================] - 0s 6ms/step - loss: 0.6049 - accuracy: 0.7471 - val_loss: 0.6357 - val_accuracy: 0.7512\n",
            "Epoch 312/500\n",
            "39/39 [==============================] - 0s 7ms/step - loss: 0.6047 - accuracy: 0.7483 - val_loss: 0.6381 - val_accuracy: 0.7502\n",
            "Epoch 313/500\n",
            "39/39 [==============================] - 0s 6ms/step - loss: 0.6043 - accuracy: 0.7497 - val_loss: 0.6382 - val_accuracy: 0.7493\n",
            "Epoch 314/500\n",
            "39/39 [==============================] - 0s 5ms/step - loss: 0.6056 - accuracy: 0.7478 - val_loss: 0.6364 - val_accuracy: 0.7484\n",
            "Epoch 315/500\n",
            "39/39 [==============================] - 0s 3ms/step - loss: 0.6047 - accuracy: 0.7470 - val_loss: 0.6340 - val_accuracy: 0.7530\n",
            "Epoch 316/500\n",
            "39/39 [==============================] - 0s 3ms/step - loss: 0.6045 - accuracy: 0.7466 - val_loss: 0.6349 - val_accuracy: 0.7484\n",
            "Epoch 317/500\n",
            "39/39 [==============================] - 0s 3ms/step - loss: 0.6042 - accuracy: 0.7494 - val_loss: 0.6354 - val_accuracy: 0.7484\n",
            "Epoch 318/500\n",
            "39/39 [==============================] - 0s 3ms/step - loss: 0.6036 - accuracy: 0.7482 - val_loss: 0.6339 - val_accuracy: 0.7456\n",
            "Epoch 319/500\n",
            "39/39 [==============================] - 0s 3ms/step - loss: 0.6035 - accuracy: 0.7497 - val_loss: 0.6337 - val_accuracy: 0.7502\n",
            "Epoch 320/500\n",
            "39/39 [==============================] - 0s 3ms/step - loss: 0.6050 - accuracy: 0.7463 - val_loss: 0.6375 - val_accuracy: 0.7484\n",
            "Epoch 321/500\n",
            "39/39 [==============================] - 0s 3ms/step - loss: 0.6034 - accuracy: 0.7493 - val_loss: 0.6367 - val_accuracy: 0.7539\n",
            "Epoch 322/500\n",
            "39/39 [==============================] - 0s 3ms/step - loss: 0.6036 - accuracy: 0.7475 - val_loss: 0.6353 - val_accuracy: 0.7521\n",
            "Epoch 323/500\n",
            "39/39 [==============================] - 0s 3ms/step - loss: 0.6029 - accuracy: 0.7478 - val_loss: 0.6350 - val_accuracy: 0.7530\n",
            "Epoch 324/500\n",
            "39/39 [==============================] - 0s 3ms/step - loss: 0.6033 - accuracy: 0.7503 - val_loss: 0.6318 - val_accuracy: 0.7530\n",
            "Epoch 325/500\n",
            "39/39 [==============================] - 0s 3ms/step - loss: 0.6031 - accuracy: 0.7488 - val_loss: 0.6314 - val_accuracy: 0.7548\n",
            "Epoch 326/500\n",
            "39/39 [==============================] - 0s 3ms/step - loss: 0.6036 - accuracy: 0.7494 - val_loss: 0.6311 - val_accuracy: 0.7530\n",
            "Epoch 327/500\n",
            "39/39 [==============================] - 0s 3ms/step - loss: 0.6044 - accuracy: 0.7495 - val_loss: 0.6334 - val_accuracy: 0.7530\n",
            "Epoch 328/500\n",
            "39/39 [==============================] - 0s 3ms/step - loss: 0.6030 - accuracy: 0.7485 - val_loss: 0.6358 - val_accuracy: 0.7539\n",
            "Epoch 329/500\n",
            "39/39 [==============================] - 0s 3ms/step - loss: 0.6035 - accuracy: 0.7473 - val_loss: 0.6350 - val_accuracy: 0.7493\n",
            "Epoch 330/500\n",
            "39/39 [==============================] - 0s 3ms/step - loss: 0.6030 - accuracy: 0.7491 - val_loss: 0.6336 - val_accuracy: 0.7502\n",
            "Epoch 331/500\n",
            "39/39 [==============================] - 0s 3ms/step - loss: 0.6030 - accuracy: 0.7486 - val_loss: 0.6315 - val_accuracy: 0.7548\n",
            "Epoch 332/500\n",
            "39/39 [==============================] - 0s 3ms/step - loss: 0.6043 - accuracy: 0.7497 - val_loss: 0.6349 - val_accuracy: 0.7512\n",
            "Epoch 333/500\n",
            "39/39 [==============================] - 0s 3ms/step - loss: 0.6023 - accuracy: 0.7487 - val_loss: 0.6359 - val_accuracy: 0.7465\n",
            "Epoch 334/500\n",
            "39/39 [==============================] - 0s 3ms/step - loss: 0.6034 - accuracy: 0.7482 - val_loss: 0.6344 - val_accuracy: 0.7493\n",
            "Epoch 335/500\n",
            "39/39 [==============================] - 0s 3ms/step - loss: 0.6033 - accuracy: 0.7499 - val_loss: 0.6349 - val_accuracy: 0.7530\n",
            "Epoch 336/500\n",
            "39/39 [==============================] - 0s 3ms/step - loss: 0.6032 - accuracy: 0.7502 - val_loss: 0.6321 - val_accuracy: 0.7530\n",
            "Epoch 337/500\n",
            "39/39 [==============================] - 0s 3ms/step - loss: 0.6034 - accuracy: 0.7507 - val_loss: 0.6362 - val_accuracy: 0.7521\n",
            "Epoch 338/500\n",
            "39/39 [==============================] - 0s 3ms/step - loss: 0.6023 - accuracy: 0.7501 - val_loss: 0.6344 - val_accuracy: 0.7475\n",
            "Epoch 339/500\n",
            "39/39 [==============================] - 0s 3ms/step - loss: 0.6026 - accuracy: 0.7506 - val_loss: 0.6347 - val_accuracy: 0.7502\n",
            "Epoch 340/500\n",
            "39/39 [==============================] - 0s 3ms/step - loss: 0.6019 - accuracy: 0.7492 - val_loss: 0.6387 - val_accuracy: 0.7484\n",
            "Epoch 341/500\n",
            "39/39 [==============================] - 0s 3ms/step - loss: 0.6028 - accuracy: 0.7479 - val_loss: 0.6332 - val_accuracy: 0.7530\n",
            "Epoch 342/500\n",
            "39/39 [==============================] - 0s 3ms/step - loss: 0.6020 - accuracy: 0.7485 - val_loss: 0.6317 - val_accuracy: 0.7585\n",
            "Epoch 343/500\n",
            "39/39 [==============================] - 0s 3ms/step - loss: 0.6024 - accuracy: 0.7494 - val_loss: 0.6388 - val_accuracy: 0.7512\n",
            "Epoch 344/500\n",
            "39/39 [==============================] - 0s 3ms/step - loss: 0.6016 - accuracy: 0.7490 - val_loss: 0.6338 - val_accuracy: 0.7456\n",
            "Epoch 345/500\n",
            "39/39 [==============================] - 0s 3ms/step - loss: 0.6024 - accuracy: 0.7488 - val_loss: 0.6337 - val_accuracy: 0.7521\n",
            "Epoch 346/500\n",
            "39/39 [==============================] - 0s 3ms/step - loss: 0.6020 - accuracy: 0.7485 - val_loss: 0.6338 - val_accuracy: 0.7530\n",
            "Epoch 347/500\n",
            "39/39 [==============================] - 0s 3ms/step - loss: 0.6017 - accuracy: 0.7502 - val_loss: 0.6334 - val_accuracy: 0.7539\n",
            "Epoch 348/500\n",
            "39/39 [==============================] - 0s 3ms/step - loss: 0.6016 - accuracy: 0.7498 - val_loss: 0.6360 - val_accuracy: 0.7558\n",
            "Epoch 349/500\n",
            "39/39 [==============================] - 0s 3ms/step - loss: 0.6024 - accuracy: 0.7474 - val_loss: 0.6357 - val_accuracy: 0.7521\n",
            "Epoch 350/500\n",
            "39/39 [==============================] - 0s 5ms/step - loss: 0.6021 - accuracy: 0.7506 - val_loss: 0.6330 - val_accuracy: 0.7548\n",
            "Epoch 351/500\n",
            "39/39 [==============================] - 0s 4ms/step - loss: 0.6018 - accuracy: 0.7486 - val_loss: 0.6369 - val_accuracy: 0.7530\n",
            "Epoch 352/500\n",
            "39/39 [==============================] - 0s 4ms/step - loss: 0.6015 - accuracy: 0.7480 - val_loss: 0.6344 - val_accuracy: 0.7530\n",
            "Epoch 353/500\n",
            "39/39 [==============================] - 0s 4ms/step - loss: 0.6016 - accuracy: 0.7506 - val_loss: 0.6325 - val_accuracy: 0.7576\n",
            "Epoch 354/500\n",
            "39/39 [==============================] - 0s 4ms/step - loss: 0.6017 - accuracy: 0.7502 - val_loss: 0.6367 - val_accuracy: 0.7576\n",
            "Epoch 355/500\n",
            "39/39 [==============================] - 0s 3ms/step - loss: 0.6019 - accuracy: 0.7484 - val_loss: 0.6332 - val_accuracy: 0.7530\n",
            "Epoch 356/500\n",
            "39/39 [==============================] - 0s 4ms/step - loss: 0.6019 - accuracy: 0.7491 - val_loss: 0.6334 - val_accuracy: 0.7548\n",
            "Epoch 357/500\n",
            "39/39 [==============================] - 0s 4ms/step - loss: 0.6017 - accuracy: 0.7493 - val_loss: 0.6325 - val_accuracy: 0.7585\n",
            "Epoch 358/500\n",
            "39/39 [==============================] - 0s 4ms/step - loss: 0.6009 - accuracy: 0.7496 - val_loss: 0.6339 - val_accuracy: 0.7512\n",
            "Epoch 359/500\n",
            "39/39 [==============================] - 0s 4ms/step - loss: 0.6015 - accuracy: 0.7496 - val_loss: 0.6369 - val_accuracy: 0.7502\n",
            "Epoch 360/500\n",
            "39/39 [==============================] - 0s 4ms/step - loss: 0.6011 - accuracy: 0.7480 - val_loss: 0.6331 - val_accuracy: 0.7558\n",
            "Epoch 361/500\n",
            "39/39 [==============================] - 0s 4ms/step - loss: 0.6012 - accuracy: 0.7503 - val_loss: 0.6373 - val_accuracy: 0.7567\n",
            "Epoch 362/500\n",
            "39/39 [==============================] - 0s 4ms/step - loss: 0.6012 - accuracy: 0.7497 - val_loss: 0.6353 - val_accuracy: 0.7558\n",
            "Epoch 363/500\n",
            "39/39 [==============================] - 0s 3ms/step - loss: 0.6010 - accuracy: 0.7507 - val_loss: 0.6342 - val_accuracy: 0.7558\n",
            "Epoch 364/500\n",
            "39/39 [==============================] - 0s 4ms/step - loss: 0.6015 - accuracy: 0.7495 - val_loss: 0.6401 - val_accuracy: 0.7521\n",
            "Epoch 365/500\n",
            "39/39 [==============================] - 0s 4ms/step - loss: 0.6011 - accuracy: 0.7506 - val_loss: 0.6361 - val_accuracy: 0.7502\n",
            "Epoch 366/500\n",
            "39/39 [==============================] - 0s 4ms/step - loss: 0.6011 - accuracy: 0.7487 - val_loss: 0.6312 - val_accuracy: 0.7594\n",
            "Epoch 367/500\n",
            "39/39 [==============================] - 0s 4ms/step - loss: 0.6015 - accuracy: 0.7514 - val_loss: 0.6348 - val_accuracy: 0.7558\n",
            "Epoch 368/500\n",
            "39/39 [==============================] - 0s 4ms/step - loss: 0.6014 - accuracy: 0.7487 - val_loss: 0.6356 - val_accuracy: 0.7539\n",
            "Epoch 369/500\n",
            "39/39 [==============================] - 0s 4ms/step - loss: 0.6008 - accuracy: 0.7510 - val_loss: 0.6319 - val_accuracy: 0.7548\n",
            "Epoch 370/500\n",
            "39/39 [==============================] - 0s 4ms/step - loss: 0.6014 - accuracy: 0.7504 - val_loss: 0.6350 - val_accuracy: 0.7585\n",
            "Epoch 371/500\n",
            "39/39 [==============================] - 0s 3ms/step - loss: 0.6009 - accuracy: 0.7499 - val_loss: 0.6366 - val_accuracy: 0.7558\n",
            "Epoch 372/500\n",
            "39/39 [==============================] - 0s 3ms/step - loss: 0.6010 - accuracy: 0.7487 - val_loss: 0.6352 - val_accuracy: 0.7548\n",
            "Epoch 373/500\n",
            "39/39 [==============================] - 0s 3ms/step - loss: 0.6000 - accuracy: 0.7525 - val_loss: 0.6335 - val_accuracy: 0.7622\n",
            "Epoch 374/500\n",
            "39/39 [==============================] - 0s 3ms/step - loss: 0.6001 - accuracy: 0.7511 - val_loss: 0.6356 - val_accuracy: 0.7548\n",
            "Epoch 375/500\n",
            "39/39 [==============================] - 0s 3ms/step - loss: 0.6001 - accuracy: 0.7493 - val_loss: 0.6321 - val_accuracy: 0.7539\n",
            "Epoch 376/500\n",
            "39/39 [==============================] - 0s 3ms/step - loss: 0.6004 - accuracy: 0.7513 - val_loss: 0.6351 - val_accuracy: 0.7558\n",
            "Epoch 377/500\n",
            "39/39 [==============================] - 0s 3ms/step - loss: 0.6001 - accuracy: 0.7510 - val_loss: 0.6340 - val_accuracy: 0.7576\n",
            "Epoch 378/500\n",
            "39/39 [==============================] - 0s 3ms/step - loss: 0.6004 - accuracy: 0.7490 - val_loss: 0.6358 - val_accuracy: 0.7567\n",
            "Epoch 379/500\n",
            "39/39 [==============================] - 0s 3ms/step - loss: 0.5996 - accuracy: 0.7521 - val_loss: 0.6370 - val_accuracy: 0.7567\n",
            "Epoch 380/500\n",
            "39/39 [==============================] - 0s 3ms/step - loss: 0.6000 - accuracy: 0.7505 - val_loss: 0.6327 - val_accuracy: 0.7576\n",
            "Epoch 381/500\n",
            "39/39 [==============================] - 0s 3ms/step - loss: 0.6003 - accuracy: 0.7499 - val_loss: 0.6331 - val_accuracy: 0.7558\n",
            "Epoch 382/500\n",
            "39/39 [==============================] - 0s 3ms/step - loss: 0.5997 - accuracy: 0.7521 - val_loss: 0.6328 - val_accuracy: 0.7585\n",
            "Epoch 383/500\n",
            "39/39 [==============================] - 0s 3ms/step - loss: 0.5999 - accuracy: 0.7502 - val_loss: 0.6369 - val_accuracy: 0.7558\n",
            "Epoch 384/500\n",
            "39/39 [==============================] - 0s 3ms/step - loss: 0.5990 - accuracy: 0.7507 - val_loss: 0.6355 - val_accuracy: 0.7548\n",
            "Epoch 385/500\n",
            "39/39 [==============================] - 0s 3ms/step - loss: 0.6004 - accuracy: 0.7494 - val_loss: 0.6353 - val_accuracy: 0.7594\n",
            "Epoch 386/500\n",
            "39/39 [==============================] - 0s 3ms/step - loss: 0.5998 - accuracy: 0.7481 - val_loss: 0.6372 - val_accuracy: 0.7576\n",
            "Epoch 387/500\n",
            "39/39 [==============================] - 0s 3ms/step - loss: 0.6000 - accuracy: 0.7498 - val_loss: 0.6342 - val_accuracy: 0.7622\n",
            "Epoch 388/500\n",
            "39/39 [==============================] - 0s 3ms/step - loss: 0.5990 - accuracy: 0.7528 - val_loss: 0.6325 - val_accuracy: 0.7622\n",
            "Epoch 389/500\n",
            "39/39 [==============================] - 0s 3ms/step - loss: 0.6006 - accuracy: 0.7506 - val_loss: 0.6373 - val_accuracy: 0.7585\n",
            "Epoch 390/500\n",
            "39/39 [==============================] - 0s 3ms/step - loss: 0.5994 - accuracy: 0.7501 - val_loss: 0.6377 - val_accuracy: 0.7530\n",
            "Epoch 391/500\n",
            "39/39 [==============================] - 0s 3ms/step - loss: 0.5999 - accuracy: 0.7498 - val_loss: 0.6359 - val_accuracy: 0.7594\n",
            "Epoch 392/500\n",
            "39/39 [==============================] - 0s 3ms/step - loss: 0.5989 - accuracy: 0.7522 - val_loss: 0.6330 - val_accuracy: 0.7631\n",
            "Epoch 393/500\n",
            "39/39 [==============================] - 0s 3ms/step - loss: 0.5994 - accuracy: 0.7518 - val_loss: 0.6344 - val_accuracy: 0.7622\n",
            "Epoch 394/500\n",
            "39/39 [==============================] - 0s 3ms/step - loss: 0.6003 - accuracy: 0.7510 - val_loss: 0.6411 - val_accuracy: 0.7585\n",
            "Epoch 395/500\n",
            "39/39 [==============================] - 0s 3ms/step - loss: 0.6001 - accuracy: 0.7487 - val_loss: 0.6346 - val_accuracy: 0.7576\n",
            "Epoch 396/500\n",
            "39/39 [==============================] - 0s 3ms/step - loss: 0.5995 - accuracy: 0.7533 - val_loss: 0.6336 - val_accuracy: 0.7558\n",
            "Epoch 397/500\n",
            "39/39 [==============================] - 0s 3ms/step - loss: 0.5990 - accuracy: 0.7507 - val_loss: 0.6350 - val_accuracy: 0.7558\n",
            "Epoch 398/500\n",
            "39/39 [==============================] - 0s 3ms/step - loss: 0.5988 - accuracy: 0.7520 - val_loss: 0.6355 - val_accuracy: 0.7512\n",
            "Epoch 399/500\n",
            "39/39 [==============================] - 0s 3ms/step - loss: 0.5996 - accuracy: 0.7521 - val_loss: 0.6342 - val_accuracy: 0.7576\n",
            "Epoch 400/500\n",
            "39/39 [==============================] - 0s 3ms/step - loss: 0.5986 - accuracy: 0.7520 - val_loss: 0.6372 - val_accuracy: 0.7576\n",
            "Epoch 401/500\n",
            "39/39 [==============================] - 0s 3ms/step - loss: 0.5995 - accuracy: 0.7509 - val_loss: 0.6412 - val_accuracy: 0.7521\n",
            "Epoch 402/500\n",
            "39/39 [==============================] - 0s 3ms/step - loss: 0.5997 - accuracy: 0.7497 - val_loss: 0.6336 - val_accuracy: 0.7548\n",
            "Epoch 403/500\n",
            "39/39 [==============================] - 0s 3ms/step - loss: 0.5995 - accuracy: 0.7519 - val_loss: 0.6343 - val_accuracy: 0.7576\n",
            "Epoch 404/500\n",
            "39/39 [==============================] - 0s 3ms/step - loss: 0.5993 - accuracy: 0.7518 - val_loss: 0.6352 - val_accuracy: 0.7558\n",
            "Epoch 405/500\n",
            "39/39 [==============================] - 0s 3ms/step - loss: 0.5997 - accuracy: 0.7498 - val_loss: 0.6359 - val_accuracy: 0.7521\n",
            "Epoch 406/500\n",
            "39/39 [==============================] - 0s 3ms/step - loss: 0.5988 - accuracy: 0.7525 - val_loss: 0.6352 - val_accuracy: 0.7604\n",
            "Epoch 407/500\n",
            "39/39 [==============================] - 0s 3ms/step - loss: 0.5984 - accuracy: 0.7523 - val_loss: 0.6345 - val_accuracy: 0.7585\n",
            "Epoch 408/500\n",
            "39/39 [==============================] - 0s 3ms/step - loss: 0.5983 - accuracy: 0.7518 - val_loss: 0.6367 - val_accuracy: 0.7558\n",
            "Epoch 409/500\n",
            "39/39 [==============================] - 0s 3ms/step - loss: 0.5992 - accuracy: 0.7491 - val_loss: 0.6380 - val_accuracy: 0.7576\n",
            "Epoch 410/500\n",
            "39/39 [==============================] - 0s 3ms/step - loss: 0.5987 - accuracy: 0.7528 - val_loss: 0.6343 - val_accuracy: 0.7548\n",
            "Epoch 411/500\n",
            "39/39 [==============================] - 0s 3ms/step - loss: 0.5983 - accuracy: 0.7522 - val_loss: 0.6362 - val_accuracy: 0.7530\n",
            "Epoch 412/500\n",
            "39/39 [==============================] - 0s 3ms/step - loss: 0.5987 - accuracy: 0.7512 - val_loss: 0.6377 - val_accuracy: 0.7558\n",
            "Epoch 413/500\n",
            "39/39 [==============================] - 0s 3ms/step - loss: 0.5984 - accuracy: 0.7507 - val_loss: 0.6378 - val_accuracy: 0.7539\n",
            "Epoch 414/500\n",
            "39/39 [==============================] - 0s 3ms/step - loss: 0.5984 - accuracy: 0.7528 - val_loss: 0.6381 - val_accuracy: 0.7539\n",
            "Epoch 415/500\n",
            "39/39 [==============================] - 0s 3ms/step - loss: 0.5985 - accuracy: 0.7516 - val_loss: 0.6410 - val_accuracy: 0.7530\n",
            "Epoch 416/500\n",
            "39/39 [==============================] - 0s 3ms/step - loss: 0.5991 - accuracy: 0.7512 - val_loss: 0.6426 - val_accuracy: 0.7530\n",
            "Epoch 417/500\n",
            "39/39 [==============================] - 0s 3ms/step - loss: 0.5986 - accuracy: 0.7509 - val_loss: 0.6340 - val_accuracy: 0.7576\n",
            "Epoch 418/500\n",
            "39/39 [==============================] - 0s 3ms/step - loss: 0.5988 - accuracy: 0.7491 - val_loss: 0.6344 - val_accuracy: 0.7604\n",
            "Epoch 419/500\n",
            "39/39 [==============================] - 0s 3ms/step - loss: 0.5978 - accuracy: 0.7520 - val_loss: 0.6376 - val_accuracy: 0.7585\n",
            "Epoch 420/500\n",
            "39/39 [==============================] - 0s 3ms/step - loss: 0.5989 - accuracy: 0.7550 - val_loss: 0.6341 - val_accuracy: 0.7539\n",
            "Epoch 421/500\n",
            "39/39 [==============================] - 0s 3ms/step - loss: 0.5984 - accuracy: 0.7513 - val_loss: 0.6354 - val_accuracy: 0.7576\n",
            "Epoch 422/500\n",
            "39/39 [==============================] - 0s 3ms/step - loss: 0.5984 - accuracy: 0.7529 - val_loss: 0.6363 - val_accuracy: 0.7548\n",
            "Epoch 423/500\n",
            "39/39 [==============================] - 0s 3ms/step - loss: 0.5982 - accuracy: 0.7517 - val_loss: 0.6379 - val_accuracy: 0.7539\n",
            "Epoch 424/500\n",
            "39/39 [==============================] - 0s 3ms/step - loss: 0.5975 - accuracy: 0.7514 - val_loss: 0.6351 - val_accuracy: 0.7548\n",
            "Epoch 425/500\n",
            "39/39 [==============================] - 0s 3ms/step - loss: 0.5976 - accuracy: 0.7518 - val_loss: 0.6366 - val_accuracy: 0.7548\n",
            "Epoch 426/500\n",
            "39/39 [==============================] - 0s 3ms/step - loss: 0.5983 - accuracy: 0.7529 - val_loss: 0.6347 - val_accuracy: 0.7585\n",
            "Epoch 427/500\n",
            "39/39 [==============================] - 0s 3ms/step - loss: 0.5980 - accuracy: 0.7530 - val_loss: 0.6357 - val_accuracy: 0.7585\n",
            "Epoch 428/500\n",
            "39/39 [==============================] - 0s 3ms/step - loss: 0.5977 - accuracy: 0.7505 - val_loss: 0.6360 - val_accuracy: 0.7512\n",
            "Epoch 429/500\n",
            "39/39 [==============================] - 0s 3ms/step - loss: 0.5976 - accuracy: 0.7507 - val_loss: 0.6364 - val_accuracy: 0.7594\n",
            "Epoch 430/500\n",
            "39/39 [==============================] - 0s 3ms/step - loss: 0.5978 - accuracy: 0.7522 - val_loss: 0.6353 - val_accuracy: 0.7539\n",
            "Epoch 431/500\n",
            "39/39 [==============================] - 0s 3ms/step - loss: 0.5977 - accuracy: 0.7519 - val_loss: 0.6350 - val_accuracy: 0.7567\n",
            "Epoch 432/500\n",
            "39/39 [==============================] - 0s 3ms/step - loss: 0.5980 - accuracy: 0.7514 - val_loss: 0.6354 - val_accuracy: 0.7613\n",
            "Epoch 433/500\n",
            "39/39 [==============================] - 0s 3ms/step - loss: 0.5972 - accuracy: 0.7538 - val_loss: 0.6369 - val_accuracy: 0.7594\n",
            "Epoch 434/500\n",
            "39/39 [==============================] - 0s 3ms/step - loss: 0.5972 - accuracy: 0.7516 - val_loss: 0.6352 - val_accuracy: 0.7622\n",
            "Epoch 435/500\n",
            "39/39 [==============================] - 0s 3ms/step - loss: 0.5991 - accuracy: 0.7490 - val_loss: 0.6350 - val_accuracy: 0.7604\n",
            "Epoch 436/500\n",
            "39/39 [==============================] - 0s 3ms/step - loss: 0.5973 - accuracy: 0.7525 - val_loss: 0.6391 - val_accuracy: 0.7576\n",
            "Epoch 437/500\n",
            "39/39 [==============================] - 0s 3ms/step - loss: 0.5973 - accuracy: 0.7519 - val_loss: 0.6376 - val_accuracy: 0.7548\n",
            "Epoch 438/500\n",
            "39/39 [==============================] - 0s 3ms/step - loss: 0.5976 - accuracy: 0.7519 - val_loss: 0.6379 - val_accuracy: 0.7576\n",
            "Epoch 439/500\n",
            "39/39 [==============================] - 0s 3ms/step - loss: 0.5975 - accuracy: 0.7540 - val_loss: 0.6355 - val_accuracy: 0.7539\n",
            "Epoch 440/500\n",
            "39/39 [==============================] - 0s 3ms/step - loss: 0.5974 - accuracy: 0.7521 - val_loss: 0.6359 - val_accuracy: 0.7558\n",
            "Epoch 441/500\n",
            "39/39 [==============================] - 0s 3ms/step - loss: 0.5970 - accuracy: 0.7538 - val_loss: 0.6385 - val_accuracy: 0.7594\n",
            "Epoch 442/500\n",
            "39/39 [==============================] - 0s 3ms/step - loss: 0.5980 - accuracy: 0.7520 - val_loss: 0.6363 - val_accuracy: 0.7576\n",
            "Epoch 443/500\n",
            "39/39 [==============================] - 0s 3ms/step - loss: 0.5979 - accuracy: 0.7514 - val_loss: 0.6368 - val_accuracy: 0.7576\n",
            "Epoch 444/500\n",
            "39/39 [==============================] - 0s 3ms/step - loss: 0.5979 - accuracy: 0.7505 - val_loss: 0.6347 - val_accuracy: 0.7530\n",
            "Epoch 445/500\n",
            "39/39 [==============================] - 0s 3ms/step - loss: 0.5965 - accuracy: 0.7528 - val_loss: 0.6380 - val_accuracy: 0.7512\n",
            "Epoch 446/500\n",
            "39/39 [==============================] - 0s 3ms/step - loss: 0.5974 - accuracy: 0.7515 - val_loss: 0.6368 - val_accuracy: 0.7558\n",
            "Epoch 447/500\n",
            "39/39 [==============================] - 0s 3ms/step - loss: 0.5965 - accuracy: 0.7530 - val_loss: 0.6357 - val_accuracy: 0.7548\n",
            "Epoch 448/500\n",
            "39/39 [==============================] - 0s 3ms/step - loss: 0.5972 - accuracy: 0.7527 - val_loss: 0.6366 - val_accuracy: 0.7558\n",
            "Epoch 449/500\n",
            "39/39 [==============================] - 0s 3ms/step - loss: 0.5979 - accuracy: 0.7519 - val_loss: 0.6390 - val_accuracy: 0.7567\n",
            "Epoch 450/500\n",
            "39/39 [==============================] - 0s 3ms/step - loss: 0.5964 - accuracy: 0.7532 - val_loss: 0.6367 - val_accuracy: 0.7585\n",
            "Epoch 451/500\n",
            "39/39 [==============================] - 0s 3ms/step - loss: 0.5963 - accuracy: 0.7539 - val_loss: 0.6373 - val_accuracy: 0.7576\n",
            "Epoch 452/500\n",
            "39/39 [==============================] - 0s 3ms/step - loss: 0.5961 - accuracy: 0.7529 - val_loss: 0.6352 - val_accuracy: 0.7594\n",
            "Epoch 453/500\n",
            "39/39 [==============================] - 0s 4ms/step - loss: 0.5965 - accuracy: 0.7518 - val_loss: 0.6379 - val_accuracy: 0.7539\n",
            "Epoch 454/500\n",
            "39/39 [==============================] - 0s 4ms/step - loss: 0.5969 - accuracy: 0.7528 - val_loss: 0.6347 - val_accuracy: 0.7594\n",
            "Epoch 455/500\n",
            "39/39 [==============================] - 0s 3ms/step - loss: 0.5970 - accuracy: 0.7531 - val_loss: 0.6379 - val_accuracy: 0.7567\n",
            "Epoch 456/500\n",
            "39/39 [==============================] - 0s 4ms/step - loss: 0.5966 - accuracy: 0.7533 - val_loss: 0.6362 - val_accuracy: 0.7576\n",
            "Epoch 457/500\n",
            "39/39 [==============================] - 0s 3ms/step - loss: 0.5970 - accuracy: 0.7501 - val_loss: 0.6351 - val_accuracy: 0.7539\n",
            "Epoch 458/500\n",
            "39/39 [==============================] - 0s 3ms/step - loss: 0.5965 - accuracy: 0.7524 - val_loss: 0.6383 - val_accuracy: 0.7567\n",
            "Epoch 459/500\n",
            "39/39 [==============================] - 0s 4ms/step - loss: 0.5969 - accuracy: 0.7521 - val_loss: 0.6358 - val_accuracy: 0.7548\n",
            "Epoch 460/500\n",
            "39/39 [==============================] - 0s 4ms/step - loss: 0.5965 - accuracy: 0.7523 - val_loss: 0.6378 - val_accuracy: 0.7567\n",
            "Epoch 461/500\n",
            "39/39 [==============================] - 0s 3ms/step - loss: 0.5962 - accuracy: 0.7517 - val_loss: 0.6384 - val_accuracy: 0.7594\n",
            "Epoch 462/500\n",
            "39/39 [==============================] - 0s 4ms/step - loss: 0.5969 - accuracy: 0.7529 - val_loss: 0.6373 - val_accuracy: 0.7548\n",
            "Epoch 463/500\n",
            "39/39 [==============================] - 0s 4ms/step - loss: 0.5965 - accuracy: 0.7527 - val_loss: 0.6364 - val_accuracy: 0.7521\n",
            "Epoch 464/500\n",
            "39/39 [==============================] - 0s 4ms/step - loss: 0.5961 - accuracy: 0.7535 - val_loss: 0.6359 - val_accuracy: 0.7567\n",
            "Epoch 465/500\n",
            "39/39 [==============================] - 0s 4ms/step - loss: 0.5961 - accuracy: 0.7523 - val_loss: 0.6346 - val_accuracy: 0.7548\n",
            "Epoch 466/500\n",
            "39/39 [==============================] - 0s 4ms/step - loss: 0.5967 - accuracy: 0.7507 - val_loss: 0.6406 - val_accuracy: 0.7558\n",
            "Epoch 467/500\n",
            "39/39 [==============================] - 0s 4ms/step - loss: 0.5965 - accuracy: 0.7531 - val_loss: 0.6371 - val_accuracy: 0.7558\n",
            "Epoch 468/500\n",
            "39/39 [==============================] - 0s 4ms/step - loss: 0.5957 - accuracy: 0.7539 - val_loss: 0.6391 - val_accuracy: 0.7604\n",
            "Epoch 469/500\n",
            "39/39 [==============================] - 0s 5ms/step - loss: 0.5960 - accuracy: 0.7515 - val_loss: 0.6374 - val_accuracy: 0.7567\n",
            "Epoch 470/500\n",
            "39/39 [==============================] - 0s 4ms/step - loss: 0.5957 - accuracy: 0.7525 - val_loss: 0.6375 - val_accuracy: 0.7530\n",
            "Epoch 471/500\n",
            "39/39 [==============================] - 0s 4ms/step - loss: 0.5959 - accuracy: 0.7523 - val_loss: 0.6380 - val_accuracy: 0.7567\n",
            "Epoch 472/500\n",
            "39/39 [==============================] - 0s 4ms/step - loss: 0.5964 - accuracy: 0.7526 - val_loss: 0.6373 - val_accuracy: 0.7576\n",
            "Epoch 473/500\n",
            "39/39 [==============================] - 0s 4ms/step - loss: 0.5964 - accuracy: 0.7533 - val_loss: 0.6354 - val_accuracy: 0.7539\n",
            "Epoch 474/500\n",
            "39/39 [==============================] - 0s 4ms/step - loss: 0.5955 - accuracy: 0.7541 - val_loss: 0.6364 - val_accuracy: 0.7567\n",
            "Epoch 475/500\n",
            "39/39 [==============================] - 0s 4ms/step - loss: 0.5966 - accuracy: 0.7528 - val_loss: 0.6362 - val_accuracy: 0.7567\n",
            "Epoch 476/500\n",
            "39/39 [==============================] - 0s 3ms/step - loss: 0.5955 - accuracy: 0.7534 - val_loss: 0.6359 - val_accuracy: 0.7558\n",
            "Epoch 477/500\n",
            "39/39 [==============================] - 0s 3ms/step - loss: 0.5953 - accuracy: 0.7537 - val_loss: 0.6385 - val_accuracy: 0.7558\n",
            "Epoch 478/500\n",
            "39/39 [==============================] - 0s 3ms/step - loss: 0.5959 - accuracy: 0.7534 - val_loss: 0.6399 - val_accuracy: 0.7558\n",
            "Epoch 479/500\n",
            "39/39 [==============================] - 0s 3ms/step - loss: 0.5954 - accuracy: 0.7525 - val_loss: 0.6412 - val_accuracy: 0.7530\n",
            "Epoch 480/500\n",
            "39/39 [==============================] - 0s 3ms/step - loss: 0.5965 - accuracy: 0.7515 - val_loss: 0.6379 - val_accuracy: 0.7539\n",
            "Epoch 481/500\n",
            "39/39 [==============================] - 0s 3ms/step - loss: 0.5956 - accuracy: 0.7525 - val_loss: 0.6370 - val_accuracy: 0.7594\n",
            "Epoch 482/500\n",
            "39/39 [==============================] - 0s 3ms/step - loss: 0.5955 - accuracy: 0.7529 - val_loss: 0.6342 - val_accuracy: 0.7604\n",
            "Epoch 483/500\n",
            "39/39 [==============================] - 0s 3ms/step - loss: 0.5957 - accuracy: 0.7532 - val_loss: 0.6362 - val_accuracy: 0.7539\n",
            "Epoch 484/500\n",
            "39/39 [==============================] - 0s 3ms/step - loss: 0.5956 - accuracy: 0.7517 - val_loss: 0.6395 - val_accuracy: 0.7548\n",
            "Epoch 485/500\n",
            "39/39 [==============================] - 0s 3ms/step - loss: 0.5952 - accuracy: 0.7535 - val_loss: 0.6373 - val_accuracy: 0.7558\n",
            "Epoch 486/500\n",
            "39/39 [==============================] - 0s 3ms/step - loss: 0.5960 - accuracy: 0.7519 - val_loss: 0.6409 - val_accuracy: 0.7539\n",
            "Epoch 487/500\n",
            "39/39 [==============================] - 0s 3ms/step - loss: 0.5960 - accuracy: 0.7507 - val_loss: 0.6418 - val_accuracy: 0.7548\n",
            "Epoch 488/500\n",
            "39/39 [==============================] - 0s 3ms/step - loss: 0.5949 - accuracy: 0.7547 - val_loss: 0.6406 - val_accuracy: 0.7548\n",
            "Epoch 489/500\n",
            "39/39 [==============================] - 0s 3ms/step - loss: 0.5952 - accuracy: 0.7543 - val_loss: 0.6405 - val_accuracy: 0.7530\n",
            "Epoch 490/500\n",
            "39/39 [==============================] - 0s 3ms/step - loss: 0.5954 - accuracy: 0.7518 - val_loss: 0.6372 - val_accuracy: 0.7539\n",
            "Epoch 491/500\n",
            "39/39 [==============================] - 0s 3ms/step - loss: 0.5951 - accuracy: 0.7545 - val_loss: 0.6417 - val_accuracy: 0.7539\n",
            "Epoch 492/500\n",
            "39/39 [==============================] - 0s 3ms/step - loss: 0.5966 - accuracy: 0.7521 - val_loss: 0.6420 - val_accuracy: 0.7521\n",
            "Epoch 493/500\n",
            "39/39 [==============================] - 0s 3ms/step - loss: 0.5955 - accuracy: 0.7523 - val_loss: 0.6394 - val_accuracy: 0.7548\n",
            "Epoch 494/500\n",
            "39/39 [==============================] - 0s 3ms/step - loss: 0.5952 - accuracy: 0.7530 - val_loss: 0.6339 - val_accuracy: 0.7548\n",
            "Epoch 495/500\n",
            "39/39 [==============================] - 0s 3ms/step - loss: 0.5962 - accuracy: 0.7527 - val_loss: 0.6353 - val_accuracy: 0.7539\n",
            "Epoch 496/500\n",
            "39/39 [==============================] - 0s 3ms/step - loss: 0.5951 - accuracy: 0.7552 - val_loss: 0.6384 - val_accuracy: 0.7539\n",
            "Epoch 497/500\n",
            "39/39 [==============================] - 0s 3ms/step - loss: 0.5955 - accuracy: 0.7540 - val_loss: 0.6359 - val_accuracy: 0.7585\n",
            "Epoch 498/500\n",
            "39/39 [==============================] - 0s 3ms/step - loss: 0.5945 - accuracy: 0.7544 - val_loss: 0.6378 - val_accuracy: 0.7539\n",
            "Epoch 499/500\n",
            "39/39 [==============================] - 0s 3ms/step - loss: 0.5947 - accuracy: 0.7525 - val_loss: 0.6390 - val_accuracy: 0.7558\n",
            "Epoch 500/500\n",
            "39/39 [==============================] - 0s 3ms/step - loss: 0.5946 - accuracy: 0.7530 - val_loss: 0.6397 - val_accuracy: 0.7548\n",
            "CPU times: user 1min 4s, sys: 2.78 s, total: 1min 7s\n",
            "Wall time: 1min 19s\n"
          ]
        }
      ],
      "source": [
        "%%time\n",
        "history = model.fit(X_train, y_train, epochs=500, batch_size=256, validation_split=0.1, verbose=1)\n",
        "\n",
        "## no of iterations: ( 10847 (training size) - 1084.7 (validation split) )/(256) == 39"
      ]
    },
    {
      "cell_type": "markdown",
      "metadata": {
        "id": "AIUS1h4DzqBH"
      },
      "source": [
        "- Lets try to plot histograms of model weights and baises to see if there is any difference after training\n",
        "- **[Q] What will be the distributions now? Still glorot_uniform ?**\n",
        "\n",
        "  - Weights now follow normal distribution\n",
        "  - Biases are not Zero now\n"
      ]
    },
    {
      "cell_type": "code",
      "execution_count": null,
      "metadata": {
        "colab": {
          "background_save": true
        },
        "id": "yF4_bEt4xtaz",
        "outputId": "65b99644-c2ff-49fa-eeb2-d1f3ba4a7443"
      },
      "outputs": [
        {
          "data": {
            "image/png": "[encoded data removed]",
            "text/plain": [
              "<Figure size 500x500 with 6 Axes>"
            ]
          },
          "metadata": {},
          "output_type": "display_data"
        }
      ],
      "source": [
        "# Plot histograms of weight and bias values after training\n",
        "import matplotlib.pyplot as plt\n",
        "fig, axes = plt.subplots(3, 2, figsize=(5,5))\n",
        "fig.subplots_adjust(hspace=0.5, wspace=0.5)\n",
        "\n",
        "# get the weights from the layers\n",
        "weight_layers = [layer for layer in model.layers]\n",
        "\n",
        "for i, layer in enumerate(weight_layers):\n",
        "    for j in [0, 1]:\n",
        "        axes[i, j].hist(layer.weights[j].numpy().flatten(), align='left')\n",
        "        axes[i, j].set_title(layer.weights[j].name)"
      ]
    },
    {
      "cell_type": "markdown",
      "metadata": {
        "id": "Oy1QVdrxUMF3"
      },
      "source": [
        "***Question:*** Is one iteration / step is one forward and then one back propagation?\n",
        "\n",
        "***Answer:***\n",
        "- Yes, that is correct."
      ]
    },
    {
      "cell_type": "markdown",
      "metadata": {
        "id": "XeY6I1TKOCJJ"
      },
      "source": [
        "### `validation_data`\n",
        "\n",
        "- We can also explicitly use a validation set (which was earlier created while splitting the data) using `validation_data` argument in `fit` method.\n",
        "- But, we will have to re-initialise the model after defining with `validation_data`, else, the model will start getting trained from its current stage.\n",
        "- Ideally, we should have written this code as a function, so that we don't have to write model definition again and again\n"
      ]
    },
    {
      "cell_type": "code",
      "execution_count": null,
      "metadata": {
        "colab": {
          "background_save": true
        },
        "id": "4NPlMivc5IKS"
      },
      "outputs": [],
      "source": [
        "def create_model():\n",
        "    model = Sequential([\n",
        "                    Dense(32, activation=\"relu\", input_shape=(11,), name=\"hidden_1\"),\n",
        "                    Dense(16, activation=\"relu\", name=\"hidden_2\"),\n",
        "                    Dense(4, activation=\"softmax\", name=\"output\")])\n",
        "    model.compile(\n",
        "    optimizer = tf.keras.optimizers.Adam(learning_rate=0.001),\n",
        "    loss = tf.keras.losses.SparseCategoricalCrossentropy(),\n",
        "    metrics=[\"accuracy\"])\n",
        "    return model\n",
        "\n",
        "model = create_model()"
      ]
    },
    {
      "cell_type": "markdown",
      "metadata": {
        "id": "G1zIDkkC5kcQ"
      },
      "source": [
        "Also, this time, lets change the `verbose=0` to make the training process silent. This will prevent the printing of loss and other metrics for each epoch."
      ]
    },
    {
      "cell_type": "code",
      "execution_count": null,
      "metadata": {
        "colab": {
          "background_save": true
        },
        "id": "YPWU-dqvPHWB"
      },
      "outputs": [],
      "source": [
        "history = model.fit(X_train, y_train, validation_data = (X_val, y_val),  epochs=500, batch_size=512, verbose=0)"
      ]
    },
    {
      "cell_type": "markdown",
      "metadata": {
        "id": "xKXIzpFJbRLo"
      },
      "source": [
        "Lets look at the history object dictionary. It's an alternative to dir().\n",
        "`__dict__` attribute can be used to retrieve all the keys associated with the object on which it is called."
      ]
    },
    {
      "cell_type": "code",
      "execution_count": null,
      "metadata": {
        "colab": {
          "background_save": true
        },
        "id": "LHWz807HbQAf"
      },
      "outputs": [],
      "source": [
        "history.__dict__.keys()"
      ]
    },
    {
      "cell_type": "markdown",
      "metadata": {
        "id": "xWsJqRqBdN9P"
      },
      "source": [
        "We can see that history object's dictionary has another dictionary with key \"history\" inside it"
      ]
    },
    {
      "cell_type": "markdown",
      "metadata": {
        "id": "_yVJqnXBb6aF"
      },
      "source": [
        "We can also call the `history` method of the above object as it is available in keys associated with the `model.fit()`."
      ]
    },
    {
      "cell_type": "code",
      "execution_count": null,
      "metadata": {
        "colab": {
          "background_save": true
        },
        "id": "f5ilqmon1rV0"
      },
      "outputs": [],
      "source": [
        "history.history.keys()"
      ]
    },
    {
      "cell_type": "markdown",
      "metadata": {
        "id": "PytjNCrdeeow"
      },
      "source": [
        "model.fit() has saved all the loss and metrics values  for each epoch inside the `history` dictionary where all the values are stored in different lists."
      ]
    },
    {
      "cell_type": "code",
      "execution_count": null,
      "metadata": {
        "colab": {
          "background_save": true
        },
        "id": "PwFQg3plbxYn"
      },
      "outputs": [],
      "source": [
        "epochs = history.epoch\n",
        "loss = history.history[\"loss\"]\n",
        "accuracy = history.history[\"accuracy\"]\n",
        "val_loss = history.history[\"val_loss\"]\n",
        "val_accuracy = history.history[\"val_accuracy\"]"
      ]
    },
    {
      "cell_type": "markdown",
      "metadata": {
        "id": "hPM2Cxpo5x_6"
      },
      "source": [
        "Lets plot the loss and accuracy curves for both training and validation data"
      ]
    },
    {
      "cell_type": "code",
      "execution_count": null,
      "metadata": {
        "colab": {
          "background_save": true
        },
        "id": "zaFxxihgbCr0"
      },
      "outputs": [],
      "source": [
        "plt.figure()\n",
        "plt.plot(epochs, loss, label=\"train\")\n",
        "plt.plot(epochs, val_loss, label=\"val\")\n",
        "plt.legend()\n",
        "plt.title(\"Loss VS Epochs\")\n",
        "plt.show()\n",
        "\n",
        "plt.figure()\n",
        "plt.plot(epochs, accuracy, label=\"train\")\n",
        "plt.plot(epochs, val_accuracy, label=\"validation\")\n",
        "plt.legend()\n",
        "plt.title(\"Accuracy VS Epochs\")\n",
        "plt.show()"
      ]
    },
    {
      "cell_type": "markdown",
      "metadata": {
        "id": "tLLg4n156A73"
      },
      "source": [
        "- We can see that both training and validation loss decrease with epochs.\n",
        "- After around 120 epochs, training loss still keeps on decreasing, but validation loss starts to increase.\n",
        "- This means, **the model starts overfitting the training dataset after 120 epochs**.\n",
        "- Params learnt after 120 epochs would be the one which are overfitting the training dataset.\n",
        "- Later, **we will see ways to save intermediate model parameters** - **early stopping**.\n",
        "- But for now, lets evaluate the model performance based on 500 epochs trained model only.\n",
        "-- --\n"
      ]
    },
    {
      "cell_type": "markdown",
      "metadata": {
        "id": "5DotT-x0cRw3"
      },
      "source": [
        "## Keras Functional API\n",
        "\n"
      ]
    },
    {
      "cell_type": "code",
      "execution_count": null,
      "metadata": {
        "colab": {
          "background_save": true
        },
        "id": "d2A1IMeLAUZb"
      },
      "outputs": [],
      "source": [
        "from tensorflow.keras.layers import Dense\n",
        "from tensorflow.keras.models import Sequential"
      ]
    },
    {
      "cell_type": "code",
      "execution_count": null,
      "metadata": {
        "colab": {
          "background_save": true
        },
        "id": "J_zNwFWFXf2k"
      },
      "outputs": [],
      "source": [
        "model_sequential = Sequential([\n",
        "                    Dense(16, activation=\"relu\", input_shape=(11,), name=\"hidden_1\"),\n",
        "                    Dense(8, activation=\"relu\", name=\"hidden_2\"),\n",
        "                    Dense(4, activation=\"softmax\", name=\"output\")\n",
        "])"
      ]
    },
    {
      "cell_type": "markdown",
      "metadata": {
        "id": "ar2VGOD3_okb"
      },
      "source": [
        "- Earlier we have created this model using Sequential API\n",
        "- Now lets create same model using Functional API"
      ]
    },
    {
      "cell_type": "code",
      "execution_count": null,
      "metadata": {
        "colab": {
          "background_save": true
        },
        "id": "2ow0rzsFAWUL"
      },
      "outputs": [],
      "source": [
        "from tensorflow.keras.layers import Input"
      ]
    },
    {
      "cell_type": "markdown",
      "metadata": {
        "id": "GmgCYCS6AqWb"
      },
      "source": [
        "- In Sequential we passed input shape in the first layer\n",
        "- But Here we will be using an additional layer : **Input layer**\n",
        "- we're going to explicitly have a separate layer to represent the data input."
      ]
    },
    {
      "cell_type": "markdown",
      "metadata": {
        "id": "40WYQDKTBsnL"
      },
      "source": [
        "- Another main diference is `tf.keras.models.Model`\n",
        "- Here instead of Sequential, here **we will be using Model Class**"
      ]
    },
    {
      "cell_type": "markdown",
      "metadata": {
        "id": "O3ZW2qwLIwzC"
      },
      "source": [
        "### Keras Functional Model Class"
      ]
    },
    {
      "cell_type": "markdown",
      "metadata": {
        "id": "D4b7BKlNCbwj"
      },
      "source": [
        "- First we create an input layer with the shape of the dataframe"
      ]
    },
    {
      "cell_type": "code",
      "execution_count": null,
      "metadata": {
        "colab": {
          "background_save": true
        },
        "id": "GXew1-mLAgHq"
      },
      "outputs": [],
      "source": [
        "inp1 = Input(shape=(11,))\n",
        "inp2=Input(shape=(5,))"
      ]
    },
    {
      "cell_type": "markdown",
      "metadata": {
        "id": "N1kny9BeCtJb"
      },
      "source": [
        "- Next we will be creating our first two layer of the model\n",
        "- Instead of creating a list (as in Sequential)\n",
        "- We will also pass previous layer in the current layer\n",
        "- In first dense `hidden_1` we will pass `inp`\n",
        "- And in second `hidden_1` we will pass `hidden_2`"
      ]
    },
    {
      "cell_type": "code",
      "execution_count": null,
      "metadata": {
        "colab": {
          "background_save": true
        },
        "id": "aGEnVaLvDwMz"
      },
      "outputs": [],
      "source": [
        "h1 = Dense(16, activation=\"relu\", name=\"hidden_1\")(inp)\n",
        "h2 = Dense(4, activation=\"relu\", name=\"hidden_2\")(h1)\n",
        "h3=Dense(4,activation=\"tanh\" name=\"hidden_3\")(inp2)"
      ]
    },
    {
      "cell_type": "markdown",
      "metadata": {
        "id": "HH4KSraxEMtC"
      },
      "source": [
        "- Now we will create the final output layer"
      ]
    },
    {
      "cell_type": "code",
      "execution_count": null,
      "metadata": {
        "colab": {
          "background_save": true
        },
        "id": "HJyc2PruqTNx"
      },
      "outputs": [],
      "source": [
        "out1 = Dense(4, activation=\"softmax\", name=\"output\")(h2)\n",
        "out2=Dense(1, name=\"output\")(h3)"
      ]
    },
    {
      "cell_type": "markdown",
      "metadata": {
        "id": "Pf3CUPQzEfRz"
      },
      "source": [
        "- We have defined the flow of the model\n",
        "- Finally,  to built a model using this directed graph\n",
        "- We will use `tf.keras.models.Model`, and pass all the inputs and outputs"
      ]
    },
    {
      "cell_type": "code",
      "execution_count": null,
      "metadata": {
        "colab": {
          "background_save": true
        },
        "id": "UiGlGpnzGREy"
      },
      "outputs": [],
      "source": [
        "from tensorflow.keras.models import Model"
      ]
    },
    {
      "cell_type": "code",
      "execution_count": null,
      "metadata": {
        "colab": {
          "background_save": true
        },
        "id": "ssVVm7M4EYJ4"
      },
      "outputs": [],
      "source": [
        "model_functional = Model(inputs=[inp1,inp2], outputs=[out1,out2], name=\"simple_nn\")"
      ]
    },
    {
      "cell_type": "markdown",
      "metadata": {
        "id": "_q-pQ6SwrGEs"
      },
      "source": [
        "Let's generalize above code inside a function"
      ]
    },
    {
      "cell_type": "code",
      "execution_count": null,
      "metadata": {
        "colab": {
          "background_save": true
        },
        "id": "jMYHax_9GlBi"
      },
      "outputs": [],
      "source": [
        "def create_model_functional():\n",
        "\n",
        "  inp = Input(shape=(11,))\n",
        "\n",
        "  h1 = Dense(16, activation=\"relu\", name=\"hidden_1\")(inp)\n",
        "  h2 = Dense(8 , activation=\"relu\", name=\"hidden_2\")(h1)\n",
        "\n",
        "  out = Dense(4, activation=\"softmax\", name=\"output\")(h2)\n",
        "\n",
        "  model = Model(inputs=inp, outputs=out, name=\"simple_nn\")\n",
        "  return model"
      ]
    },
    {
      "cell_type": "code",
      "execution_count": null,
      "metadata": {
        "colab": {
          "background_save": true
        },
        "id": "ZWDeCiia5XmI"
      },
      "outputs": [],
      "source": [
        "model_functional = create_model_functional()"
      ]
    },
    {
      "cell_type": "code",
      "execution_count": null,
      "metadata": {
        "colab": {
          "background_save": true
        },
        "id": "6hv-57Fk5gkH"
      },
      "outputs": [],
      "source": [
        "model_functional.summary()"
      ]
    },
    {
      "cell_type": "code",
      "execution_count": null,
      "metadata": {
        "colab": {
          "background_save": true
        },
        "id": "DtJLJWkVoEPE"
      },
      "outputs": [],
      "source": [
        "#And, optionally, display the input and output shapes of each layer in the plotted graph:\n",
        "\n",
        "tf.keras.utils.plot_model(model_functional,show_shapes=True)"
      ]
    },
    {
      "cell_type": "code",
      "execution_count": null,
      "metadata": {
        "colab": {
          "background_save": true
        },
        "id": "CSigk0SsHFx6"
      },
      "outputs": [],
      "source": [
        "# let's create a little complex model using functional API's with more than one output\n",
        "\n",
        "def create_model_multiple_output():\n",
        "  inp = Input(shape=(11,))\n",
        "\n",
        "  h1 = Dense(16, activation=\"relu\", name=\"hidden_1\")(inp)\n",
        "  h2 = Dense(8 , activation=\"relu\", name=\"hidden_2\")(h1)\n",
        "  h3 = Dense(4 , activation=\"relu\", name=\"hidden_3\")(h2)\n",
        "\n",
        "  out1 = Dense(1, activation=\"sigmoid\", name=\"output1\")(h3)\n",
        "  out2 = Dense(1, activation=\"relu\", name=\"output2\")(h3)\n",
        "\n",
        "  model = Model(inputs=inp, outputs=[out1,out2], name=\"simple_nn\")\n",
        "  return model\n",
        "\n",
        "# creating model with multiple output\n",
        "model_multiple_output = create_model_multiple_output()\n",
        "model_multiple_output.compile(\n",
        "    optimizer = tf.keras.optimizers.Adam(learning_rate=0.001),\n",
        "    loss = tf.keras.losses.SparseCategoricalCrossentropy(),\n",
        "    metrics=[\"accuracy\"])\n",
        "\n",
        "# plotting model with multiple output\n",
        "tf.keras.utils.plot_model(model_multiple_output,show_shapes=True)"
      ]
    },
    {
      "cell_type": "markdown",
      "metadata": {
        "id": "4qVCxDWWo9Cq"
      },
      "source": [
        "## Prediction and Evaluation\n",
        "\n"
      ]
    },
    {
      "cell_type": "markdown",
      "metadata": {
        "id": "TZ4tUfGgdp5D"
      },
      "source": [
        "Lets evaluate the model performance on different sets, we will carry out all predictions using the model created via sequential API\n",
        "\n",
        "### Evaluate the model\n",
        "\n",
        "`model.evaluate(X_test, y_test)`\n",
        "\n",
        "- model.evaluate **returns the loss value & metrics value** for the model.\n",
        "- It is important to note that, **weights/parameters are not updated during evaluation** (and prediction)\n",
        "- This also means - **only forward pass, no backward pass**\n",
        "\n",
        "Now lets evalute our models on training, validation and testing datasets"
      ]
    },
    {
      "cell_type": "code",
      "execution_count": null,
      "metadata": {
        "colab": {
          "background_save": true
        },
        "id": "fQTjzv3Co8eq"
      },
      "outputs": [],
      "source": [
        "loss, accuracy = model.evaluate(X_train, y_train)\n",
        "print('Train Set')\n",
        "print(\"Loss value : \", loss)\n",
        "print(\"Accuracy   : \", accuracy)"
      ]
    },
    {
      "cell_type": "code",
      "execution_count": null,
      "metadata": {
        "colab": {
          "background_save": true
        },
        "id": "H7fQ9BZLRo6p"
      },
      "outputs": [],
      "source": [
        "loss, accuracy = model.evaluate(X_val, y_val)\n",
        "print('Validation Set')\n",
        "print(\"Loss value : \", loss)\n",
        "print(\"Accuracy   : \", accuracy)"
      ]
    },
    {
      "cell_type": "code",
      "execution_count": null,
      "metadata": {
        "colab": {
          "background_save": true
        },
        "id": "8lxV4WYPRp2K"
      },
      "outputs": [],
      "source": [
        "loss, accuracy = model.evaluate(X_test, y_test)\n",
        "print('Test Set')\n",
        "print(\"Loss value : \", loss)\n",
        "print(\"Accuracy   : \", accuracy)"
      ]
    },
    {
      "cell_type": "markdown",
      "metadata": {
        "id": "txvF0b2_srhj"
      },
      "source": [
        "### Predictions\n",
        "\n",
        "- If we need to get the prediction for an **unseen data**, we can use the `predict` method to get the predictions.\n",
        "`model.predict(X_test)`\n",
        "\n",
        "- It **returns raw output** from the model (i.e. **probabilities** of an observation belong to each one of the 4 class)"
      ]
    },
    {
      "cell_type": "code",
      "execution_count": null,
      "metadata": {
        "colab": {
          "background_save": true
        },
        "id": "ojdnGYVvsGzb"
      },
      "outputs": [],
      "source": [
        "pred = model.predict(X_test)\n",
        "pred"
      ]
    },
    {
      "cell_type": "markdown",
      "metadata": {
        "id": "MTUTbJOA9MKG"
      },
      "source": [
        "\n",
        "####What will be the sum of probabilities of an observation belong to each of the 4 classes?\n",
        "- 1\n",
        "\n",
        "- As the model outputs the probabilities for all the observations and each observation can only belong to one of these 4 classes, therefore the sum of probs will be 1."
      ]
    },
    {
      "cell_type": "code",
      "execution_count": null,
      "metadata": {
        "colab": {
          "background_save": true
        },
        "id": "VVYaZDjx9Qst"
      },
      "outputs": [],
      "source": [
        "np.sum(pred, axis=1)"
      ]
    },
    {
      "cell_type": "markdown",
      "metadata": {
        "id": "WBgkBYvd9HqV"
      },
      "source": [
        "#### How can we know the class an observation belongs to, using these 4 probability values?\n",
        "We can find the index having the largest probability and that will be the predicted class."
      ]
    },
    {
      "cell_type": "code",
      "execution_count": null,
      "metadata": {
        "colab": {
          "background_save": true
        },
        "id": "jX09LYWJs4Q7"
      },
      "outputs": [],
      "source": [
        "pred_class = np.argmax(pred, axis = 1)\n",
        "pred_class"
      ]
    },
    {
      "cell_type": "markdown",
      "metadata": {
        "id": "iYZAsVlIxL48"
      },
      "source": [
        "Now, to cross-check, we will again check accuracy of the model using sklearn's `accuracy_score`."
      ]
    },
    {
      "cell_type": "code",
      "execution_count": null,
      "metadata": {
        "colab": {
          "background_save": true
        },
        "id": "4kc80scOt_kM"
      },
      "outputs": [],
      "source": [
        "from sklearn.metrics import accuracy_score\n",
        "\n",
        "acc_score = accuracy_score(y_test, pred_class)\n",
        "\n",
        "print(\"Test acc: \", acc_score)"
      ]
    },
    {
      "cell_type": "markdown",
      "metadata": {
        "id": "lvSiylfXduFr"
      },
      "source": [
        "-- --\n",
        "## Callbacks"
      ]
    },
    {
      "cell_type": "markdown",
      "metadata": {
        "id": "zah753IufemT"
      },
      "source": [
        "\n",
        "\n",
        "Earlier, we saw\n",
        "\n",
        "- with verbose=1, model training prints associated data after every epoch\n",
        "- with verbose=0, model training prints nothing\n",
        "\n",
        "#### What if we want to customise the printing behaviour?\n",
        "\n",
        "Let's use something called **callbacks** to do this.\n",
        "\n",
        "#### But, first what are callbacks?\n",
        "\n",
        "A callback **defines a set of functions** which are **excuted at different stages of the training** procedure. <br>\n",
        "For example: A callback function may run\n",
        "1. function `on_epoch_begin` before every epoch\n",
        "2. function `on_epoch_end` after every epoch\n",
        "and such multiple functions.\n",
        "\n",
        "#### How can these callbacks be useful?\n",
        "\n",
        "They can be **used to view internal states of the model** during training.\n",
        "\n",
        "- For example, we may **want to print loss, accuracy or lr every 2000th epoch**.\n",
        "- For this, may be we can **add a condition like `if epoch%2000==0`** then only do certain task, example, printing loss, accuracy or lr"
      ]
    },
    {
      "cell_type": "markdown",
      "metadata": {
        "id": "abgjhlYqr7bG"
      },
      "source": [
        "Lets create our own customized callback class for printing Loss and Acc for every 50th epoch\n",
        "\n",
        "- The custom class will inherit from `tf.keras.callbacks.Callback`.\n",
        "- Which means that all the attributes and methods available in the keras.callbacks.callback class will be available for our customized class, and we can also override them."
      ]
    },
    {
      "cell_type": "code",
      "execution_count": null,
      "metadata": {
        "colab": {
          "background_save": true
        },
        "id": "ynyEzYXmIa4j"
      },
      "outputs": [],
      "source": [
        "class VerboseCallback(tf.keras.callbacks.Callback):\n",
        "  # runs only before the training starts\n",
        "  def on_train_begin(self, logs=None):\n",
        "        print(\"Starting training...\")\n",
        "\n",
        "  # runs after every epoch\n",
        "  def on_epoch_end(self, epoch, logs = None):\n",
        "    if epoch % 50 == 0:\n",
        "       print(f'Epoch {str(epoch).zfill(3)}', '- loss : ', logs['loss'], '- Acc : ', logs['accuracy'])\n",
        "\n",
        "  # runs once training is finished\n",
        "  def on_train_end(self, logs=None):\n",
        "        print(\"...Finished training\")"
      ]
    },
    {
      "cell_type": "markdown",
      "metadata": {
        "id": "4W-XBcK3xefS"
      },
      "source": [
        "In the above code snippet we are printing a sentence at the start of training and also printing the loss and accuracy for each 50th epoch's end. We are also printing a sentence at the end of training.\n",
        "- In the code snippet `logs` is the dictionary that callback methods take as an argument that will consist of the keys for quantities relevant to the current batch or epoch like loss, accuracy etc."
      ]
    },
    {
      "cell_type": "markdown",
      "metadata": {
        "id": "XzbzrnubBBXu"
      },
      "source": [
        "- We will have to **pass a list of callback objects** to `callbacks` argument  of the fit method\n",
        "- (Optional) We **can pass callback objects to evaluate and predict** method as well."
      ]
    },
    {
      "cell_type": "code",
      "execution_count": null,
      "metadata": {
        "colab": {
          "background_save": true
        },
        "id": "fLIhg4rSL2o8"
      },
      "outputs": [],
      "source": [
        "history = model.fit(X_train, y_train, epochs=500, batch_size=256, validation_split=0.1, verbose=0, callbacks=[VerboseCallback()])"
      ]
    },
    {
      "cell_type": "markdown",
      "metadata": {
        "id": "NhRRbR0X6Qb1"
      },
      "source": [
        "The parent class `tf.keras.callbacks.Callback` supports various kinds of methods which we can override\n",
        "\n",
        "-  Global methods  <br>\n",
        "   at the beginning/ending of training <br>\n",
        "\n",
        "- Batch-level method  <br>\n",
        " at the beginning/ending of  a batch <br>\n",
        "\n",
        "- Epoch-level method  <br>\n",
        " at the beginning/ending of an epoch <br>\n",
        "\n",
        "\n",
        "  Example -\n",
        "  ```\n",
        "class TrainingCallback(tf.keras.callbacks.Callback):\n",
        "\n",
        "    def on_train_begin(self, logs=None):\n",
        "        print(\"Starting training...\")\n",
        "        \n",
        "    def on_epoch_begin(self, epoch, logs=None):\n",
        "        print(f\"Starting epoch {epoch}\")\n",
        "\n",
        "    def on_train_batch_begin(self, batch, logs=None):\n",
        "        print(f\"Training: Starting batch {batch}\")\n",
        "        \n",
        "    def on_train_batch_end(self, batch, logs=None):\n",
        "        print(f\"Training: Finished batch {batch}, loss is {logs['loss']}\")\n",
        "        \n",
        "    def on_epoch_end(self, epoch, logs=None):\n",
        "        print(f\"Finished epoch {epoch}, loss is {logs['loss']}, accuracy is {logs['accuracy']}\")\n",
        "        \n",
        "    def on_train_end(self, logs=None):\n",
        "        print(\"Finished training\")\n",
        "\n",
        "  ```\n"
      ]
    },
    {
      "cell_type": "markdown",
      "metadata": {
        "id": "EpYfRaiLB1y5"
      },
      "source": [
        "- There are some pre-defined callback classes such as CSVLogger, EarlyStopping, LearningRateScheduler.\n",
        "- They can be useful for various tasks e.g..., EarlyStopping can be used to stop the training as soon as the validation loss starts to increase.\n",
        "\n",
        "Other examples include:\n",
        "1. CSVLogger - save history object in a csv file `csv_logger = keras.callbacks.CSVLogger(\"file_name.csv\")\n",
        "`\n",
        "2. EarlyStopping - stop the training when model starts to overfit\n",
        "3. ModelCheckpoint - saves the intermediate model weights\n",
        "4. LearningRateScheduler - control/change Learning Rate in between epochs\n",
        "\n",
        "we will use them in the later lectures"
      ]
    },
    {
      "cell_type": "markdown",
      "metadata": {
        "id": "884lkewTrY0r"
      },
      "source": [
        "So far we have learnt about the following steps for using a model:\n",
        "1. Defining a model.\n",
        "2. Compiling the model using `model.compile()` with `loss` and `optimizers`\n",
        "3. Training the model with `model.fit()`.\n",
        "4. Predicting using a model through `model.predict()`.\n",
        "5. Evaluating the performance using `model.evalulate()`.\n",
        "6. Using callbacks for performing certain tasks during different stages of training process.\n",
        "\n",
        "-- --"
      ]
    },
    {
      "cell_type": "markdown",
      "metadata": {
        "id": "zNEhanqZd0er"
      },
      "source": [
        "## Tensorboard"
      ]
    },
    {
      "cell_type": "markdown",
      "metadata": {
        "id": "MzZFSbVVzEuU"
      },
      "source": [
        "\n",
        "- It is always a **good practice to closely monitor the training process** - changes in the loss, performance, changes in the parameters.\n",
        "- We do get the values of these attributes using `history` but we need to explicitly plot them to visualize.\n",
        "- Lets learn about a **handy tool which we can use to visually track metrics, weights**\n",
        "\n",
        "\n",
        "Tensorboard is a dashboard that allows us to visualise information regarding the training process like\n",
        "- Metrics - loss, accuracy\n",
        "- Visualise the model graphs\n",
        "- Histograms of W, b, or other tensors as they change during training - distributions\n",
        "- Displaying images, text, and audio data (in later lectures)\n",
        "\n",
        "### Start Tensorboard\n",
        "\n",
        "- We **don't need to install** tensorboard in **colab**.\n",
        "- Else, we can do that using one of the possibilities\n",
        "\n",
        "```\n",
        "pip install tensorboard\n",
        "conda install -c conda-forge tensorboard\n",
        "\n",
        "```\n",
        "We will directly load the Tensorboard to Colab."
      ]
    },
    {
      "cell_type": "markdown",
      "metadata": {
        "id": "bFNHiPNa-l7a"
      },
      "source": [
        "Load tensorboard in the notebook."
      ]
    },
    {
      "cell_type": "code",
      "execution_count": null,
      "metadata": {
        "colab": {
          "background_save": true
        },
        "id": "rSRNhy0BzFMM"
      },
      "outputs": [],
      "source": [
        "%load_ext tensorboard"
      ]
    },
    {
      "cell_type": "markdown",
      "metadata": {
        "id": "plR8OT-J1Fa0"
      },
      "source": [
        "- Now we have have to set a log directory, say `logs`\n"
      ]
    },
    {
      "cell_type": "code",
      "execution_count": null,
      "metadata": {
        "colab": {
          "background_save": true
        },
        "id": "UgsF8EE92npL"
      },
      "outputs": [],
      "source": [
        "log_folder = 'logs'"
      ]
    },
    {
      "cell_type": "markdown",
      "metadata": {
        "id": "P-mPsRSa2oLX"
      },
      "source": [
        "- TensorBoard will **store all the logs in this log directory**.\n",
        "- It will read from these logs in order to display the various visualizations.\n",
        "- If we want to reload the TensorBoard extension, we can use the reload magic method"
      ]
    },
    {
      "cell_type": "code",
      "execution_count": null,
      "metadata": {
        "colab": {
          "background_save": true
        },
        "id": "vFLeJ2-P2D5Q"
      },
      "outputs": [],
      "source": [
        "%reload_ext tensorboard"
      ]
    },
    {
      "cell_type": "markdown",
      "metadata": {
        "id": "64W-UDD22HP8"
      },
      "source": [
        "- Before saving the new logs to the folder, we might want to clear the current logs (if there are any).\n"
      ]
    },
    {
      "cell_type": "code",
      "execution_count": null,
      "metadata": {
        "colab": {
          "background_save": true
        },
        "id": "UdxNiZY1s6_B"
      },
      "outputs": [],
      "source": [
        "!rm -rf logs"
      ]
    },
    {
      "cell_type": "markdown",
      "metadata": {
        "id": "WfIelAvpk9uq"
      },
      "source": [
        "Inorder to use Tensorboard, we need to import `tf.keras.callbacks.TensorBoard`"
      ]
    },
    {
      "cell_type": "code",
      "execution_count": null,
      "metadata": {
        "colab": {
          "background_save": true
        },
        "id": "_qiNzUwZ7UUl"
      },
      "outputs": [],
      "source": [
        "from tensorflow.keras.callbacks import TensorBoard"
      ]
    },
    {
      "cell_type": "markdown",
      "metadata": {
        "id": "Dgkd_gJlAP-C"
      },
      "source": [
        "Callback arguments:\n",
        "- **log_dir** - (Path)\n",
        " - directory where logs will be saved\n",
        " - This directory should not be used by any other callbacks.\n",
        "\n",
        "- **update_freq** - (int/str)\n",
        " - how frequently losses/metrics are updated.\n",
        " - when set to  `batch`, lossess/ metrics will be updated after every batch/iteration\n",
        " - when set to an integer `N`, updation will be done after `N` batches\n",
        " - when set to 'epoch', updation will be done after every epoch\n",
        "\n",
        "- **histogram_freq** - (int)\n",
        " - how frequently (in epochs)  histograms(Distribution of W) will be updated.\n",
        " - Setting this to 0 means, histograms will not be computed.\n",
        "-**write_graph**   - (Bool), `True` if we want to visualize our training process\n",
        "-**write_images** - (Bool), `True` if we want to visualize our model weights"
      ]
    },
    {
      "cell_type": "code",
      "execution_count": null,
      "metadata": {
        "colab": {
          "background_save": true
        },
        "id": "5q7nFAmn24US"
      },
      "outputs": [],
      "source": [
        "tb_callback = TensorBoard(log_dir=log_folder, histogram_freq=1)"
      ]
    },
    {
      "cell_type": "markdown",
      "metadata": {
        "id": "xWTSjyAMnAqS"
      },
      "source": [
        "Now we will train our model again. <br>\n",
        "This time using Tensorboard callback"
      ]
    },
    {
      "cell_type": "code",
      "execution_count": null,
      "metadata": {
        "colab": {
          "background_save": true
        },
        "id": "GUxqufu0m_3B"
      },
      "outputs": [],
      "source": [
        "model = create_model()\n",
        "history = model.fit(X_train, y_train, epochs=500, batch_size=512, validation_data = (X_val, y_val), verbose=0, callbacks=[tb_callback])"
      ]
    },
    {
      "cell_type": "markdown",
      "metadata": {
        "id": "Tn80smt02-VI"
      },
      "source": [
        "Let us now look at the various tabs on the TensorBoard dashboard.\n",
        "\n",
        "- **Scalars**:  shows loss and metrics\n",
        "- **Graphs** :  shows model training structure\n",
        "- **distributions** : distribution of W & b\n",
        "- **histograms** : histogram of W & b over epoch\n"
      ]
    },
    {
      "cell_type": "markdown",
      "metadata": {
        "id": "kp-9GQwTAy5O"
      },
      "source": [
        "Launch tensorboard using the following command line."
      ]
    },
    {
      "cell_type": "code",
      "execution_count": null,
      "metadata": {
        "colab": {
          "background_save": true
        },
        "id": "fzkli32VL3xr"
      },
      "outputs": [],
      "source": [
        "%tensorboard --logdir={log_folder}"
      ]
    }
  ]
}