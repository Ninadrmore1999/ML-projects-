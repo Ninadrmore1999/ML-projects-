{
  "nbformat": 4,
  "nbformat_minor": 0,
  "metadata": {
    "colab": {
      "provenance": [],
      "authorship_tag": "ABX9TyNAPV9V2O3FS0EO7cxWLvIx",
      "include_colab_link": true
    },
    "kernelspec": {
      "name": "python3",
      "display_name": "Python 3"
    },
    "language_info": {
      "name": "python"
    }
  },
  "cells": [
    {
      "cell_type": "markdown",
      "metadata": {
        "id": "view-in-github",
        "colab_type": "text"
      },
      "source": [
        "<a href=\"https://colab.research.google.com/github/Ninadrmore1999/ML-projects-/blob/main/Cars24_Price_Prediction.ipynb\" target=\"_parent\"><img src=\"https://colab.research.google.com/assets/colab-badge.svg\" alt=\"Open In Colab\"/></a>"
      ]
    },
    {
      "cell_type": "code",
      "execution_count": 13,
      "metadata": {
        "id": "49spn9EhihUg"
      },
      "outputs": [],
      "source": [
        "import numpy as np\n",
        "import pandas as pd\n",
        "import matplotlib.pyplot as plt"
      ]
    },
    {
      "cell_type": "markdown",
      "source": [
        "### Data Loading"
      ],
      "metadata": {
        "id": "cR18ZnYtpW1e"
      }
    },
    {
      "cell_type": "code",
      "source": [
        "!gdown 1bwRmKkPwmLKiqOgQ_LnKH0Vsc3mJKmVR\n"
      ],
      "metadata": {
        "colab": {
          "base_uri": "https://localhost:8080/"
        },
        "id": "MsEHL0QSNUh5",
        "outputId": "e0e27a11-1fb5-499a-9634-786cdd0fcacd"
      },
      "execution_count": 14,
      "outputs": [
        {
          "output_type": "stream",
          "name": "stdout",
          "text": [
            "Downloading...\n",
            "From: https://drive.google.com/uc?id=1bwRmKkPwmLKiqOgQ_LnKH0Vsc3mJKmVR\n",
            "To: /content/cars24-car-price-cleaned.csv\n",
            "\r  0% 0.00/1.69M [00:00<?, ?B/s]\r 93% 1.57M/1.69M [00:00<00:00, 15.5MB/s]\r100% 1.69M/1.69M [00:00<00:00, 16.5MB/s]\n"
          ]
        }
      ]
    },
    {
      "cell_type": "code",
      "execution_count": 15,
      "metadata": {
        "colab": {
          "base_uri": "https://localhost:8080/",
          "height": 365
        },
        "id": "WodYR0alYoW0",
        "outputId": "7a940b54-207b-4e38-ef39-a56351da3cdd"
      },
      "outputs": [
        {
          "output_type": "execute_result",
          "data": {
            "text/plain": [
              "   selling_price    year  km_driven  mileage  engine  max_power   age  \\\n",
              "0           1.20  2012.0     120000    19.70   796.0      46.30  11.0   \n",
              "1           5.50  2016.0      20000    18.90  1197.0      82.00   7.0   \n",
              "2           2.15  2010.0      60000    17.00  1197.0      80.00  13.0   \n",
              "3           2.26  2012.0      37000    20.92   998.0      67.10  11.0   \n",
              "4           5.70  2015.0      30000    22.77  1498.0      98.59   8.0   \n",
              "\n",
              "      make                                      model  Individual  \\\n",
              "0   MARUTI                                   ALTO STD           1   \n",
              "1  HYUNDAI                             GRAND I10 ASTA           1   \n",
              "2  HYUNDAI                                   I20 ASTA           1   \n",
              "3   MARUTI                     ALTO K10 2010-2014 VXI           1   \n",
              "4     FORD  ECOSPORT 2015-2021 1.5 TDCI TITANIUM BSIV           0   \n",
              "\n",
              "   Trustmark Dealer  Diesel  Electric  LPG  Petrol  Manual  5  >5  \n",
              "0                 0       0         0    0       1       1  1   0  \n",
              "1                 0       0         0    0       1       1  1   0  \n",
              "2                 0       0         0    0       1       1  1   0  \n",
              "3                 0       0         0    0       1       1  1   0  \n",
              "4                 0       1         0    0       0       1  1   0  "
            ],
            "text/html": [
              "\n",
              "  <div id=\"df-963936da-58f4-4186-82da-7f6077795901\" class=\"colab-df-container\">\n",
              "    <div>\n",
              "<style scoped>\n",
              "    .dataframe tbody tr th:only-of-type {\n",
              "        vertical-align: middle;\n",
              "    }\n",
              "\n",
              "    .dataframe tbody tr th {\n",
              "        vertical-align: top;\n",
              "    }\n",
              "\n",
              "    .dataframe thead th {\n",
              "        text-align: right;\n",
              "    }\n",
              "</style>\n",
              "<table border=\"1\" class=\"dataframe\">\n",
              "  <thead>\n",
              "    <tr style=\"text-align: right;\">\n",
              "      <th></th>\n",
              "      <th>selling_price</th>\n",
              "      <th>year</th>\n",
              "      <th>km_driven</th>\n",
              "      <th>mileage</th>\n",
              "      <th>engine</th>\n",
              "      <th>max_power</th>\n",
              "      <th>age</th>\n",
              "      <th>make</th>\n",
              "      <th>model</th>\n",
              "      <th>Individual</th>\n",
              "      <th>Trustmark Dealer</th>\n",
              "      <th>Diesel</th>\n",
              "      <th>Electric</th>\n",
              "      <th>LPG</th>\n",
              "      <th>Petrol</th>\n",
              "      <th>Manual</th>\n",
              "      <th>5</th>\n",
              "      <th>&gt;5</th>\n",
              "    </tr>\n",
              "  </thead>\n",
              "  <tbody>\n",
              "    <tr>\n",
              "      <th>0</th>\n",
              "      <td>1.20</td>\n",
              "      <td>2012.0</td>\n",
              "      <td>120000</td>\n",
              "      <td>19.70</td>\n",
              "      <td>796.0</td>\n",
              "      <td>46.30</td>\n",
              "      <td>11.0</td>\n",
              "      <td>MARUTI</td>\n",
              "      <td>ALTO STD</td>\n",
              "      <td>1</td>\n",
              "      <td>0</td>\n",
              "      <td>0</td>\n",
              "      <td>0</td>\n",
              "      <td>0</td>\n",
              "      <td>1</td>\n",
              "      <td>1</td>\n",
              "      <td>1</td>\n",
              "      <td>0</td>\n",
              "    </tr>\n",
              "    <tr>\n",
              "      <th>1</th>\n",
              "      <td>5.50</td>\n",
              "      <td>2016.0</td>\n",
              "      <td>20000</td>\n",
              "      <td>18.90</td>\n",
              "      <td>1197.0</td>\n",
              "      <td>82.00</td>\n",
              "      <td>7.0</td>\n",
              "      <td>HYUNDAI</td>\n",
              "      <td>GRAND I10 ASTA</td>\n",
              "      <td>1</td>\n",
              "      <td>0</td>\n",
              "      <td>0</td>\n",
              "      <td>0</td>\n",
              "      <td>0</td>\n",
              "      <td>1</td>\n",
              "      <td>1</td>\n",
              "      <td>1</td>\n",
              "      <td>0</td>\n",
              "    </tr>\n",
              "    <tr>\n",
              "      <th>2</th>\n",
              "      <td>2.15</td>\n",
              "      <td>2010.0</td>\n",
              "      <td>60000</td>\n",
              "      <td>17.00</td>\n",
              "      <td>1197.0</td>\n",
              "      <td>80.00</td>\n",
              "      <td>13.0</td>\n",
              "      <td>HYUNDAI</td>\n",
              "      <td>I20 ASTA</td>\n",
              "      <td>1</td>\n",
              "      <td>0</td>\n",
              "      <td>0</td>\n",
              "      <td>0</td>\n",
              "      <td>0</td>\n",
              "      <td>1</td>\n",
              "      <td>1</td>\n",
              "      <td>1</td>\n",
              "      <td>0</td>\n",
              "    </tr>\n",
              "    <tr>\n",
              "      <th>3</th>\n",
              "      <td>2.26</td>\n",
              "      <td>2012.0</td>\n",
              "      <td>37000</td>\n",
              "      <td>20.92</td>\n",
              "      <td>998.0</td>\n",
              "      <td>67.10</td>\n",
              "      <td>11.0</td>\n",
              "      <td>MARUTI</td>\n",
              "      <td>ALTO K10 2010-2014 VXI</td>\n",
              "      <td>1</td>\n",
              "      <td>0</td>\n",
              "      <td>0</td>\n",
              "      <td>0</td>\n",
              "      <td>0</td>\n",
              "      <td>1</td>\n",
              "      <td>1</td>\n",
              "      <td>1</td>\n",
              "      <td>0</td>\n",
              "    </tr>\n",
              "    <tr>\n",
              "      <th>4</th>\n",
              "      <td>5.70</td>\n",
              "      <td>2015.0</td>\n",
              "      <td>30000</td>\n",
              "      <td>22.77</td>\n",
              "      <td>1498.0</td>\n",
              "      <td>98.59</td>\n",
              "      <td>8.0</td>\n",
              "      <td>FORD</td>\n",
              "      <td>ECOSPORT 2015-2021 1.5 TDCI TITANIUM BSIV</td>\n",
              "      <td>0</td>\n",
              "      <td>0</td>\n",
              "      <td>1</td>\n",
              "      <td>0</td>\n",
              "      <td>0</td>\n",
              "      <td>0</td>\n",
              "      <td>1</td>\n",
              "      <td>1</td>\n",
              "      <td>0</td>\n",
              "    </tr>\n",
              "  </tbody>\n",
              "</table>\n",
              "</div>\n",
              "    <div class=\"colab-df-buttons\">\n",
              "\n",
              "  <div class=\"colab-df-container\">\n",
              "    <button class=\"colab-df-convert\" onclick=\"convertToInteractive('df-963936da-58f4-4186-82da-7f6077795901')\"\n",
              "            title=\"Convert this dataframe to an interactive table.\"\n",
              "            style=\"display:none;\">\n",
              "\n",
              "  <svg xmlns=\"http://www.w3.org/2000/svg\" height=\"24px\" viewBox=\"0 -960 960 960\">\n",
              "    <path d=\"M120-120v-720h720v720H120Zm60-500h600v-160H180v160Zm220 220h160v-160H400v160Zm0 220h160v-160H400v160ZM180-400h160v-160H180v160Zm440 0h160v-160H620v160ZM180-180h160v-160H180v160Zm440 0h160v-160H620v160Z\"/>\n",
              "  </svg>\n",
              "    </button>\n",
              "\n",
              "  <style>\n",
              "    .colab-df-container {\n",
              "      display:flex;\n",
              "      gap: 12px;\n",
              "    }\n",
              "\n",
              "    .colab-df-convert {\n",
              "      background-color: #E8F0FE;\n",
              "      border: none;\n",
              "      border-radius: 50%;\n",
              "      cursor: pointer;\n",
              "      display: none;\n",
              "      fill: #1967D2;\n",
              "      height: 32px;\n",
              "      padding: 0 0 0 0;\n",
              "      width: 32px;\n",
              "    }\n",
              "\n",
              "    .colab-df-convert:hover {\n",
              "      background-color: #E2EBFA;\n",
              "      box-shadow: 0px 1px 2px rgba(60, 64, 67, 0.3), 0px 1px 3px 1px rgba(60, 64, 67, 0.15);\n",
              "      fill: #174EA6;\n",
              "    }\n",
              "\n",
              "    .colab-df-buttons div {\n",
              "      margin-bottom: 4px;\n",
              "    }\n",
              "\n",
              "    [theme=dark] .colab-df-convert {\n",
              "      background-color: #3B4455;\n",
              "      fill: #D2E3FC;\n",
              "    }\n",
              "\n",
              "    [theme=dark] .colab-df-convert:hover {\n",
              "      background-color: #434B5C;\n",
              "      box-shadow: 0px 1px 3px 1px rgba(0, 0, 0, 0.15);\n",
              "      filter: drop-shadow(0px 1px 2px rgba(0, 0, 0, 0.3));\n",
              "      fill: #FFFFFF;\n",
              "    }\n",
              "  </style>\n",
              "\n",
              "    <script>\n",
              "      const buttonEl =\n",
              "        document.querySelector('#df-963936da-58f4-4186-82da-7f6077795901 button.colab-df-convert');\n",
              "      buttonEl.style.display =\n",
              "        google.colab.kernel.accessAllowed ? 'block' : 'none';\n",
              "\n",
              "      async function convertToInteractive(key) {\n",
              "        const element = document.querySelector('#df-963936da-58f4-4186-82da-7f6077795901');\n",
              "        const dataTable =\n",
              "          await google.colab.kernel.invokeFunction('convertToInteractive',\n",
              "                                                    [key], {});\n",
              "        if (!dataTable) return;\n",
              "\n",
              "        const docLinkHtml = 'Like what you see? Visit the ' +\n",
              "          '<a target=\"_blank\" href=https://colab.research.google.com/notebooks/data_table.ipynb>data table notebook</a>'\n",
              "          + ' to learn more about interactive tables.';\n",
              "        element.innerHTML = '';\n",
              "        dataTable['output_type'] = 'display_data';\n",
              "        await google.colab.output.renderOutput(dataTable, element);\n",
              "        const docLink = document.createElement('div');\n",
              "        docLink.innerHTML = docLinkHtml;\n",
              "        element.appendChild(docLink);\n",
              "      }\n",
              "    </script>\n",
              "  </div>\n",
              "\n",
              "\n",
              "    <div id=\"df-5a6990e4-d76d-477f-a197-25389f2d659d\">\n",
              "      <button class=\"colab-df-quickchart\" onclick=\"quickchart('df-5a6990e4-d76d-477f-a197-25389f2d659d')\"\n",
              "                title=\"Suggest charts\"\n",
              "                style=\"display:none;\">\n",
              "\n",
              "<svg xmlns=\"http://www.w3.org/2000/svg\" height=\"24px\"viewBox=\"0 0 24 24\"\n",
              "     width=\"24px\">\n",
              "    <g>\n",
              "        <path d=\"M19 3H5c-1.1 0-2 .9-2 2v14c0 1.1.9 2 2 2h14c1.1 0 2-.9 2-2V5c0-1.1-.9-2-2-2zM9 17H7v-7h2v7zm4 0h-2V7h2v10zm4 0h-2v-4h2v4z\"/>\n",
              "    </g>\n",
              "</svg>\n",
              "      </button>\n",
              "\n",
              "<style>\n",
              "  .colab-df-quickchart {\n",
              "      --bg-color: #E8F0FE;\n",
              "      --fill-color: #1967D2;\n",
              "      --hover-bg-color: #E2EBFA;\n",
              "      --hover-fill-color: #174EA6;\n",
              "      --disabled-fill-color: #AAA;\n",
              "      --disabled-bg-color: #DDD;\n",
              "  }\n",
              "\n",
              "  [theme=dark] .colab-df-quickchart {\n",
              "      --bg-color: #3B4455;\n",
              "      --fill-color: #D2E3FC;\n",
              "      --hover-bg-color: #434B5C;\n",
              "      --hover-fill-color: #FFFFFF;\n",
              "      --disabled-bg-color: #3B4455;\n",
              "      --disabled-fill-color: #666;\n",
              "  }\n",
              "\n",
              "  .colab-df-quickchart {\n",
              "    background-color: var(--bg-color);\n",
              "    border: none;\n",
              "    border-radius: 50%;\n",
              "    cursor: pointer;\n",
              "    display: none;\n",
              "    fill: var(--fill-color);\n",
              "    height: 32px;\n",
              "    padding: 0;\n",
              "    width: 32px;\n",
              "  }\n",
              "\n",
              "  .colab-df-quickchart:hover {\n",
              "    background-color: var(--hover-bg-color);\n",
              "    box-shadow: 0 1px 2px rgba(60, 64, 67, 0.3), 0 1px 3px 1px rgba(60, 64, 67, 0.15);\n",
              "    fill: var(--button-hover-fill-color);\n",
              "  }\n",
              "\n",
              "  .colab-df-quickchart-complete:disabled,\n",
              "  .colab-df-quickchart-complete:disabled:hover {\n",
              "    background-color: var(--disabled-bg-color);\n",
              "    fill: var(--disabled-fill-color);\n",
              "    box-shadow: none;\n",
              "  }\n",
              "\n",
              "  .colab-df-spinner {\n",
              "    border: 2px solid var(--fill-color);\n",
              "    border-color: transparent;\n",
              "    border-bottom-color: var(--fill-color);\n",
              "    animation:\n",
              "      spin 1s steps(1) infinite;\n",
              "  }\n",
              "\n",
              "  @keyframes spin {\n",
              "    0% {\n",
              "      border-color: transparent;\n",
              "      border-bottom-color: var(--fill-color);\n",
              "      border-left-color: var(--fill-color);\n",
              "    }\n",
              "    20% {\n",
              "      border-color: transparent;\n",
              "      border-left-color: var(--fill-color);\n",
              "      border-top-color: var(--fill-color);\n",
              "    }\n",
              "    30% {\n",
              "      border-color: transparent;\n",
              "      border-left-color: var(--fill-color);\n",
              "      border-top-color: var(--fill-color);\n",
              "      border-right-color: var(--fill-color);\n",
              "    }\n",
              "    40% {\n",
              "      border-color: transparent;\n",
              "      border-right-color: var(--fill-color);\n",
              "      border-top-color: var(--fill-color);\n",
              "    }\n",
              "    60% {\n",
              "      border-color: transparent;\n",
              "      border-right-color: var(--fill-color);\n",
              "    }\n",
              "    80% {\n",
              "      border-color: transparent;\n",
              "      border-right-color: var(--fill-color);\n",
              "      border-bottom-color: var(--fill-color);\n",
              "    }\n",
              "    90% {\n",
              "      border-color: transparent;\n",
              "      border-bottom-color: var(--fill-color);\n",
              "    }\n",
              "  }\n",
              "</style>\n",
              "\n",
              "      <script>\n",
              "        async function quickchart(key) {\n",
              "          const quickchartButtonEl =\n",
              "            document.querySelector('#' + key + ' button');\n",
              "          quickchartButtonEl.disabled = true;  // To prevent multiple clicks.\n",
              "          quickchartButtonEl.classList.add('colab-df-spinner');\n",
              "          try {\n",
              "            const charts = await google.colab.kernel.invokeFunction(\n",
              "                'suggestCharts', [key], {});\n",
              "          } catch (error) {\n",
              "            console.error('Error during call to suggestCharts:', error);\n",
              "          }\n",
              "          quickchartButtonEl.classList.remove('colab-df-spinner');\n",
              "          quickchartButtonEl.classList.add('colab-df-quickchart-complete');\n",
              "        }\n",
              "        (() => {\n",
              "          let quickchartButtonEl =\n",
              "            document.querySelector('#df-5a6990e4-d76d-477f-a197-25389f2d659d button');\n",
              "          quickchartButtonEl.style.display =\n",
              "            google.colab.kernel.accessAllowed ? 'block' : 'none';\n",
              "        })();\n",
              "      </script>\n",
              "    </div>\n",
              "\n",
              "    </div>\n",
              "  </div>\n"
            ],
            "application/vnd.google.colaboratory.intrinsic+json": {
              "type": "dataframe",
              "variable_name": "df",
              "summary": "{\n  \"name\": \"df\",\n  \"rows\": 19820,\n  \"fields\": [\n    {\n      \"column\": \"selling_price\",\n      \"properties\": {\n        \"dtype\": \"number\",\n        \"std\": 4.847364489233198,\n        \"min\": 0.3,\n        \"max\": 20.90249999999996,\n        \"num_unique_values\": 964,\n        \"samples\": [\n          1.27,\n          20.75,\n          9.72\n        ],\n        \"semantic_type\": \"\",\n        \"description\": \"\"\n      }\n    },\n    {\n      \"column\": \"year\",\n      \"properties\": {\n        \"dtype\": \"number\",\n        \"std\": 3.1966364815165047,\n        \"min\": 1992.0,\n        \"max\": 2021.0,\n        \"num_unique_values\": 27,\n        \"samples\": [\n          2014.0,\n          2020.0,\n          2011.0\n        ],\n        \"semantic_type\": \"\",\n        \"description\": \"\"\n      }\n    },\n    {\n      \"column\": \"km_driven\",\n      \"properties\": {\n        \"dtype\": \"number\",\n        \"std\": 51715,\n        \"min\": 100,\n        \"max\": 3800000,\n        \"num_unique_values\": 4476,\n        \"samples\": [\n          136700,\n          79200,\n          89755\n        ],\n        \"semantic_type\": \"\",\n        \"description\": \"\"\n      }\n    },\n    {\n      \"column\": \"mileage\",\n      \"properties\": {\n        \"dtype\": \"number\",\n        \"std\": 4.297783699130578,\n        \"min\": 4.0,\n        \"max\": 120.0,\n        \"num_unique_values\": 532,\n        \"samples\": [\n          20.51,\n          8.9,\n          18.7\n        ],\n        \"semantic_type\": \"\",\n        \"description\": \"\"\n      }\n    },\n    {\n      \"column\": \"engine\",\n      \"properties\": {\n        \"dtype\": \"number\",\n        \"std\": 518.5712227088476,\n        \"min\": 0.0,\n        \"max\": 6752.0,\n        \"num_unique_values\": 167,\n        \"samples\": [\n          1242.0,\n          2359.0,\n          17.0\n        ],\n        \"semantic_type\": \"\",\n        \"description\": \"\"\n      }\n    },\n    {\n      \"column\": \"max_power\",\n      \"properties\": {\n        \"dtype\": \"number\",\n        \"std\": 44.761726745253995,\n        \"min\": 5.0,\n        \"max\": 626.0,\n        \"num_unique_values\": 484,\n        \"samples\": [\n          84.82,\n          575.0,\n          103.5\n        ],\n        \"semantic_type\": \"\",\n        \"description\": \"\"\n      }\n    },\n    {\n      \"column\": \"age\",\n      \"properties\": {\n        \"dtype\": \"number\",\n        \"std\": 3.1966364815165047,\n        \"min\": 2.0,\n        \"max\": 31.0,\n        \"num_unique_values\": 27,\n        \"samples\": [\n          9.0,\n          3.0,\n          12.0\n        ],\n        \"semantic_type\": \"\",\n        \"description\": \"\"\n      }\n    },\n    {\n      \"column\": \"make\",\n      \"properties\": {\n        \"dtype\": \"category\",\n        \"num_unique_values\": 41,\n        \"samples\": [\n          \"BENTLEY\",\n          \"CHEVROLET\",\n          \"MERCEDES-BENZ\"\n        ],\n        \"semantic_type\": \"\",\n        \"description\": \"\"\n      }\n    },\n    {\n      \"column\": \"model\",\n      \"properties\": {\n        \"dtype\": \"category\",\n        \"num_unique_values\": 3233,\n        \"samples\": [\n          \"ROVER FREELANDER 2 SE\",\n          \"CR-V 2.0 AT\",\n          \"Q3 30 TDI PREMIUM FWD\"\n        ],\n        \"semantic_type\": \"\",\n        \"description\": \"\"\n      }\n    },\n    {\n      \"column\": \"Individual\",\n      \"properties\": {\n        \"dtype\": \"number\",\n        \"std\": 0,\n        \"min\": 0,\n        \"max\": 1,\n        \"num_unique_values\": 2,\n        \"samples\": [\n          0,\n          1\n        ],\n        \"semantic_type\": \"\",\n        \"description\": \"\"\n      }\n    },\n    {\n      \"column\": \"Trustmark Dealer\",\n      \"properties\": {\n        \"dtype\": \"number\",\n        \"std\": 0,\n        \"min\": 0,\n        \"max\": 1,\n        \"num_unique_values\": 2,\n        \"samples\": [\n          1,\n          0\n        ],\n        \"semantic_type\": \"\",\n        \"description\": \"\"\n      }\n    },\n    {\n      \"column\": \"Diesel\",\n      \"properties\": {\n        \"dtype\": \"number\",\n        \"std\": 0,\n        \"min\": 0,\n        \"max\": 1,\n        \"num_unique_values\": 2,\n        \"samples\": [\n          1,\n          0\n        ],\n        \"semantic_type\": \"\",\n        \"description\": \"\"\n      }\n    },\n    {\n      \"column\": \"Electric\",\n      \"properties\": {\n        \"dtype\": \"number\",\n        \"std\": 0,\n        \"min\": 0,\n        \"max\": 1,\n        \"num_unique_values\": 2,\n        \"samples\": [\n          1,\n          0\n        ],\n        \"semantic_type\": \"\",\n        \"description\": \"\"\n      }\n    },\n    {\n      \"column\": \"LPG\",\n      \"properties\": {\n        \"dtype\": \"number\",\n        \"std\": 0,\n        \"min\": 0,\n        \"max\": 1,\n        \"num_unique_values\": 2,\n        \"samples\": [\n          1,\n          0\n        ],\n        \"semantic_type\": \"\",\n        \"description\": \"\"\n      }\n    },\n    {\n      \"column\": \"Petrol\",\n      \"properties\": {\n        \"dtype\": \"number\",\n        \"std\": 0,\n        \"min\": 0,\n        \"max\": 1,\n        \"num_unique_values\": 2,\n        \"samples\": [\n          0,\n          1\n        ],\n        \"semantic_type\": \"\",\n        \"description\": \"\"\n      }\n    },\n    {\n      \"column\": \"Manual\",\n      \"properties\": {\n        \"dtype\": \"number\",\n        \"std\": 0,\n        \"min\": 0,\n        \"max\": 1,\n        \"num_unique_values\": 2,\n        \"samples\": [\n          0,\n          1\n        ],\n        \"semantic_type\": \"\",\n        \"description\": \"\"\n      }\n    },\n    {\n      \"column\": \"5\",\n      \"properties\": {\n        \"dtype\": \"number\",\n        \"std\": 0,\n        \"min\": 0,\n        \"max\": 1,\n        \"num_unique_values\": 2,\n        \"samples\": [\n          0,\n          1\n        ],\n        \"semantic_type\": \"\",\n        \"description\": \"\"\n      }\n    },\n    {\n      \"column\": \">5\",\n      \"properties\": {\n        \"dtype\": \"number\",\n        \"std\": 0,\n        \"min\": 0,\n        \"max\": 1,\n        \"num_unique_values\": 2,\n        \"samples\": [\n          1,\n          0\n        ],\n        \"semantic_type\": \"\",\n        \"description\": \"\"\n      }\n    }\n  ]\n}"
            }
          },
          "metadata": {},
          "execution_count": 15
        }
      ],
      "source": [
        "df = pd.read_csv('cars24-car-price-cleaned.csv')\n",
        "df.head()"
      ]
    },
    {
      "cell_type": "markdown",
      "metadata": {
        "id": "9Aw95BA6NVi_"
      },
      "source": [
        "### Target variable encoding"
      ]
    },
    {
      "cell_type": "code",
      "execution_count": 16,
      "metadata": {
        "colab": {
          "base_uri": "https://localhost:8080/"
        },
        "id": "lY4iW2E1Q36J",
        "outputId": "86e0f9ea-3323-47e3-f618-caeda811aa07"
      },
      "outputs": [
        {
          "output_type": "execute_result",
          "data": {
            "text/plain": [
              "(3233, 41)"
            ]
          },
          "metadata": {},
          "execution_count": 16
        }
      ],
      "source": [
        "df['model'].nunique(), df['make'].nunique()"
      ]
    },
    {
      "cell_type": "code",
      "execution_count": 17,
      "metadata": {
        "colab": {
          "base_uri": "https://localhost:8080/",
          "height": 243
        },
        "id": "BQF4wqVsMB6g",
        "outputId": "479528e6-fd77-4e66-9aca-b4d331bf264d"
      },
      "outputs": [
        {
          "output_type": "execute_result",
          "data": {
            "text/plain": [
              "   selling_price    year  km_driven  mileage  engine  max_power   age  \\\n",
              "0           1.20  2012.0     120000    19.70   796.0      46.30  11.0   \n",
              "1           5.50  2016.0      20000    18.90  1197.0      82.00   7.0   \n",
              "2           2.15  2010.0      60000    17.00  1197.0      80.00  13.0   \n",
              "3           2.26  2012.0      37000    20.92   998.0      67.10  11.0   \n",
              "4           5.70  2015.0      30000    22.77  1498.0      98.59   8.0   \n",
              "\n",
              "       make     model  Individual  Trustmark Dealer  Diesel  Electric  LPG  \\\n",
              "0  4.684721  1.180000           1                 0       0         0    0   \n",
              "1  5.458819  4.818750           1                 0       0         0    0   \n",
              "2  5.458819  3.394000           1                 0       0         0    0   \n",
              "3  4.684721  2.242676           1                 0       0         0    0   \n",
              "4  5.858258  6.777576           0                 0       1         0    0   \n",
              "\n",
              "   Petrol  Manual  5  >5  \n",
              "0       1       1  1   0  \n",
              "1       1       1  1   0  \n",
              "2       1       1  1   0  \n",
              "3       1       1  1   0  \n",
              "4       0       1  1   0  "
            ],
            "text/html": [
              "\n",
              "  <div id=\"df-1314f1dc-58b3-44b9-8759-bff5a0e7807e\" class=\"colab-df-container\">\n",
              "    <div>\n",
              "<style scoped>\n",
              "    .dataframe tbody tr th:only-of-type {\n",
              "        vertical-align: middle;\n",
              "    }\n",
              "\n",
              "    .dataframe tbody tr th {\n",
              "        vertical-align: top;\n",
              "    }\n",
              "\n",
              "    .dataframe thead th {\n",
              "        text-align: right;\n",
              "    }\n",
              "</style>\n",
              "<table border=\"1\" class=\"dataframe\">\n",
              "  <thead>\n",
              "    <tr style=\"text-align: right;\">\n",
              "      <th></th>\n",
              "      <th>selling_price</th>\n",
              "      <th>year</th>\n",
              "      <th>km_driven</th>\n",
              "      <th>mileage</th>\n",
              "      <th>engine</th>\n",
              "      <th>max_power</th>\n",
              "      <th>age</th>\n",
              "      <th>make</th>\n",
              "      <th>model</th>\n",
              "      <th>Individual</th>\n",
              "      <th>Trustmark Dealer</th>\n",
              "      <th>Diesel</th>\n",
              "      <th>Electric</th>\n",
              "      <th>LPG</th>\n",
              "      <th>Petrol</th>\n",
              "      <th>Manual</th>\n",
              "      <th>5</th>\n",
              "      <th>&gt;5</th>\n",
              "    </tr>\n",
              "  </thead>\n",
              "  <tbody>\n",
              "    <tr>\n",
              "      <th>0</th>\n",
              "      <td>1.20</td>\n",
              "      <td>2012.0</td>\n",
              "      <td>120000</td>\n",
              "      <td>19.70</td>\n",
              "      <td>796.0</td>\n",
              "      <td>46.30</td>\n",
              "      <td>11.0</td>\n",
              "      <td>4.684721</td>\n",
              "      <td>1.180000</td>\n",
              "      <td>1</td>\n",
              "      <td>0</td>\n",
              "      <td>0</td>\n",
              "      <td>0</td>\n",
              "      <td>0</td>\n",
              "      <td>1</td>\n",
              "      <td>1</td>\n",
              "      <td>1</td>\n",
              "      <td>0</td>\n",
              "    </tr>\n",
              "    <tr>\n",
              "      <th>1</th>\n",
              "      <td>5.50</td>\n",
              "      <td>2016.0</td>\n",
              "      <td>20000</td>\n",
              "      <td>18.90</td>\n",
              "      <td>1197.0</td>\n",
              "      <td>82.00</td>\n",
              "      <td>7.0</td>\n",
              "      <td>5.458819</td>\n",
              "      <td>4.818750</td>\n",
              "      <td>1</td>\n",
              "      <td>0</td>\n",
              "      <td>0</td>\n",
              "      <td>0</td>\n",
              "      <td>0</td>\n",
              "      <td>1</td>\n",
              "      <td>1</td>\n",
              "      <td>1</td>\n",
              "      <td>0</td>\n",
              "    </tr>\n",
              "    <tr>\n",
              "      <th>2</th>\n",
              "      <td>2.15</td>\n",
              "      <td>2010.0</td>\n",
              "      <td>60000</td>\n",
              "      <td>17.00</td>\n",
              "      <td>1197.0</td>\n",
              "      <td>80.00</td>\n",
              "      <td>13.0</td>\n",
              "      <td>5.458819</td>\n",
              "      <td>3.394000</td>\n",
              "      <td>1</td>\n",
              "      <td>0</td>\n",
              "      <td>0</td>\n",
              "      <td>0</td>\n",
              "      <td>0</td>\n",
              "      <td>1</td>\n",
              "      <td>1</td>\n",
              "      <td>1</td>\n",
              "      <td>0</td>\n",
              "    </tr>\n",
              "    <tr>\n",
              "      <th>3</th>\n",
              "      <td>2.26</td>\n",
              "      <td>2012.0</td>\n",
              "      <td>37000</td>\n",
              "      <td>20.92</td>\n",
              "      <td>998.0</td>\n",
              "      <td>67.10</td>\n",
              "      <td>11.0</td>\n",
              "      <td>4.684721</td>\n",
              "      <td>2.242676</td>\n",
              "      <td>1</td>\n",
              "      <td>0</td>\n",
              "      <td>0</td>\n",
              "      <td>0</td>\n",
              "      <td>0</td>\n",
              "      <td>1</td>\n",
              "      <td>1</td>\n",
              "      <td>1</td>\n",
              "      <td>0</td>\n",
              "    </tr>\n",
              "    <tr>\n",
              "      <th>4</th>\n",
              "      <td>5.70</td>\n",
              "      <td>2015.0</td>\n",
              "      <td>30000</td>\n",
              "      <td>22.77</td>\n",
              "      <td>1498.0</td>\n",
              "      <td>98.59</td>\n",
              "      <td>8.0</td>\n",
              "      <td>5.858258</td>\n",
              "      <td>6.777576</td>\n",
              "      <td>0</td>\n",
              "      <td>0</td>\n",
              "      <td>1</td>\n",
              "      <td>0</td>\n",
              "      <td>0</td>\n",
              "      <td>0</td>\n",
              "      <td>1</td>\n",
              "      <td>1</td>\n",
              "      <td>0</td>\n",
              "    </tr>\n",
              "  </tbody>\n",
              "</table>\n",
              "</div>\n",
              "    <div class=\"colab-df-buttons\">\n",
              "\n",
              "  <div class=\"colab-df-container\">\n",
              "    <button class=\"colab-df-convert\" onclick=\"convertToInteractive('df-1314f1dc-58b3-44b9-8759-bff5a0e7807e')\"\n",
              "            title=\"Convert this dataframe to an interactive table.\"\n",
              "            style=\"display:none;\">\n",
              "\n",
              "  <svg xmlns=\"http://www.w3.org/2000/svg\" height=\"24px\" viewBox=\"0 -960 960 960\">\n",
              "    <path d=\"M120-120v-720h720v720H120Zm60-500h600v-160H180v160Zm220 220h160v-160H400v160Zm0 220h160v-160H400v160ZM180-400h160v-160H180v160Zm440 0h160v-160H620v160ZM180-180h160v-160H180v160Zm440 0h160v-160H620v160Z\"/>\n",
              "  </svg>\n",
              "    </button>\n",
              "\n",
              "  <style>\n",
              "    .colab-df-container {\n",
              "      display:flex;\n",
              "      gap: 12px;\n",
              "    }\n",
              "\n",
              "    .colab-df-convert {\n",
              "      background-color: #E8F0FE;\n",
              "      border: none;\n",
              "      border-radius: 50%;\n",
              "      cursor: pointer;\n",
              "      display: none;\n",
              "      fill: #1967D2;\n",
              "      height: 32px;\n",
              "      padding: 0 0 0 0;\n",
              "      width: 32px;\n",
              "    }\n",
              "\n",
              "    .colab-df-convert:hover {\n",
              "      background-color: #E2EBFA;\n",
              "      box-shadow: 0px 1px 2px rgba(60, 64, 67, 0.3), 0px 1px 3px 1px rgba(60, 64, 67, 0.15);\n",
              "      fill: #174EA6;\n",
              "    }\n",
              "\n",
              "    .colab-df-buttons div {\n",
              "      margin-bottom: 4px;\n",
              "    }\n",
              "\n",
              "    [theme=dark] .colab-df-convert {\n",
              "      background-color: #3B4455;\n",
              "      fill: #D2E3FC;\n",
              "    }\n",
              "\n",
              "    [theme=dark] .colab-df-convert:hover {\n",
              "      background-color: #434B5C;\n",
              "      box-shadow: 0px 1px 3px 1px rgba(0, 0, 0, 0.15);\n",
              "      filter: drop-shadow(0px 1px 2px rgba(0, 0, 0, 0.3));\n",
              "      fill: #FFFFFF;\n",
              "    }\n",
              "  </style>\n",
              "\n",
              "    <script>\n",
              "      const buttonEl =\n",
              "        document.querySelector('#df-1314f1dc-58b3-44b9-8759-bff5a0e7807e button.colab-df-convert');\n",
              "      buttonEl.style.display =\n",
              "        google.colab.kernel.accessAllowed ? 'block' : 'none';\n",
              "\n",
              "      async function convertToInteractive(key) {\n",
              "        const element = document.querySelector('#df-1314f1dc-58b3-44b9-8759-bff5a0e7807e');\n",
              "        const dataTable =\n",
              "          await google.colab.kernel.invokeFunction('convertToInteractive',\n",
              "                                                    [key], {});\n",
              "        if (!dataTable) return;\n",
              "\n",
              "        const docLinkHtml = 'Like what you see? Visit the ' +\n",
              "          '<a target=\"_blank\" href=https://colab.research.google.com/notebooks/data_table.ipynb>data table notebook</a>'\n",
              "          + ' to learn more about interactive tables.';\n",
              "        element.innerHTML = '';\n",
              "        dataTable['output_type'] = 'display_data';\n",
              "        await google.colab.output.renderOutput(dataTable, element);\n",
              "        const docLink = document.createElement('div');\n",
              "        docLink.innerHTML = docLinkHtml;\n",
              "        element.appendChild(docLink);\n",
              "      }\n",
              "    </script>\n",
              "  </div>\n",
              "\n",
              "\n",
              "    <div id=\"df-f21ab955-3c9d-4ea4-9591-1ddf320fadf3\">\n",
              "      <button class=\"colab-df-quickchart\" onclick=\"quickchart('df-f21ab955-3c9d-4ea4-9591-1ddf320fadf3')\"\n",
              "                title=\"Suggest charts\"\n",
              "                style=\"display:none;\">\n",
              "\n",
              "<svg xmlns=\"http://www.w3.org/2000/svg\" height=\"24px\"viewBox=\"0 0 24 24\"\n",
              "     width=\"24px\">\n",
              "    <g>\n",
              "        <path d=\"M19 3H5c-1.1 0-2 .9-2 2v14c0 1.1.9 2 2 2h14c1.1 0 2-.9 2-2V5c0-1.1-.9-2-2-2zM9 17H7v-7h2v7zm4 0h-2V7h2v10zm4 0h-2v-4h2v4z\"/>\n",
              "    </g>\n",
              "</svg>\n",
              "      </button>\n",
              "\n",
              "<style>\n",
              "  .colab-df-quickchart {\n",
              "      --bg-color: #E8F0FE;\n",
              "      --fill-color: #1967D2;\n",
              "      --hover-bg-color: #E2EBFA;\n",
              "      --hover-fill-color: #174EA6;\n",
              "      --disabled-fill-color: #AAA;\n",
              "      --disabled-bg-color: #DDD;\n",
              "  }\n",
              "\n",
              "  [theme=dark] .colab-df-quickchart {\n",
              "      --bg-color: #3B4455;\n",
              "      --fill-color: #D2E3FC;\n",
              "      --hover-bg-color: #434B5C;\n",
              "      --hover-fill-color: #FFFFFF;\n",
              "      --disabled-bg-color: #3B4455;\n",
              "      --disabled-fill-color: #666;\n",
              "  }\n",
              "\n",
              "  .colab-df-quickchart {\n",
              "    background-color: var(--bg-color);\n",
              "    border: none;\n",
              "    border-radius: 50%;\n",
              "    cursor: pointer;\n",
              "    display: none;\n",
              "    fill: var(--fill-color);\n",
              "    height: 32px;\n",
              "    padding: 0;\n",
              "    width: 32px;\n",
              "  }\n",
              "\n",
              "  .colab-df-quickchart:hover {\n",
              "    background-color: var(--hover-bg-color);\n",
              "    box-shadow: 0 1px 2px rgba(60, 64, 67, 0.3), 0 1px 3px 1px rgba(60, 64, 67, 0.15);\n",
              "    fill: var(--button-hover-fill-color);\n",
              "  }\n",
              "\n",
              "  .colab-df-quickchart-complete:disabled,\n",
              "  .colab-df-quickchart-complete:disabled:hover {\n",
              "    background-color: var(--disabled-bg-color);\n",
              "    fill: var(--disabled-fill-color);\n",
              "    box-shadow: none;\n",
              "  }\n",
              "\n",
              "  .colab-df-spinner {\n",
              "    border: 2px solid var(--fill-color);\n",
              "    border-color: transparent;\n",
              "    border-bottom-color: var(--fill-color);\n",
              "    animation:\n",
              "      spin 1s steps(1) infinite;\n",
              "  }\n",
              "\n",
              "  @keyframes spin {\n",
              "    0% {\n",
              "      border-color: transparent;\n",
              "      border-bottom-color: var(--fill-color);\n",
              "      border-left-color: var(--fill-color);\n",
              "    }\n",
              "    20% {\n",
              "      border-color: transparent;\n",
              "      border-left-color: var(--fill-color);\n",
              "      border-top-color: var(--fill-color);\n",
              "    }\n",
              "    30% {\n",
              "      border-color: transparent;\n",
              "      border-left-color: var(--fill-color);\n",
              "      border-top-color: var(--fill-color);\n",
              "      border-right-color: var(--fill-color);\n",
              "    }\n",
              "    40% {\n",
              "      border-color: transparent;\n",
              "      border-right-color: var(--fill-color);\n",
              "      border-top-color: var(--fill-color);\n",
              "    }\n",
              "    60% {\n",
              "      border-color: transparent;\n",
              "      border-right-color: var(--fill-color);\n",
              "    }\n",
              "    80% {\n",
              "      border-color: transparent;\n",
              "      border-right-color: var(--fill-color);\n",
              "      border-bottom-color: var(--fill-color);\n",
              "    }\n",
              "    90% {\n",
              "      border-color: transparent;\n",
              "      border-bottom-color: var(--fill-color);\n",
              "    }\n",
              "  }\n",
              "</style>\n",
              "\n",
              "      <script>\n",
              "        async function quickchart(key) {\n",
              "          const quickchartButtonEl =\n",
              "            document.querySelector('#' + key + ' button');\n",
              "          quickchartButtonEl.disabled = true;  // To prevent multiple clicks.\n",
              "          quickchartButtonEl.classList.add('colab-df-spinner');\n",
              "          try {\n",
              "            const charts = await google.colab.kernel.invokeFunction(\n",
              "                'suggestCharts', [key], {});\n",
              "          } catch (error) {\n",
              "            console.error('Error during call to suggestCharts:', error);\n",
              "          }\n",
              "          quickchartButtonEl.classList.remove('colab-df-spinner');\n",
              "          quickchartButtonEl.classList.add('colab-df-quickchart-complete');\n",
              "        }\n",
              "        (() => {\n",
              "          let quickchartButtonEl =\n",
              "            document.querySelector('#df-f21ab955-3c9d-4ea4-9591-1ddf320fadf3 button');\n",
              "          quickchartButtonEl.style.display =\n",
              "            google.colab.kernel.accessAllowed ? 'block' : 'none';\n",
              "        })();\n",
              "      </script>\n",
              "    </div>\n",
              "\n",
              "    </div>\n",
              "  </div>\n"
            ],
            "application/vnd.google.colaboratory.intrinsic+json": {
              "type": "dataframe",
              "variable_name": "df",
              "summary": "{\n  \"name\": \"df\",\n  \"rows\": 19820,\n  \"fields\": [\n    {\n      \"column\": \"selling_price\",\n      \"properties\": {\n        \"dtype\": \"number\",\n        \"std\": 4.847364489233198,\n        \"min\": 0.3,\n        \"max\": 20.90249999999996,\n        \"num_unique_values\": 964,\n        \"samples\": [\n          1.27,\n          20.75,\n          9.72\n        ],\n        \"semantic_type\": \"\",\n        \"description\": \"\"\n      }\n    },\n    {\n      \"column\": \"year\",\n      \"properties\": {\n        \"dtype\": \"number\",\n        \"std\": 3.1966364815165047,\n        \"min\": 1992.0,\n        \"max\": 2021.0,\n        \"num_unique_values\": 27,\n        \"samples\": [\n          2014.0,\n          2020.0,\n          2011.0\n        ],\n        \"semantic_type\": \"\",\n        \"description\": \"\"\n      }\n    },\n    {\n      \"column\": \"km_driven\",\n      \"properties\": {\n        \"dtype\": \"number\",\n        \"std\": 51715,\n        \"min\": 100,\n        \"max\": 3800000,\n        \"num_unique_values\": 4476,\n        \"samples\": [\n          136700,\n          79200,\n          89755\n        ],\n        \"semantic_type\": \"\",\n        \"description\": \"\"\n      }\n    },\n    {\n      \"column\": \"mileage\",\n      \"properties\": {\n        \"dtype\": \"number\",\n        \"std\": 4.297783699130578,\n        \"min\": 4.0,\n        \"max\": 120.0,\n        \"num_unique_values\": 532,\n        \"samples\": [\n          20.51,\n          8.9,\n          18.7\n        ],\n        \"semantic_type\": \"\",\n        \"description\": \"\"\n      }\n    },\n    {\n      \"column\": \"engine\",\n      \"properties\": {\n        \"dtype\": \"number\",\n        \"std\": 518.5712227088476,\n        \"min\": 0.0,\n        \"max\": 6752.0,\n        \"num_unique_values\": 167,\n        \"samples\": [\n          1242.0,\n          2359.0,\n          17.0\n        ],\n        \"semantic_type\": \"\",\n        \"description\": \"\"\n      }\n    },\n    {\n      \"column\": \"max_power\",\n      \"properties\": {\n        \"dtype\": \"number\",\n        \"std\": 44.761726745253995,\n        \"min\": 5.0,\n        \"max\": 626.0,\n        \"num_unique_values\": 484,\n        \"samples\": [\n          84.82,\n          575.0,\n          103.5\n        ],\n        \"semantic_type\": \"\",\n        \"description\": \"\"\n      }\n    },\n    {\n      \"column\": \"age\",\n      \"properties\": {\n        \"dtype\": \"number\",\n        \"std\": 3.1966364815165047,\n        \"min\": 2.0,\n        \"max\": 31.0,\n        \"num_unique_values\": 27,\n        \"samples\": [\n          9.0,\n          3.0,\n          12.0\n        ],\n        \"semantic_type\": \"\",\n        \"description\": \"\"\n      }\n    },\n    {\n      \"column\": \"make\",\n      \"properties\": {\n        \"dtype\": \"number\",\n        \"std\": 3.6333575895415335,\n        \"min\": 0.78,\n        \"max\": 20.90249999999996,\n        \"num_unique_values\": 35,\n        \"samples\": [\n          14.03770833333333,\n          2.7236206896551725,\n          20.90249999999996\n        ],\n        \"semantic_type\": \"\",\n        \"description\": \"\"\n      }\n    },\n    {\n      \"column\": \"model\",\n      \"properties\": {\n        \"dtype\": \"number\",\n        \"std\": 4.692537184535299,\n        \"min\": 0.325,\n        \"max\": 20.90249999999996,\n        \"num_unique_values\": 1890,\n        \"samples\": [\n          3.1100000000000003,\n          6.75,\n          4.0625\n        ],\n        \"semantic_type\": \"\",\n        \"description\": \"\"\n      }\n    },\n    {\n      \"column\": \"Individual\",\n      \"properties\": {\n        \"dtype\": \"number\",\n        \"std\": 0,\n        \"min\": 0,\n        \"max\": 1,\n        \"num_unique_values\": 2,\n        \"samples\": [\n          0,\n          1\n        ],\n        \"semantic_type\": \"\",\n        \"description\": \"\"\n      }\n    },\n    {\n      \"column\": \"Trustmark Dealer\",\n      \"properties\": {\n        \"dtype\": \"number\",\n        \"std\": 0,\n        \"min\": 0,\n        \"max\": 1,\n        \"num_unique_values\": 2,\n        \"samples\": [\n          1,\n          0\n        ],\n        \"semantic_type\": \"\",\n        \"description\": \"\"\n      }\n    },\n    {\n      \"column\": \"Diesel\",\n      \"properties\": {\n        \"dtype\": \"number\",\n        \"std\": 0,\n        \"min\": 0,\n        \"max\": 1,\n        \"num_unique_values\": 2,\n        \"samples\": [\n          1,\n          0\n        ],\n        \"semantic_type\": \"\",\n        \"description\": \"\"\n      }\n    },\n    {\n      \"column\": \"Electric\",\n      \"properties\": {\n        \"dtype\": \"number\",\n        \"std\": 0,\n        \"min\": 0,\n        \"max\": 1,\n        \"num_unique_values\": 2,\n        \"samples\": [\n          1,\n          0\n        ],\n        \"semantic_type\": \"\",\n        \"description\": \"\"\n      }\n    },\n    {\n      \"column\": \"LPG\",\n      \"properties\": {\n        \"dtype\": \"number\",\n        \"std\": 0,\n        \"min\": 0,\n        \"max\": 1,\n        \"num_unique_values\": 2,\n        \"samples\": [\n          1,\n          0\n        ],\n        \"semantic_type\": \"\",\n        \"description\": \"\"\n      }\n    },\n    {\n      \"column\": \"Petrol\",\n      \"properties\": {\n        \"dtype\": \"number\",\n        \"std\": 0,\n        \"min\": 0,\n        \"max\": 1,\n        \"num_unique_values\": 2,\n        \"samples\": [\n          0,\n          1\n        ],\n        \"semantic_type\": \"\",\n        \"description\": \"\"\n      }\n    },\n    {\n      \"column\": \"Manual\",\n      \"properties\": {\n        \"dtype\": \"number\",\n        \"std\": 0,\n        \"min\": 0,\n        \"max\": 1,\n        \"num_unique_values\": 2,\n        \"samples\": [\n          0,\n          1\n        ],\n        \"semantic_type\": \"\",\n        \"description\": \"\"\n      }\n    },\n    {\n      \"column\": \"5\",\n      \"properties\": {\n        \"dtype\": \"number\",\n        \"std\": 0,\n        \"min\": 0,\n        \"max\": 1,\n        \"num_unique_values\": 2,\n        \"samples\": [\n          0,\n          1\n        ],\n        \"semantic_type\": \"\",\n        \"description\": \"\"\n      }\n    },\n    {\n      \"column\": \">5\",\n      \"properties\": {\n        \"dtype\": \"number\",\n        \"std\": 0,\n        \"min\": 0,\n        \"max\": 1,\n        \"num_unique_values\": 2,\n        \"samples\": [\n          1,\n          0\n        ],\n        \"semantic_type\": \"\",\n        \"description\": \"\"\n      }\n    }\n  ]\n}"
            }
          },
          "metadata": {},
          "execution_count": 17
        }
      ],
      "source": [
        "df['make'] = df.groupby('make')['selling_price'].transform('mean')\n",
        "df['model'] = df.groupby('model')['selling_price'].transform('mean')\n",
        "df.head()"
      ]
    },
    {
      "cell_type": "code",
      "execution_count": 18,
      "metadata": {
        "colab": {
          "base_uri": "https://localhost:8080/",
          "height": 243
        },
        "id": "8ToyFbh6LwlL",
        "outputId": "d563683c-33e1-44d9-fdaf-be3ae4d32435"
      },
      "outputs": [
        {
          "output_type": "execute_result",
          "data": {
            "text/plain": [
              "   selling_price      year  km_driven   mileage    engine  max_power  \\\n",
              "0       0.043684  0.689655   0.031553  0.135345  0.117891   0.066506   \n",
              "1       0.252397  0.827586   0.005237  0.128448  0.177281   0.123994   \n",
              "2       0.089795  0.620690   0.015764  0.112069  0.177281   0.120773   \n",
              "3       0.095134  0.689655   0.009711  0.145862  0.147808   0.100000   \n",
              "4       0.262104  0.793103   0.007869  0.161810  0.221860   0.150709   \n",
              "\n",
              "        age      make     model  Individual  Trustmark Dealer  Diesel  \\\n",
              "0  0.310345  0.194048  0.041550         1.0               0.0     0.0   \n",
              "1  0.172414  0.232517  0.218382         1.0               0.0     0.0   \n",
              "2  0.379310  0.232517  0.149143         1.0               0.0     0.0   \n",
              "3  0.310345  0.194048  0.093193         1.0               0.0     0.0   \n",
              "4  0.206897  0.252367  0.313574         0.0               0.0     1.0   \n",
              "\n",
              "   Electric  LPG  Petrol  Manual    5   >5  \n",
              "0       0.0  0.0     1.0     1.0  1.0  0.0  \n",
              "1       0.0  0.0     1.0     1.0  1.0  0.0  \n",
              "2       0.0  0.0     1.0     1.0  1.0  0.0  \n",
              "3       0.0  0.0     1.0     1.0  1.0  0.0  \n",
              "4       0.0  0.0     0.0     1.0  1.0  0.0  "
            ],
            "text/html": [
              "\n",
              "  <div id=\"df-17fa5186-5696-4794-a0eb-867e4149e5b8\" class=\"colab-df-container\">\n",
              "    <div>\n",
              "<style scoped>\n",
              "    .dataframe tbody tr th:only-of-type {\n",
              "        vertical-align: middle;\n",
              "    }\n",
              "\n",
              "    .dataframe tbody tr th {\n",
              "        vertical-align: top;\n",
              "    }\n",
              "\n",
              "    .dataframe thead th {\n",
              "        text-align: right;\n",
              "    }\n",
              "</style>\n",
              "<table border=\"1\" class=\"dataframe\">\n",
              "  <thead>\n",
              "    <tr style=\"text-align: right;\">\n",
              "      <th></th>\n",
              "      <th>selling_price</th>\n",
              "      <th>year</th>\n",
              "      <th>km_driven</th>\n",
              "      <th>mileage</th>\n",
              "      <th>engine</th>\n",
              "      <th>max_power</th>\n",
              "      <th>age</th>\n",
              "      <th>make</th>\n",
              "      <th>model</th>\n",
              "      <th>Individual</th>\n",
              "      <th>Trustmark Dealer</th>\n",
              "      <th>Diesel</th>\n",
              "      <th>Electric</th>\n",
              "      <th>LPG</th>\n",
              "      <th>Petrol</th>\n",
              "      <th>Manual</th>\n",
              "      <th>5</th>\n",
              "      <th>&gt;5</th>\n",
              "    </tr>\n",
              "  </thead>\n",
              "  <tbody>\n",
              "    <tr>\n",
              "      <th>0</th>\n",
              "      <td>0.043684</td>\n",
              "      <td>0.689655</td>\n",
              "      <td>0.031553</td>\n",
              "      <td>0.135345</td>\n",
              "      <td>0.117891</td>\n",
              "      <td>0.066506</td>\n",
              "      <td>0.310345</td>\n",
              "      <td>0.194048</td>\n",
              "      <td>0.041550</td>\n",
              "      <td>1.0</td>\n",
              "      <td>0.0</td>\n",
              "      <td>0.0</td>\n",
              "      <td>0.0</td>\n",
              "      <td>0.0</td>\n",
              "      <td>1.0</td>\n",
              "      <td>1.0</td>\n",
              "      <td>1.0</td>\n",
              "      <td>0.0</td>\n",
              "    </tr>\n",
              "    <tr>\n",
              "      <th>1</th>\n",
              "      <td>0.252397</td>\n",
              "      <td>0.827586</td>\n",
              "      <td>0.005237</td>\n",
              "      <td>0.128448</td>\n",
              "      <td>0.177281</td>\n",
              "      <td>0.123994</td>\n",
              "      <td>0.172414</td>\n",
              "      <td>0.232517</td>\n",
              "      <td>0.218382</td>\n",
              "      <td>1.0</td>\n",
              "      <td>0.0</td>\n",
              "      <td>0.0</td>\n",
              "      <td>0.0</td>\n",
              "      <td>0.0</td>\n",
              "      <td>1.0</td>\n",
              "      <td>1.0</td>\n",
              "      <td>1.0</td>\n",
              "      <td>0.0</td>\n",
              "    </tr>\n",
              "    <tr>\n",
              "      <th>2</th>\n",
              "      <td>0.089795</td>\n",
              "      <td>0.620690</td>\n",
              "      <td>0.015764</td>\n",
              "      <td>0.112069</td>\n",
              "      <td>0.177281</td>\n",
              "      <td>0.120773</td>\n",
              "      <td>0.379310</td>\n",
              "      <td>0.232517</td>\n",
              "      <td>0.149143</td>\n",
              "      <td>1.0</td>\n",
              "      <td>0.0</td>\n",
              "      <td>0.0</td>\n",
              "      <td>0.0</td>\n",
              "      <td>0.0</td>\n",
              "      <td>1.0</td>\n",
              "      <td>1.0</td>\n",
              "      <td>1.0</td>\n",
              "      <td>0.0</td>\n",
              "    </tr>\n",
              "    <tr>\n",
              "      <th>3</th>\n",
              "      <td>0.095134</td>\n",
              "      <td>0.689655</td>\n",
              "      <td>0.009711</td>\n",
              "      <td>0.145862</td>\n",
              "      <td>0.147808</td>\n",
              "      <td>0.100000</td>\n",
              "      <td>0.310345</td>\n",
              "      <td>0.194048</td>\n",
              "      <td>0.093193</td>\n",
              "      <td>1.0</td>\n",
              "      <td>0.0</td>\n",
              "      <td>0.0</td>\n",
              "      <td>0.0</td>\n",
              "      <td>0.0</td>\n",
              "      <td>1.0</td>\n",
              "      <td>1.0</td>\n",
              "      <td>1.0</td>\n",
              "      <td>0.0</td>\n",
              "    </tr>\n",
              "    <tr>\n",
              "      <th>4</th>\n",
              "      <td>0.262104</td>\n",
              "      <td>0.793103</td>\n",
              "      <td>0.007869</td>\n",
              "      <td>0.161810</td>\n",
              "      <td>0.221860</td>\n",
              "      <td>0.150709</td>\n",
              "      <td>0.206897</td>\n",
              "      <td>0.252367</td>\n",
              "      <td>0.313574</td>\n",
              "      <td>0.0</td>\n",
              "      <td>0.0</td>\n",
              "      <td>1.0</td>\n",
              "      <td>0.0</td>\n",
              "      <td>0.0</td>\n",
              "      <td>0.0</td>\n",
              "      <td>1.0</td>\n",
              "      <td>1.0</td>\n",
              "      <td>0.0</td>\n",
              "    </tr>\n",
              "  </tbody>\n",
              "</table>\n",
              "</div>\n",
              "    <div class=\"colab-df-buttons\">\n",
              "\n",
              "  <div class=\"colab-df-container\">\n",
              "    <button class=\"colab-df-convert\" onclick=\"convertToInteractive('df-17fa5186-5696-4794-a0eb-867e4149e5b8')\"\n",
              "            title=\"Convert this dataframe to an interactive table.\"\n",
              "            style=\"display:none;\">\n",
              "\n",
              "  <svg xmlns=\"http://www.w3.org/2000/svg\" height=\"24px\" viewBox=\"0 -960 960 960\">\n",
              "    <path d=\"M120-120v-720h720v720H120Zm60-500h600v-160H180v160Zm220 220h160v-160H400v160Zm0 220h160v-160H400v160ZM180-400h160v-160H180v160Zm440 0h160v-160H620v160ZM180-180h160v-160H180v160Zm440 0h160v-160H620v160Z\"/>\n",
              "  </svg>\n",
              "    </button>\n",
              "\n",
              "  <style>\n",
              "    .colab-df-container {\n",
              "      display:flex;\n",
              "      gap: 12px;\n",
              "    }\n",
              "\n",
              "    .colab-df-convert {\n",
              "      background-color: #E8F0FE;\n",
              "      border: none;\n",
              "      border-radius: 50%;\n",
              "      cursor: pointer;\n",
              "      display: none;\n",
              "      fill: #1967D2;\n",
              "      height: 32px;\n",
              "      padding: 0 0 0 0;\n",
              "      width: 32px;\n",
              "    }\n",
              "\n",
              "    .colab-df-convert:hover {\n",
              "      background-color: #E2EBFA;\n",
              "      box-shadow: 0px 1px 2px rgba(60, 64, 67, 0.3), 0px 1px 3px 1px rgba(60, 64, 67, 0.15);\n",
              "      fill: #174EA6;\n",
              "    }\n",
              "\n",
              "    .colab-df-buttons div {\n",
              "      margin-bottom: 4px;\n",
              "    }\n",
              "\n",
              "    [theme=dark] .colab-df-convert {\n",
              "      background-color: #3B4455;\n",
              "      fill: #D2E3FC;\n",
              "    }\n",
              "\n",
              "    [theme=dark] .colab-df-convert:hover {\n",
              "      background-color: #434B5C;\n",
              "      box-shadow: 0px 1px 3px 1px rgba(0, 0, 0, 0.15);\n",
              "      filter: drop-shadow(0px 1px 2px rgba(0, 0, 0, 0.3));\n",
              "      fill: #FFFFFF;\n",
              "    }\n",
              "  </style>\n",
              "\n",
              "    <script>\n",
              "      const buttonEl =\n",
              "        document.querySelector('#df-17fa5186-5696-4794-a0eb-867e4149e5b8 button.colab-df-convert');\n",
              "      buttonEl.style.display =\n",
              "        google.colab.kernel.accessAllowed ? 'block' : 'none';\n",
              "\n",
              "      async function convertToInteractive(key) {\n",
              "        const element = document.querySelector('#df-17fa5186-5696-4794-a0eb-867e4149e5b8');\n",
              "        const dataTable =\n",
              "          await google.colab.kernel.invokeFunction('convertToInteractive',\n",
              "                                                    [key], {});\n",
              "        if (!dataTable) return;\n",
              "\n",
              "        const docLinkHtml = 'Like what you see? Visit the ' +\n",
              "          '<a target=\"_blank\" href=https://colab.research.google.com/notebooks/data_table.ipynb>data table notebook</a>'\n",
              "          + ' to learn more about interactive tables.';\n",
              "        element.innerHTML = '';\n",
              "        dataTable['output_type'] = 'display_data';\n",
              "        await google.colab.output.renderOutput(dataTable, element);\n",
              "        const docLink = document.createElement('div');\n",
              "        docLink.innerHTML = docLinkHtml;\n",
              "        element.appendChild(docLink);\n",
              "      }\n",
              "    </script>\n",
              "  </div>\n",
              "\n",
              "\n",
              "    <div id=\"df-8bd5f967-4eaa-46af-9637-ccbaf7d98dfd\">\n",
              "      <button class=\"colab-df-quickchart\" onclick=\"quickchart('df-8bd5f967-4eaa-46af-9637-ccbaf7d98dfd')\"\n",
              "                title=\"Suggest charts\"\n",
              "                style=\"display:none;\">\n",
              "\n",
              "<svg xmlns=\"http://www.w3.org/2000/svg\" height=\"24px\"viewBox=\"0 0 24 24\"\n",
              "     width=\"24px\">\n",
              "    <g>\n",
              "        <path d=\"M19 3H5c-1.1 0-2 .9-2 2v14c0 1.1.9 2 2 2h14c1.1 0 2-.9 2-2V5c0-1.1-.9-2-2-2zM9 17H7v-7h2v7zm4 0h-2V7h2v10zm4 0h-2v-4h2v4z\"/>\n",
              "    </g>\n",
              "</svg>\n",
              "      </button>\n",
              "\n",
              "<style>\n",
              "  .colab-df-quickchart {\n",
              "      --bg-color: #E8F0FE;\n",
              "      --fill-color: #1967D2;\n",
              "      --hover-bg-color: #E2EBFA;\n",
              "      --hover-fill-color: #174EA6;\n",
              "      --disabled-fill-color: #AAA;\n",
              "      --disabled-bg-color: #DDD;\n",
              "  }\n",
              "\n",
              "  [theme=dark] .colab-df-quickchart {\n",
              "      --bg-color: #3B4455;\n",
              "      --fill-color: #D2E3FC;\n",
              "      --hover-bg-color: #434B5C;\n",
              "      --hover-fill-color: #FFFFFF;\n",
              "      --disabled-bg-color: #3B4455;\n",
              "      --disabled-fill-color: #666;\n",
              "  }\n",
              "\n",
              "  .colab-df-quickchart {\n",
              "    background-color: var(--bg-color);\n",
              "    border: none;\n",
              "    border-radius: 50%;\n",
              "    cursor: pointer;\n",
              "    display: none;\n",
              "    fill: var(--fill-color);\n",
              "    height: 32px;\n",
              "    padding: 0;\n",
              "    width: 32px;\n",
              "  }\n",
              "\n",
              "  .colab-df-quickchart:hover {\n",
              "    background-color: var(--hover-bg-color);\n",
              "    box-shadow: 0 1px 2px rgba(60, 64, 67, 0.3), 0 1px 3px 1px rgba(60, 64, 67, 0.15);\n",
              "    fill: var(--button-hover-fill-color);\n",
              "  }\n",
              "\n",
              "  .colab-df-quickchart-complete:disabled,\n",
              "  .colab-df-quickchart-complete:disabled:hover {\n",
              "    background-color: var(--disabled-bg-color);\n",
              "    fill: var(--disabled-fill-color);\n",
              "    box-shadow: none;\n",
              "  }\n",
              "\n",
              "  .colab-df-spinner {\n",
              "    border: 2px solid var(--fill-color);\n",
              "    border-color: transparent;\n",
              "    border-bottom-color: var(--fill-color);\n",
              "    animation:\n",
              "      spin 1s steps(1) infinite;\n",
              "  }\n",
              "\n",
              "  @keyframes spin {\n",
              "    0% {\n",
              "      border-color: transparent;\n",
              "      border-bottom-color: var(--fill-color);\n",
              "      border-left-color: var(--fill-color);\n",
              "    }\n",
              "    20% {\n",
              "      border-color: transparent;\n",
              "      border-left-color: var(--fill-color);\n",
              "      border-top-color: var(--fill-color);\n",
              "    }\n",
              "    30% {\n",
              "      border-color: transparent;\n",
              "      border-left-color: var(--fill-color);\n",
              "      border-top-color: var(--fill-color);\n",
              "      border-right-color: var(--fill-color);\n",
              "    }\n",
              "    40% {\n",
              "      border-color: transparent;\n",
              "      border-right-color: var(--fill-color);\n",
              "      border-top-color: var(--fill-color);\n",
              "    }\n",
              "    60% {\n",
              "      border-color: transparent;\n",
              "      border-right-color: var(--fill-color);\n",
              "    }\n",
              "    80% {\n",
              "      border-color: transparent;\n",
              "      border-right-color: var(--fill-color);\n",
              "      border-bottom-color: var(--fill-color);\n",
              "    }\n",
              "    90% {\n",
              "      border-color: transparent;\n",
              "      border-bottom-color: var(--fill-color);\n",
              "    }\n",
              "  }\n",
              "</style>\n",
              "\n",
              "      <script>\n",
              "        async function quickchart(key) {\n",
              "          const quickchartButtonEl =\n",
              "            document.querySelector('#' + key + ' button');\n",
              "          quickchartButtonEl.disabled = true;  // To prevent multiple clicks.\n",
              "          quickchartButtonEl.classList.add('colab-df-spinner');\n",
              "          try {\n",
              "            const charts = await google.colab.kernel.invokeFunction(\n",
              "                'suggestCharts', [key], {});\n",
              "          } catch (error) {\n",
              "            console.error('Error during call to suggestCharts:', error);\n",
              "          }\n",
              "          quickchartButtonEl.classList.remove('colab-df-spinner');\n",
              "          quickchartButtonEl.classList.add('colab-df-quickchart-complete');\n",
              "        }\n",
              "        (() => {\n",
              "          let quickchartButtonEl =\n",
              "            document.querySelector('#df-8bd5f967-4eaa-46af-9637-ccbaf7d98dfd button');\n",
              "          quickchartButtonEl.style.display =\n",
              "            google.colab.kernel.accessAllowed ? 'block' : 'none';\n",
              "        })();\n",
              "      </script>\n",
              "    </div>\n",
              "\n",
              "    </div>\n",
              "  </div>\n"
            ],
            "application/vnd.google.colaboratory.intrinsic+json": {
              "type": "dataframe",
              "variable_name": "df",
              "summary": "{\n  \"name\": \"df\",\n  \"rows\": 19820,\n  \"fields\": [\n    {\n      \"column\": \"selling_price\",\n      \"properties\": {\n        \"dtype\": \"number\",\n        \"std\": 0.2352804023411379,\n        \"min\": 0.0,\n        \"max\": 1.0000000000000002,\n        \"num_unique_values\": 964,\n        \"samples\": [\n          0.04708166484649931,\n          0.9925979856813513,\n          0.4572260647979624\n        ],\n        \"semantic_type\": \"\",\n        \"description\": \"\"\n      }\n    },\n    {\n      \"column\": \"year\",\n      \"properties\": {\n        \"dtype\": \"number\",\n        \"std\": 0.11022884419022944,\n        \"min\": 0.0,\n        \"max\": 1.0,\n        \"num_unique_values\": 27,\n        \"samples\": [\n          0.7586206896551744,\n          0.9655172413793025,\n          0.6551724137930961\n        ],\n        \"semantic_type\": \"\",\n        \"description\": \"\"\n      }\n    },\n    {\n      \"column\": \"km_driven\",\n      \"properties\": {\n        \"dtype\": \"number\",\n        \"std\": 0.013609733986578923,\n        \"min\": 0.0,\n        \"max\": 1.0,\n        \"num_unique_values\": 4476,\n        \"samples\": [\n          0.03594831442932709,\n          0.020816337272033476,\n          0.023594041948472328\n        ],\n        \"semantic_type\": \"\",\n        \"description\": \"\"\n      }\n    },\n    {\n      \"column\": \"mileage\",\n      \"properties\": {\n        \"dtype\": \"number\",\n        \"std\": 0.03704985947526322,\n        \"min\": 0.0,\n        \"max\": 1.0,\n        \"num_unique_values\": 532,\n        \"samples\": [\n          0.14232758620689656,\n          0.04224137931034483,\n          0.1267241379310345\n        ],\n        \"semantic_type\": \"\",\n        \"description\": \"\"\n      }\n    },\n    {\n      \"column\": \"engine\",\n      \"properties\": {\n        \"dtype\": \"number\",\n        \"std\": 0.07680260999834632,\n        \"min\": 0.0,\n        \"max\": 1.0,\n        \"num_unique_values\": 167,\n        \"samples\": [\n          0.18394549763033177,\n          0.3493779620853081,\n          0.002517772511848341\n        ],\n        \"semantic_type\": \"\",\n        \"description\": \"\"\n      }\n    },\n    {\n      \"column\": \"max_power\",\n      \"properties\": {\n        \"dtype\": \"number\",\n        \"std\": 0.07208007527416077,\n        \"min\": 0.0,\n        \"max\": 1.0,\n        \"num_unique_values\": 484,\n        \"samples\": [\n          0.1285346215780998,\n          0.9178743961352657,\n          0.15861513687600642\n        ],\n        \"semantic_type\": \"\",\n        \"description\": \"\"\n      }\n    },\n    {\n      \"column\": \"age\",\n      \"properties\": {\n        \"dtype\": \"number\",\n        \"std\": 0.11022884419022898,\n        \"min\": 0.0,\n        \"max\": 0.9999999999999999,\n        \"num_unique_values\": 27,\n        \"samples\": [\n          0.2413793103448276,\n          0.034482758620689655,\n          0.3448275862068966\n        ],\n        \"semantic_type\": \"\",\n        \"description\": \"\"\n      }\n    },\n    {\n      \"column\": \"make\",\n      \"properties\": {\n        \"dtype\": \"number\",\n        \"std\": 0.1805619376092245,\n        \"min\": 0.0,\n        \"max\": 1.0,\n        \"num_unique_values\": 35,\n        \"samples\": [\n          0.6588499606576398,\n          0.09658942425917141,\n          1.0\n        ],\n        \"semantic_type\": \"\",\n        \"description\": \"\"\n      }\n    },\n    {\n      \"column\": \"model\",\n      \"properties\": {\n        \"dtype\": \"number\",\n        \"std\": 0.22804214236595235,\n        \"min\": 0.0,\n        \"max\": 0.9999999999999999,\n        \"num_unique_values\": 1882,\n        \"samples\": [\n          0.3713603045397488,\n          0.16714251002308378,\n          0.45802454136799986\n        ],\n        \"semantic_type\": \"\",\n        \"description\": \"\"\n      }\n    },\n    {\n      \"column\": \"Individual\",\n      \"properties\": {\n        \"dtype\": \"number\",\n        \"std\": 0.48791196554654,\n        \"min\": 0.0,\n        \"max\": 1.0,\n        \"num_unique_values\": 2,\n        \"samples\": [\n          0.0,\n          1.0\n        ],\n        \"semantic_type\": \"\",\n        \"description\": \"\"\n      }\n    },\n    {\n      \"column\": \"Trustmark Dealer\",\n      \"properties\": {\n        \"dtype\": \"number\",\n        \"std\": 0.09744156631499026,\n        \"min\": 0.0,\n        \"max\": 1.0,\n        \"num_unique_values\": 2,\n        \"samples\": [\n          1.0,\n          0.0\n        ],\n        \"semantic_type\": \"\",\n        \"description\": \"\"\n      }\n    },\n    {\n      \"column\": \"Diesel\",\n      \"properties\": {\n        \"dtype\": \"number\",\n        \"std\": 0.4999576013931771,\n        \"min\": 0.0,\n        \"max\": 1.0,\n        \"num_unique_values\": 2,\n        \"samples\": [\n          1.0,\n          0.0\n        ],\n        \"semantic_type\": \"\",\n        \"description\": \"\"\n      }\n    },\n    {\n      \"column\": \"Electric\",\n      \"properties\": {\n        \"dtype\": \"number\",\n        \"std\": 0.020087063812874176,\n        \"min\": 0.0,\n        \"max\": 1.0,\n        \"num_unique_values\": 2,\n        \"samples\": [\n          1.0,\n          0.0\n        ],\n        \"semantic_type\": \"\",\n        \"description\": \"\"\n      }\n    },\n    {\n      \"column\": \"LPG\",\n      \"properties\": {\n        \"dtype\": \"number\",\n        \"std\": 0.05673444383208869,\n        \"min\": 0.0,\n        \"max\": 1.0,\n        \"num_unique_values\": 2,\n        \"samples\": [\n          1.0,\n          0.0\n        ],\n        \"semantic_type\": \"\",\n        \"description\": \"\"\n      }\n    },\n    {\n      \"column\": \"Petrol\",\n      \"properties\": {\n        \"dtype\": \"number\",\n        \"std\": 0.4998647365444113,\n        \"min\": 0.0,\n        \"max\": 1.0,\n        \"num_unique_values\": 2,\n        \"samples\": [\n          0.0,\n          1.0\n        ],\n        \"semantic_type\": \"\",\n        \"description\": \"\"\n      }\n    },\n    {\n      \"column\": \"Manual\",\n      \"properties\": {\n        \"dtype\": \"number\",\n        \"std\": 0.39799045359652446,\n        \"min\": 0.0,\n        \"max\": 1.0,\n        \"num_unique_values\": 2,\n        \"samples\": [\n          0.0,\n          1.0\n        ],\n        \"semantic_type\": \"\",\n        \"description\": \"\"\n      }\n    },\n    {\n      \"column\": \"5\",\n      \"properties\": {\n        \"dtype\": \"number\",\n        \"std\": 0.37117625146327243,\n        \"min\": 0.0,\n        \"max\": 1.0,\n        \"num_unique_values\": 2,\n        \"samples\": [\n          0.0,\n          1.0\n        ],\n        \"semantic_type\": \"\",\n        \"description\": \"\"\n      }\n    },\n    {\n      \"column\": \">5\",\n      \"properties\": {\n        \"dtype\": \"number\",\n        \"std\": 0.35982822257922764,\n        \"min\": 0.0,\n        \"max\": 1.0,\n        \"num_unique_values\": 2,\n        \"samples\": [\n          1.0,\n          0.0\n        ],\n        \"semantic_type\": \"\",\n        \"description\": \"\"\n      }\n    }\n  ]\n}"
            }
          },
          "metadata": {},
          "execution_count": 18
        }
      ],
      "source": [
        "from sklearn.preprocessing import MinMaxScaler\n",
        "\n",
        "scaler = MinMaxScaler()\n",
        "\n",
        "df = pd.DataFrame(scaler.fit_transform(df), columns=df.columns)\n",
        "df.head()"
      ]
    },
    {
      "cell_type": "code",
      "execution_count": 19,
      "metadata": {
        "id": "G5bphu6XPTdC"
      },
      "outputs": [],
      "source": [
        "from sklearn.model_selection import train_test_split"
      ]
    },
    {
      "cell_type": "code",
      "execution_count": 20,
      "metadata": {
        "colab": {
          "base_uri": "https://localhost:8080/"
        },
        "id": "sPJYSusSWPkA",
        "outputId": "8da4a62c-2f4e-4b0b-e28e-fac171b5ec71"
      },
      "outputs": [
        {
          "output_type": "execute_result",
          "data": {
            "text/plain": [
              "((19820,), (19820, 17))"
            ]
          },
          "metadata": {},
          "execution_count": 20
        }
      ],
      "source": [
        "y = df['selling_price']\n",
        "X = df.drop('selling_price', axis=1)\n",
        "y.shape, X.shape"
      ]
    },
    {
      "cell_type": "code",
      "execution_count": 21,
      "metadata": {
        "id": "ij_jFZLGWk3d"
      },
      "outputs": [],
      "source": [
        "X_train, X_test, y_train, y_test = train_test_split(X, y, test_size=0.3, random_state=1)"
      ]
    },
    {
      "cell_type": "markdown",
      "metadata": {
        "id": "NGCqvq9pOtk9"
      },
      "source": [
        "### Univariate"
      ]
    },
    {
      "cell_type": "code",
      "execution_count": 22,
      "metadata": {
        "id": "u3JOzFWdO3uj"
      },
      "outputs": [],
      "source": [
        "X1=X[['model']]\n",
        "X1_train = X_train[['model']]\n",
        "X1_test = X_test[['model']]"
      ]
    },
    {
      "cell_type": "code",
      "execution_count": 23,
      "metadata": {
        "colab": {
          "base_uri": "https://localhost:8080/",
          "height": 80
        },
        "id": "gsi2QKMuOt4r",
        "outputId": "6f264b28-93ae-40ec-df60-f3c6465bc23f"
      },
      "outputs": [
        {
          "output_type": "execute_result",
          "data": {
            "text/plain": [
              "LinearRegression()"
            ],
            "text/html": [
              "<style>#sk-container-id-2 {\n",
              "  /* Definition of color scheme common for light and dark mode */\n",
              "  --sklearn-color-text: #000;\n",
              "  --sklearn-color-text-muted: #666;\n",
              "  --sklearn-color-line: gray;\n",
              "  /* Definition of color scheme for unfitted estimators */\n",
              "  --sklearn-color-unfitted-level-0: #fff5e6;\n",
              "  --sklearn-color-unfitted-level-1: #f6e4d2;\n",
              "  --sklearn-color-unfitted-level-2: #ffe0b3;\n",
              "  --sklearn-color-unfitted-level-3: chocolate;\n",
              "  /* Definition of color scheme for fitted estimators */\n",
              "  --sklearn-color-fitted-level-0: #f0f8ff;\n",
              "  --sklearn-color-fitted-level-1: #d4ebff;\n",
              "  --sklearn-color-fitted-level-2: #b3dbfd;\n",
              "  --sklearn-color-fitted-level-3: cornflowerblue;\n",
              "\n",
              "  /* Specific color for light theme */\n",
              "  --sklearn-color-text-on-default-background: var(--sg-text-color, var(--theme-code-foreground, var(--jp-content-font-color1, black)));\n",
              "  --sklearn-color-background: var(--sg-background-color, var(--theme-background, var(--jp-layout-color0, white)));\n",
              "  --sklearn-color-border-box: var(--sg-text-color, var(--theme-code-foreground, var(--jp-content-font-color1, black)));\n",
              "  --sklearn-color-icon: #696969;\n",
              "\n",
              "  @media (prefers-color-scheme: dark) {\n",
              "    /* Redefinition of color scheme for dark theme */\n",
              "    --sklearn-color-text-on-default-background: var(--sg-text-color, var(--theme-code-foreground, var(--jp-content-font-color1, white)));\n",
              "    --sklearn-color-background: var(--sg-background-color, var(--theme-background, var(--jp-layout-color0, #111)));\n",
              "    --sklearn-color-border-box: var(--sg-text-color, var(--theme-code-foreground, var(--jp-content-font-color1, white)));\n",
              "    --sklearn-color-icon: #878787;\n",
              "  }\n",
              "}\n",
              "\n",
              "#sk-container-id-2 {\n",
              "  color: var(--sklearn-color-text);\n",
              "}\n",
              "\n",
              "#sk-container-id-2 pre {\n",
              "  padding: 0;\n",
              "}\n",
              "\n",
              "#sk-container-id-2 input.sk-hidden--visually {\n",
              "  border: 0;\n",
              "  clip: rect(1px 1px 1px 1px);\n",
              "  clip: rect(1px, 1px, 1px, 1px);\n",
              "  height: 1px;\n",
              "  margin: -1px;\n",
              "  overflow: hidden;\n",
              "  padding: 0;\n",
              "  position: absolute;\n",
              "  width: 1px;\n",
              "}\n",
              "\n",
              "#sk-container-id-2 div.sk-dashed-wrapped {\n",
              "  border: 1px dashed var(--sklearn-color-line);\n",
              "  margin: 0 0.4em 0.5em 0.4em;\n",
              "  box-sizing: border-box;\n",
              "  padding-bottom: 0.4em;\n",
              "  background-color: var(--sklearn-color-background);\n",
              "}\n",
              "\n",
              "#sk-container-id-2 div.sk-container {\n",
              "  /* jupyter's `normalize.less` sets `[hidden] { display: none; }`\n",
              "     but bootstrap.min.css set `[hidden] { display: none !important; }`\n",
              "     so we also need the `!important` here to be able to override the\n",
              "     default hidden behavior on the sphinx rendered scikit-learn.org.\n",
              "     See: https://github.com/scikit-learn/scikit-learn/issues/21755 */\n",
              "  display: inline-block !important;\n",
              "  position: relative;\n",
              "}\n",
              "\n",
              "#sk-container-id-2 div.sk-text-repr-fallback {\n",
              "  display: none;\n",
              "}\n",
              "\n",
              "div.sk-parallel-item,\n",
              "div.sk-serial,\n",
              "div.sk-item {\n",
              "  /* draw centered vertical line to link estimators */\n",
              "  background-image: linear-gradient(var(--sklearn-color-text-on-default-background), var(--sklearn-color-text-on-default-background));\n",
              "  background-size: 2px 100%;\n",
              "  background-repeat: no-repeat;\n",
              "  background-position: center center;\n",
              "}\n",
              "\n",
              "/* Parallel-specific style estimator block */\n",
              "\n",
              "#sk-container-id-2 div.sk-parallel-item::after {\n",
              "  content: \"\";\n",
              "  width: 100%;\n",
              "  border-bottom: 2px solid var(--sklearn-color-text-on-default-background);\n",
              "  flex-grow: 1;\n",
              "}\n",
              "\n",
              "#sk-container-id-2 div.sk-parallel {\n",
              "  display: flex;\n",
              "  align-items: stretch;\n",
              "  justify-content: center;\n",
              "  background-color: var(--sklearn-color-background);\n",
              "  position: relative;\n",
              "}\n",
              "\n",
              "#sk-container-id-2 div.sk-parallel-item {\n",
              "  display: flex;\n",
              "  flex-direction: column;\n",
              "}\n",
              "\n",
              "#sk-container-id-2 div.sk-parallel-item:first-child::after {\n",
              "  align-self: flex-end;\n",
              "  width: 50%;\n",
              "}\n",
              "\n",
              "#sk-container-id-2 div.sk-parallel-item:last-child::after {\n",
              "  align-self: flex-start;\n",
              "  width: 50%;\n",
              "}\n",
              "\n",
              "#sk-container-id-2 div.sk-parallel-item:only-child::after {\n",
              "  width: 0;\n",
              "}\n",
              "\n",
              "/* Serial-specific style estimator block */\n",
              "\n",
              "#sk-container-id-2 div.sk-serial {\n",
              "  display: flex;\n",
              "  flex-direction: column;\n",
              "  align-items: center;\n",
              "  background-color: var(--sklearn-color-background);\n",
              "  padding-right: 1em;\n",
              "  padding-left: 1em;\n",
              "}\n",
              "\n",
              "\n",
              "/* Toggleable style: style used for estimator/Pipeline/ColumnTransformer box that is\n",
              "clickable and can be expanded/collapsed.\n",
              "- Pipeline and ColumnTransformer use this feature and define the default style\n",
              "- Estimators will overwrite some part of the style using the `sk-estimator` class\n",
              "*/\n",
              "\n",
              "/* Pipeline and ColumnTransformer style (default) */\n",
              "\n",
              "#sk-container-id-2 div.sk-toggleable {\n",
              "  /* Default theme specific background. It is overwritten whether we have a\n",
              "  specific estimator or a Pipeline/ColumnTransformer */\n",
              "  background-color: var(--sklearn-color-background);\n",
              "}\n",
              "\n",
              "/* Toggleable label */\n",
              "#sk-container-id-2 label.sk-toggleable__label {\n",
              "  cursor: pointer;\n",
              "  display: flex;\n",
              "  width: 100%;\n",
              "  margin-bottom: 0;\n",
              "  padding: 0.5em;\n",
              "  box-sizing: border-box;\n",
              "  text-align: center;\n",
              "  align-items: start;\n",
              "  justify-content: space-between;\n",
              "  gap: 0.5em;\n",
              "}\n",
              "\n",
              "#sk-container-id-2 label.sk-toggleable__label .caption {\n",
              "  font-size: 0.6rem;\n",
              "  font-weight: lighter;\n",
              "  color: var(--sklearn-color-text-muted);\n",
              "}\n",
              "\n",
              "#sk-container-id-2 label.sk-toggleable__label-arrow:before {\n",
              "  /* Arrow on the left of the label */\n",
              "  content: \"▸\";\n",
              "  float: left;\n",
              "  margin-right: 0.25em;\n",
              "  color: var(--sklearn-color-icon);\n",
              "}\n",
              "\n",
              "#sk-container-id-2 label.sk-toggleable__label-arrow:hover:before {\n",
              "  color: var(--sklearn-color-text);\n",
              "}\n",
              "\n",
              "/* Toggleable content - dropdown */\n",
              "\n",
              "#sk-container-id-2 div.sk-toggleable__content {\n",
              "  max-height: 0;\n",
              "  max-width: 0;\n",
              "  overflow: hidden;\n",
              "  text-align: left;\n",
              "  /* unfitted */\n",
              "  background-color: var(--sklearn-color-unfitted-level-0);\n",
              "}\n",
              "\n",
              "#sk-container-id-2 div.sk-toggleable__content.fitted {\n",
              "  /* fitted */\n",
              "  background-color: var(--sklearn-color-fitted-level-0);\n",
              "}\n",
              "\n",
              "#sk-container-id-2 div.sk-toggleable__content pre {\n",
              "  margin: 0.2em;\n",
              "  border-radius: 0.25em;\n",
              "  color: var(--sklearn-color-text);\n",
              "  /* unfitted */\n",
              "  background-color: var(--sklearn-color-unfitted-level-0);\n",
              "}\n",
              "\n",
              "#sk-container-id-2 div.sk-toggleable__content.fitted pre {\n",
              "  /* unfitted */\n",
              "  background-color: var(--sklearn-color-fitted-level-0);\n",
              "}\n",
              "\n",
              "#sk-container-id-2 input.sk-toggleable__control:checked~div.sk-toggleable__content {\n",
              "  /* Expand drop-down */\n",
              "  max-height: 200px;\n",
              "  max-width: 100%;\n",
              "  overflow: auto;\n",
              "}\n",
              "\n",
              "#sk-container-id-2 input.sk-toggleable__control:checked~label.sk-toggleable__label-arrow:before {\n",
              "  content: \"▾\";\n",
              "}\n",
              "\n",
              "/* Pipeline/ColumnTransformer-specific style */\n",
              "\n",
              "#sk-container-id-2 div.sk-label input.sk-toggleable__control:checked~label.sk-toggleable__label {\n",
              "  color: var(--sklearn-color-text);\n",
              "  background-color: var(--sklearn-color-unfitted-level-2);\n",
              "}\n",
              "\n",
              "#sk-container-id-2 div.sk-label.fitted input.sk-toggleable__control:checked~label.sk-toggleable__label {\n",
              "  background-color: var(--sklearn-color-fitted-level-2);\n",
              "}\n",
              "\n",
              "/* Estimator-specific style */\n",
              "\n",
              "/* Colorize estimator box */\n",
              "#sk-container-id-2 div.sk-estimator input.sk-toggleable__control:checked~label.sk-toggleable__label {\n",
              "  /* unfitted */\n",
              "  background-color: var(--sklearn-color-unfitted-level-2);\n",
              "}\n",
              "\n",
              "#sk-container-id-2 div.sk-estimator.fitted input.sk-toggleable__control:checked~label.sk-toggleable__label {\n",
              "  /* fitted */\n",
              "  background-color: var(--sklearn-color-fitted-level-2);\n",
              "}\n",
              "\n",
              "#sk-container-id-2 div.sk-label label.sk-toggleable__label,\n",
              "#sk-container-id-2 div.sk-label label {\n",
              "  /* The background is the default theme color */\n",
              "  color: var(--sklearn-color-text-on-default-background);\n",
              "}\n",
              "\n",
              "/* On hover, darken the color of the background */\n",
              "#sk-container-id-2 div.sk-label:hover label.sk-toggleable__label {\n",
              "  color: var(--sklearn-color-text);\n",
              "  background-color: var(--sklearn-color-unfitted-level-2);\n",
              "}\n",
              "\n",
              "/* Label box, darken color on hover, fitted */\n",
              "#sk-container-id-2 div.sk-label.fitted:hover label.sk-toggleable__label.fitted {\n",
              "  color: var(--sklearn-color-text);\n",
              "  background-color: var(--sklearn-color-fitted-level-2);\n",
              "}\n",
              "\n",
              "/* Estimator label */\n",
              "\n",
              "#sk-container-id-2 div.sk-label label {\n",
              "  font-family: monospace;\n",
              "  font-weight: bold;\n",
              "  display: inline-block;\n",
              "  line-height: 1.2em;\n",
              "}\n",
              "\n",
              "#sk-container-id-2 div.sk-label-container {\n",
              "  text-align: center;\n",
              "}\n",
              "\n",
              "/* Estimator-specific */\n",
              "#sk-container-id-2 div.sk-estimator {\n",
              "  font-family: monospace;\n",
              "  border: 1px dotted var(--sklearn-color-border-box);\n",
              "  border-radius: 0.25em;\n",
              "  box-sizing: border-box;\n",
              "  margin-bottom: 0.5em;\n",
              "  /* unfitted */\n",
              "  background-color: var(--sklearn-color-unfitted-level-0);\n",
              "}\n",
              "\n",
              "#sk-container-id-2 div.sk-estimator.fitted {\n",
              "  /* fitted */\n",
              "  background-color: var(--sklearn-color-fitted-level-0);\n",
              "}\n",
              "\n",
              "/* on hover */\n",
              "#sk-container-id-2 div.sk-estimator:hover {\n",
              "  /* unfitted */\n",
              "  background-color: var(--sklearn-color-unfitted-level-2);\n",
              "}\n",
              "\n",
              "#sk-container-id-2 div.sk-estimator.fitted:hover {\n",
              "  /* fitted */\n",
              "  background-color: var(--sklearn-color-fitted-level-2);\n",
              "}\n",
              "\n",
              "/* Specification for estimator info (e.g. \"i\" and \"?\") */\n",
              "\n",
              "/* Common style for \"i\" and \"?\" */\n",
              "\n",
              ".sk-estimator-doc-link,\n",
              "a:link.sk-estimator-doc-link,\n",
              "a:visited.sk-estimator-doc-link {\n",
              "  float: right;\n",
              "  font-size: smaller;\n",
              "  line-height: 1em;\n",
              "  font-family: monospace;\n",
              "  background-color: var(--sklearn-color-background);\n",
              "  border-radius: 1em;\n",
              "  height: 1em;\n",
              "  width: 1em;\n",
              "  text-decoration: none !important;\n",
              "  margin-left: 0.5em;\n",
              "  text-align: center;\n",
              "  /* unfitted */\n",
              "  border: var(--sklearn-color-unfitted-level-1) 1pt solid;\n",
              "  color: var(--sklearn-color-unfitted-level-1);\n",
              "}\n",
              "\n",
              ".sk-estimator-doc-link.fitted,\n",
              "a:link.sk-estimator-doc-link.fitted,\n",
              "a:visited.sk-estimator-doc-link.fitted {\n",
              "  /* fitted */\n",
              "  border: var(--sklearn-color-fitted-level-1) 1pt solid;\n",
              "  color: var(--sklearn-color-fitted-level-1);\n",
              "}\n",
              "\n",
              "/* On hover */\n",
              "div.sk-estimator:hover .sk-estimator-doc-link:hover,\n",
              ".sk-estimator-doc-link:hover,\n",
              "div.sk-label-container:hover .sk-estimator-doc-link:hover,\n",
              ".sk-estimator-doc-link:hover {\n",
              "  /* unfitted */\n",
              "  background-color: var(--sklearn-color-unfitted-level-3);\n",
              "  color: var(--sklearn-color-background);\n",
              "  text-decoration: none;\n",
              "}\n",
              "\n",
              "div.sk-estimator.fitted:hover .sk-estimator-doc-link.fitted:hover,\n",
              ".sk-estimator-doc-link.fitted:hover,\n",
              "div.sk-label-container:hover .sk-estimator-doc-link.fitted:hover,\n",
              ".sk-estimator-doc-link.fitted:hover {\n",
              "  /* fitted */\n",
              "  background-color: var(--sklearn-color-fitted-level-3);\n",
              "  color: var(--sklearn-color-background);\n",
              "  text-decoration: none;\n",
              "}\n",
              "\n",
              "/* Span, style for the box shown on hovering the info icon */\n",
              ".sk-estimator-doc-link span {\n",
              "  display: none;\n",
              "  z-index: 9999;\n",
              "  position: relative;\n",
              "  font-weight: normal;\n",
              "  right: .2ex;\n",
              "  padding: .5ex;\n",
              "  margin: .5ex;\n",
              "  width: min-content;\n",
              "  min-width: 20ex;\n",
              "  max-width: 50ex;\n",
              "  color: var(--sklearn-color-text);\n",
              "  box-shadow: 2pt 2pt 4pt #999;\n",
              "  /* unfitted */\n",
              "  background: var(--sklearn-color-unfitted-level-0);\n",
              "  border: .5pt solid var(--sklearn-color-unfitted-level-3);\n",
              "}\n",
              "\n",
              ".sk-estimator-doc-link.fitted span {\n",
              "  /* fitted */\n",
              "  background: var(--sklearn-color-fitted-level-0);\n",
              "  border: var(--sklearn-color-fitted-level-3);\n",
              "}\n",
              "\n",
              ".sk-estimator-doc-link:hover span {\n",
              "  display: block;\n",
              "}\n",
              "\n",
              "/* \"?\"-specific style due to the `<a>` HTML tag */\n",
              "\n",
              "#sk-container-id-2 a.estimator_doc_link {\n",
              "  float: right;\n",
              "  font-size: 1rem;\n",
              "  line-height: 1em;\n",
              "  font-family: monospace;\n",
              "  background-color: var(--sklearn-color-background);\n",
              "  border-radius: 1rem;\n",
              "  height: 1rem;\n",
              "  width: 1rem;\n",
              "  text-decoration: none;\n",
              "  /* unfitted */\n",
              "  color: var(--sklearn-color-unfitted-level-1);\n",
              "  border: var(--sklearn-color-unfitted-level-1) 1pt solid;\n",
              "}\n",
              "\n",
              "#sk-container-id-2 a.estimator_doc_link.fitted {\n",
              "  /* fitted */\n",
              "  border: var(--sklearn-color-fitted-level-1) 1pt solid;\n",
              "  color: var(--sklearn-color-fitted-level-1);\n",
              "}\n",
              "\n",
              "/* On hover */\n",
              "#sk-container-id-2 a.estimator_doc_link:hover {\n",
              "  /* unfitted */\n",
              "  background-color: var(--sklearn-color-unfitted-level-3);\n",
              "  color: var(--sklearn-color-background);\n",
              "  text-decoration: none;\n",
              "}\n",
              "\n",
              "#sk-container-id-2 a.estimator_doc_link.fitted:hover {\n",
              "  /* fitted */\n",
              "  background-color: var(--sklearn-color-fitted-level-3);\n",
              "}\n",
              "</style><div id=\"sk-container-id-2\" class=\"sk-top-container\"><div class=\"sk-text-repr-fallback\"><pre>LinearRegression()</pre><b>In a Jupyter environment, please rerun this cell to show the HTML representation or trust the notebook. <br />On GitHub, the HTML representation is unable to render, please try loading this page with nbviewer.org.</b></div><div class=\"sk-container\" hidden><div class=\"sk-item\"><div class=\"sk-estimator fitted sk-toggleable\"><input class=\"sk-toggleable__control sk-hidden--visually\" id=\"sk-estimator-id-2\" type=\"checkbox\" checked><label for=\"sk-estimator-id-2\" class=\"sk-toggleable__label fitted sk-toggleable__label-arrow\"><div><div>LinearRegression</div></div><div><a class=\"sk-estimator-doc-link fitted\" rel=\"noreferrer\" target=\"_blank\" href=\"https://scikit-learn.org/1.6/modules/generated/sklearn.linear_model.LinearRegression.html\">?<span>Documentation for LinearRegression</span></a><span class=\"sk-estimator-doc-link fitted\">i<span>Fitted</span></span></div></label><div class=\"sk-toggleable__content fitted\"><pre>LinearRegression()</pre></div> </div></div></div></div>"
            ]
          },
          "metadata": {},
          "execution_count": 23
        }
      ],
      "source": [
        "from sklearn.linear_model import LinearRegression\n",
        "model = LinearRegression()\n",
        "model.fit(X1_train, y_train)"
      ]
    },
    {
      "cell_type": "code",
      "source": [],
      "metadata": {
        "id": "v_B9IXxFO3NI"
      },
      "execution_count": 23,
      "outputs": []
    },
    {
      "cell_type": "code",
      "execution_count": 24,
      "metadata": {
        "colab": {
          "base_uri": "https://localhost:8080/"
        },
        "id": "ahDzFDBcOt4s",
        "outputId": "4570d548-5839-4516-b4e4-2c3239eb7adc"
      },
      "outputs": [
        {
          "output_type": "execute_result",
          "data": {
            "text/plain": [
              "array([0.9967642])"
            ]
          },
          "metadata": {},
          "execution_count": 24
        }
      ],
      "source": [
        "model.coef_"
      ]
    },
    {
      "cell_type": "code",
      "execution_count": 25,
      "metadata": {
        "colab": {
          "base_uri": "https://localhost:8080/"
        },
        "id": "6g361zlmOt4s",
        "outputId": "2b56f53b-2147-42ae-b317-4d015142e0af"
      },
      "outputs": [
        {
          "output_type": "execute_result",
          "data": {
            "text/plain": [
              "np.float64(0.0015237505846132926)"
            ]
          },
          "metadata": {},
          "execution_count": 25
        }
      ],
      "source": [
        "model.intercept_"
      ]
    },
    {
      "cell_type": "code",
      "execution_count": 26,
      "metadata": {
        "id": "jQRwQb0kQi_R"
      },
      "outputs": [],
      "source": [
        "y_hat = model.predict(X1)"
      ]
    },
    {
      "cell_type": "code",
      "execution_count": 27,
      "metadata": {
        "colab": {
          "base_uri": "https://localhost:8080/",
          "height": 430
        },
        "id": "aI4wpSMMOt4s",
        "outputId": "eb04a6aa-fddb-4a8c-a1fe-f166ad93cfcb"
      },
      "outputs": [
        {
          "output_type": "display_data",
          "data": {
            "text/plain": [
              "<Figure size 640x480 with 1 Axes>"
            ],
            "image/png": "[encoded data removed]"
          },
          "metadata": {}
        }
      ],
      "source": [
        "fig = plt.figure()\n",
        "plt.scatter(X1,y,label='data')\n",
        "plt.scatter(X1,y_hat,color='orange',label='prediction')\n",
        "plt.legend()\n",
        "plt.show()"
      ]
    },
    {
      "cell_type": "markdown",
      "metadata": {
        "id": "26ayfOuIQsh8"
      },
      "source": [
        "Notice,\n",
        "- how the predicted values form a line similar to a regression line."
      ]
    },
    {
      "cell_type": "markdown",
      "metadata": {
        "id": "OinmKuV8OePl"
      },
      "source": [
        "### Multivariate"
      ]
    },
    {
      "cell_type": "markdown",
      "metadata": {
        "id": "WV3WSaAlQyfN"
      },
      "source": [
        "Let's now generalize our model for the whole data."
      ]
    },
    {
      "cell_type": "code",
      "execution_count": 28,
      "metadata": {
        "colab": {
          "base_uri": "https://localhost:8080/"
        },
        "id": "rqEQ9pt0ZuBK",
        "outputId": "c0df2a5a-d33a-4942-e759-31a31d680568"
      },
      "outputs": [
        {
          "output_type": "stream",
          "name": "stdout",
          "text": [
            "(19820, 17) (19820,)\n"
          ]
        }
      ],
      "source": [
        "print(X.shape, y.shape)"
      ]
    },
    {
      "cell_type": "code",
      "execution_count": 29,
      "metadata": {
        "colab": {
          "base_uri": "https://localhost:8080/",
          "height": 80
        },
        "id": "qPLoxGgMqw3M",
        "outputId": "7fa0f066-1530-40bc-cce9-0ecc480349a5"
      },
      "outputs": [
        {
          "output_type": "execute_result",
          "data": {
            "text/plain": [
              "LinearRegression()"
            ],
            "text/html": [
              "<style>#sk-container-id-3 {\n",
              "  /* Definition of color scheme common for light and dark mode */\n",
              "  --sklearn-color-text: #000;\n",
              "  --sklearn-color-text-muted: #666;\n",
              "  --sklearn-color-line: gray;\n",
              "  /* Definition of color scheme for unfitted estimators */\n",
              "  --sklearn-color-unfitted-level-0: #fff5e6;\n",
              "  --sklearn-color-unfitted-level-1: #f6e4d2;\n",
              "  --sklearn-color-unfitted-level-2: #ffe0b3;\n",
              "  --sklearn-color-unfitted-level-3: chocolate;\n",
              "  /* Definition of color scheme for fitted estimators */\n",
              "  --sklearn-color-fitted-level-0: #f0f8ff;\n",
              "  --sklearn-color-fitted-level-1: #d4ebff;\n",
              "  --sklearn-color-fitted-level-2: #b3dbfd;\n",
              "  --sklearn-color-fitted-level-3: cornflowerblue;\n",
              "\n",
              "  /* Specific color for light theme */\n",
              "  --sklearn-color-text-on-default-background: var(--sg-text-color, var(--theme-code-foreground, var(--jp-content-font-color1, black)));\n",
              "  --sklearn-color-background: var(--sg-background-color, var(--theme-background, var(--jp-layout-color0, white)));\n",
              "  --sklearn-color-border-box: var(--sg-text-color, var(--theme-code-foreground, var(--jp-content-font-color1, black)));\n",
              "  --sklearn-color-icon: #696969;\n",
              "\n",
              "  @media (prefers-color-scheme: dark) {\n",
              "    /* Redefinition of color scheme for dark theme */\n",
              "    --sklearn-color-text-on-default-background: var(--sg-text-color, var(--theme-code-foreground, var(--jp-content-font-color1, white)));\n",
              "    --sklearn-color-background: var(--sg-background-color, var(--theme-background, var(--jp-layout-color0, #111)));\n",
              "    --sklearn-color-border-box: var(--sg-text-color, var(--theme-code-foreground, var(--jp-content-font-color1, white)));\n",
              "    --sklearn-color-icon: #878787;\n",
              "  }\n",
              "}\n",
              "\n",
              "#sk-container-id-3 {\n",
              "  color: var(--sklearn-color-text);\n",
              "}\n",
              "\n",
              "#sk-container-id-3 pre {\n",
              "  padding: 0;\n",
              "}\n",
              "\n",
              "#sk-container-id-3 input.sk-hidden--visually {\n",
              "  border: 0;\n",
              "  clip: rect(1px 1px 1px 1px);\n",
              "  clip: rect(1px, 1px, 1px, 1px);\n",
              "  height: 1px;\n",
              "  margin: -1px;\n",
              "  overflow: hidden;\n",
              "  padding: 0;\n",
              "  position: absolute;\n",
              "  width: 1px;\n",
              "}\n",
              "\n",
              "#sk-container-id-3 div.sk-dashed-wrapped {\n",
              "  border: 1px dashed var(--sklearn-color-line);\n",
              "  margin: 0 0.4em 0.5em 0.4em;\n",
              "  box-sizing: border-box;\n",
              "  padding-bottom: 0.4em;\n",
              "  background-color: var(--sklearn-color-background);\n",
              "}\n",
              "\n",
              "#sk-container-id-3 div.sk-container {\n",
              "  /* jupyter's `normalize.less` sets `[hidden] { display: none; }`\n",
              "     but bootstrap.min.css set `[hidden] { display: none !important; }`\n",
              "     so we also need the `!important` here to be able to override the\n",
              "     default hidden behavior on the sphinx rendered scikit-learn.org.\n",
              "     See: https://github.com/scikit-learn/scikit-learn/issues/21755 */\n",
              "  display: inline-block !important;\n",
              "  position: relative;\n",
              "}\n",
              "\n",
              "#sk-container-id-3 div.sk-text-repr-fallback {\n",
              "  display: none;\n",
              "}\n",
              "\n",
              "div.sk-parallel-item,\n",
              "div.sk-serial,\n",
              "div.sk-item {\n",
              "  /* draw centered vertical line to link estimators */\n",
              "  background-image: linear-gradient(var(--sklearn-color-text-on-default-background), var(--sklearn-color-text-on-default-background));\n",
              "  background-size: 2px 100%;\n",
              "  background-repeat: no-repeat;\n",
              "  background-position: center center;\n",
              "}\n",
              "\n",
              "/* Parallel-specific style estimator block */\n",
              "\n",
              "#sk-container-id-3 div.sk-parallel-item::after {\n",
              "  content: \"\";\n",
              "  width: 100%;\n",
              "  border-bottom: 2px solid var(--sklearn-color-text-on-default-background);\n",
              "  flex-grow: 1;\n",
              "}\n",
              "\n",
              "#sk-container-id-3 div.sk-parallel {\n",
              "  display: flex;\n",
              "  align-items: stretch;\n",
              "  justify-content: center;\n",
              "  background-color: var(--sklearn-color-background);\n",
              "  position: relative;\n",
              "}\n",
              "\n",
              "#sk-container-id-3 div.sk-parallel-item {\n",
              "  display: flex;\n",
              "  flex-direction: column;\n",
              "}\n",
              "\n",
              "#sk-container-id-3 div.sk-parallel-item:first-child::after {\n",
              "  align-self: flex-end;\n",
              "  width: 50%;\n",
              "}\n",
              "\n",
              "#sk-container-id-3 div.sk-parallel-item:last-child::after {\n",
              "  align-self: flex-start;\n",
              "  width: 50%;\n",
              "}\n",
              "\n",
              "#sk-container-id-3 div.sk-parallel-item:only-child::after {\n",
              "  width: 0;\n",
              "}\n",
              "\n",
              "/* Serial-specific style estimator block */\n",
              "\n",
              "#sk-container-id-3 div.sk-serial {\n",
              "  display: flex;\n",
              "  flex-direction: column;\n",
              "  align-items: center;\n",
              "  background-color: var(--sklearn-color-background);\n",
              "  padding-right: 1em;\n",
              "  padding-left: 1em;\n",
              "}\n",
              "\n",
              "\n",
              "/* Toggleable style: style used for estimator/Pipeline/ColumnTransformer box that is\n",
              "clickable and can be expanded/collapsed.\n",
              "- Pipeline and ColumnTransformer use this feature and define the default style\n",
              "- Estimators will overwrite some part of the style using the `sk-estimator` class\n",
              "*/\n",
              "\n",
              "/* Pipeline and ColumnTransformer style (default) */\n",
              "\n",
              "#sk-container-id-3 div.sk-toggleable {\n",
              "  /* Default theme specific background. It is overwritten whether we have a\n",
              "  specific estimator or a Pipeline/ColumnTransformer */\n",
              "  background-color: var(--sklearn-color-background);\n",
              "}\n",
              "\n",
              "/* Toggleable label */\n",
              "#sk-container-id-3 label.sk-toggleable__label {\n",
              "  cursor: pointer;\n",
              "  display: flex;\n",
              "  width: 100%;\n",
              "  margin-bottom: 0;\n",
              "  padding: 0.5em;\n",
              "  box-sizing: border-box;\n",
              "  text-align: center;\n",
              "  align-items: start;\n",
              "  justify-content: space-between;\n",
              "  gap: 0.5em;\n",
              "}\n",
              "\n",
              "#sk-container-id-3 label.sk-toggleable__label .caption {\n",
              "  font-size: 0.6rem;\n",
              "  font-weight: lighter;\n",
              "  color: var(--sklearn-color-text-muted);\n",
              "}\n",
              "\n",
              "#sk-container-id-3 label.sk-toggleable__label-arrow:before {\n",
              "  /* Arrow on the left of the label */\n",
              "  content: \"▸\";\n",
              "  float: left;\n",
              "  margin-right: 0.25em;\n",
              "  color: var(--sklearn-color-icon);\n",
              "}\n",
              "\n",
              "#sk-container-id-3 label.sk-toggleable__label-arrow:hover:before {\n",
              "  color: var(--sklearn-color-text);\n",
              "}\n",
              "\n",
              "/* Toggleable content - dropdown */\n",
              "\n",
              "#sk-container-id-3 div.sk-toggleable__content {\n",
              "  max-height: 0;\n",
              "  max-width: 0;\n",
              "  overflow: hidden;\n",
              "  text-align: left;\n",
              "  /* unfitted */\n",
              "  background-color: var(--sklearn-color-unfitted-level-0);\n",
              "}\n",
              "\n",
              "#sk-container-id-3 div.sk-toggleable__content.fitted {\n",
              "  /* fitted */\n",
              "  background-color: var(--sklearn-color-fitted-level-0);\n",
              "}\n",
              "\n",
              "#sk-container-id-3 div.sk-toggleable__content pre {\n",
              "  margin: 0.2em;\n",
              "  border-radius: 0.25em;\n",
              "  color: var(--sklearn-color-text);\n",
              "  /* unfitted */\n",
              "  background-color: var(--sklearn-color-unfitted-level-0);\n",
              "}\n",
              "\n",
              "#sk-container-id-3 div.sk-toggleable__content.fitted pre {\n",
              "  /* unfitted */\n",
              "  background-color: var(--sklearn-color-fitted-level-0);\n",
              "}\n",
              "\n",
              "#sk-container-id-3 input.sk-toggleable__control:checked~div.sk-toggleable__content {\n",
              "  /* Expand drop-down */\n",
              "  max-height: 200px;\n",
              "  max-width: 100%;\n",
              "  overflow: auto;\n",
              "}\n",
              "\n",
              "#sk-container-id-3 input.sk-toggleable__control:checked~label.sk-toggleable__label-arrow:before {\n",
              "  content: \"▾\";\n",
              "}\n",
              "\n",
              "/* Pipeline/ColumnTransformer-specific style */\n",
              "\n",
              "#sk-container-id-3 div.sk-label input.sk-toggleable__control:checked~label.sk-toggleable__label {\n",
              "  color: var(--sklearn-color-text);\n",
              "  background-color: var(--sklearn-color-unfitted-level-2);\n",
              "}\n",
              "\n",
              "#sk-container-id-3 div.sk-label.fitted input.sk-toggleable__control:checked~label.sk-toggleable__label {\n",
              "  background-color: var(--sklearn-color-fitted-level-2);\n",
              "}\n",
              "\n",
              "/* Estimator-specific style */\n",
              "\n",
              "/* Colorize estimator box */\n",
              "#sk-container-id-3 div.sk-estimator input.sk-toggleable__control:checked~label.sk-toggleable__label {\n",
              "  /* unfitted */\n",
              "  background-color: var(--sklearn-color-unfitted-level-2);\n",
              "}\n",
              "\n",
              "#sk-container-id-3 div.sk-estimator.fitted input.sk-toggleable__control:checked~label.sk-toggleable__label {\n",
              "  /* fitted */\n",
              "  background-color: var(--sklearn-color-fitted-level-2);\n",
              "}\n",
              "\n",
              "#sk-container-id-3 div.sk-label label.sk-toggleable__label,\n",
              "#sk-container-id-3 div.sk-label label {\n",
              "  /* The background is the default theme color */\n",
              "  color: var(--sklearn-color-text-on-default-background);\n",
              "}\n",
              "\n",
              "/* On hover, darken the color of the background */\n",
              "#sk-container-id-3 div.sk-label:hover label.sk-toggleable__label {\n",
              "  color: var(--sklearn-color-text);\n",
              "  background-color: var(--sklearn-color-unfitted-level-2);\n",
              "}\n",
              "\n",
              "/* Label box, darken color on hover, fitted */\n",
              "#sk-container-id-3 div.sk-label.fitted:hover label.sk-toggleable__label.fitted {\n",
              "  color: var(--sklearn-color-text);\n",
              "  background-color: var(--sklearn-color-fitted-level-2);\n",
              "}\n",
              "\n",
              "/* Estimator label */\n",
              "\n",
              "#sk-container-id-3 div.sk-label label {\n",
              "  font-family: monospace;\n",
              "  font-weight: bold;\n",
              "  display: inline-block;\n",
              "  line-height: 1.2em;\n",
              "}\n",
              "\n",
              "#sk-container-id-3 div.sk-label-container {\n",
              "  text-align: center;\n",
              "}\n",
              "\n",
              "/* Estimator-specific */\n",
              "#sk-container-id-3 div.sk-estimator {\n",
              "  font-family: monospace;\n",
              "  border: 1px dotted var(--sklearn-color-border-box);\n",
              "  border-radius: 0.25em;\n",
              "  box-sizing: border-box;\n",
              "  margin-bottom: 0.5em;\n",
              "  /* unfitted */\n",
              "  background-color: var(--sklearn-color-unfitted-level-0);\n",
              "}\n",
              "\n",
              "#sk-container-id-3 div.sk-estimator.fitted {\n",
              "  /* fitted */\n",
              "  background-color: var(--sklearn-color-fitted-level-0);\n",
              "}\n",
              "\n",
              "/* on hover */\n",
              "#sk-container-id-3 div.sk-estimator:hover {\n",
              "  /* unfitted */\n",
              "  background-color: var(--sklearn-color-unfitted-level-2);\n",
              "}\n",
              "\n",
              "#sk-container-id-3 div.sk-estimator.fitted:hover {\n",
              "  /* fitted */\n",
              "  background-color: var(--sklearn-color-fitted-level-2);\n",
              "}\n",
              "\n",
              "/* Specification for estimator info (e.g. \"i\" and \"?\") */\n",
              "\n",
              "/* Common style for \"i\" and \"?\" */\n",
              "\n",
              ".sk-estimator-doc-link,\n",
              "a:link.sk-estimator-doc-link,\n",
              "a:visited.sk-estimator-doc-link {\n",
              "  float: right;\n",
              "  font-size: smaller;\n",
              "  line-height: 1em;\n",
              "  font-family: monospace;\n",
              "  background-color: var(--sklearn-color-background);\n",
              "  border-radius: 1em;\n",
              "  height: 1em;\n",
              "  width: 1em;\n",
              "  text-decoration: none !important;\n",
              "  margin-left: 0.5em;\n",
              "  text-align: center;\n",
              "  /* unfitted */\n",
              "  border: var(--sklearn-color-unfitted-level-1) 1pt solid;\n",
              "  color: var(--sklearn-color-unfitted-level-1);\n",
              "}\n",
              "\n",
              ".sk-estimator-doc-link.fitted,\n",
              "a:link.sk-estimator-doc-link.fitted,\n",
              "a:visited.sk-estimator-doc-link.fitted {\n",
              "  /* fitted */\n",
              "  border: var(--sklearn-color-fitted-level-1) 1pt solid;\n",
              "  color: var(--sklearn-color-fitted-level-1);\n",
              "}\n",
              "\n",
              "/* On hover */\n",
              "div.sk-estimator:hover .sk-estimator-doc-link:hover,\n",
              ".sk-estimator-doc-link:hover,\n",
              "div.sk-label-container:hover .sk-estimator-doc-link:hover,\n",
              ".sk-estimator-doc-link:hover {\n",
              "  /* unfitted */\n",
              "  background-color: var(--sklearn-color-unfitted-level-3);\n",
              "  color: var(--sklearn-color-background);\n",
              "  text-decoration: none;\n",
              "}\n",
              "\n",
              "div.sk-estimator.fitted:hover .sk-estimator-doc-link.fitted:hover,\n",
              ".sk-estimator-doc-link.fitted:hover,\n",
              "div.sk-label-container:hover .sk-estimator-doc-link.fitted:hover,\n",
              ".sk-estimator-doc-link.fitted:hover {\n",
              "  /* fitted */\n",
              "  background-color: var(--sklearn-color-fitted-level-3);\n",
              "  color: var(--sklearn-color-background);\n",
              "  text-decoration: none;\n",
              "}\n",
              "\n",
              "/* Span, style for the box shown on hovering the info icon */\n",
              ".sk-estimator-doc-link span {\n",
              "  display: none;\n",
              "  z-index: 9999;\n",
              "  position: relative;\n",
              "  font-weight: normal;\n",
              "  right: .2ex;\n",
              "  padding: .5ex;\n",
              "  margin: .5ex;\n",
              "  width: min-content;\n",
              "  min-width: 20ex;\n",
              "  max-width: 50ex;\n",
              "  color: var(--sklearn-color-text);\n",
              "  box-shadow: 2pt 2pt 4pt #999;\n",
              "  /* unfitted */\n",
              "  background: var(--sklearn-color-unfitted-level-0);\n",
              "  border: .5pt solid var(--sklearn-color-unfitted-level-3);\n",
              "}\n",
              "\n",
              ".sk-estimator-doc-link.fitted span {\n",
              "  /* fitted */\n",
              "  background: var(--sklearn-color-fitted-level-0);\n",
              "  border: var(--sklearn-color-fitted-level-3);\n",
              "}\n",
              "\n",
              ".sk-estimator-doc-link:hover span {\n",
              "  display: block;\n",
              "}\n",
              "\n",
              "/* \"?\"-specific style due to the `<a>` HTML tag */\n",
              "\n",
              "#sk-container-id-3 a.estimator_doc_link {\n",
              "  float: right;\n",
              "  font-size: 1rem;\n",
              "  line-height: 1em;\n",
              "  font-family: monospace;\n",
              "  background-color: var(--sklearn-color-background);\n",
              "  border-radius: 1rem;\n",
              "  height: 1rem;\n",
              "  width: 1rem;\n",
              "  text-decoration: none;\n",
              "  /* unfitted */\n",
              "  color: var(--sklearn-color-unfitted-level-1);\n",
              "  border: var(--sklearn-color-unfitted-level-1) 1pt solid;\n",
              "}\n",
              "\n",
              "#sk-container-id-3 a.estimator_doc_link.fitted {\n",
              "  /* fitted */\n",
              "  border: var(--sklearn-color-fitted-level-1) 1pt solid;\n",
              "  color: var(--sklearn-color-fitted-level-1);\n",
              "}\n",
              "\n",
              "/* On hover */\n",
              "#sk-container-id-3 a.estimator_doc_link:hover {\n",
              "  /* unfitted */\n",
              "  background-color: var(--sklearn-color-unfitted-level-3);\n",
              "  color: var(--sklearn-color-background);\n",
              "  text-decoration: none;\n",
              "}\n",
              "\n",
              "#sk-container-id-3 a.estimator_doc_link.fitted:hover {\n",
              "  /* fitted */\n",
              "  background-color: var(--sklearn-color-fitted-level-3);\n",
              "}\n",
              "</style><div id=\"sk-container-id-3\" class=\"sk-top-container\"><div class=\"sk-text-repr-fallback\"><pre>LinearRegression()</pre><b>In a Jupyter environment, please rerun this cell to show the HTML representation or trust the notebook. <br />On GitHub, the HTML representation is unable to render, please try loading this page with nbviewer.org.</b></div><div class=\"sk-container\" hidden><div class=\"sk-item\"><div class=\"sk-estimator fitted sk-toggleable\"><input class=\"sk-toggleable__control sk-hidden--visually\" id=\"sk-estimator-id-3\" type=\"checkbox\" checked><label for=\"sk-estimator-id-3\" class=\"sk-toggleable__label fitted sk-toggleable__label-arrow\"><div><div>LinearRegression</div></div><div><a class=\"sk-estimator-doc-link fitted\" rel=\"noreferrer\" target=\"_blank\" href=\"https://scikit-learn.org/1.6/modules/generated/sklearn.linear_model.LinearRegression.html\">?<span>Documentation for LinearRegression</span></a><span class=\"sk-estimator-doc-link fitted\">i<span>Fitted</span></span></div></label><div class=\"sk-toggleable__content fitted\"><pre>LinearRegression()</pre></div> </div></div></div></div>"
            ]
          },
          "metadata": {},
          "execution_count": 29
        }
      ],
      "source": [
        "from sklearn.linear_model import LinearRegression\n",
        "model = LinearRegression()\n",
        "model.fit(X_train, y_train)"
      ]
    },
    {
      "cell_type": "code",
      "execution_count": 30,
      "metadata": {
        "colab": {
          "base_uri": "https://localhost:8080/"
        },
        "id": "Hsy-k6yVq1-X",
        "outputId": "aaa9c496-a7db-4931-d7c4-5f35ab62782e"
      },
      "outputs": [
        {
          "output_type": "execute_result",
          "data": {
            "text/plain": [
              "array([ 0.12588418, -0.25016952, -0.228541  ,  0.07508445,  0.04530473,\n",
              "       -0.12588418,  0.06460638,  0.86034164, -0.00702006, -0.00703094,\n",
              "        0.00672347,  0.1292155 ,  0.01603964, -0.00661902, -0.00390528,\n",
              "       -0.01629955, -0.02359347])"
            ]
          },
          "metadata": {},
          "execution_count": 30
        }
      ],
      "source": [
        "model.coef_"
      ]
    },
    {
      "cell_type": "code",
      "execution_count": 31,
      "metadata": {
        "colab": {
          "base_uri": "https://localhost:8080/"
        },
        "id": "WeCXQFYlrBOs",
        "outputId": "f17931c2-39d2-46f6-e732-ecfed0295a79"
      },
      "outputs": [
        {
          "output_type": "execute_result",
          "data": {
            "text/plain": [
              "np.float64(-0.011456351039686896)"
            ]
          },
          "metadata": {},
          "execution_count": 31
        }
      ],
      "source": [
        "model.intercept_"
      ]
    },
    {
      "cell_type": "code",
      "execution_count": 32,
      "metadata": {
        "colab": {
          "base_uri": "https://localhost:8080/",
          "height": 485
        },
        "id": "tz2ULLfRbsVt",
        "outputId": "edfaa87b-3e5c-4ee2-effe-47ede9de507b"
      },
      "outputs": [
        {
          "output_type": "stream",
          "name": "stderr",
          "text": [
            "/tmp/ipython-input-2294406906.py:5: UserWarning: No artists with labels found to put in legend.  Note that artists whose label start with an underscore are ignored when legend() is called with no argument.\n",
            "  plt.legend()\n"
          ]
        },
        {
          "output_type": "display_data",
          "data": {
            "text/plain": [
              "<Figure size 640x480 with 1 Axes>"
            ],
            "image/png": "[encoded data removed]"
          },
          "metadata": {}
        }
      ],
      "source": [
        "import matplotlib.pyplot as plt\n",
        "fig = plt.figure()\n",
        "y_hat = model.predict(X_test)\n",
        "plt.scatter(y_hat,y_test)\n",
        "plt.legend()\n",
        "plt.show()"
      ]
    },
    {
      "cell_type": "markdown",
      "metadata": {
        "id": "YQ-XEYOOrFQc"
      },
      "source": [
        "## Evaluation Metric"
      ]
    },
    {
      "cell_type": "markdown",
      "metadata": {
        "id": "mLpSIVoFRFEa"
      },
      "source": [
        "#### Let's check the performance of our previously trained model on test data.\n",
        "\n",
        "\\\n",
        "LinearRegression's default `.score()` function uses R2 score to evaluate the data."
      ]
    },
    {
      "cell_type": "code",
      "execution_count": 33,
      "metadata": {
        "colab": {
          "base_uri": "https://localhost:8080/"
        },
        "id": "hc0Z5qlW5ySm",
        "outputId": "b55f0d1f-d2a6-4cd0-e43e-2ef394dd6849"
      },
      "outputs": [
        {
          "output_type": "execute_result",
          "data": {
            "text/plain": [
              "0.9457591024750988"
            ]
          },
          "metadata": {},
          "execution_count": 33
        }
      ],
      "source": [
        "model.score(X_train, y_train)"
      ]
    },
    {
      "cell_type": "code",
      "execution_count": 34,
      "metadata": {
        "colab": {
          "base_uri": "https://localhost:8080/"
        },
        "id": "J7O_0x1RSper",
        "outputId": "def64183-59a5-4567-9b61-df25e19a7892"
      },
      "outputs": [
        {
          "output_type": "execute_result",
          "data": {
            "text/plain": [
              "0.9458843076992296"
            ]
          },
          "metadata": {},
          "execution_count": 34
        }
      ],
      "source": [
        "model.score(X_test, y_test)"
      ]
    },
    {
      "cell_type": "markdown",
      "metadata": {
        "id": "RuYvLFeTrGWN"
      },
      "source": [
        "## Model Interpretability"
      ]
    },
    {
      "cell_type": "markdown",
      "metadata": {
        "id": "-_dp1OGLRbIO"
      },
      "source": [
        "### Understanding our model"
      ]
    },
    {
      "cell_type": "code",
      "execution_count": 35,
      "metadata": {
        "colab": {
          "base_uri": "https://localhost:8080/"
        },
        "id": "-RAiQWwwrCFV",
        "outputId": "d5c2fb96-745b-4ed8-c712-d666b703e3e2"
      },
      "outputs": [
        {
          "output_type": "execute_result",
          "data": {
            "text/plain": [
              "array([ 0.12588418, -0.25016952, -0.228541  ,  0.07508445,  0.04530473,\n",
              "       -0.12588418,  0.06460638,  0.86034164, -0.00702006, -0.00703094,\n",
              "        0.00672347,  0.1292155 ,  0.01603964, -0.00661902, -0.00390528,\n",
              "       -0.01629955, -0.02359347])"
            ]
          },
          "metadata": {},
          "execution_count": 35
        }
      ],
      "source": [
        "model.coef_"
      ]
    },
    {
      "cell_type": "code",
      "execution_count": 36,
      "metadata": {
        "colab": {
          "base_uri": "https://localhost:8080/",
          "height": 867
        },
        "id": "OB_xx3XFdeMq",
        "outputId": "b9b6392f-a507-4972-cb2c-781320a224a1"
      },
      "outputs": [
        {
          "output_type": "execute_result",
          "data": {
            "text/plain": [
              "([0, 1, 2, 3, 4, 5, 6, 7, 8, 9, 10, 11, 12, 13, 14, 15, 16],\n",
              " [Text(0, 0, 'year'),\n",
              "  Text(1, 0, 'km_driven'),\n",
              "  Text(2, 0, 'mileage'),\n",
              "  Text(3, 0, 'engine'),\n",
              "  Text(4, 0, 'max_power'),\n",
              "  Text(5, 0, 'age'),\n",
              "  Text(6, 0, 'make'),\n",
              "  Text(7, 0, 'model'),\n",
              "  Text(8, 0, 'Individual'),\n",
              "  Text(9, 0, 'Trustmark Dealer'),\n",
              "  Text(10, 0, 'Diesel'),\n",
              "  Text(11, 0, 'Electric'),\n",
              "  Text(12, 0, 'LPG'),\n",
              "  Text(13, 0, 'Petrol'),\n",
              "  Text(14, 0, 'Manual'),\n",
              "  Text(15, 0, '5'),\n",
              "  Text(16, 0, '>5')])"
            ]
          },
          "metadata": {},
          "execution_count": 36
        },
        {
          "output_type": "display_data",
          "data": {
            "text/plain": [
              "<Figure size 640x480 with 1 Axes>"
            ],
            "image/png": "[encoded data removed]"
          },
          "metadata": {}
        }
      ],
      "source": [
        "import seaborn as sns\n",
        "\n",
        "imp = pd.DataFrame(list(zip(X_test.columns,np.abs(model.coef_))),\n",
        "                   columns=['feature', 'coeff'])\n",
        "sns.barplot(x='feature', y='coeff', data=imp)\n",
        "plt.xticks(rotation=90)"
      ]
    },
    {
      "cell_type": "code",
      "execution_count": 37,
      "metadata": {
        "colab": {
          "base_uri": "https://localhost:8080/",
          "height": 36
        },
        "id": "QbBndNte4XhH",
        "outputId": "84c89438-e6fe-4ef8-cb2c-bf0e49505d76"
      },
      "outputs": [
        {
          "output_type": "execute_result",
          "data": {
            "text/plain": [
              "'model'"
            ],
            "application/vnd.google.colaboratory.intrinsic+json": {
              "type": "string"
            }
          },
          "metadata": {},
          "execution_count": 37
        }
      ],
      "source": [
        "X_test.columns[np.argmax(np.abs(model.coef_))]"
      ]
    },
    {
      "cell_type": "code",
      "execution_count": 38,
      "metadata": {
        "colab": {
          "base_uri": "https://localhost:8080/",
          "height": 36
        },
        "id": "w_7mjq7Y4J2_",
        "outputId": "3bf5a499-3313-4b9d-f979-0e22c275ee22"
      },
      "outputs": [
        {
          "output_type": "execute_result",
          "data": {
            "text/plain": [
              "'Manual'"
            ],
            "application/vnd.google.colaboratory.intrinsic+json": {
              "type": "string"
            }
          },
          "metadata": {},
          "execution_count": 38
        }
      ],
      "source": [
        "X_test.columns[np.argmin(np.abs(model.coef_))]"
      ]
    },
    {
      "cell_type": "markdown",
      "metadata": {
        "id": "xaruMhluzF4z"
      },
      "source": [
        "So,\n",
        "- `year` is most important feature,\n",
        "- while `manual` is the least important."
      ]
    },
    {
      "cell_type": "markdown",
      "source": [
        "### Linear Regression"
      ],
      "metadata": {
        "id": "7pg8HKN-Zgr4"
      }
    },
    {
      "cell_type": "code",
      "execution_count": 39,
      "metadata": {
        "id": "AupPV3V58zV3"
      },
      "outputs": [],
      "source": [
        "import numpy as np\n",
        "class LinearRegression() :\n",
        "  def __init__(self, learning_rate=0.01, iterations=5):\n",
        "    self.learning_rate = learning_rate\n",
        "    self.iterations = iterations"
      ]
    },
    {
      "cell_type": "markdown",
      "metadata": {
        "id": "u0vVds6C2oSK"
      },
      "source": [
        "Next we define our predict function.\n",
        "\n",
        "It's simply $X*W + b$"
      ]
    },
    {
      "cell_type": "code",
      "execution_count": 40,
      "metadata": {
        "id": "JG67iBro8_fY"
      },
      "outputs": [],
      "source": [
        "def predict(self, X):\n",
        "  return np.dot(X, self.W)+self.b\n",
        "\n",
        "LinearRegression.predict=predict"
      ]
    },
    {
      "cell_type": "markdown",
      "metadata": {
        "id": "DQ-xAUwOMtx2"
      },
      "source": [
        "Note:\n",
        "\n",
        "We are using this notation of adding a function, as seen from the last line `LinearRegression.predict=predict`, since we aren't defining the class in one go"
      ]
    },
    {
      "cell_type": "markdown",
      "metadata": {
        "id": "iVH0afu-2yb4"
      },
      "source": [
        "Finally we define our evaluation metric, R2 Score"
      ]
    },
    {
      "cell_type": "code",
      "execution_count": 41,
      "metadata": {
        "id": "__Ukf93a_c4q"
      },
      "outputs": [],
      "source": [
        "def r2_score(self, X, y):\n",
        "  y_ = self.predict(X)\n",
        "  ss_res = np.sum((y-y_)**2)\n",
        "  ss_tot = np.sum((y- y.mean())**2)\n",
        "  score = (1- ss_res/ss_tot)\n",
        "  return score\n",
        "\n",
        "LinearRegression.score=r2_score"
      ]
    },
    {
      "cell_type": "markdown",
      "metadata": {
        "id": "lCX9l6ItKGH4"
      },
      "source": [
        "## Optimization\n",
        "\n",
        "Now, we come to our main task of training the model."
      ]
    },
    {
      "cell_type": "markdown",
      "metadata": {
        "id": "bGw55a8627RA"
      },
      "source": [
        "If you remember,\n",
        "- our objective was to find the hyperplane in $d+1$ dimensions\n",
        "- such that this is very close to the $d+1$ dimensional points."
      ]
    },
    {
      "cell_type": "code",
      "execution_count": 42,
      "metadata": {
        "id": "QqcQ0J6AEhaW"
      },
      "outputs": [],
      "source": [
        "def update_weights(self):\n",
        "  Y_pred = self.predict( self.X )\n",
        "  # calculate gradients\n",
        "  dW = - (2*(self.X.T ).dot(self.Y - Y_pred))/self.m\n",
        "  db = - 2*np.sum(self.Y - Y_pred)/self.m\n",
        "  # print(self.X.shape, (self.Y-Y_pred).shape, dW.shape)\n",
        "  # update weights\n",
        "  self.W = self.W - self.learning_rate * dW\n",
        "  self.b = self.b - self.learning_rate * db\n",
        "  return self\n",
        "\n",
        "LinearRegression.update_weights=update_weights"
      ]
    },
    {
      "cell_type": "markdown",
      "metadata": {
        "id": "J9NElsFFGutj"
      },
      "source": [
        "<!-- **Note:**\n",
        "- Using 1 point of updation is called stochastic gradient descent.\n",
        "- Whereas if we update the weights after m points, it's called batch gradient descent. -->"
      ]
    },
    {
      "cell_type": "markdown",
      "metadata": {
        "id": "CKJtWpo6hWf4"
      },
      "source": [
        "<!-- **Quiz** (Check your understanding)\n",
        "```\n",
        "Which variant of Gradient Descent uses the entire dataset to compute the gradient at each iteration?\n",
        "A) Mini-batch Gradient Descent\n",
        "B) Stochastic Gradient Descent\n",
        "C) Batch Gradient Descent\n",
        "D) Regularized Gradient Descent\n",
        "\n",
        "Correct Answer: C) Batch Gradient Descent\n",
        "\n",
        "``` -->"
      ]
    },
    {
      "cell_type": "markdown",
      "metadata": {
        "id": "OVUXgyLkxOrh"
      },
      "source": [
        "Now finally, since we have all the required functions, </br>\n",
        "let's code the `fit` function now to fit our model to our data."
      ]
    },
    {
      "cell_type": "code",
      "execution_count": 43,
      "metadata": {
        "id": "aSX-Z-HUJaPb"
      },
      "outputs": [],
      "source": [
        "def fit(self, X, Y):\n",
        "  # no_of_training_examples, no_of_features\n",
        "  self.m, self.d = X.shape\n",
        "  # weight initialization\n",
        "  self.W = np.zeros(self.d)\n",
        "  self.b = 0\n",
        "  self.X = X\n",
        "  self.Y = Y\n",
        "  self.error_list=[]\n",
        "  # gradient descent learning\n",
        "  for i in range(self.iterations):\n",
        "    self.update_weights()\n",
        "    Y_pred=X.dot(self.W)+self.b\n",
        "    error=np.square(np.subtract(Y,Y_pred)).mean()\n",
        "    self.error_list.append(error)\n",
        "  return self\n",
        "\n",
        "LinearRegression.fit=fit"
      ]
    },
    {
      "cell_type": "markdown",
      "metadata": {
        "id": "fodLifRpy1SL"
      },
      "source": [
        "Let's train our model now on our data"
      ]
    },
    {
      "cell_type": "code",
      "execution_count": 44,
      "metadata": {
        "colab": {
          "base_uri": "https://localhost:8080/"
        },
        "id": "cWjWL56kKiyq",
        "outputId": "75eedd47-c344-4a63-9c6c-eda8cfcac609"
      },
      "outputs": [
        {
          "output_type": "stream",
          "name": "stdout",
          "text": [
            "Downloading...\n",
            "From: https://drive.google.com/uc?id=1UpLnYA48Vy_lGUMMLG-uQE1gf_Je12Lh\n",
            "To: /content/cars24-car-price-clean.csv\n",
            "100% 7.10M/7.10M [00:00<00:00, 37.4MB/s]\n"
          ]
        }
      ],
      "source": [
        "import numpy as np\n",
        "import pandas as pd\n",
        "import matplotlib.pyplot as plt\n",
        "\n",
        "!gdown 1UpLnYA48Vy_lGUMMLG-uQE1gf_Je12Lh"
      ]
    },
    {
      "cell_type": "code",
      "execution_count": 45,
      "metadata": {
        "colab": {
          "base_uri": "https://localhost:8080/",
          "height": 243
        },
        "id": "GA-MEmss3oce",
        "outputId": "891a397b-eb27-498d-b732-8dd6f3b411d2"
      },
      "outputs": [
        {
          "output_type": "execute_result",
          "data": {
            "text/plain": [
              "   selling_price      year  km_driven   mileage    engine  max_power  \\\n",
              "0      -1.111046 -0.801317   1.195828  0.045745 -1.310754  -1.157780   \n",
              "1      -0.223944  0.450030  -0.737872 -0.140402 -0.537456  -0.360203   \n",
              "2      -0.915058 -1.426990   0.035608 -0.582501 -0.537456  -0.404885   \n",
              "3      -0.892365 -0.801317  -0.409143  0.329620 -0.921213  -0.693085   \n",
              "4      -0.182683  0.137194  -0.544502  0.760085  0.042999   0.010435   \n",
              "\n",
              "        age      make     model  Individual  Trustmark Dealer    Diesel  \\\n",
              "0  0.801317 -0.433854 -1.125683    1.248892         -0.098382 -0.985275   \n",
              "1 -0.450030 -0.327501 -0.333227    1.248892         -0.098382 -0.985275   \n",
              "2  1.426990 -0.327501 -0.789807    1.248892         -0.098382 -0.985275   \n",
              "3  0.801317 -0.433854 -0.905265    1.248892         -0.098382 -0.985275   \n",
              "4 -0.137194 -0.246579 -0.013096   -0.800710         -0.098382  1.014945   \n",
              "\n",
              "   Electric       LPG    Petrol    Manual         5        >5  \n",
              "0 -0.020095 -0.056917  1.024622  0.495818  0.444503 -0.424728  \n",
              "1 -0.020095 -0.056917  1.024622  0.495818  0.444503 -0.424728  \n",
              "2 -0.020095 -0.056917  1.024622  0.495818  0.444503 -0.424728  \n",
              "3 -0.020095 -0.056917  1.024622  0.495818  0.444503 -0.424728  \n",
              "4 -0.020095 -0.056917 -0.975970  0.495818  0.444503 -0.424728  "
            ],
            "text/html": [
              "\n",
              "  <div id=\"df-25e2a868-90ff-4823-8c2f-2ea07031db0a\" class=\"colab-df-container\">\n",
              "    <div>\n",
              "<style scoped>\n",
              "    .dataframe tbody tr th:only-of-type {\n",
              "        vertical-align: middle;\n",
              "    }\n",
              "\n",
              "    .dataframe tbody tr th {\n",
              "        vertical-align: top;\n",
              "    }\n",
              "\n",
              "    .dataframe thead th {\n",
              "        text-align: right;\n",
              "    }\n",
              "</style>\n",
              "<table border=\"1\" class=\"dataframe\">\n",
              "  <thead>\n",
              "    <tr style=\"text-align: right;\">\n",
              "      <th></th>\n",
              "      <th>selling_price</th>\n",
              "      <th>year</th>\n",
              "      <th>km_driven</th>\n",
              "      <th>mileage</th>\n",
              "      <th>engine</th>\n",
              "      <th>max_power</th>\n",
              "      <th>age</th>\n",
              "      <th>make</th>\n",
              "      <th>model</th>\n",
              "      <th>Individual</th>\n",
              "      <th>Trustmark Dealer</th>\n",
              "      <th>Diesel</th>\n",
              "      <th>Electric</th>\n",
              "      <th>LPG</th>\n",
              "      <th>Petrol</th>\n",
              "      <th>Manual</th>\n",
              "      <th>5</th>\n",
              "      <th>&gt;5</th>\n",
              "    </tr>\n",
              "  </thead>\n",
              "  <tbody>\n",
              "    <tr>\n",
              "      <th>0</th>\n",
              "      <td>-1.111046</td>\n",
              "      <td>-0.801317</td>\n",
              "      <td>1.195828</td>\n",
              "      <td>0.045745</td>\n",
              "      <td>-1.310754</td>\n",
              "      <td>-1.157780</td>\n",
              "      <td>0.801317</td>\n",
              "      <td>-0.433854</td>\n",
              "      <td>-1.125683</td>\n",
              "      <td>1.248892</td>\n",
              "      <td>-0.098382</td>\n",
              "      <td>-0.985275</td>\n",
              "      <td>-0.020095</td>\n",
              "      <td>-0.056917</td>\n",
              "      <td>1.024622</td>\n",
              "      <td>0.495818</td>\n",
              "      <td>0.444503</td>\n",
              "      <td>-0.424728</td>\n",
              "    </tr>\n",
              "    <tr>\n",
              "      <th>1</th>\n",
              "      <td>-0.223944</td>\n",
              "      <td>0.450030</td>\n",
              "      <td>-0.737872</td>\n",
              "      <td>-0.140402</td>\n",
              "      <td>-0.537456</td>\n",
              "      <td>-0.360203</td>\n",
              "      <td>-0.450030</td>\n",
              "      <td>-0.327501</td>\n",
              "      <td>-0.333227</td>\n",
              "      <td>1.248892</td>\n",
              "      <td>-0.098382</td>\n",
              "      <td>-0.985275</td>\n",
              "      <td>-0.020095</td>\n",
              "      <td>-0.056917</td>\n",
              "      <td>1.024622</td>\n",
              "      <td>0.495818</td>\n",
              "      <td>0.444503</td>\n",
              "      <td>-0.424728</td>\n",
              "    </tr>\n",
              "    <tr>\n",
              "      <th>2</th>\n",
              "      <td>-0.915058</td>\n",
              "      <td>-1.426990</td>\n",
              "      <td>0.035608</td>\n",
              "      <td>-0.582501</td>\n",
              "      <td>-0.537456</td>\n",
              "      <td>-0.404885</td>\n",
              "      <td>1.426990</td>\n",
              "      <td>-0.327501</td>\n",
              "      <td>-0.789807</td>\n",
              "      <td>1.248892</td>\n",
              "      <td>-0.098382</td>\n",
              "      <td>-0.985275</td>\n",
              "      <td>-0.020095</td>\n",
              "      <td>-0.056917</td>\n",
              "      <td>1.024622</td>\n",
              "      <td>0.495818</td>\n",
              "      <td>0.444503</td>\n",
              "      <td>-0.424728</td>\n",
              "    </tr>\n",
              "    <tr>\n",
              "      <th>3</th>\n",
              "      <td>-0.892365</td>\n",
              "      <td>-0.801317</td>\n",
              "      <td>-0.409143</td>\n",
              "      <td>0.329620</td>\n",
              "      <td>-0.921213</td>\n",
              "      <td>-0.693085</td>\n",
              "      <td>0.801317</td>\n",
              "      <td>-0.433854</td>\n",
              "      <td>-0.905265</td>\n",
              "      <td>1.248892</td>\n",
              "      <td>-0.098382</td>\n",
              "      <td>-0.985275</td>\n",
              "      <td>-0.020095</td>\n",
              "      <td>-0.056917</td>\n",
              "      <td>1.024622</td>\n",
              "      <td>0.495818</td>\n",
              "      <td>0.444503</td>\n",
              "      <td>-0.424728</td>\n",
              "    </tr>\n",
              "    <tr>\n",
              "      <th>4</th>\n",
              "      <td>-0.182683</td>\n",
              "      <td>0.137194</td>\n",
              "      <td>-0.544502</td>\n",
              "      <td>0.760085</td>\n",
              "      <td>0.042999</td>\n",
              "      <td>0.010435</td>\n",
              "      <td>-0.137194</td>\n",
              "      <td>-0.246579</td>\n",
              "      <td>-0.013096</td>\n",
              "      <td>-0.800710</td>\n",
              "      <td>-0.098382</td>\n",
              "      <td>1.014945</td>\n",
              "      <td>-0.020095</td>\n",
              "      <td>-0.056917</td>\n",
              "      <td>-0.975970</td>\n",
              "      <td>0.495818</td>\n",
              "      <td>0.444503</td>\n",
              "      <td>-0.424728</td>\n",
              "    </tr>\n",
              "  </tbody>\n",
              "</table>\n",
              "</div>\n",
              "    <div class=\"colab-df-buttons\">\n",
              "\n",
              "  <div class=\"colab-df-container\">\n",
              "    <button class=\"colab-df-convert\" onclick=\"convertToInteractive('df-25e2a868-90ff-4823-8c2f-2ea07031db0a')\"\n",
              "            title=\"Convert this dataframe to an interactive table.\"\n",
              "            style=\"display:none;\">\n",
              "\n",
              "  <svg xmlns=\"http://www.w3.org/2000/svg\" height=\"24px\" viewBox=\"0 -960 960 960\">\n",
              "    <path d=\"M120-120v-720h720v720H120Zm60-500h600v-160H180v160Zm220 220h160v-160H400v160Zm0 220h160v-160H400v160ZM180-400h160v-160H180v160Zm440 0h160v-160H620v160ZM180-180h160v-160H180v160Zm440 0h160v-160H620v160Z\"/>\n",
              "  </svg>\n",
              "    </button>\n",
              "\n",
              "  <style>\n",
              "    .colab-df-container {\n",
              "      display:flex;\n",
              "      gap: 12px;\n",
              "    }\n",
              "\n",
              "    .colab-df-convert {\n",
              "      background-color: #E8F0FE;\n",
              "      border: none;\n",
              "      border-radius: 50%;\n",
              "      cursor: pointer;\n",
              "      display: none;\n",
              "      fill: #1967D2;\n",
              "      height: 32px;\n",
              "      padding: 0 0 0 0;\n",
              "      width: 32px;\n",
              "    }\n",
              "\n",
              "    .colab-df-convert:hover {\n",
              "      background-color: #E2EBFA;\n",
              "      box-shadow: 0px 1px 2px rgba(60, 64, 67, 0.3), 0px 1px 3px 1px rgba(60, 64, 67, 0.15);\n",
              "      fill: #174EA6;\n",
              "    }\n",
              "\n",
              "    .colab-df-buttons div {\n",
              "      margin-bottom: 4px;\n",
              "    }\n",
              "\n",
              "    [theme=dark] .colab-df-convert {\n",
              "      background-color: #3B4455;\n",
              "      fill: #D2E3FC;\n",
              "    }\n",
              "\n",
              "    [theme=dark] .colab-df-convert:hover {\n",
              "      background-color: #434B5C;\n",
              "      box-shadow: 0px 1px 3px 1px rgba(0, 0, 0, 0.15);\n",
              "      filter: drop-shadow(0px 1px 2px rgba(0, 0, 0, 0.3));\n",
              "      fill: #FFFFFF;\n",
              "    }\n",
              "  </style>\n",
              "\n",
              "    <script>\n",
              "      const buttonEl =\n",
              "        document.querySelector('#df-25e2a868-90ff-4823-8c2f-2ea07031db0a button.colab-df-convert');\n",
              "      buttonEl.style.display =\n",
              "        google.colab.kernel.accessAllowed ? 'block' : 'none';\n",
              "\n",
              "      async function convertToInteractive(key) {\n",
              "        const element = document.querySelector('#df-25e2a868-90ff-4823-8c2f-2ea07031db0a');\n",
              "        const dataTable =\n",
              "          await google.colab.kernel.invokeFunction('convertToInteractive',\n",
              "                                                    [key], {});\n",
              "        if (!dataTable) return;\n",
              "\n",
              "        const docLinkHtml = 'Like what you see? Visit the ' +\n",
              "          '<a target=\"_blank\" href=https://colab.research.google.com/notebooks/data_table.ipynb>data table notebook</a>'\n",
              "          + ' to learn more about interactive tables.';\n",
              "        element.innerHTML = '';\n",
              "        dataTable['output_type'] = 'display_data';\n",
              "        await google.colab.output.renderOutput(dataTable, element);\n",
              "        const docLink = document.createElement('div');\n",
              "        docLink.innerHTML = docLinkHtml;\n",
              "        element.appendChild(docLink);\n",
              "      }\n",
              "    </script>\n",
              "  </div>\n",
              "\n",
              "\n",
              "    <div id=\"df-611ffa7f-1f7a-4594-ba78-08bcbf4bf9c1\">\n",
              "      <button class=\"colab-df-quickchart\" onclick=\"quickchart('df-611ffa7f-1f7a-4594-ba78-08bcbf4bf9c1')\"\n",
              "                title=\"Suggest charts\"\n",
              "                style=\"display:none;\">\n",
              "\n",
              "<svg xmlns=\"http://www.w3.org/2000/svg\" height=\"24px\"viewBox=\"0 0 24 24\"\n",
              "     width=\"24px\">\n",
              "    <g>\n",
              "        <path d=\"M19 3H5c-1.1 0-2 .9-2 2v14c0 1.1.9 2 2 2h14c1.1 0 2-.9 2-2V5c0-1.1-.9-2-2-2zM9 17H7v-7h2v7zm4 0h-2V7h2v10zm4 0h-2v-4h2v4z\"/>\n",
              "    </g>\n",
              "</svg>\n",
              "      </button>\n",
              "\n",
              "<style>\n",
              "  .colab-df-quickchart {\n",
              "      --bg-color: #E8F0FE;\n",
              "      --fill-color: #1967D2;\n",
              "      --hover-bg-color: #E2EBFA;\n",
              "      --hover-fill-color: #174EA6;\n",
              "      --disabled-fill-color: #AAA;\n",
              "      --disabled-bg-color: #DDD;\n",
              "  }\n",
              "\n",
              "  [theme=dark] .colab-df-quickchart {\n",
              "      --bg-color: #3B4455;\n",
              "      --fill-color: #D2E3FC;\n",
              "      --hover-bg-color: #434B5C;\n",
              "      --hover-fill-color: #FFFFFF;\n",
              "      --disabled-bg-color: #3B4455;\n",
              "      --disabled-fill-color: #666;\n",
              "  }\n",
              "\n",
              "  .colab-df-quickchart {\n",
              "    background-color: var(--bg-color);\n",
              "    border: none;\n",
              "    border-radius: 50%;\n",
              "    cursor: pointer;\n",
              "    display: none;\n",
              "    fill: var(--fill-color);\n",
              "    height: 32px;\n",
              "    padding: 0;\n",
              "    width: 32px;\n",
              "  }\n",
              "\n",
              "  .colab-df-quickchart:hover {\n",
              "    background-color: var(--hover-bg-color);\n",
              "    box-shadow: 0 1px 2px rgba(60, 64, 67, 0.3), 0 1px 3px 1px rgba(60, 64, 67, 0.15);\n",
              "    fill: var(--button-hover-fill-color);\n",
              "  }\n",
              "\n",
              "  .colab-df-quickchart-complete:disabled,\n",
              "  .colab-df-quickchart-complete:disabled:hover {\n",
              "    background-color: var(--disabled-bg-color);\n",
              "    fill: var(--disabled-fill-color);\n",
              "    box-shadow: none;\n",
              "  }\n",
              "\n",
              "  .colab-df-spinner {\n",
              "    border: 2px solid var(--fill-color);\n",
              "    border-color: transparent;\n",
              "    border-bottom-color: var(--fill-color);\n",
              "    animation:\n",
              "      spin 1s steps(1) infinite;\n",
              "  }\n",
              "\n",
              "  @keyframes spin {\n",
              "    0% {\n",
              "      border-color: transparent;\n",
              "      border-bottom-color: var(--fill-color);\n",
              "      border-left-color: var(--fill-color);\n",
              "    }\n",
              "    20% {\n",
              "      border-color: transparent;\n",
              "      border-left-color: var(--fill-color);\n",
              "      border-top-color: var(--fill-color);\n",
              "    }\n",
              "    30% {\n",
              "      border-color: transparent;\n",
              "      border-left-color: var(--fill-color);\n",
              "      border-top-color: var(--fill-color);\n",
              "      border-right-color: var(--fill-color);\n",
              "    }\n",
              "    40% {\n",
              "      border-color: transparent;\n",
              "      border-right-color: var(--fill-color);\n",
              "      border-top-color: var(--fill-color);\n",
              "    }\n",
              "    60% {\n",
              "      border-color: transparent;\n",
              "      border-right-color: var(--fill-color);\n",
              "    }\n",
              "    80% {\n",
              "      border-color: transparent;\n",
              "      border-right-color: var(--fill-color);\n",
              "      border-bottom-color: var(--fill-color);\n",
              "    }\n",
              "    90% {\n",
              "      border-color: transparent;\n",
              "      border-bottom-color: var(--fill-color);\n",
              "    }\n",
              "  }\n",
              "</style>\n",
              "\n",
              "      <script>\n",
              "        async function quickchart(key) {\n",
              "          const quickchartButtonEl =\n",
              "            document.querySelector('#' + key + ' button');\n",
              "          quickchartButtonEl.disabled = true;  // To prevent multiple clicks.\n",
              "          quickchartButtonEl.classList.add('colab-df-spinner');\n",
              "          try {\n",
              "            const charts = await google.colab.kernel.invokeFunction(\n",
              "                'suggestCharts', [key], {});\n",
              "          } catch (error) {\n",
              "            console.error('Error during call to suggestCharts:', error);\n",
              "          }\n",
              "          quickchartButtonEl.classList.remove('colab-df-spinner');\n",
              "          quickchartButtonEl.classList.add('colab-df-quickchart-complete');\n",
              "        }\n",
              "        (() => {\n",
              "          let quickchartButtonEl =\n",
              "            document.querySelector('#df-611ffa7f-1f7a-4594-ba78-08bcbf4bf9c1 button');\n",
              "          quickchartButtonEl.style.display =\n",
              "            google.colab.kernel.accessAllowed ? 'block' : 'none';\n",
              "        })();\n",
              "      </script>\n",
              "    </div>\n",
              "\n",
              "    </div>\n",
              "  </div>\n"
            ],
            "application/vnd.google.colaboratory.intrinsic+json": {
              "type": "dataframe",
              "variable_name": "df",
              "summary": "{\n  \"name\": \"df\",\n  \"rows\": 19820,\n  \"fields\": [\n    {\n      \"column\": \"selling_price\",\n      \"properties\": {\n        \"dtype\": \"number\",\n        \"std\": 1.000025227998042,\n        \"min\": -1.2967184783736836,\n        \"max\": 2.953636494022545,\n        \"num_unique_values\": 964,\n        \"samples\": [\n          -1.0966046900846724,\n          2.9221753056575284,\n          0.6466545996494959\n        ],\n        \"semantic_type\": \"\",\n        \"description\": \"\"\n      }\n    },\n    {\n      \"column\": \"year\",\n      \"properties\": {\n        \"dtype\": \"number\",\n        \"std\": 1.0000252279980357,\n        \"min\": -7.058050669336456,\n        \"max\": 2.0142138122928364,\n        \"num_unique_values\": 27,\n        \"samples\": [\n          -0.1756431315487169,\n          1.7013771060297571,\n          -1.114153250337954\n        ],\n        \"semantic_type\": \"\",\n        \"description\": \"\"\n      }\n    },\n    {\n      \"column\": \"km_driven\",\n      \"properties\": {\n        \"dtype\": \"number\",\n        \"std\": 1.0000252279980275,\n        \"min\": -1.1226784261830776,\n        \"max\": 72.35599712942987,\n        \"num_unique_values\": 4476,\n        \"samples\": [\n          1.518756106540607,\n          0.4068784664848833,\n          0.6109805271942427\n        ],\n        \"semantic_type\": \"\",\n        \"description\": \"\"\n      }\n    },\n    {\n      \"column\": \"mileage\",\n      \"properties\": {\n        \"dtype\": \"number\",\n        \"std\": 1.000025227998041,\n        \"min\": -3.6073926293699374,\n        \"max\": 23.38394396843033,\n        \"num_unique_values\": 532,\n        \"samples\": [\n          0.2342191570928419,\n          -2.4672413420490646,\n          -0.1869387674073179\n        ],\n        \"semantic_type\": \"\",\n        \"description\": \"\"\n      }\n    },\n    {\n      \"column\": \"engine\",\n      \"properties\": {\n        \"dtype\": \"number\",\n        \"std\": 1.0000252279980237,\n        \"min\": -2.845779992071435,\n        \"max\": 10.174939330091336,\n        \"num_unique_values\": 167,\n        \"samples\": [\n          -0.4506772968513284,\n          1.7033723895905872,\n          -2.812996782877601\n        ],\n        \"semantic_type\": \"\",\n        \"description\": \"\"\n      }\n    },\n    {\n      \"column\": \"max_power\",\n      \"properties\": {\n        \"dtype\": \"number\",\n        \"std\": 1.0000252279980473,\n        \"min\": -2.0804661368688278,\n        \"max\": 11.79334329235809,\n        \"num_unique_values\": 484,\n        \"samples\": [\n          -0.2972012920364724,\n          10.653948315078583,\n          0.1201300447396289\n        ],\n        \"semantic_type\": \"\",\n        \"description\": \"\"\n      }\n    },\n    {\n      \"column\": \"age\",\n      \"properties\": {\n        \"dtype\": \"number\",\n        \"std\": 1.0000252279980353,\n        \"min\": -2.0142138122928377,\n        \"max\": 7.058050669336454,\n        \"num_unique_values\": 27,\n        \"samples\": [\n          0.1756431315487155,\n          -1.701377106029759,\n          1.1141532503379528\n        ],\n        \"semantic_type\": \"\",\n        \"description\": \"\"\n      }\n    },\n    {\n      \"column\": \"make\",\n      \"properties\": {\n        \"dtype\": \"number\",\n        \"std\": 1.000025227997964,\n        \"min\": -1.2916194225397517,\n        \"max\": 3.3607734981578625,\n        \"num_unique_values\": 28,\n        \"samples\": [\n          0.7244753106436638,\n          -0.0847370249230741,\n          3.3607734981578625\n        ],\n        \"semantic_type\": \"\",\n        \"description\": \"\"\n      }\n    },\n    {\n      \"column\": \"model\",\n      \"properties\": {\n        \"dtype\": \"number\",\n        \"std\": 1.0000252279980466,\n        \"min\": -1.3093644088783905,\n        \"max\": 3.010305593731527,\n        \"num_unique_values\": 811,\n        \"samples\": [\n          0.5012128610771729,\n          -0.8233949735222015,\n          -0.8895204042510134\n        ],\n        \"semantic_type\": \"\",\n        \"description\": \"\"\n      }\n    },\n    {\n      \"column\": \"Individual\",\n      \"properties\": {\n        \"dtype\": \"number\",\n        \"std\": 1.0000252279980684,\n        \"min\": -0.800709712517256,\n        \"max\": 1.2488920570929742,\n        \"num_unique_values\": 2,\n        \"samples\": [\n          -0.800709712517256,\n          1.2488920570929742\n        ],\n        \"semantic_type\": \"\",\n        \"description\": \"\"\n      }\n    },\n    {\n      \"column\": \"Trustmark Dealer\",\n      \"properties\": {\n        \"dtype\": \"number\",\n        \"std\": 1.0000252279981352,\n        \"min\": -0.0983822273543098,\n        \"max\": 10.164437489290007,\n        \"num_unique_values\": 2,\n        \"samples\": [\n          10.164437489290007,\n          -0.0983822273543098\n        ],\n        \"semantic_type\": \"\",\n        \"description\": \"\"\n      }\n    },\n    {\n      \"column\": \"Diesel\",\n      \"properties\": {\n        \"dtype\": \"number\",\n        \"std\": 1.0000252279980546,\n        \"min\": -0.9852749008311416,\n        \"max\": 1.014945168253487,\n        \"num_unique_values\": 2,\n        \"samples\": [\n          1.014945168253487,\n          -0.9852749008311416\n        ],\n        \"semantic_type\": \"\",\n        \"description\": \"\"\n      }\n    },\n    {\n      \"column\": \"Electric\",\n      \"properties\": {\n        \"dtype\": \"number\",\n        \"std\": 1.0000252279979387,\n        \"min\": -0.0200946679342115,\n        \"max\": 49.76444513907494,\n        \"num_unique_values\": 2,\n        \"samples\": [\n          49.76444513907494,\n          -0.0200946679342115\n        ],\n        \"semantic_type\": \"\",\n        \"description\": \"\"\n      }\n    },\n    {\n      \"column\": \"LPG\",\n      \"properties\": {\n        \"dtype\": \"number\",\n        \"std\": 1.0000252279981723,\n        \"min\": -0.0569168004237751,\n        \"max\": 17.569504830814097,\n        \"num_unique_values\": 2,\n        \"samples\": [\n          17.569504830814097,\n          -0.0569168004237751\n        ],\n        \"semantic_type\": \"\",\n        \"description\": \"\"\n      }\n    },\n    {\n      \"column\": \"Petrol\",\n      \"properties\": {\n        \"dtype\": \"number\",\n        \"std\": 1.0000252279979385,\n        \"min\": -0.9759697707407052,\n        \"max\": 1.0246218991404383,\n        \"num_unique_values\": 2,\n        \"samples\": [\n          -0.9759697707407052,\n          1.0246218991404383\n        ],\n        \"semantic_type\": \"\",\n        \"description\": \"\"\n      }\n    },\n    {\n      \"column\": \"Manual\",\n      \"properties\": {\n        \"dtype\": \"number\",\n        \"std\": 1.0000252279981021,\n        \"min\": -2.0168682670789857,\n        \"max\": 0.4958182030640464,\n        \"num_unique_values\": 2,\n        \"samples\": [\n          -2.0168682670789857,\n          0.4958182030640464\n        ],\n        \"semantic_type\": \"\",\n        \"description\": \"\"\n      }\n    },\n    {\n      \"column\": \"5\",\n      \"properties\": {\n        \"dtype\": \"number\",\n        \"std\": 1.0000252279981767,\n        \"min\": -2.249702664689426,\n        \"max\": 0.4445031851078201,\n        \"num_unique_values\": 2,\n        \"samples\": [\n          -2.249702664689426,\n          0.4445031851078201\n        ],\n        \"semantic_type\": \"\",\n        \"description\": \"\"\n      }\n    },\n    {\n      \"column\": \">5\",\n      \"properties\": {\n        \"dtype\": \"number\",\n        \"std\": 1.000025227998063,\n        \"min\": -0.4247284530486916,\n        \"max\": 2.354445511766452,\n        \"num_unique_values\": 2,\n        \"samples\": [\n          2.354445511766452,\n          -0.4247284530486916\n        ],\n        \"semantic_type\": \"\",\n        \"description\": \"\"\n      }\n    }\n  ]\n}"
            }
          },
          "metadata": {},
          "execution_count": 45
        }
      ],
      "source": [
        "df = pd.read_csv('cars24-car-price-clean.csv')\n",
        "df.head()"
      ]
    },
    {
      "cell_type": "code",
      "execution_count": 46,
      "metadata": {
        "id": "w6pMF1xZ3oS1"
      },
      "outputs": [],
      "source": [
        "# define X and y\n",
        "X = df.drop('selling_price', axis=1)\n",
        "y = df[\"selling_price\"]"
      ]
    },
    {
      "cell_type": "code",
      "execution_count": 47,
      "metadata": {
        "id": "_2zVamTby5s_"
      },
      "outputs": [],
      "source": [
        "from sklearn.model_selection import train_test_split\n",
        "X_train, X_test, y_train, y_test = train_test_split(X, y, test_size=0.2, random_state=10)"
      ]
    },
    {
      "cell_type": "code",
      "execution_count": 48,
      "metadata": {
        "colab": {
          "base_uri": "https://localhost:8080/"
        },
        "id": "_YiKi0tmKs3h",
        "outputId": "78b4b421-9908-49df-8491-788a5bc70f17"
      },
      "outputs": [
        {
          "output_type": "execute_result",
          "data": {
            "text/plain": [
              "<__main__.LinearRegression at 0x7cec11b2d910>"
            ]
          },
          "metadata": {},
          "execution_count": 48
        }
      ],
      "source": [
        "lr = LinearRegression(iterations=100)\n",
        "lr.fit(X_train, y_train)"
      ]
    },
    {
      "cell_type": "code",
      "execution_count": 49,
      "metadata": {
        "colab": {
          "base_uri": "https://localhost:8080/"
        },
        "id": "WNgU6R5yLFkW",
        "outputId": "f645a14c-f93f-4040-b89a-a666c5e038c5"
      },
      "outputs": [
        {
          "output_type": "execute_result",
          "data": {
            "text/plain": [
              "array([-0.84308986, -0.27745439,  2.44849382, ...,  0.65540967,\n",
              "       -0.54931517,  0.10246191])"
            ]
          },
          "metadata": {},
          "execution_count": 49
        }
      ],
      "source": [
        "lr.predict(X_test)"
      ]
    },
    {
      "cell_type": "code",
      "execution_count": 50,
      "metadata": {
        "colab": {
          "base_uri": "https://localhost:8080/"
        },
        "id": "8ogBuk8vzVqU",
        "outputId": "c73d62e0-537e-4a32-b70e-5732b7070a7f"
      },
      "outputs": [
        {
          "output_type": "execute_result",
          "data": {
            "text/plain": [
              "np.float64(0.9101033692790105)"
            ]
          },
          "metadata": {},
          "execution_count": 50
        }
      ],
      "source": [
        "lr.score(X_train, y_train)"
      ]
    },
    {
      "cell_type": "code",
      "execution_count": 51,
      "metadata": {
        "colab": {
          "base_uri": "https://localhost:8080/"
        },
        "id": "RrdvositLJt4",
        "outputId": "fa39d4bd-336d-49b7-e2a1-d8f426b697fb"
      },
      "outputs": [
        {
          "output_type": "execute_result",
          "data": {
            "text/plain": [
              "np.float64(0.9075347558295035)"
            ]
          },
          "metadata": {},
          "execution_count": 51
        }
      ],
      "source": [
        "lr.score(X_test, y_test)"
      ]
    },
    {
      "cell_type": "code",
      "execution_count": 52,
      "metadata": {
        "colab": {
          "base_uri": "https://localhost:8080/",
          "height": 617
        },
        "id": "1qRLVwYELhco",
        "outputId": "019838b2-3d39-4b4f-f615-1aa0d99faa7f"
      },
      "outputs": [
        {
          "output_type": "execute_result",
          "data": {
            "text/plain": [
              "year                0.125722\n",
              "km_driven          -0.047847\n",
              "mileage            -0.050197\n",
              "engine              0.093654\n",
              "max_power           0.154132\n",
              "age                -0.125722\n",
              "make                0.189528\n",
              "model               0.371064\n",
              "Individual         -0.025478\n",
              "Trustmark Dealer   -0.004997\n",
              "Diesel              0.045118\n",
              "Electric            0.016967\n",
              "LPG                 0.002790\n",
              "Petrol             -0.042832\n",
              "Manual             -0.105770\n",
              "5                  -0.005216\n",
              ">5                  0.003182\n",
              "dtype: float64"
            ],
            "text/html": [
              "<div>\n",
              "<style scoped>\n",
              "    .dataframe tbody tr th:only-of-type {\n",
              "        vertical-align: middle;\n",
              "    }\n",
              "\n",
              "    .dataframe tbody tr th {\n",
              "        vertical-align: top;\n",
              "    }\n",
              "\n",
              "    .dataframe thead th {\n",
              "        text-align: right;\n",
              "    }\n",
              "</style>\n",
              "<table border=\"1\" class=\"dataframe\">\n",
              "  <thead>\n",
              "    <tr style=\"text-align: right;\">\n",
              "      <th></th>\n",
              "      <th>0</th>\n",
              "    </tr>\n",
              "  </thead>\n",
              "  <tbody>\n",
              "    <tr>\n",
              "      <th>year</th>\n",
              "      <td>0.125722</td>\n",
              "    </tr>\n",
              "    <tr>\n",
              "      <th>km_driven</th>\n",
              "      <td>-0.047847</td>\n",
              "    </tr>\n",
              "    <tr>\n",
              "      <th>mileage</th>\n",
              "      <td>-0.050197</td>\n",
              "    </tr>\n",
              "    <tr>\n",
              "      <th>engine</th>\n",
              "      <td>0.093654</td>\n",
              "    </tr>\n",
              "    <tr>\n",
              "      <th>max_power</th>\n",
              "      <td>0.154132</td>\n",
              "    </tr>\n",
              "    <tr>\n",
              "      <th>age</th>\n",
              "      <td>-0.125722</td>\n",
              "    </tr>\n",
              "    <tr>\n",
              "      <th>make</th>\n",
              "      <td>0.189528</td>\n",
              "    </tr>\n",
              "    <tr>\n",
              "      <th>model</th>\n",
              "      <td>0.371064</td>\n",
              "    </tr>\n",
              "    <tr>\n",
              "      <th>Individual</th>\n",
              "      <td>-0.025478</td>\n",
              "    </tr>\n",
              "    <tr>\n",
              "      <th>Trustmark Dealer</th>\n",
              "      <td>-0.004997</td>\n",
              "    </tr>\n",
              "    <tr>\n",
              "      <th>Diesel</th>\n",
              "      <td>0.045118</td>\n",
              "    </tr>\n",
              "    <tr>\n",
              "      <th>Electric</th>\n",
              "      <td>0.016967</td>\n",
              "    </tr>\n",
              "    <tr>\n",
              "      <th>LPG</th>\n",
              "      <td>0.002790</td>\n",
              "    </tr>\n",
              "    <tr>\n",
              "      <th>Petrol</th>\n",
              "      <td>-0.042832</td>\n",
              "    </tr>\n",
              "    <tr>\n",
              "      <th>Manual</th>\n",
              "      <td>-0.105770</td>\n",
              "    </tr>\n",
              "    <tr>\n",
              "      <th>5</th>\n",
              "      <td>-0.005216</td>\n",
              "    </tr>\n",
              "    <tr>\n",
              "      <th>&gt;5</th>\n",
              "      <td>0.003182</td>\n",
              "    </tr>\n",
              "  </tbody>\n",
              "</table>\n",
              "</div><br><label><b>dtype:</b> float64</label>"
            ]
          },
          "metadata": {},
          "execution_count": 52
        }
      ],
      "source": [
        "lr.W"
      ]
    },
    {
      "cell_type": "code",
      "execution_count": 53,
      "metadata": {
        "colab": {
          "base_uri": "https://localhost:8080/"
        },
        "id": "SWPkPzBihOjh",
        "outputId": "9cc07c3a-b664-4559-a25d-ffca08e6ddd5"
      },
      "outputs": [
        {
          "output_type": "execute_result",
          "data": {
            "text/plain": [
              "np.float64(0.0011317414350942192)"
            ]
          },
          "metadata": {},
          "execution_count": 53
        }
      ],
      "source": [
        "lr.b"
      ]
    },
    {
      "cell_type": "code",
      "execution_count": 54,
      "metadata": {
        "colab": {
          "base_uri": "https://localhost:8080/",
          "height": 472
        },
        "id": "BovEEioYi-CV",
        "outputId": "ca31ed84-647a-44dd-9415-369f613844bf"
      },
      "outputs": [
        {
          "output_type": "display_data",
          "data": {
            "text/plain": [
              "<Figure size 640x480 with 1 Axes>"
            ],
            "image/png": "[encoded data removed]"
          },
          "metadata": {}
        }
      ],
      "source": [
        "%matplotlib inline\n",
        "fig = plt.figure()\n",
        "plt.plot(lr.error_list)\n",
        "plt.title(\"Reduction in error over time\")\n",
        "plt.xlabel(\"iteration\")\n",
        "plt.ylabel(\"Error\")\n",
        "plt.show()"
      ]
    },
    {
      "cell_type": "markdown",
      "metadata": {
        "id": "Kez0ny1yMFO_"
      },
      "source": [
        "Let's implement it for our earlier model and test data."
      ]
    },
    {
      "cell_type": "code",
      "execution_count": 55,
      "metadata": {
        "colab": {
          "base_uri": "https://localhost:8080/"
        },
        "id": "VrZOM-LxgaWV",
        "outputId": "fd04cbfd-a5a0-4a41-d93e-c3e8b5147591"
      },
      "outputs": [
        {
          "output_type": "stream",
          "name": "stdout",
          "text": [
            "Adjusted R-squared: 0.9114445609103706\n"
          ]
        }
      ],
      "source": [
        "y_hat = lr.predict(X_test)\n",
        "Adj_R = 1 - (1-lr.score(X_test, y_test)*(len(y_test)-1)/(len(y_test)-X_test.shape[1]-1))\n",
        "print(\"Adjusted R-squared:\", Adj_R )"
      ]
    },
    {
      "cell_type": "markdown",
      "metadata": {
        "id": "YuQ0Fi-jqMt3"
      },
      "source": [
        "First we will download our data."
      ]
    },
    {
      "cell_type": "code",
      "execution_count": 56,
      "metadata": {
        "colab": {
          "base_uri": "https://localhost:8080/"
        },
        "id": "csDdzEzPNXDG",
        "outputId": "77dd9e3a-94e8-47f4-8fba-8603b55513a3"
      },
      "outputs": [
        {
          "output_type": "stream",
          "name": "stdout",
          "text": [
            "Downloading...\n",
            "From: https://drive.google.com/uc?id=1UpLnYA48Vy_lGUMMLG-uQE1gf_Je12Lh\n",
            "To: /content/cars24-car-price-clean.csv\n",
            "\r  0% 0.00/7.10M [00:00<?, ?B/s]\r 22% 1.57M/7.10M [00:00<00:00, 15.1MB/s]\r100% 7.10M/7.10M [00:00<00:00, 45.7MB/s]\n"
          ]
        }
      ],
      "source": [
        "import numpy as np\n",
        "import pandas as pd\n",
        "import matplotlib.pyplot as plt\n",
        "import statsmodels.api as sm\n",
        "\n",
        "!gdown 1UpLnYA48Vy_lGUMMLG-uQE1gf_Je12Lh"
      ]
    },
    {
      "cell_type": "code",
      "execution_count": 57,
      "metadata": {
        "colab": {
          "base_uri": "https://localhost:8080/",
          "height": 243
        },
        "id": "Yx7FuBv0NX5c",
        "outputId": "95229c17-49f1-4c67-f74e-2517a97710ab"
      },
      "outputs": [
        {
          "output_type": "execute_result",
          "data": {
            "text/plain": [
              "   selling_price      year  km_driven   mileage    engine  max_power  \\\n",
              "0      -1.111046 -0.801317   1.195828  0.045745 -1.310754  -1.157780   \n",
              "1      -0.223944  0.450030  -0.737872 -0.140402 -0.537456  -0.360203   \n",
              "2      -0.915058 -1.426990   0.035608 -0.582501 -0.537456  -0.404885   \n",
              "3      -0.892365 -0.801317  -0.409143  0.329620 -0.921213  -0.693085   \n",
              "4      -0.182683  0.137194  -0.544502  0.760085  0.042999   0.010435   \n",
              "\n",
              "        age      make     model  Individual  Trustmark Dealer    Diesel  \\\n",
              "0  0.801317 -0.433854 -1.125683    1.248892         -0.098382 -0.985275   \n",
              "1 -0.450030 -0.327501 -0.333227    1.248892         -0.098382 -0.985275   \n",
              "2  1.426990 -0.327501 -0.789807    1.248892         -0.098382 -0.985275   \n",
              "3  0.801317 -0.433854 -0.905265    1.248892         -0.098382 -0.985275   \n",
              "4 -0.137194 -0.246579 -0.013096   -0.800710         -0.098382  1.014945   \n",
              "\n",
              "   Electric       LPG    Petrol    Manual         5        >5  \n",
              "0 -0.020095 -0.056917  1.024622  0.495818  0.444503 -0.424728  \n",
              "1 -0.020095 -0.056917  1.024622  0.495818  0.444503 -0.424728  \n",
              "2 -0.020095 -0.056917  1.024622  0.495818  0.444503 -0.424728  \n",
              "3 -0.020095 -0.056917  1.024622  0.495818  0.444503 -0.424728  \n",
              "4 -0.020095 -0.056917 -0.975970  0.495818  0.444503 -0.424728  "
            ],
            "text/html": [
              "\n",
              "  <div id=\"df-869d46d9-6ead-4fbe-8d9f-77fb1cfd3eb6\" class=\"colab-df-container\">\n",
              "    <div>\n",
              "<style scoped>\n",
              "    .dataframe tbody tr th:only-of-type {\n",
              "        vertical-align: middle;\n",
              "    }\n",
              "\n",
              "    .dataframe tbody tr th {\n",
              "        vertical-align: top;\n",
              "    }\n",
              "\n",
              "    .dataframe thead th {\n",
              "        text-align: right;\n",
              "    }\n",
              "</style>\n",
              "<table border=\"1\" class=\"dataframe\">\n",
              "  <thead>\n",
              "    <tr style=\"text-align: right;\">\n",
              "      <th></th>\n",
              "      <th>selling_price</th>\n",
              "      <th>year</th>\n",
              "      <th>km_driven</th>\n",
              "      <th>mileage</th>\n",
              "      <th>engine</th>\n",
              "      <th>max_power</th>\n",
              "      <th>age</th>\n",
              "      <th>make</th>\n",
              "      <th>model</th>\n",
              "      <th>Individual</th>\n",
              "      <th>Trustmark Dealer</th>\n",
              "      <th>Diesel</th>\n",
              "      <th>Electric</th>\n",
              "      <th>LPG</th>\n",
              "      <th>Petrol</th>\n",
              "      <th>Manual</th>\n",
              "      <th>5</th>\n",
              "      <th>&gt;5</th>\n",
              "    </tr>\n",
              "  </thead>\n",
              "  <tbody>\n",
              "    <tr>\n",
              "      <th>0</th>\n",
              "      <td>-1.111046</td>\n",
              "      <td>-0.801317</td>\n",
              "      <td>1.195828</td>\n",
              "      <td>0.045745</td>\n",
              "      <td>-1.310754</td>\n",
              "      <td>-1.157780</td>\n",
              "      <td>0.801317</td>\n",
              "      <td>-0.433854</td>\n",
              "      <td>-1.125683</td>\n",
              "      <td>1.248892</td>\n",
              "      <td>-0.098382</td>\n",
              "      <td>-0.985275</td>\n",
              "      <td>-0.020095</td>\n",
              "      <td>-0.056917</td>\n",
              "      <td>1.024622</td>\n",
              "      <td>0.495818</td>\n",
              "      <td>0.444503</td>\n",
              "      <td>-0.424728</td>\n",
              "    </tr>\n",
              "    <tr>\n",
              "      <th>1</th>\n",
              "      <td>-0.223944</td>\n",
              "      <td>0.450030</td>\n",
              "      <td>-0.737872</td>\n",
              "      <td>-0.140402</td>\n",
              "      <td>-0.537456</td>\n",
              "      <td>-0.360203</td>\n",
              "      <td>-0.450030</td>\n",
              "      <td>-0.327501</td>\n",
              "      <td>-0.333227</td>\n",
              "      <td>1.248892</td>\n",
              "      <td>-0.098382</td>\n",
              "      <td>-0.985275</td>\n",
              "      <td>-0.020095</td>\n",
              "      <td>-0.056917</td>\n",
              "      <td>1.024622</td>\n",
              "      <td>0.495818</td>\n",
              "      <td>0.444503</td>\n",
              "      <td>-0.424728</td>\n",
              "    </tr>\n",
              "    <tr>\n",
              "      <th>2</th>\n",
              "      <td>-0.915058</td>\n",
              "      <td>-1.426990</td>\n",
              "      <td>0.035608</td>\n",
              "      <td>-0.582501</td>\n",
              "      <td>-0.537456</td>\n",
              "      <td>-0.404885</td>\n",
              "      <td>1.426990</td>\n",
              "      <td>-0.327501</td>\n",
              "      <td>-0.789807</td>\n",
              "      <td>1.248892</td>\n",
              "      <td>-0.098382</td>\n",
              "      <td>-0.985275</td>\n",
              "      <td>-0.020095</td>\n",
              "      <td>-0.056917</td>\n",
              "      <td>1.024622</td>\n",
              "      <td>0.495818</td>\n",
              "      <td>0.444503</td>\n",
              "      <td>-0.424728</td>\n",
              "    </tr>\n",
              "    <tr>\n",
              "      <th>3</th>\n",
              "      <td>-0.892365</td>\n",
              "      <td>-0.801317</td>\n",
              "      <td>-0.409143</td>\n",
              "      <td>0.329620</td>\n",
              "      <td>-0.921213</td>\n",
              "      <td>-0.693085</td>\n",
              "      <td>0.801317</td>\n",
              "      <td>-0.433854</td>\n",
              "      <td>-0.905265</td>\n",
              "      <td>1.248892</td>\n",
              "      <td>-0.098382</td>\n",
              "      <td>-0.985275</td>\n",
              "      <td>-0.020095</td>\n",
              "      <td>-0.056917</td>\n",
              "      <td>1.024622</td>\n",
              "      <td>0.495818</td>\n",
              "      <td>0.444503</td>\n",
              "      <td>-0.424728</td>\n",
              "    </tr>\n",
              "    <tr>\n",
              "      <th>4</th>\n",
              "      <td>-0.182683</td>\n",
              "      <td>0.137194</td>\n",
              "      <td>-0.544502</td>\n",
              "      <td>0.760085</td>\n",
              "      <td>0.042999</td>\n",
              "      <td>0.010435</td>\n",
              "      <td>-0.137194</td>\n",
              "      <td>-0.246579</td>\n",
              "      <td>-0.013096</td>\n",
              "      <td>-0.800710</td>\n",
              "      <td>-0.098382</td>\n",
              "      <td>1.014945</td>\n",
              "      <td>-0.020095</td>\n",
              "      <td>-0.056917</td>\n",
              "      <td>-0.975970</td>\n",
              "      <td>0.495818</td>\n",
              "      <td>0.444503</td>\n",
              "      <td>-0.424728</td>\n",
              "    </tr>\n",
              "  </tbody>\n",
              "</table>\n",
              "</div>\n",
              "    <div class=\"colab-df-buttons\">\n",
              "\n",
              "  <div class=\"colab-df-container\">\n",
              "    <button class=\"colab-df-convert\" onclick=\"convertToInteractive('df-869d46d9-6ead-4fbe-8d9f-77fb1cfd3eb6')\"\n",
              "            title=\"Convert this dataframe to an interactive table.\"\n",
              "            style=\"display:none;\">\n",
              "\n",
              "  <svg xmlns=\"http://www.w3.org/2000/svg\" height=\"24px\" viewBox=\"0 -960 960 960\">\n",
              "    <path d=\"M120-120v-720h720v720H120Zm60-500h600v-160H180v160Zm220 220h160v-160H400v160Zm0 220h160v-160H400v160ZM180-400h160v-160H180v160Zm440 0h160v-160H620v160ZM180-180h160v-160H180v160Zm440 0h160v-160H620v160Z\"/>\n",
              "  </svg>\n",
              "    </button>\n",
              "\n",
              "  <style>\n",
              "    .colab-df-container {\n",
              "      display:flex;\n",
              "      gap: 12px;\n",
              "    }\n",
              "\n",
              "    .colab-df-convert {\n",
              "      background-color: #E8F0FE;\n",
              "      border: none;\n",
              "      border-radius: 50%;\n",
              "      cursor: pointer;\n",
              "      display: none;\n",
              "      fill: #1967D2;\n",
              "      height: 32px;\n",
              "      padding: 0 0 0 0;\n",
              "      width: 32px;\n",
              "    }\n",
              "\n",
              "    .colab-df-convert:hover {\n",
              "      background-color: #E2EBFA;\n",
              "      box-shadow: 0px 1px 2px rgba(60, 64, 67, 0.3), 0px 1px 3px 1px rgba(60, 64, 67, 0.15);\n",
              "      fill: #174EA6;\n",
              "    }\n",
              "\n",
              "    .colab-df-buttons div {\n",
              "      margin-bottom: 4px;\n",
              "    }\n",
              "\n",
              "    [theme=dark] .colab-df-convert {\n",
              "      background-color: #3B4455;\n",
              "      fill: #D2E3FC;\n",
              "    }\n",
              "\n",
              "    [theme=dark] .colab-df-convert:hover {\n",
              "      background-color: #434B5C;\n",
              "      box-shadow: 0px 1px 3px 1px rgba(0, 0, 0, 0.15);\n",
              "      filter: drop-shadow(0px 1px 2px rgba(0, 0, 0, 0.3));\n",
              "      fill: #FFFFFF;\n",
              "    }\n",
              "  </style>\n",
              "\n",
              "    <script>\n",
              "      const buttonEl =\n",
              "        document.querySelector('#df-869d46d9-6ead-4fbe-8d9f-77fb1cfd3eb6 button.colab-df-convert');\n",
              "      buttonEl.style.display =\n",
              "        google.colab.kernel.accessAllowed ? 'block' : 'none';\n",
              "\n",
              "      async function convertToInteractive(key) {\n",
              "        const element = document.querySelector('#df-869d46d9-6ead-4fbe-8d9f-77fb1cfd3eb6');\n",
              "        const dataTable =\n",
              "          await google.colab.kernel.invokeFunction('convertToInteractive',\n",
              "                                                    [key], {});\n",
              "        if (!dataTable) return;\n",
              "\n",
              "        const docLinkHtml = 'Like what you see? Visit the ' +\n",
              "          '<a target=\"_blank\" href=https://colab.research.google.com/notebooks/data_table.ipynb>data table notebook</a>'\n",
              "          + ' to learn more about interactive tables.';\n",
              "        element.innerHTML = '';\n",
              "        dataTable['output_type'] = 'display_data';\n",
              "        await google.colab.output.renderOutput(dataTable, element);\n",
              "        const docLink = document.createElement('div');\n",
              "        docLink.innerHTML = docLinkHtml;\n",
              "        element.appendChild(docLink);\n",
              "      }\n",
              "    </script>\n",
              "  </div>\n",
              "\n",
              "\n",
              "    <div id=\"df-9e749895-d047-412f-9903-c806bc1b13cd\">\n",
              "      <button class=\"colab-df-quickchart\" onclick=\"quickchart('df-9e749895-d047-412f-9903-c806bc1b13cd')\"\n",
              "                title=\"Suggest charts\"\n",
              "                style=\"display:none;\">\n",
              "\n",
              "<svg xmlns=\"http://www.w3.org/2000/svg\" height=\"24px\"viewBox=\"0 0 24 24\"\n",
              "     width=\"24px\">\n",
              "    <g>\n",
              "        <path d=\"M19 3H5c-1.1 0-2 .9-2 2v14c0 1.1.9 2 2 2h14c1.1 0 2-.9 2-2V5c0-1.1-.9-2-2-2zM9 17H7v-7h2v7zm4 0h-2V7h2v10zm4 0h-2v-4h2v4z\"/>\n",
              "    </g>\n",
              "</svg>\n",
              "      </button>\n",
              "\n",
              "<style>\n",
              "  .colab-df-quickchart {\n",
              "      --bg-color: #E8F0FE;\n",
              "      --fill-color: #1967D2;\n",
              "      --hover-bg-color: #E2EBFA;\n",
              "      --hover-fill-color: #174EA6;\n",
              "      --disabled-fill-color: #AAA;\n",
              "      --disabled-bg-color: #DDD;\n",
              "  }\n",
              "\n",
              "  [theme=dark] .colab-df-quickchart {\n",
              "      --bg-color: #3B4455;\n",
              "      --fill-color: #D2E3FC;\n",
              "      --hover-bg-color: #434B5C;\n",
              "      --hover-fill-color: #FFFFFF;\n",
              "      --disabled-bg-color: #3B4455;\n",
              "      --disabled-fill-color: #666;\n",
              "  }\n",
              "\n",
              "  .colab-df-quickchart {\n",
              "    background-color: var(--bg-color);\n",
              "    border: none;\n",
              "    border-radius: 50%;\n",
              "    cursor: pointer;\n",
              "    display: none;\n",
              "    fill: var(--fill-color);\n",
              "    height: 32px;\n",
              "    padding: 0;\n",
              "    width: 32px;\n",
              "  }\n",
              "\n",
              "  .colab-df-quickchart:hover {\n",
              "    background-color: var(--hover-bg-color);\n",
              "    box-shadow: 0 1px 2px rgba(60, 64, 67, 0.3), 0 1px 3px 1px rgba(60, 64, 67, 0.15);\n",
              "    fill: var(--button-hover-fill-color);\n",
              "  }\n",
              "\n",
              "  .colab-df-quickchart-complete:disabled,\n",
              "  .colab-df-quickchart-complete:disabled:hover {\n",
              "    background-color: var(--disabled-bg-color);\n",
              "    fill: var(--disabled-fill-color);\n",
              "    box-shadow: none;\n",
              "  }\n",
              "\n",
              "  .colab-df-spinner {\n",
              "    border: 2px solid var(--fill-color);\n",
              "    border-color: transparent;\n",
              "    border-bottom-color: var(--fill-color);\n",
              "    animation:\n",
              "      spin 1s steps(1) infinite;\n",
              "  }\n",
              "\n",
              "  @keyframes spin {\n",
              "    0% {\n",
              "      border-color: transparent;\n",
              "      border-bottom-color: var(--fill-color);\n",
              "      border-left-color: var(--fill-color);\n",
              "    }\n",
              "    20% {\n",
              "      border-color: transparent;\n",
              "      border-left-color: var(--fill-color);\n",
              "      border-top-color: var(--fill-color);\n",
              "    }\n",
              "    30% {\n",
              "      border-color: transparent;\n",
              "      border-left-color: var(--fill-color);\n",
              "      border-top-color: var(--fill-color);\n",
              "      border-right-color: var(--fill-color);\n",
              "    }\n",
              "    40% {\n",
              "      border-color: transparent;\n",
              "      border-right-color: var(--fill-color);\n",
              "      border-top-color: var(--fill-color);\n",
              "    }\n",
              "    60% {\n",
              "      border-color: transparent;\n",
              "      border-right-color: var(--fill-color);\n",
              "    }\n",
              "    80% {\n",
              "      border-color: transparent;\n",
              "      border-right-color: var(--fill-color);\n",
              "      border-bottom-color: var(--fill-color);\n",
              "    }\n",
              "    90% {\n",
              "      border-color: transparent;\n",
              "      border-bottom-color: var(--fill-color);\n",
              "    }\n",
              "  }\n",
              "</style>\n",
              "\n",
              "      <script>\n",
              "        async function quickchart(key) {\n",
              "          const quickchartButtonEl =\n",
              "            document.querySelector('#' + key + ' button');\n",
              "          quickchartButtonEl.disabled = true;  // To prevent multiple clicks.\n",
              "          quickchartButtonEl.classList.add('colab-df-spinner');\n",
              "          try {\n",
              "            const charts = await google.colab.kernel.invokeFunction(\n",
              "                'suggestCharts', [key], {});\n",
              "          } catch (error) {\n",
              "            console.error('Error during call to suggestCharts:', error);\n",
              "          }\n",
              "          quickchartButtonEl.classList.remove('colab-df-spinner');\n",
              "          quickchartButtonEl.classList.add('colab-df-quickchart-complete');\n",
              "        }\n",
              "        (() => {\n",
              "          let quickchartButtonEl =\n",
              "            document.querySelector('#df-9e749895-d047-412f-9903-c806bc1b13cd button');\n",
              "          quickchartButtonEl.style.display =\n",
              "            google.colab.kernel.accessAllowed ? 'block' : 'none';\n",
              "        })();\n",
              "      </script>\n",
              "    </div>\n",
              "\n",
              "    </div>\n",
              "  </div>\n"
            ],
            "application/vnd.google.colaboratory.intrinsic+json": {
              "type": "dataframe",
              "variable_name": "df",
              "summary": "{\n  \"name\": \"df\",\n  \"rows\": 19820,\n  \"fields\": [\n    {\n      \"column\": \"selling_price\",\n      \"properties\": {\n        \"dtype\": \"number\",\n        \"std\": 1.000025227998042,\n        \"min\": -1.2967184783736836,\n        \"max\": 2.953636494022545,\n        \"num_unique_values\": 964,\n        \"samples\": [\n          -1.0966046900846724,\n          2.9221753056575284,\n          0.6466545996494959\n        ],\n        \"semantic_type\": \"\",\n        \"description\": \"\"\n      }\n    },\n    {\n      \"column\": \"year\",\n      \"properties\": {\n        \"dtype\": \"number\",\n        \"std\": 1.0000252279980357,\n        \"min\": -7.058050669336456,\n        \"max\": 2.0142138122928364,\n        \"num_unique_values\": 27,\n        \"samples\": [\n          -0.1756431315487169,\n          1.7013771060297571,\n          -1.114153250337954\n        ],\n        \"semantic_type\": \"\",\n        \"description\": \"\"\n      }\n    },\n    {\n      \"column\": \"km_driven\",\n      \"properties\": {\n        \"dtype\": \"number\",\n        \"std\": 1.0000252279980275,\n        \"min\": -1.1226784261830776,\n        \"max\": 72.35599712942987,\n        \"num_unique_values\": 4476,\n        \"samples\": [\n          1.518756106540607,\n          0.4068784664848833,\n          0.6109805271942427\n        ],\n        \"semantic_type\": \"\",\n        \"description\": \"\"\n      }\n    },\n    {\n      \"column\": \"mileage\",\n      \"properties\": {\n        \"dtype\": \"number\",\n        \"std\": 1.000025227998041,\n        \"min\": -3.6073926293699374,\n        \"max\": 23.38394396843033,\n        \"num_unique_values\": 532,\n        \"samples\": [\n          0.2342191570928419,\n          -2.4672413420490646,\n          -0.1869387674073179\n        ],\n        \"semantic_type\": \"\",\n        \"description\": \"\"\n      }\n    },\n    {\n      \"column\": \"engine\",\n      \"properties\": {\n        \"dtype\": \"number\",\n        \"std\": 1.0000252279980237,\n        \"min\": -2.845779992071435,\n        \"max\": 10.174939330091336,\n        \"num_unique_values\": 167,\n        \"samples\": [\n          -0.4506772968513284,\n          1.7033723895905872,\n          -2.812996782877601\n        ],\n        \"semantic_type\": \"\",\n        \"description\": \"\"\n      }\n    },\n    {\n      \"column\": \"max_power\",\n      \"properties\": {\n        \"dtype\": \"number\",\n        \"std\": 1.0000252279980473,\n        \"min\": -2.0804661368688278,\n        \"max\": 11.79334329235809,\n        \"num_unique_values\": 484,\n        \"samples\": [\n          -0.2972012920364724,\n          10.653948315078583,\n          0.1201300447396289\n        ],\n        \"semantic_type\": \"\",\n        \"description\": \"\"\n      }\n    },\n    {\n      \"column\": \"age\",\n      \"properties\": {\n        \"dtype\": \"number\",\n        \"std\": 1.0000252279980353,\n        \"min\": -2.0142138122928377,\n        \"max\": 7.058050669336454,\n        \"num_unique_values\": 27,\n        \"samples\": [\n          0.1756431315487155,\n          -1.701377106029759,\n          1.1141532503379528\n        ],\n        \"semantic_type\": \"\",\n        \"description\": \"\"\n      }\n    },\n    {\n      \"column\": \"make\",\n      \"properties\": {\n        \"dtype\": \"number\",\n        \"std\": 1.000025227997964,\n        \"min\": -1.2916194225397517,\n        \"max\": 3.3607734981578625,\n        \"num_unique_values\": 28,\n        \"samples\": [\n          0.7244753106436638,\n          -0.0847370249230741,\n          3.3607734981578625\n        ],\n        \"semantic_type\": \"\",\n        \"description\": \"\"\n      }\n    },\n    {\n      \"column\": \"model\",\n      \"properties\": {\n        \"dtype\": \"number\",\n        \"std\": 1.0000252279980466,\n        \"min\": -1.3093644088783905,\n        \"max\": 3.010305593731527,\n        \"num_unique_values\": 811,\n        \"samples\": [\n          0.5012128610771729,\n          -0.8233949735222015,\n          -0.8895204042510134\n        ],\n        \"semantic_type\": \"\",\n        \"description\": \"\"\n      }\n    },\n    {\n      \"column\": \"Individual\",\n      \"properties\": {\n        \"dtype\": \"number\",\n        \"std\": 1.0000252279980684,\n        \"min\": -0.800709712517256,\n        \"max\": 1.2488920570929742,\n        \"num_unique_values\": 2,\n        \"samples\": [\n          -0.800709712517256,\n          1.2488920570929742\n        ],\n        \"semantic_type\": \"\",\n        \"description\": \"\"\n      }\n    },\n    {\n      \"column\": \"Trustmark Dealer\",\n      \"properties\": {\n        \"dtype\": \"number\",\n        \"std\": 1.0000252279981352,\n        \"min\": -0.0983822273543098,\n        \"max\": 10.164437489290007,\n        \"num_unique_values\": 2,\n        \"samples\": [\n          10.164437489290007,\n          -0.0983822273543098\n        ],\n        \"semantic_type\": \"\",\n        \"description\": \"\"\n      }\n    },\n    {\n      \"column\": \"Diesel\",\n      \"properties\": {\n        \"dtype\": \"number\",\n        \"std\": 1.0000252279980546,\n        \"min\": -0.9852749008311416,\n        \"max\": 1.014945168253487,\n        \"num_unique_values\": 2,\n        \"samples\": [\n          1.014945168253487,\n          -0.9852749008311416\n        ],\n        \"semantic_type\": \"\",\n        \"description\": \"\"\n      }\n    },\n    {\n      \"column\": \"Electric\",\n      \"properties\": {\n        \"dtype\": \"number\",\n        \"std\": 1.0000252279979387,\n        \"min\": -0.0200946679342115,\n        \"max\": 49.76444513907494,\n        \"num_unique_values\": 2,\n        \"samples\": [\n          49.76444513907494,\n          -0.0200946679342115\n        ],\n        \"semantic_type\": \"\",\n        \"description\": \"\"\n      }\n    },\n    {\n      \"column\": \"LPG\",\n      \"properties\": {\n        \"dtype\": \"number\",\n        \"std\": 1.0000252279981723,\n        \"min\": -0.0569168004237751,\n        \"max\": 17.569504830814097,\n        \"num_unique_values\": 2,\n        \"samples\": [\n          17.569504830814097,\n          -0.0569168004237751\n        ],\n        \"semantic_type\": \"\",\n        \"description\": \"\"\n      }\n    },\n    {\n      \"column\": \"Petrol\",\n      \"properties\": {\n        \"dtype\": \"number\",\n        \"std\": 1.0000252279979385,\n        \"min\": -0.9759697707407052,\n        \"max\": 1.0246218991404383,\n        \"num_unique_values\": 2,\n        \"samples\": [\n          -0.9759697707407052,\n          1.0246218991404383\n        ],\n        \"semantic_type\": \"\",\n        \"description\": \"\"\n      }\n    },\n    {\n      \"column\": \"Manual\",\n      \"properties\": {\n        \"dtype\": \"number\",\n        \"std\": 1.0000252279981021,\n        \"min\": -2.0168682670789857,\n        \"max\": 0.4958182030640464,\n        \"num_unique_values\": 2,\n        \"samples\": [\n          -2.0168682670789857,\n          0.4958182030640464\n        ],\n        \"semantic_type\": \"\",\n        \"description\": \"\"\n      }\n    },\n    {\n      \"column\": \"5\",\n      \"properties\": {\n        \"dtype\": \"number\",\n        \"std\": 1.0000252279981767,\n        \"min\": -2.249702664689426,\n        \"max\": 0.4445031851078201,\n        \"num_unique_values\": 2,\n        \"samples\": [\n          -2.249702664689426,\n          0.4445031851078201\n        ],\n        \"semantic_type\": \"\",\n        \"description\": \"\"\n      }\n    },\n    {\n      \"column\": \">5\",\n      \"properties\": {\n        \"dtype\": \"number\",\n        \"std\": 1.000025227998063,\n        \"min\": -0.4247284530486916,\n        \"max\": 2.354445511766452,\n        \"num_unique_values\": 2,\n        \"samples\": [\n          2.354445511766452,\n          -0.4247284530486916\n        ],\n        \"semantic_type\": \"\",\n        \"description\": \"\"\n      }\n    }\n  ]\n}"
            }
          },
          "metadata": {},
          "execution_count": 57
        }
      ],
      "source": [
        "df = pd.read_csv('cars24-car-price-clean.csv')\n",
        "df.head()"
      ]
    },
    {
      "cell_type": "code",
      "execution_count": 58,
      "metadata": {
        "id": "nYLfxJGjOEMT"
      },
      "outputs": [],
      "source": [
        "y=df[['selling_price']]\n",
        "X=df.drop('selling_price', axis=1)"
      ]
    },
    {
      "cell_type": "code",
      "execution_count": 59,
      "metadata": {
        "id": "qnAYhiHVBubx"
      },
      "outputs": [],
      "source": [
        "from sklearn.model_selection import train_test_split\n",
        "X_train, X_test, y_train, y_test = train_test_split(X, y, test_size=0.2, random_state=2)"
      ]
    },
    {
      "cell_type": "code",
      "execution_count": 59,
      "metadata": {
        "id": "qmP13900cXin"
      },
      "outputs": [],
      "source": []
    },
    {
      "cell_type": "code",
      "execution_count": 60,
      "metadata": {
        "id": "P3JLLypkfK9a"
      },
      "outputs": [],
      "source": [
        "y_train = np.array(y_train)"
      ]
    },
    {
      "cell_type": "markdown",
      "metadata": {
        "id": "eKSsOvU1qTOi"
      },
      "source": [
        "Now, let's train our model on the data."
      ]
    },
    {
      "cell_type": "code",
      "execution_count": 61,
      "metadata": {
        "colab": {
          "base_uri": "https://localhost:8080/"
        },
        "id": "119khcCIN4cg",
        "outputId": "cd3926b3-8f55-478c-ccd0-8300bf268eb2"
      },
      "outputs": [
        {
          "output_type": "stream",
          "name": "stdout",
          "text": [
            "                            OLS Regression Results                            \n",
            "==============================================================================\n",
            "Dep. Variable:                      y   R-squared:                       0.941\n",
            "Model:                            OLS   Adj. R-squared:                  0.941\n",
            "Method:                 Least Squares   F-statistic:                 1.588e+04\n",
            "Date:                Sun, 28 Sep 2025   Prob (F-statistic):               0.00\n",
            "Time:                        12:17:20   Log-Likelihood:                -7.3180\n",
            "No. Observations:               15856   AIC:                             48.64\n",
            "Df Residuals:                   15839   BIC:                             179.0\n",
            "Df Model:                          16                                         \n",
            "Covariance Type:            nonrobust                                         \n",
            "====================================================================================\n",
            "                       coef    std err          t      P>|t|      [0.025      0.975]\n",
            "------------------------------------------------------------------------------------\n",
            "const             7.664e-05      0.002      0.040      0.968      -0.004       0.004\n",
            "year                 0.0659      0.001     49.425      0.000       0.063       0.068\n",
            "km_driven           -0.0160      0.002     -7.977      0.000      -0.020      -0.012\n",
            "mileage             -0.0492      0.003    -14.435      0.000      -0.056      -0.043\n",
            "engine               0.0307      0.005      6.378      0.000       0.021       0.040\n",
            "max_power            0.0301      0.004      7.027      0.000       0.022       0.039\n",
            "age                 -0.0659      0.001    -49.425      0.000      -0.068      -0.063\n",
            "make                 0.0607      0.003     17.612      0.000       0.054       0.068\n",
            "model                0.7919      0.005    171.030      0.000       0.783       0.801\n",
            "Individual          -0.0178      0.002     -8.906      0.000      -0.022      -0.014\n",
            "Trustmark Dealer    -0.0031      0.002     -1.606      0.108      -0.007       0.001\n",
            "Diesel               0.0129      0.008      1.614      0.107      -0.003       0.029\n",
            "Electric             0.0148      0.002      7.266      0.000       0.011       0.019\n",
            "LPG                  0.0022      0.002      1.061      0.289      -0.002       0.006\n",
            "Petrol              -0.0238      0.008     -2.898      0.004      -0.040      -0.008\n",
            "Manual              -0.0136      0.003     -5.285      0.000      -0.019      -0.009\n",
            "5                   -0.0262      0.007     -4.005      0.000      -0.039      -0.013\n",
            ">5                  -0.0357      0.007     -5.168      0.000      -0.049      -0.022\n",
            "==============================================================================\n",
            "Omnibus:                     3788.584   Durbin-Watson:                   2.003\n",
            "Prob(Omnibus):                  0.000   Jarque-Bera (JB):           169531.293\n",
            "Skew:                           0.334   Prob(JB):                         0.00\n",
            "Kurtosis:                      19.005   Cond. No.                     2.65e+15\n",
            "==============================================================================\n",
            "\n",
            "Notes:\n",
            "[1] Standard Errors assume that the covariance matrix of the errors is correctly specified.\n",
            "[2] The smallest eigenvalue is 1.03e-26. This might indicate that there are\n",
            "strong multicollinearity problems or that the design matrix is singular.\n"
          ]
        }
      ],
      "source": [
        "X_sm = sm.add_constant(X_train)  # Statmodels default is without intercept, to add intercept we need to add constant.\n",
        "\n",
        "model = sm.OLS(y_train, X_sm)\n",
        "results = model.fit()\n",
        "\n",
        "# Print the summary statistics of the model\n",
        "print(results.summary())"
      ]
    },
    {
      "cell_type": "markdown",
      "metadata": {
        "id": "nZQ1HCE6Og--"
      },
      "source": [
        "Let's look at few of the variables in this table:\n",
        "\n",
        "- Dep. Variable: This column displays the name of the dependent variable being predicted in the regression.\n",
        "\n",
        "- Model: It provides a concise representation of the model type and method used, such as \"OLS\" (Ordinary Least Squares).\n",
        "\n",
        "- R-squared: Represents the coefficient of determination (R-squared) value.\n",
        "\n",
        "- Adj. R-squared: This is the adjusted R-squared value, which accounts for the number of predictors in the model and adjusts the R-squared accordingly."
      ]
    },
    {
      "cell_type": "markdown",
      "metadata": {
        "id": "Xfg1z3rjCp6c"
      },
      "source": [
        "The prediction is same as scikit learn"
      ]
    },
    {
      "cell_type": "code",
      "execution_count": 62,
      "metadata": {
        "colab": {
          "base_uri": "https://localhost:8080/",
          "height": 458
        },
        "id": "IUBKV1FiCKvO",
        "outputId": "1036ef92-8d9d-4b5a-ff77-4a0d50bda153"
      },
      "outputs": [
        {
          "output_type": "execute_result",
          "data": {
            "text/plain": [
              "3443    -0.354511\n",
              "16090   -0.476414\n",
              "11070   -0.359932\n",
              "19214   -0.121763\n",
              "17843   -0.656579\n",
              "           ...   \n",
              "1099     2.335550\n",
              "18898   -0.334020\n",
              "11798    0.398398\n",
              "6637     2.564373\n",
              "2575    -0.076645\n",
              "Length: 15856, dtype: float64"
            ],
            "text/html": [
              "<div>\n",
              "<style scoped>\n",
              "    .dataframe tbody tr th:only-of-type {\n",
              "        vertical-align: middle;\n",
              "    }\n",
              "\n",
              "    .dataframe tbody tr th {\n",
              "        vertical-align: top;\n",
              "    }\n",
              "\n",
              "    .dataframe thead th {\n",
              "        text-align: right;\n",
              "    }\n",
              "</style>\n",
              "<table border=\"1\" class=\"dataframe\">\n",
              "  <thead>\n",
              "    <tr style=\"text-align: right;\">\n",
              "      <th></th>\n",
              "      <th>0</th>\n",
              "    </tr>\n",
              "  </thead>\n",
              "  <tbody>\n",
              "    <tr>\n",
              "      <th>3443</th>\n",
              "      <td>-0.354511</td>\n",
              "    </tr>\n",
              "    <tr>\n",
              "      <th>16090</th>\n",
              "      <td>-0.476414</td>\n",
              "    </tr>\n",
              "    <tr>\n",
              "      <th>11070</th>\n",
              "      <td>-0.359932</td>\n",
              "    </tr>\n",
              "    <tr>\n",
              "      <th>19214</th>\n",
              "      <td>-0.121763</td>\n",
              "    </tr>\n",
              "    <tr>\n",
              "      <th>17843</th>\n",
              "      <td>-0.656579</td>\n",
              "    </tr>\n",
              "    <tr>\n",
              "      <th>...</th>\n",
              "      <td>...</td>\n",
              "    </tr>\n",
              "    <tr>\n",
              "      <th>1099</th>\n",
              "      <td>2.335550</td>\n",
              "    </tr>\n",
              "    <tr>\n",
              "      <th>18898</th>\n",
              "      <td>-0.334020</td>\n",
              "    </tr>\n",
              "    <tr>\n",
              "      <th>11798</th>\n",
              "      <td>0.398398</td>\n",
              "    </tr>\n",
              "    <tr>\n",
              "      <th>6637</th>\n",
              "      <td>2.564373</td>\n",
              "    </tr>\n",
              "    <tr>\n",
              "      <th>2575</th>\n",
              "      <td>-0.076645</td>\n",
              "    </tr>\n",
              "  </tbody>\n",
              "</table>\n",
              "<p>15856 rows × 1 columns</p>\n",
              "</div><br><label><b>dtype:</b> float64</label>"
            ]
          },
          "metadata": {},
          "execution_count": 62
        }
      ],
      "source": [
        "results.predict(X_sm)"
      ]
    },
    {
      "cell_type": "code",
      "execution_count": 63,
      "metadata": {
        "colab": {
          "base_uri": "https://localhost:8080/"
        },
        "id": "aQgezHl6SB8D",
        "outputId": "1128b32c-5161-4131-e164-27e66f965dbf"
      },
      "outputs": [
        {
          "output_type": "stream",
          "name": "stdout",
          "text": [
            "                            OLS Regression Results                            \n",
            "==============================================================================\n",
            "Dep. Variable:          selling_price   R-squared:                       0.941\n",
            "Model:                            OLS   Adj. R-squared:                  0.941\n",
            "Method:                 Least Squares   F-statistic:                 1.588e+04\n",
            "Date:                Sun, 28 Sep 2025   Prob (F-statistic):               0.00\n",
            "Time:                        12:17:21   Log-Likelihood:                -7.3180\n",
            "No. Observations:               15856   AIC:                             48.64\n",
            "Df Residuals:                   15839   BIC:                             179.0\n",
            "Df Model:                          16                                         \n",
            "Covariance Type:            nonrobust                                         \n",
            "==============================================================================\n",
            "                 coef    std err          t      P>|t|      [0.025      0.975]\n",
            "------------------------------------------------------------------------------\n",
            "const         -0.0004      0.002     -0.223      0.823      -0.004       0.003\n",
            "x1             0.0659      0.001     49.425      0.000       0.063       0.069\n",
            "x2            -0.0169      0.002     -7.977      0.000      -0.021      -0.013\n",
            "x3            -0.0498      0.003    -14.435      0.000      -0.057      -0.043\n",
            "x4             0.0307      0.005      6.378      0.000       0.021       0.040\n",
            "x5             0.0302      0.004      7.027      0.000       0.022       0.039\n",
            "x6            -0.0659      0.001    -49.425      0.000      -0.069      -0.063\n",
            "x7             0.0607      0.003     17.612      0.000       0.054       0.067\n",
            "x8             0.7907      0.005    171.030      0.000       0.782       0.800\n",
            "x9            -0.0179      0.002     -8.906      0.000      -0.022      -0.014\n",
            "x10           -0.0031      0.002     -1.606      0.108      -0.007       0.001\n",
            "x11            0.0129      0.008      1.614      0.107      -0.003       0.029\n",
            "x12            0.0155      0.002      7.266      0.000       0.011       0.020\n",
            "x13            0.0023      0.002      1.061      0.289      -0.002       0.007\n",
            "x14           -0.0238      0.008     -2.898      0.004      -0.040      -0.008\n",
            "x15           -0.0136      0.003     -5.285      0.000      -0.019      -0.009\n",
            "x16           -0.0264      0.007     -4.005      0.000      -0.039      -0.013\n",
            "x17           -0.0359      0.007     -5.168      0.000      -0.050      -0.022\n",
            "==============================================================================\n",
            "Omnibus:                     3788.584   Durbin-Watson:                   2.003\n",
            "Prob(Omnibus):                  0.000   Jarque-Bera (JB):           169531.293\n",
            "Skew:                           0.334   Prob(JB):                         0.00\n",
            "Kurtosis:                      19.005   Cond. No.                     1.30e+15\n",
            "==============================================================================\n",
            "\n",
            "Notes:\n",
            "[1] Standard Errors assume that the covariance matrix of the errors is correctly specified.\n",
            "[2] The smallest eigenvalue is 4.27e-26. This might indicate that there are\n",
            "strong multicollinearity problems or that the design matrix is singular.\n"
          ]
        }
      ],
      "source": [
        "# Statmodels implementation of Linear regression\n",
        "import statsmodels.api as sm\n",
        "from sklearn.preprocessing import StandardScaler\n",
        "from sklearn.model_selection import train_test_split\n",
        "\n",
        "X = df[df.columns.drop('selling_price')]\n",
        "y = df[\"selling_price\"]\n",
        "\n",
        "X_train, X_test, y_train, y_test = train_test_split(X, y, test_size=0.2, random_state=2)\n",
        "\n",
        "scaler = StandardScaler()\n",
        "X_tr_scaled = scaler.fit_transform(X_train)\n",
        "\n",
        "X_sm = sm.add_constant(X_tr_scaled)  #Statmodels default is without intercept, to add intercept we need to add constant\n",
        "\n",
        "sm_model = sm.OLS(y_train, X_sm).fit()\n",
        "\n",
        "print(sm_model.summary())"
      ]
    },
    {
      "cell_type": "markdown",
      "metadata": {
        "id": "J6jOlvEPs0Ld"
      },
      "source": [
        "#### Multicollinearity and implementation\n",
        "- When one or more input variables exhibhit strong correlation\n",
        "- One variable is enough to be part of the model."
      ]
    },
    {
      "cell_type": "code",
      "execution_count": 64,
      "metadata": {
        "id": "kbcapTpSsvnU"
      },
      "outputs": [],
      "source": [
        "# VIF\n",
        "from statsmodels.stats.outliers_influence import variance_inflation_factor"
      ]
    },
    {
      "cell_type": "code",
      "execution_count": 65,
      "metadata": {
        "colab": {
          "base_uri": "https://localhost:8080/",
          "height": 637
        },
        "id": "HqykuJqjsvk-",
        "outputId": "56e4e5bb-4c86-4cac-8662-b7fe6c752723"
      },
      "outputs": [
        {
          "output_type": "stream",
          "name": "stderr",
          "text": [
            "/usr/local/lib/python3.12/dist-packages/statsmodels/stats/outliers_influence.py:197: RuntimeWarning: divide by zero encountered in scalar divide\n",
            "  vif = 1. / (1. - r_squared_i)\n"
          ]
        },
        {
          "output_type": "execute_result",
          "data": {
            "text/plain": [
              "            Features    VIF\n",
              "0               year    inf\n",
              "5                age    inf\n",
              "13            Petrol  18.30\n",
              "10            Diesel  17.30\n",
              "16                >5  13.04\n",
              "15                 5  11.75\n",
              "3             engine   6.26\n",
              "7              model   5.78\n",
              "4          max_power   5.00\n",
              "2            mileage   3.22\n",
              "6               make   3.21\n",
              "14            Manual   1.79\n",
              "12               LPG   1.25\n",
              "11          Electric   1.23\n",
              "1          km_driven   1.21\n",
              "8         Individual   1.09\n",
              "9   Trustmark Dealer   1.02"
            ],
            "text/html": [
              "\n",
              "  <div id=\"df-6494ef70-2d99-40ea-a217-ef17f5e13062\" class=\"colab-df-container\">\n",
              "    <div>\n",
              "<style scoped>\n",
              "    .dataframe tbody tr th:only-of-type {\n",
              "        vertical-align: middle;\n",
              "    }\n",
              "\n",
              "    .dataframe tbody tr th {\n",
              "        vertical-align: top;\n",
              "    }\n",
              "\n",
              "    .dataframe thead th {\n",
              "        text-align: right;\n",
              "    }\n",
              "</style>\n",
              "<table border=\"1\" class=\"dataframe\">\n",
              "  <thead>\n",
              "    <tr style=\"text-align: right;\">\n",
              "      <th></th>\n",
              "      <th>Features</th>\n",
              "      <th>VIF</th>\n",
              "    </tr>\n",
              "  </thead>\n",
              "  <tbody>\n",
              "    <tr>\n",
              "      <th>0</th>\n",
              "      <td>year</td>\n",
              "      <td>inf</td>\n",
              "    </tr>\n",
              "    <tr>\n",
              "      <th>5</th>\n",
              "      <td>age</td>\n",
              "      <td>inf</td>\n",
              "    </tr>\n",
              "    <tr>\n",
              "      <th>13</th>\n",
              "      <td>Petrol</td>\n",
              "      <td>18.30</td>\n",
              "    </tr>\n",
              "    <tr>\n",
              "      <th>10</th>\n",
              "      <td>Diesel</td>\n",
              "      <td>17.30</td>\n",
              "    </tr>\n",
              "    <tr>\n",
              "      <th>16</th>\n",
              "      <td>&gt;5</td>\n",
              "      <td>13.04</td>\n",
              "    </tr>\n",
              "    <tr>\n",
              "      <th>15</th>\n",
              "      <td>5</td>\n",
              "      <td>11.75</td>\n",
              "    </tr>\n",
              "    <tr>\n",
              "      <th>3</th>\n",
              "      <td>engine</td>\n",
              "      <td>6.26</td>\n",
              "    </tr>\n",
              "    <tr>\n",
              "      <th>7</th>\n",
              "      <td>model</td>\n",
              "      <td>5.78</td>\n",
              "    </tr>\n",
              "    <tr>\n",
              "      <th>4</th>\n",
              "      <td>max_power</td>\n",
              "      <td>5.00</td>\n",
              "    </tr>\n",
              "    <tr>\n",
              "      <th>2</th>\n",
              "      <td>mileage</td>\n",
              "      <td>3.22</td>\n",
              "    </tr>\n",
              "    <tr>\n",
              "      <th>6</th>\n",
              "      <td>make</td>\n",
              "      <td>3.21</td>\n",
              "    </tr>\n",
              "    <tr>\n",
              "      <th>14</th>\n",
              "      <td>Manual</td>\n",
              "      <td>1.79</td>\n",
              "    </tr>\n",
              "    <tr>\n",
              "      <th>12</th>\n",
              "      <td>LPG</td>\n",
              "      <td>1.25</td>\n",
              "    </tr>\n",
              "    <tr>\n",
              "      <th>11</th>\n",
              "      <td>Electric</td>\n",
              "      <td>1.23</td>\n",
              "    </tr>\n",
              "    <tr>\n",
              "      <th>1</th>\n",
              "      <td>km_driven</td>\n",
              "      <td>1.21</td>\n",
              "    </tr>\n",
              "    <tr>\n",
              "      <th>8</th>\n",
              "      <td>Individual</td>\n",
              "      <td>1.09</td>\n",
              "    </tr>\n",
              "    <tr>\n",
              "      <th>9</th>\n",
              "      <td>Trustmark Dealer</td>\n",
              "      <td>1.02</td>\n",
              "    </tr>\n",
              "  </tbody>\n",
              "</table>\n",
              "</div>\n",
              "    <div class=\"colab-df-buttons\">\n",
              "\n",
              "  <div class=\"colab-df-container\">\n",
              "    <button class=\"colab-df-convert\" onclick=\"convertToInteractive('df-6494ef70-2d99-40ea-a217-ef17f5e13062')\"\n",
              "            title=\"Convert this dataframe to an interactive table.\"\n",
              "            style=\"display:none;\">\n",
              "\n",
              "  <svg xmlns=\"http://www.w3.org/2000/svg\" height=\"24px\" viewBox=\"0 -960 960 960\">\n",
              "    <path d=\"M120-120v-720h720v720H120Zm60-500h600v-160H180v160Zm220 220h160v-160H400v160Zm0 220h160v-160H400v160ZM180-400h160v-160H180v160Zm440 0h160v-160H620v160ZM180-180h160v-160H180v160Zm440 0h160v-160H620v160Z\"/>\n",
              "  </svg>\n",
              "    </button>\n",
              "\n",
              "  <style>\n",
              "    .colab-df-container {\n",
              "      display:flex;\n",
              "      gap: 12px;\n",
              "    }\n",
              "\n",
              "    .colab-df-convert {\n",
              "      background-color: #E8F0FE;\n",
              "      border: none;\n",
              "      border-radius: 50%;\n",
              "      cursor: pointer;\n",
              "      display: none;\n",
              "      fill: #1967D2;\n",
              "      height: 32px;\n",
              "      padding: 0 0 0 0;\n",
              "      width: 32px;\n",
              "    }\n",
              "\n",
              "    .colab-df-convert:hover {\n",
              "      background-color: #E2EBFA;\n",
              "      box-shadow: 0px 1px 2px rgba(60, 64, 67, 0.3), 0px 1px 3px 1px rgba(60, 64, 67, 0.15);\n",
              "      fill: #174EA6;\n",
              "    }\n",
              "\n",
              "    .colab-df-buttons div {\n",
              "      margin-bottom: 4px;\n",
              "    }\n",
              "\n",
              "    [theme=dark] .colab-df-convert {\n",
              "      background-color: #3B4455;\n",
              "      fill: #D2E3FC;\n",
              "    }\n",
              "\n",
              "    [theme=dark] .colab-df-convert:hover {\n",
              "      background-color: #434B5C;\n",
              "      box-shadow: 0px 1px 3px 1px rgba(0, 0, 0, 0.15);\n",
              "      filter: drop-shadow(0px 1px 2px rgba(0, 0, 0, 0.3));\n",
              "      fill: #FFFFFF;\n",
              "    }\n",
              "  </style>\n",
              "\n",
              "    <script>\n",
              "      const buttonEl =\n",
              "        document.querySelector('#df-6494ef70-2d99-40ea-a217-ef17f5e13062 button.colab-df-convert');\n",
              "      buttonEl.style.display =\n",
              "        google.colab.kernel.accessAllowed ? 'block' : 'none';\n",
              "\n",
              "      async function convertToInteractive(key) {\n",
              "        const element = document.querySelector('#df-6494ef70-2d99-40ea-a217-ef17f5e13062');\n",
              "        const dataTable =\n",
              "          await google.colab.kernel.invokeFunction('convertToInteractive',\n",
              "                                                    [key], {});\n",
              "        if (!dataTable) return;\n",
              "\n",
              "        const docLinkHtml = 'Like what you see? Visit the ' +\n",
              "          '<a target=\"_blank\" href=https://colab.research.google.com/notebooks/data_table.ipynb>data table notebook</a>'\n",
              "          + ' to learn more about interactive tables.';\n",
              "        element.innerHTML = '';\n",
              "        dataTable['output_type'] = 'display_data';\n",
              "        await google.colab.output.renderOutput(dataTable, element);\n",
              "        const docLink = document.createElement('div');\n",
              "        docLink.innerHTML = docLinkHtml;\n",
              "        element.appendChild(docLink);\n",
              "      }\n",
              "    </script>\n",
              "  </div>\n",
              "\n",
              "\n",
              "    <div id=\"df-df4f8225-f4c2-41d3-8ae3-b20035568b96\">\n",
              "      <button class=\"colab-df-quickchart\" onclick=\"quickchart('df-df4f8225-f4c2-41d3-8ae3-b20035568b96')\"\n",
              "                title=\"Suggest charts\"\n",
              "                style=\"display:none;\">\n",
              "\n",
              "<svg xmlns=\"http://www.w3.org/2000/svg\" height=\"24px\"viewBox=\"0 0 24 24\"\n",
              "     width=\"24px\">\n",
              "    <g>\n",
              "        <path d=\"M19 3H5c-1.1 0-2 .9-2 2v14c0 1.1.9 2 2 2h14c1.1 0 2-.9 2-2V5c0-1.1-.9-2-2-2zM9 17H7v-7h2v7zm4 0h-2V7h2v10zm4 0h-2v-4h2v4z\"/>\n",
              "    </g>\n",
              "</svg>\n",
              "      </button>\n",
              "\n",
              "<style>\n",
              "  .colab-df-quickchart {\n",
              "      --bg-color: #E8F0FE;\n",
              "      --fill-color: #1967D2;\n",
              "      --hover-bg-color: #E2EBFA;\n",
              "      --hover-fill-color: #174EA6;\n",
              "      --disabled-fill-color: #AAA;\n",
              "      --disabled-bg-color: #DDD;\n",
              "  }\n",
              "\n",
              "  [theme=dark] .colab-df-quickchart {\n",
              "      --bg-color: #3B4455;\n",
              "      --fill-color: #D2E3FC;\n",
              "      --hover-bg-color: #434B5C;\n",
              "      --hover-fill-color: #FFFFFF;\n",
              "      --disabled-bg-color: #3B4455;\n",
              "      --disabled-fill-color: #666;\n",
              "  }\n",
              "\n",
              "  .colab-df-quickchart {\n",
              "    background-color: var(--bg-color);\n",
              "    border: none;\n",
              "    border-radius: 50%;\n",
              "    cursor: pointer;\n",
              "    display: none;\n",
              "    fill: var(--fill-color);\n",
              "    height: 32px;\n",
              "    padding: 0;\n",
              "    width: 32px;\n",
              "  }\n",
              "\n",
              "  .colab-df-quickchart:hover {\n",
              "    background-color: var(--hover-bg-color);\n",
              "    box-shadow: 0 1px 2px rgba(60, 64, 67, 0.3), 0 1px 3px 1px rgba(60, 64, 67, 0.15);\n",
              "    fill: var(--button-hover-fill-color);\n",
              "  }\n",
              "\n",
              "  .colab-df-quickchart-complete:disabled,\n",
              "  .colab-df-quickchart-complete:disabled:hover {\n",
              "    background-color: var(--disabled-bg-color);\n",
              "    fill: var(--disabled-fill-color);\n",
              "    box-shadow: none;\n",
              "  }\n",
              "\n",
              "  .colab-df-spinner {\n",
              "    border: 2px solid var(--fill-color);\n",
              "    border-color: transparent;\n",
              "    border-bottom-color: var(--fill-color);\n",
              "    animation:\n",
              "      spin 1s steps(1) infinite;\n",
              "  }\n",
              "\n",
              "  @keyframes spin {\n",
              "    0% {\n",
              "      border-color: transparent;\n",
              "      border-bottom-color: var(--fill-color);\n",
              "      border-left-color: var(--fill-color);\n",
              "    }\n",
              "    20% {\n",
              "      border-color: transparent;\n",
              "      border-left-color: var(--fill-color);\n",
              "      border-top-color: var(--fill-color);\n",
              "    }\n",
              "    30% {\n",
              "      border-color: transparent;\n",
              "      border-left-color: var(--fill-color);\n",
              "      border-top-color: var(--fill-color);\n",
              "      border-right-color: var(--fill-color);\n",
              "    }\n",
              "    40% {\n",
              "      border-color: transparent;\n",
              "      border-right-color: var(--fill-color);\n",
              "      border-top-color: var(--fill-color);\n",
              "    }\n",
              "    60% {\n",
              "      border-color: transparent;\n",
              "      border-right-color: var(--fill-color);\n",
              "    }\n",
              "    80% {\n",
              "      border-color: transparent;\n",
              "      border-right-color: var(--fill-color);\n",
              "      border-bottom-color: var(--fill-color);\n",
              "    }\n",
              "    90% {\n",
              "      border-color: transparent;\n",
              "      border-bottom-color: var(--fill-color);\n",
              "    }\n",
              "  }\n",
              "</style>\n",
              "\n",
              "      <script>\n",
              "        async function quickchart(key) {\n",
              "          const quickchartButtonEl =\n",
              "            document.querySelector('#' + key + ' button');\n",
              "          quickchartButtonEl.disabled = true;  // To prevent multiple clicks.\n",
              "          quickchartButtonEl.classList.add('colab-df-spinner');\n",
              "          try {\n",
              "            const charts = await google.colab.kernel.invokeFunction(\n",
              "                'suggestCharts', [key], {});\n",
              "          } catch (error) {\n",
              "            console.error('Error during call to suggestCharts:', error);\n",
              "          }\n",
              "          quickchartButtonEl.classList.remove('colab-df-spinner');\n",
              "          quickchartButtonEl.classList.add('colab-df-quickchart-complete');\n",
              "        }\n",
              "        (() => {\n",
              "          let quickchartButtonEl =\n",
              "            document.querySelector('#df-df4f8225-f4c2-41d3-8ae3-b20035568b96 button');\n",
              "          quickchartButtonEl.style.display =\n",
              "            google.colab.kernel.accessAllowed ? 'block' : 'none';\n",
              "        })();\n",
              "      </script>\n",
              "    </div>\n",
              "\n",
              "  <div id=\"id_fda14a34-25a9-4ac3-9582-6a9ecabba26c\">\n",
              "    <style>\n",
              "      .colab-df-generate {\n",
              "        background-color: #E8F0FE;\n",
              "        border: none;\n",
              "        border-radius: 50%;\n",
              "        cursor: pointer;\n",
              "        display: none;\n",
              "        fill: #1967D2;\n",
              "        height: 32px;\n",
              "        padding: 0 0 0 0;\n",
              "        width: 32px;\n",
              "      }\n",
              "\n",
              "      .colab-df-generate:hover {\n",
              "        background-color: #E2EBFA;\n",
              "        box-shadow: 0px 1px 2px rgba(60, 64, 67, 0.3), 0px 1px 3px 1px rgba(60, 64, 67, 0.15);\n",
              "        fill: #174EA6;\n",
              "      }\n",
              "\n",
              "      [theme=dark] .colab-df-generate {\n",
              "        background-color: #3B4455;\n",
              "        fill: #D2E3FC;\n",
              "      }\n",
              "\n",
              "      [theme=dark] .colab-df-generate:hover {\n",
              "        background-color: #434B5C;\n",
              "        box-shadow: 0px 1px 3px 1px rgba(0, 0, 0, 0.15);\n",
              "        filter: drop-shadow(0px 1px 2px rgba(0, 0, 0, 0.3));\n",
              "        fill: #FFFFFF;\n",
              "      }\n",
              "    </style>\n",
              "    <button class=\"colab-df-generate\" onclick=\"generateWithVariable('vif')\"\n",
              "            title=\"Generate code using this dataframe.\"\n",
              "            style=\"display:none;\">\n",
              "\n",
              "  <svg xmlns=\"http://www.w3.org/2000/svg\" height=\"24px\"viewBox=\"0 0 24 24\"\n",
              "       width=\"24px\">\n",
              "    <path d=\"M7,19H8.4L18.45,9,17,7.55,7,17.6ZM5,21V16.75L18.45,3.32a2,2,0,0,1,2.83,0l1.4,1.43a1.91,1.91,0,0,1,.58,1.4,1.91,1.91,0,0,1-.58,1.4L9.25,21ZM18.45,9,17,7.55Zm-12,3A5.31,5.31,0,0,0,4.9,8.1,5.31,5.31,0,0,0,1,6.5,5.31,5.31,0,0,0,4.9,4.9,5.31,5.31,0,0,0,6.5,1,5.31,5.31,0,0,0,8.1,4.9,5.31,5.31,0,0,0,12,6.5,5.46,5.46,0,0,0,6.5,12Z\"/>\n",
              "  </svg>\n",
              "    </button>\n",
              "    <script>\n",
              "      (() => {\n",
              "      const buttonEl =\n",
              "        document.querySelector('#id_fda14a34-25a9-4ac3-9582-6a9ecabba26c button.colab-df-generate');\n",
              "      buttonEl.style.display =\n",
              "        google.colab.kernel.accessAllowed ? 'block' : 'none';\n",
              "\n",
              "      buttonEl.onclick = () => {\n",
              "        google.colab.notebook.generateWithVariable('vif');\n",
              "      }\n",
              "      })();\n",
              "    </script>\n",
              "  </div>\n",
              "\n",
              "    </div>\n",
              "  </div>\n"
            ],
            "application/vnd.google.colaboratory.intrinsic+json": {
              "type": "dataframe",
              "variable_name": "vif",
              "repr_error": "Out of range float values are not JSON compliant: inf"
            }
          },
          "metadata": {},
          "execution_count": 65
        }
      ],
      "source": [
        "vif = pd.DataFrame()\n",
        "X_t = pd.DataFrame(X_tr_scaled, columns=X_train.columns)\n",
        "vif['Features'] = X_t.columns\n",
        "vif['VIF'] = [variance_inflation_factor(X_t.values, i) for i in range(X_t.shape[1])]\n",
        "vif['VIF'] = round(vif['VIF'], 2)\n",
        "vif = vif.sort_values(by = \"VIF\", ascending = False)\n",
        "vif"
      ]
    },
    {
      "cell_type": "markdown",
      "metadata": {
        "id": "qb5Qqqm7tDsk"
      },
      "source": [
        "#### Note : VIF values tends to be infinity when there is a perfect correlation between the variables"
      ]
    },
    {
      "cell_type": "markdown",
      "metadata": {
        "id": "MgB_6YnAtQPG"
      },
      "source": [
        "Removing the variable with highest VIF"
      ]
    },
    {
      "cell_type": "code",
      "execution_count": 66,
      "metadata": {
        "colab": {
          "base_uri": "https://localhost:8080/"
        },
        "id": "6JVWHPD-wDhk",
        "outputId": "039a1f10-15fb-4b02-adbb-8470ab7bd330"
      },
      "outputs": [
        {
          "output_type": "stream",
          "name": "stdout",
          "text": [
            "                            OLS Regression Results                            \n",
            "==============================================================================\n",
            "Dep. Variable:                      y   R-squared:                       0.941\n",
            "Model:                            OLS   Adj. R-squared:                  0.941\n",
            "Method:                 Least Squares   F-statistic:                 1.588e+04\n",
            "Date:                Sun, 28 Sep 2025   Prob (F-statistic):               0.00\n",
            "Time:                        12:17:22   Log-Likelihood:                -7.3180\n",
            "No. Observations:               15856   AIC:                             48.64\n",
            "Df Residuals:                   15839   BIC:                             179.0\n",
            "Df Model:                          16                                         \n",
            "Covariance Type:            nonrobust                                         \n",
            "====================================================================================\n",
            "                       coef    std err          t      P>|t|      [0.025      0.975]\n",
            "------------------------------------------------------------------------------------\n",
            "const               -0.0004      0.002     -0.223      0.823      -0.004       0.003\n",
            "age                 -0.1319      0.003    -49.425      0.000      -0.137      -0.127\n",
            "Petrol              -0.0238      0.008     -2.898      0.004      -0.040      -0.008\n",
            "Diesel               0.0129      0.008      1.614      0.107      -0.003       0.029\n",
            ">5                  -0.0359      0.007     -5.168      0.000      -0.050      -0.022\n",
            "5                   -0.0264      0.007     -4.005      0.000      -0.039      -0.013\n",
            "engine               0.0307      0.005      6.378      0.000       0.021       0.040\n",
            "model                0.7907      0.005    171.030      0.000       0.782       0.800\n",
            "max_power            0.0302      0.004      7.027      0.000       0.022       0.039\n",
            "mileage             -0.0498      0.003    -14.435      0.000      -0.057      -0.043\n",
            "make                 0.0607      0.003     17.612      0.000       0.054       0.067\n",
            "Manual              -0.0136      0.003     -5.285      0.000      -0.019      -0.009\n",
            "LPG                  0.0023      0.002      1.061      0.289      -0.002       0.007\n",
            "Electric             0.0155      0.002      7.266      0.000       0.011       0.020\n",
            "km_driven           -0.0169      0.002     -7.977      0.000      -0.021      -0.013\n",
            "Individual          -0.0179      0.002     -8.906      0.000      -0.022      -0.014\n",
            "Trustmark Dealer    -0.0031      0.002     -1.606      0.108      -0.007       0.001\n",
            "==============================================================================\n",
            "Omnibus:                     3788.584   Durbin-Watson:                   2.003\n",
            "Prob(Omnibus):                  0.000   Jarque-Bera (JB):           169531.293\n",
            "Skew:                           0.334   Prob(JB):                         0.00\n",
            "Kurtosis:                      19.005   Cond. No.                         12.6\n",
            "==============================================================================\n",
            "\n",
            "Notes:\n",
            "[1] Standard Errors assume that the covariance matrix of the errors is correctly specified.\n"
          ]
        }
      ],
      "source": [
        "cols2 = vif[\"Features\"][1:].values\n",
        "X2 = pd.DataFrame(X_tr_scaled, columns=X_train.columns)[cols2]\n",
        "\n",
        "X2_sm = sm.add_constant(X2)  #Statmodels default is without intercept, to add intercept we need to add constant\n",
        "sm_model = sm.OLS(list(y_train), X2_sm).fit()\n",
        "print(sm_model.summary())"
      ]
    },
    {
      "cell_type": "markdown",
      "metadata": {
        "id": "CkCS6qJz5pjq"
      },
      "source": [
        "As we see, there's no drop in R-sq. and adj. R-sq. value even after removing the variable"
      ]
    },
    {
      "cell_type": "markdown",
      "metadata": {
        "id": "7ZPNuBDN-hX7"
      },
      "source": [
        "Let's now keep on removing features till we\n",
        "- either have a feature with vif<5\n",
        "\n",
        "or\n",
        "- have the model's adj. r2 score go below 0.85"
      ]
    },
    {
      "cell_type": "code",
      "execution_count": 67,
      "metadata": {
        "colab": {
          "base_uri": "https://localhost:8080/"
        },
        "id": "X-doUYmmcPPs",
        "outputId": "6aba677f-a370-4308-d8ed-d5f45c625f60"
      },
      "outputs": [
        {
          "output_type": "stream",
          "name": "stdout",
          "text": [
            "Reached threshold\n",
            "Highest vif: Features    model\n",
            "VIF          5.75\n",
            "Name: 0, dtype: object\n",
            "Current adj.R2 0.8318553555450336\n",
            "Features removed: 4\n",
            "List of features removed: ['year', 'Petrol', '>5', 'engine']\n"
          ]
        }
      ],
      "source": [
        "vif_thr = 5\n",
        "r2_thr = 0.85\n",
        "i = 1\n",
        "feats_removed = ['year']\n",
        "while True:\n",
        "  vif = pd.DataFrame()\n",
        "  X_t = pd.DataFrame(X_tr_scaled, columns=X_train.columns)[cols2]\n",
        "  vif['Features'] = cols2\n",
        "  vif['VIF'] = [variance_inflation_factor(X_t.values, i) for i in range(X_t.shape[1])]\n",
        "  vif['VIF'] = round(vif['VIF'], 2)\n",
        "  vif = vif.sort_values(by = \"VIF\", ascending = False)\n",
        "\n",
        "  cols2 = vif[\"Features\"][1:].values\n",
        "  X2 = pd.DataFrame(X_tr_scaled, columns=X_train.columns)[cols2]\n",
        "\n",
        "  X2_sm = sm.add_constant(X2)  #Statmodels default is without intercept, to add intercept we need to add constant\n",
        "  sm_model = sm.OLS(list(y_train), X2_sm).fit()\n",
        "  if (vif.iloc[0]['VIF'] < vif_thr) or (sm_model.rsquared_adj < r2_thr):\n",
        "    print('Reached threshold')\n",
        "    print('Highest vif:',vif.iloc[0])\n",
        "    print('Current adj.R2',sm_model.rsquared_adj)\n",
        "    print('Features removed:', i)\n",
        "    print('List of features removed:', feats_removed)\n",
        "    break\n",
        "  feats_removed.append(vif.iloc[0]['Features'])\n",
        "  i += 1"
      ]
    },
    {
      "cell_type": "code",
      "execution_count": 68,
      "metadata": {
        "colab": {
          "base_uri": "https://localhost:8080/"
        },
        "id": "L8pREs3bg60N",
        "outputId": "f1671f50-dfff-41b4-bcd6-10eea0a719a2"
      },
      "outputs": [
        {
          "output_type": "stream",
          "name": "stdout",
          "text": [
            "            Features   VIF\n",
            "0              model  5.75\n",
            "1          max_power  3.31\n",
            "2               make  3.16\n",
            "3            mileage  2.28\n",
            "5                age  1.88\n",
            "6             Manual  1.77\n",
            "4             Diesel  1.66\n",
            "7                  5  1.47\n",
            "9          km_driven  1.20\n",
            "8           Electric  1.18\n",
            "10        Individual  1.08\n",
            "11  Trustmark Dealer  1.02\n",
            "12               LPG  1.01\n",
            "                            OLS Regression Results                            \n",
            "==============================================================================\n",
            "Dep. Variable:                      y   R-squared:                       0.832\n",
            "Model:                            OLS   Adj. R-squared:                  0.832\n",
            "Method:                 Least Squares   F-statistic:                     6538.\n",
            "Date:                Sun, 28 Sep 2025   Prob (F-statistic):               0.00\n",
            "Time:                        12:17:24   Log-Likelihood:                -8348.2\n",
            "No. Observations:               15856   AIC:                         1.672e+04\n",
            "Df Residuals:                   15843   BIC:                         1.682e+04\n",
            "Df Model:                          12                                         \n",
            "Covariance Type:            nonrobust                                         \n",
            "====================================================================================\n",
            "                       coef    std err          t      P>|t|      [0.025      0.975]\n",
            "------------------------------------------------------------------------------------\n",
            "const               -0.0004      0.003     -0.132      0.895      -0.007       0.006\n",
            "max_power            0.3037      0.005     56.642      0.000       0.293       0.314\n",
            "make                 0.3649      0.005     73.452      0.000       0.355       0.375\n",
            "mileage             -0.1150      0.005    -23.589      0.000      -0.125      -0.105\n",
            "age                 -0.3772      0.004   -101.122      0.000      -0.384      -0.370\n",
            "Manual              -0.1242      0.004    -29.627      0.000      -0.132      -0.116\n",
            "Diesel               0.1589      0.004     39.488      0.000       0.151       0.167\n",
            "5                   -0.0461      0.004    -11.759      0.000      -0.054      -0.038\n",
            "km_driven           -0.0294      0.004     -8.267      0.000      -0.036      -0.022\n",
            "Electric             0.0427      0.004     12.127      0.000       0.036       0.050\n",
            "Individual          -0.0338      0.003     -9.982      0.000      -0.040      -0.027\n",
            "Trustmark Dealer    -0.0065      0.003     -1.988      0.047      -0.013   -9.11e-05\n",
            "LPG                  0.0107      0.003      3.281      0.001       0.004       0.017\n",
            "==============================================================================\n",
            "Omnibus:                     2076.324   Durbin-Watson:                   1.980\n",
            "Prob(Omnibus):                  0.000   Jarque-Bera (JB):            11955.803\n",
            "Skew:                           0.494   Prob(JB):                         0.00\n",
            "Kurtosis:                       7.138   Cond. No.                         3.44\n",
            "==============================================================================\n",
            "\n",
            "Notes:\n",
            "[1] Standard Errors assume that the covariance matrix of the errors is correctly specified.\n"
          ]
        }
      ],
      "source": [
        "print(vif)\n",
        "print(sm_model.summary())"
      ]
    },
    {
      "cell_type": "markdown",
      "metadata": {
        "id": "h4KfqSzH11QC"
      },
      "source": [
        "Lets See how is the error distribution for Car24"
      ]
    },
    {
      "cell_type": "code",
      "execution_count": 69,
      "metadata": {
        "id": "xFN8gWQaJuj9"
      },
      "outputs": [],
      "source": [
        "X_sm = sm.add_constant(X_tr_scaled)\n",
        "sm_model = sm.OLS(y_train, X_sm).fit()"
      ]
    },
    {
      "cell_type": "code",
      "execution_count": 70,
      "metadata": {
        "id": "u6exTHXo2AjU"
      },
      "outputs": [],
      "source": [
        "Y_hat = sm_model.predict(X_sm)\n",
        "errors = Y_hat - y_train"
      ]
    },
    {
      "cell_type": "code",
      "execution_count": 71,
      "metadata": {
        "colab": {
          "base_uri": "https://localhost:8080/",
          "height": 489
        },
        "id": "xICmGdwS24je",
        "outputId": "45247426-7f23-45fa-bd3a-31cc20150bd8"
      },
      "outputs": [
        {
          "output_type": "execute_result",
          "data": {
            "text/plain": [
              "Text(0.5, 1.0, 'Histogram of residuals')"
            ]
          },
          "metadata": {},
          "execution_count": 71
        },
        {
          "output_type": "display_data",
          "data": {
            "text/plain": [
              "<Figure size 640x480 with 1 Axes>"
            ],
            "image/png": "[encoded data removed]"
          },
          "metadata": {}
        }
      ],
      "source": [
        "import seaborn as sns\n",
        "sns.histplot(errors)\n",
        "plt.xlabel(\" Residuals\")\n",
        "plt.title(\"Histogram of residuals\")"
      ]
    },
    {
      "cell_type": "markdown",
      "metadata": {
        "id": "mD2Wn9J5Aovk"
      },
      "source": [
        "This looks like a normal distribution, with a high mean and low S.D.\n",
        "\n",
        "Let's do a normality test to check if the distribution is actually normal.\n",
        "\n",
        "Recall:\n",
        "- You must have studied Shapiro Wilk test in statistics module."
      ]
    },
    {
      "cell_type": "code",
      "execution_count": 72,
      "metadata": {
        "colab": {
          "base_uri": "https://localhost:8080/"
        },
        "id": "Vmp-sXhwAAYS",
        "outputId": "c6dc20a4-47df-46c9-d1e2-0cb63cfdfd08"
      },
      "outputs": [
        {
          "output_type": "stream",
          "name": "stderr",
          "text": [
            "/usr/local/lib/python3.12/dist-packages/scipy/stats/_axis_nan_policy.py:579: UserWarning: scipy.stats.shapiro: For N > 5000, computed p-value may not be accurate. Current N is 15856.\n",
            "  res = hypotest_fun_out(*samples, **kwds)\n"
          ]
        },
        {
          "output_type": "execute_result",
          "data": {
            "text/plain": [
              "np.float64(0.8526019402961729)"
            ]
          },
          "metadata": {},
          "execution_count": 72
        }
      ],
      "source": [
        "from scipy import stats\n",
        "res = stats.shapiro(errors)\n",
        "res.statistic"
      ]
    },
    {
      "cell_type": "markdown",
      "metadata": {
        "id": "tfwHEGYzAwZ6"
      },
      "source": [
        "Closer the value to 1, more is the normality.\n",
        "\n",
        "In this case, a value of 0.85 denotes a high level of normality for the error distribuiton"
      ]
    },
    {
      "cell_type": "markdown",
      "metadata": {
        "id": "P3Lrf04p6J2F"
      },
      "source": [
        "- If the distribution of errors is gaussian distribution then the assumption of error being normally distributed is being sastified (sanity check)\n",
        "\n"
      ]
    },
    {
      "cell_type": "markdown",
      "metadata": {
        "id": "r8LiXsoPswFG"
      },
      "source": [
        "# 4.Heteroskedasticity should not exist"
      ]
    },
    {
      "cell_type": "markdown",
      "metadata": {
        "id": "7xH6xyswnyQH"
      },
      "source": [
        "<!-- <img src='https://drive.google.com/uc?id=1_K0iQfncOvnbO4S3kQjQsX2Rsr2907cr' width=800> -->"
      ]
    },
    {
      "cell_type": "markdown",
      "metadata": {
        "id": "sIvb1VNb7aSx"
      },
      "source": [
        "Lets implement heteroskedasticity in Cars24"
      ]
    },
    {
      "cell_type": "code",
      "execution_count": 73,
      "metadata": {
        "id": "80U24Gi87iFV"
      },
      "outputs": [],
      "source": [
        "Y_hat = sm_model.predict(X_sm)\n",
        "errors = Y_hat - y_train"
      ]
    },
    {
      "cell_type": "code",
      "execution_count": 74,
      "metadata": {
        "colab": {
          "base_uri": "https://localhost:8080/",
          "height": 489
        },
        "id": "36Ijh3H47dJw",
        "outputId": "78d8477e-dc7a-402c-e1d2-260ea4f74eec"
      },
      "outputs": [
        {
          "output_type": "execute_result",
          "data": {
            "text/plain": [
              "Text(0.5, 1.0, 'Predicted values vs Residuals')"
            ]
          },
          "metadata": {},
          "execution_count": 74
        },
        {
          "output_type": "display_data",
          "data": {
            "text/plain": [
              "<Figure size 640x480 with 1 Axes>"
            ],
            "image/png": "[encoded data removed]"
          },
          "metadata": {}
        }
      ],
      "source": [
        "sns.scatterplot(x=Y_hat,y=errors)\n",
        "plt.xlabel(\"predicted Selling price\")\n",
        "plt.ylabel(\"Residuals\")\n",
        "plt.title(\"Predicted values vs Residuals\")"
      ]
    },
    {
      "cell_type": "markdown",
      "metadata": {
        "id": "4nltTtnL7z4c"
      },
      "source": [
        "- Notice that As we go from left to right,the spread of  errors is almost constant\n",
        "\n",
        "#### What can we understand from this constant Residuals?\n",
        "- We can assume that heteroskedasticity does not exist in our data\n",
        "- There are outliers present in the dataset\n",
        "\n",
        "We can also use \"Goldfeld-Quandt Test\" to verify our assumptions\n"
      ]
    },
    {
      "cell_type": "markdown",
      "metadata": {
        "id": "zukR8GHSjvbh"
      },
      "source": [
        "### Using Goldfeld Quandt Test to check homoskedacity\n",
        "\n",
        "- This test is used to test the presence of Heteroscedasticity in the given data\n",
        "- The Goldfeld-Quandt test works by removing some number of observations located in the center of the dataset, then testing to see if the spread of residuals is different from the resulting two datasets that are on either side of the central observations."
      ]
    },
    {
      "cell_type": "code",
      "execution_count": 75,
      "metadata": {
        "colab": {
          "base_uri": "https://localhost:8080/"
        },
        "id": "UZZ5H0t8ifhd",
        "outputId": "e164a6ba-c4ac-4dd1-8755-2f554ffbc001"
      },
      "outputs": [
        {
          "output_type": "execute_result",
          "data": {
            "text/plain": [
              "[('F statistic', np.float64(1.0084600947540285)),\n",
              " ('p-value', np.float64(0.35392832073679753))]"
            ]
          },
          "metadata": {},
          "execution_count": 75
        }
      ],
      "source": [
        "# Performing the Goldfeld-Quandt test to check for Homoscedasticity -\n",
        "from statsmodels.compat import lzip\n",
        "import statsmodels.stats.api as sms\n",
        "\n",
        "name = ['F statistic', 'p-value']\n",
        "test = sms.het_goldfeldquandt(y_train, X2_sm)\n",
        "lzip(name, test)"
      ]
    },
    {
      "cell_type": "markdown",
      "metadata": {
        "id": "Newbj6B7i5b2"
      },
      "source": [
        "From the goldfeld-quandt test:\n",
        "- F Statistic comes out to be 1.00 => Implying minimal difference in variance between groups\n",
        "- p-value of 0.353 indicates that this difference is  statistically significant at conventional levels of significance (e.g., 0.05).\n",
        "\n",
        "Therefore, we accept the null hypothesis of homoscedasticity, and conclude that there is no strong evidence of heteroscedasticity in the data."
      ]
    },
    {
      "cell_type": "markdown",
      "metadata": {
        "id": "5qhzBUOpmZC8"
      },
      "source": [
        "\n",
        "**Note**:\n",
        "In case we encounter heteroskedacity, we can use the following methods to remove the same:\n",
        "- We can use transformations such as log, sq.rt., or boxcox transformation to remove heteroskedacity.\n",
        "- Also, removing outliers will help.\n"
      ]
    },
    {
      "cell_type": "markdown",
      "metadata": {
        "id": "19BTAM1L8N-G"
      },
      "source": [
        "# 5. No Autocorrelation"
      ]
    },
    {
      "cell_type": "markdown",
      "metadata": {
        "id": "_zAMI1-wGjQ9"
      },
      "source": [
        "#### Summing up"
      ]
    },
    {
      "cell_type": "markdown",
      "metadata": {
        "id": "Hke9w6YDHE2n"
      },
      "source": [
        "- Summing up the Assumptions:\n",
        "  - There exist a linear function\n",
        "  - There is no auto correlation (related to time series)\n",
        "  - Errors are normally distributed\n",
        "  - No heteroskedasticity\n",
        "  - No multicollinearity\n",
        "\n",
        "We also have a fundamental assumption: $x^{(i)}, y^{(i)}$ are a random sample"
      ]
    }
  ]
}